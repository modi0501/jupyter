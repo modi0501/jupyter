{
 "cells": [
  {
   "cell_type": "code",
   "execution_count": 1,
   "metadata": {},
   "outputs": [],
   "source": [
    "# conda install -c conda-forge cufflinks-py"
   ]
  },
  {
   "cell_type": "code",
   "execution_count": 2,
   "metadata": {},
   "outputs": [
    {
     "data": {
      "text/html": [
       "        <script type=\"text/javascript\">\n",
       "        window.PlotlyConfig = {MathJaxConfig: 'local'};\n",
       "        if (window.MathJax) {MathJax.Hub.Config({SVG: {font: \"STIX-Web\"}});}\n",
       "        if (typeof require !== 'undefined') {\n",
       "        require.undef(\"plotly\");\n",
       "        requirejs.config({\n",
       "            paths: {\n",
       "                'plotly': ['https://cdn.plot.ly/plotly-latest.min']\n",
       "            }\n",
       "        });\n",
       "        require(['plotly'], function(Plotly) {\n",
       "            window._Plotly = Plotly;\n",
       "        });\n",
       "        }\n",
       "        </script>\n",
       "        "
      ]
     },
     "metadata": {},
     "output_type": "display_data"
    }
   ],
   "source": [
    "from plotly.offline import *\n",
    "import cufflinks as cf"
   ]
  },
  {
   "cell_type": "code",
   "execution_count": 3,
   "metadata": {},
   "outputs": [
    {
     "data": {
      "text/html": [
       "        <script type=\"text/javascript\">\n",
       "        window.PlotlyConfig = {MathJaxConfig: 'local'};\n",
       "        if (window.MathJax) {MathJax.Hub.Config({SVG: {font: \"STIX-Web\"}});}\n",
       "        if (typeof require !== 'undefined') {\n",
       "        require.undef(\"plotly\");\n",
       "        requirejs.config({\n",
       "            paths: {\n",
       "                'plotly': ['https://cdn.plot.ly/plotly-latest.min']\n",
       "            }\n",
       "        });\n",
       "        require(['plotly'], function(Plotly) {\n",
       "            window._Plotly = Plotly;\n",
       "        });\n",
       "        }\n",
       "        </script>\n",
       "        "
      ]
     },
     "metadata": {},
     "output_type": "display_data"
    }
   ],
   "source": [
    "cf.set_config_file(offline=True)"
   ]
  },
  {
   "cell_type": "code",
   "execution_count": 4,
   "metadata": {},
   "outputs": [],
   "source": [
    "import pandas as pd"
   ]
  },
  {
   "cell_type": "code",
   "execution_count": 5,
   "metadata": {},
   "outputs": [],
   "source": [
    "df= pd.read_csv(\"timesData.csv\")\n"
   ]
  },
  {
   "cell_type": "code",
   "execution_count": 6,
   "metadata": {},
   "outputs": [
    {
     "data": {
      "text/html": [
       "<div>\n",
       "<style scoped>\n",
       "    .dataframe tbody tr th:only-of-type {\n",
       "        vertical-align: middle;\n",
       "    }\n",
       "\n",
       "    .dataframe tbody tr th {\n",
       "        vertical-align: top;\n",
       "    }\n",
       "\n",
       "    .dataframe thead th {\n",
       "        text-align: right;\n",
       "    }\n",
       "</style>\n",
       "<table border=\"1\" class=\"dataframe\">\n",
       "  <thead>\n",
       "    <tr style=\"text-align: right;\">\n",
       "      <th></th>\n",
       "      <th>world_rank</th>\n",
       "      <th>university_name</th>\n",
       "      <th>country</th>\n",
       "      <th>teaching</th>\n",
       "      <th>international</th>\n",
       "      <th>research</th>\n",
       "      <th>citations</th>\n",
       "      <th>income</th>\n",
       "      <th>total_score</th>\n",
       "      <th>num_students</th>\n",
       "      <th>student_staff_ratio</th>\n",
       "      <th>international_students</th>\n",
       "      <th>female_male_ratio</th>\n",
       "      <th>year</th>\n",
       "    </tr>\n",
       "  </thead>\n",
       "  <tbody>\n",
       "    <tr>\n",
       "      <th>0</th>\n",
       "      <td>1</td>\n",
       "      <td>Harvard University</td>\n",
       "      <td>United States of America</td>\n",
       "      <td>99.7</td>\n",
       "      <td>72.4</td>\n",
       "      <td>98.7</td>\n",
       "      <td>98.8</td>\n",
       "      <td>34.5</td>\n",
       "      <td>96.1</td>\n",
       "      <td>20,152</td>\n",
       "      <td>8.9</td>\n",
       "      <td>25%</td>\n",
       "      <td>NaN</td>\n",
       "      <td>2011</td>\n",
       "    </tr>\n",
       "    <tr>\n",
       "      <th>1</th>\n",
       "      <td>2</td>\n",
       "      <td>California Institute of Technology</td>\n",
       "      <td>United States of America</td>\n",
       "      <td>97.7</td>\n",
       "      <td>54.6</td>\n",
       "      <td>98.0</td>\n",
       "      <td>99.9</td>\n",
       "      <td>83.7</td>\n",
       "      <td>96</td>\n",
       "      <td>2,243</td>\n",
       "      <td>6.9</td>\n",
       "      <td>27%</td>\n",
       "      <td>33 : 67</td>\n",
       "      <td>2011</td>\n",
       "    </tr>\n",
       "    <tr>\n",
       "      <th>2</th>\n",
       "      <td>3</td>\n",
       "      <td>Massachusetts Institute of Technology</td>\n",
       "      <td>United States of America</td>\n",
       "      <td>97.8</td>\n",
       "      <td>82.3</td>\n",
       "      <td>91.4</td>\n",
       "      <td>99.9</td>\n",
       "      <td>87.5</td>\n",
       "      <td>95.6</td>\n",
       "      <td>11,074</td>\n",
       "      <td>9.0</td>\n",
       "      <td>33%</td>\n",
       "      <td>37 : 63</td>\n",
       "      <td>2011</td>\n",
       "    </tr>\n",
       "    <tr>\n",
       "      <th>3</th>\n",
       "      <td>4</td>\n",
       "      <td>Stanford University</td>\n",
       "      <td>United States of America</td>\n",
       "      <td>98.3</td>\n",
       "      <td>29.5</td>\n",
       "      <td>98.1</td>\n",
       "      <td>99.2</td>\n",
       "      <td>64.3</td>\n",
       "      <td>94.3</td>\n",
       "      <td>15,596</td>\n",
       "      <td>7.8</td>\n",
       "      <td>22%</td>\n",
       "      <td>42:58:00</td>\n",
       "      <td>2011</td>\n",
       "    </tr>\n",
       "    <tr>\n",
       "      <th>4</th>\n",
       "      <td>5</td>\n",
       "      <td>Princeton University</td>\n",
       "      <td>United States of America</td>\n",
       "      <td>90.9</td>\n",
       "      <td>70.3</td>\n",
       "      <td>95.4</td>\n",
       "      <td>99.9</td>\n",
       "      <td>-</td>\n",
       "      <td>94.2</td>\n",
       "      <td>7,929</td>\n",
       "      <td>8.4</td>\n",
       "      <td>27%</td>\n",
       "      <td>45:55:00</td>\n",
       "      <td>2011</td>\n",
       "    </tr>\n",
       "  </tbody>\n",
       "</table>\n",
       "</div>"
      ],
      "text/plain": [
       "  world_rank                        university_name                   country  \\\n",
       "0          1                     Harvard University  United States of America   \n",
       "1          2     California Institute of Technology  United States of America   \n",
       "2          3  Massachusetts Institute of Technology  United States of America   \n",
       "3          4                    Stanford University  United States of America   \n",
       "4          5                   Princeton University  United States of America   \n",
       "\n",
       "   teaching international  research  citations income total_score  \\\n",
       "0      99.7          72.4      98.7       98.8   34.5        96.1   \n",
       "1      97.7          54.6      98.0       99.9   83.7          96   \n",
       "2      97.8          82.3      91.4       99.9   87.5        95.6   \n",
       "3      98.3          29.5      98.1       99.2   64.3        94.3   \n",
       "4      90.9          70.3      95.4       99.9      -        94.2   \n",
       "\n",
       "  num_students  student_staff_ratio international_students female_male_ratio  \\\n",
       "0       20,152                  8.9                    25%               NaN   \n",
       "1        2,243                  6.9                    27%           33 : 67   \n",
       "2       11,074                  9.0                    33%           37 : 63   \n",
       "3       15,596                  7.8                    22%          42:58:00   \n",
       "4        7,929                  8.4                    27%          45:55:00   \n",
       "\n",
       "   year  \n",
       "0  2011  \n",
       "1  2011  \n",
       "2  2011  \n",
       "3  2011  \n",
       "4  2011  "
      ]
     },
     "execution_count": 6,
     "metadata": {},
     "output_type": "execute_result"
    }
   ],
   "source": [
    "df.head()"
   ]
  },
  {
   "cell_type": "code",
   "execution_count": 18,
   "metadata": {},
   "outputs": [],
   "source": [
    "d= df[df.year==2011].groupby(by=\"country\").count()['university_name']"
   ]
  },
  {
   "cell_type": "code",
   "execution_count": 19,
   "metadata": {},
   "outputs": [],
   "source": [
    "d=d.sort_values(ascending=False)"
   ]
  },
  {
   "cell_type": "code",
   "execution_count": 20,
   "metadata": {},
   "outputs": [
    {
     "data": {
      "application/vnd.plotly.v1+json": {
       "config": {
        "linkText": "Export to plot.ly",
        "plotlyServerURL": "https://plot.ly",
        "showLink": true
       },
       "data": [
        {
         "marker": {
          "color": "rgba(255, 153, 51, 0.6)",
          "line": {
           "color": "rgba(255, 153, 51, 1.0)",
           "width": 1
          }
         },
         "name": "university_name",
         "orientation": "h",
         "text": "",
         "type": "bar",
         "x": [
          72,
          29,
          14,
          10,
          9,
          7,
          6,
          6,
          6,
          5,
          4,
          4,
          4,
          4,
          3,
          2,
          2,
          2,
          2,
          2,
          2,
          1,
          1,
          1,
          1,
          1
         ],
         "y": [
          "United States of America",
          "United Kingdom",
          "Germany",
          "Netherlands",
          "Canada",
          "Australia",
          "Sweden",
          "China",
          "Switzerland",
          "Japan",
          "France",
          "Taiwan",
          "South Korea",
          "Hong Kong",
          "Denmark",
          "Turkey",
          "Republic of Ireland",
          "Spain",
          "Belgium",
          "Austria",
          "Singapore",
          "New Zealand",
          "South Africa",
          "Finland",
          "Egypt",
          "Norway"
         ]
        }
       ],
       "layout": {
        "legend": {
         "bgcolor": "#F5F6F9",
         "font": {
          "color": "#4D5663"
         }
        },
        "paper_bgcolor": "#F5F6F9",
        "plot_bgcolor": "#F5F6F9",
        "template": {
         "data": {
          "bar": [
           {
            "error_x": {
             "color": "#2a3f5f"
            },
            "error_y": {
             "color": "#2a3f5f"
            },
            "marker": {
             "line": {
              "color": "#E5ECF6",
              "width": 0.5
             }
            },
            "type": "bar"
           }
          ],
          "barpolar": [
           {
            "marker": {
             "line": {
              "color": "#E5ECF6",
              "width": 0.5
             }
            },
            "type": "barpolar"
           }
          ],
          "carpet": [
           {
            "aaxis": {
             "endlinecolor": "#2a3f5f",
             "gridcolor": "white",
             "linecolor": "white",
             "minorgridcolor": "white",
             "startlinecolor": "#2a3f5f"
            },
            "baxis": {
             "endlinecolor": "#2a3f5f",
             "gridcolor": "white",
             "linecolor": "white",
             "minorgridcolor": "white",
             "startlinecolor": "#2a3f5f"
            },
            "type": "carpet"
           }
          ],
          "choropleth": [
           {
            "colorbar": {
             "outlinewidth": 0,
             "ticks": ""
            },
            "type": "choropleth"
           }
          ],
          "contour": [
           {
            "colorbar": {
             "outlinewidth": 0,
             "ticks": ""
            },
            "colorscale": [
             [
              0,
              "#0d0887"
             ],
             [
              0.1111111111111111,
              "#46039f"
             ],
             [
              0.2222222222222222,
              "#7201a8"
             ],
             [
              0.3333333333333333,
              "#9c179e"
             ],
             [
              0.4444444444444444,
              "#bd3786"
             ],
             [
              0.5555555555555556,
              "#d8576b"
             ],
             [
              0.6666666666666666,
              "#ed7953"
             ],
             [
              0.7777777777777778,
              "#fb9f3a"
             ],
             [
              0.8888888888888888,
              "#fdca26"
             ],
             [
              1,
              "#f0f921"
             ]
            ],
            "type": "contour"
           }
          ],
          "contourcarpet": [
           {
            "colorbar": {
             "outlinewidth": 0,
             "ticks": ""
            },
            "type": "contourcarpet"
           }
          ],
          "heatmap": [
           {
            "colorbar": {
             "outlinewidth": 0,
             "ticks": ""
            },
            "colorscale": [
             [
              0,
              "#0d0887"
             ],
             [
              0.1111111111111111,
              "#46039f"
             ],
             [
              0.2222222222222222,
              "#7201a8"
             ],
             [
              0.3333333333333333,
              "#9c179e"
             ],
             [
              0.4444444444444444,
              "#bd3786"
             ],
             [
              0.5555555555555556,
              "#d8576b"
             ],
             [
              0.6666666666666666,
              "#ed7953"
             ],
             [
              0.7777777777777778,
              "#fb9f3a"
             ],
             [
              0.8888888888888888,
              "#fdca26"
             ],
             [
              1,
              "#f0f921"
             ]
            ],
            "type": "heatmap"
           }
          ],
          "heatmapgl": [
           {
            "colorbar": {
             "outlinewidth": 0,
             "ticks": ""
            },
            "colorscale": [
             [
              0,
              "#0d0887"
             ],
             [
              0.1111111111111111,
              "#46039f"
             ],
             [
              0.2222222222222222,
              "#7201a8"
             ],
             [
              0.3333333333333333,
              "#9c179e"
             ],
             [
              0.4444444444444444,
              "#bd3786"
             ],
             [
              0.5555555555555556,
              "#d8576b"
             ],
             [
              0.6666666666666666,
              "#ed7953"
             ],
             [
              0.7777777777777778,
              "#fb9f3a"
             ],
             [
              0.8888888888888888,
              "#fdca26"
             ],
             [
              1,
              "#f0f921"
             ]
            ],
            "type": "heatmapgl"
           }
          ],
          "histogram": [
           {
            "marker": {
             "colorbar": {
              "outlinewidth": 0,
              "ticks": ""
             }
            },
            "type": "histogram"
           }
          ],
          "histogram2d": [
           {
            "colorbar": {
             "outlinewidth": 0,
             "ticks": ""
            },
            "colorscale": [
             [
              0,
              "#0d0887"
             ],
             [
              0.1111111111111111,
              "#46039f"
             ],
             [
              0.2222222222222222,
              "#7201a8"
             ],
             [
              0.3333333333333333,
              "#9c179e"
             ],
             [
              0.4444444444444444,
              "#bd3786"
             ],
             [
              0.5555555555555556,
              "#d8576b"
             ],
             [
              0.6666666666666666,
              "#ed7953"
             ],
             [
              0.7777777777777778,
              "#fb9f3a"
             ],
             [
              0.8888888888888888,
              "#fdca26"
             ],
             [
              1,
              "#f0f921"
             ]
            ],
            "type": "histogram2d"
           }
          ],
          "histogram2dcontour": [
           {
            "colorbar": {
             "outlinewidth": 0,
             "ticks": ""
            },
            "colorscale": [
             [
              0,
              "#0d0887"
             ],
             [
              0.1111111111111111,
              "#46039f"
             ],
             [
              0.2222222222222222,
              "#7201a8"
             ],
             [
              0.3333333333333333,
              "#9c179e"
             ],
             [
              0.4444444444444444,
              "#bd3786"
             ],
             [
              0.5555555555555556,
              "#d8576b"
             ],
             [
              0.6666666666666666,
              "#ed7953"
             ],
             [
              0.7777777777777778,
              "#fb9f3a"
             ],
             [
              0.8888888888888888,
              "#fdca26"
             ],
             [
              1,
              "#f0f921"
             ]
            ],
            "type": "histogram2dcontour"
           }
          ],
          "mesh3d": [
           {
            "colorbar": {
             "outlinewidth": 0,
             "ticks": ""
            },
            "type": "mesh3d"
           }
          ],
          "parcoords": [
           {
            "line": {
             "colorbar": {
              "outlinewidth": 0,
              "ticks": ""
             }
            },
            "type": "parcoords"
           }
          ],
          "pie": [
           {
            "automargin": true,
            "type": "pie"
           }
          ],
          "scatter": [
           {
            "marker": {
             "colorbar": {
              "outlinewidth": 0,
              "ticks": ""
             }
            },
            "type": "scatter"
           }
          ],
          "scatter3d": [
           {
            "line": {
             "colorbar": {
              "outlinewidth": 0,
              "ticks": ""
             }
            },
            "marker": {
             "colorbar": {
              "outlinewidth": 0,
              "ticks": ""
             }
            },
            "type": "scatter3d"
           }
          ],
          "scattercarpet": [
           {
            "marker": {
             "colorbar": {
              "outlinewidth": 0,
              "ticks": ""
             }
            },
            "type": "scattercarpet"
           }
          ],
          "scattergeo": [
           {
            "marker": {
             "colorbar": {
              "outlinewidth": 0,
              "ticks": ""
             }
            },
            "type": "scattergeo"
           }
          ],
          "scattergl": [
           {
            "marker": {
             "colorbar": {
              "outlinewidth": 0,
              "ticks": ""
             }
            },
            "type": "scattergl"
           }
          ],
          "scattermapbox": [
           {
            "marker": {
             "colorbar": {
              "outlinewidth": 0,
              "ticks": ""
             }
            },
            "type": "scattermapbox"
           }
          ],
          "scatterpolar": [
           {
            "marker": {
             "colorbar": {
              "outlinewidth": 0,
              "ticks": ""
             }
            },
            "type": "scatterpolar"
           }
          ],
          "scatterpolargl": [
           {
            "marker": {
             "colorbar": {
              "outlinewidth": 0,
              "ticks": ""
             }
            },
            "type": "scatterpolargl"
           }
          ],
          "scatterternary": [
           {
            "marker": {
             "colorbar": {
              "outlinewidth": 0,
              "ticks": ""
             }
            },
            "type": "scatterternary"
           }
          ],
          "surface": [
           {
            "colorbar": {
             "outlinewidth": 0,
             "ticks": ""
            },
            "colorscale": [
             [
              0,
              "#0d0887"
             ],
             [
              0.1111111111111111,
              "#46039f"
             ],
             [
              0.2222222222222222,
              "#7201a8"
             ],
             [
              0.3333333333333333,
              "#9c179e"
             ],
             [
              0.4444444444444444,
              "#bd3786"
             ],
             [
              0.5555555555555556,
              "#d8576b"
             ],
             [
              0.6666666666666666,
              "#ed7953"
             ],
             [
              0.7777777777777778,
              "#fb9f3a"
             ],
             [
              0.8888888888888888,
              "#fdca26"
             ],
             [
              1,
              "#f0f921"
             ]
            ],
            "type": "surface"
           }
          ],
          "table": [
           {
            "cells": {
             "fill": {
              "color": "#EBF0F8"
             },
             "line": {
              "color": "white"
             }
            },
            "header": {
             "fill": {
              "color": "#C8D4E3"
             },
             "line": {
              "color": "white"
             }
            },
            "type": "table"
           }
          ]
         },
         "layout": {
          "annotationdefaults": {
           "arrowcolor": "#2a3f5f",
           "arrowhead": 0,
           "arrowwidth": 1
          },
          "coloraxis": {
           "colorbar": {
            "outlinewidth": 0,
            "ticks": ""
           }
          },
          "colorscale": {
           "diverging": [
            [
             0,
             "#8e0152"
            ],
            [
             0.1,
             "#c51b7d"
            ],
            [
             0.2,
             "#de77ae"
            ],
            [
             0.3,
             "#f1b6da"
            ],
            [
             0.4,
             "#fde0ef"
            ],
            [
             0.5,
             "#f7f7f7"
            ],
            [
             0.6,
             "#e6f5d0"
            ],
            [
             0.7,
             "#b8e186"
            ],
            [
             0.8,
             "#7fbc41"
            ],
            [
             0.9,
             "#4d9221"
            ],
            [
             1,
             "#276419"
            ]
           ],
           "sequential": [
            [
             0,
             "#0d0887"
            ],
            [
             0.1111111111111111,
             "#46039f"
            ],
            [
             0.2222222222222222,
             "#7201a8"
            ],
            [
             0.3333333333333333,
             "#9c179e"
            ],
            [
             0.4444444444444444,
             "#bd3786"
            ],
            [
             0.5555555555555556,
             "#d8576b"
            ],
            [
             0.6666666666666666,
             "#ed7953"
            ],
            [
             0.7777777777777778,
             "#fb9f3a"
            ],
            [
             0.8888888888888888,
             "#fdca26"
            ],
            [
             1,
             "#f0f921"
            ]
           ],
           "sequentialminus": [
            [
             0,
             "#0d0887"
            ],
            [
             0.1111111111111111,
             "#46039f"
            ],
            [
             0.2222222222222222,
             "#7201a8"
            ],
            [
             0.3333333333333333,
             "#9c179e"
            ],
            [
             0.4444444444444444,
             "#bd3786"
            ],
            [
             0.5555555555555556,
             "#d8576b"
            ],
            [
             0.6666666666666666,
             "#ed7953"
            ],
            [
             0.7777777777777778,
             "#fb9f3a"
            ],
            [
             0.8888888888888888,
             "#fdca26"
            ],
            [
             1,
             "#f0f921"
            ]
           ]
          },
          "colorway": [
           "#636efa",
           "#EF553B",
           "#00cc96",
           "#ab63fa",
           "#FFA15A",
           "#19d3f3",
           "#FF6692",
           "#B6E880",
           "#FF97FF",
           "#FECB52"
          ],
          "font": {
           "color": "#2a3f5f"
          },
          "geo": {
           "bgcolor": "white",
           "lakecolor": "white",
           "landcolor": "#E5ECF6",
           "showlakes": true,
           "showland": true,
           "subunitcolor": "white"
          },
          "hoverlabel": {
           "align": "left"
          },
          "hovermode": "closest",
          "mapbox": {
           "style": "light"
          },
          "paper_bgcolor": "white",
          "plot_bgcolor": "#E5ECF6",
          "polar": {
           "angularaxis": {
            "gridcolor": "white",
            "linecolor": "white",
            "ticks": ""
           },
           "bgcolor": "#E5ECF6",
           "radialaxis": {
            "gridcolor": "white",
            "linecolor": "white",
            "ticks": ""
           }
          },
          "scene": {
           "xaxis": {
            "backgroundcolor": "#E5ECF6",
            "gridcolor": "white",
            "gridwidth": 2,
            "linecolor": "white",
            "showbackground": true,
            "ticks": "",
            "zerolinecolor": "white"
           },
           "yaxis": {
            "backgroundcolor": "#E5ECF6",
            "gridcolor": "white",
            "gridwidth": 2,
            "linecolor": "white",
            "showbackground": true,
            "ticks": "",
            "zerolinecolor": "white"
           },
           "zaxis": {
            "backgroundcolor": "#E5ECF6",
            "gridcolor": "white",
            "gridwidth": 2,
            "linecolor": "white",
            "showbackground": true,
            "ticks": "",
            "zerolinecolor": "white"
           }
          },
          "shapedefaults": {
           "line": {
            "color": "#2a3f5f"
           }
          },
          "ternary": {
           "aaxis": {
            "gridcolor": "white",
            "linecolor": "white",
            "ticks": ""
           },
           "baxis": {
            "gridcolor": "white",
            "linecolor": "white",
            "ticks": ""
           },
           "bgcolor": "#E5ECF6",
           "caxis": {
            "gridcolor": "white",
            "linecolor": "white",
            "ticks": ""
           }
          },
          "title": {
           "x": 0.05
          },
          "xaxis": {
           "automargin": true,
           "gridcolor": "white",
           "linecolor": "white",
           "ticks": "",
           "title": {
            "standoff": 15
           },
           "zerolinecolor": "white",
           "zerolinewidth": 2
          },
          "yaxis": {
           "automargin": true,
           "gridcolor": "white",
           "linecolor": "white",
           "ticks": "",
           "title": {
            "standoff": 15
           },
           "zerolinecolor": "white",
           "zerolinewidth": 2
          }
         }
        },
        "title": {
         "font": {
          "color": "#4D5663"
         }
        },
        "xaxis": {
         "gridcolor": "#E1E5ED",
         "showgrid": true,
         "tickfont": {
          "color": "#4D5663"
         },
         "title": {
          "font": {
           "color": "#4D5663"
          },
          "text": ""
         },
         "zerolinecolor": "#E1E5ED"
        },
        "yaxis": {
         "gridcolor": "#E1E5ED",
         "showgrid": true,
         "tickfont": {
          "color": "#4D5663"
         },
         "title": {
          "font": {
           "color": "#4D5663"
          },
          "text": ""
         },
         "zerolinecolor": "#E1E5ED"
        }
       }
      },
      "text/html": [
       "<div>\n",
       "        \n",
       "        \n",
       "            <div id=\"713e9fd1-380e-4bff-ac89-b51163226ea4\" class=\"plotly-graph-div\" style=\"height:525px; width:100%;\"></div>\n",
       "            <script type=\"text/javascript\">\n",
       "                require([\"plotly\"], function(Plotly) {\n",
       "                    window.PLOTLYENV=window.PLOTLYENV || {};\n",
       "                    window.PLOTLYENV.BASE_URL='https://plot.ly';\n",
       "                    \n",
       "                if (document.getElementById(\"713e9fd1-380e-4bff-ac89-b51163226ea4\")) {\n",
       "                    Plotly.newPlot(\n",
       "                        '713e9fd1-380e-4bff-ac89-b51163226ea4',\n",
       "                        [{\"marker\": {\"color\": \"rgba(255, 153, 51, 0.6)\", \"line\": {\"color\": \"rgba(255, 153, 51, 1.0)\", \"width\": 1}}, \"name\": \"university_name\", \"orientation\": \"h\", \"text\": \"\", \"type\": \"bar\", \"x\": [72, 29, 14, 10, 9, 7, 6, 6, 6, 5, 4, 4, 4, 4, 3, 2, 2, 2, 2, 2, 2, 1, 1, 1, 1, 1], \"y\": [\"United States of America\", \"United Kingdom\", \"Germany\", \"Netherlands\", \"Canada\", \"Australia\", \"Sweden\", \"China\", \"Switzerland\", \"Japan\", \"France\", \"Taiwan\", \"South Korea\", \"Hong Kong\", \"Denmark\", \"Turkey\", \"Republic of Ireland\", \"Spain\", \"Belgium\", \"Austria\", \"Singapore\", \"New Zealand\", \"South Africa\", \"Finland\", \"Egypt\", \"Norway\"]}],\n",
       "                        {\"legend\": {\"bgcolor\": \"#F5F6F9\", \"font\": {\"color\": \"#4D5663\"}}, \"paper_bgcolor\": \"#F5F6F9\", \"plot_bgcolor\": \"#F5F6F9\", \"template\": {\"data\": {\"bar\": [{\"error_x\": {\"color\": \"#2a3f5f\"}, \"error_y\": {\"color\": \"#2a3f5f\"}, \"marker\": {\"line\": {\"color\": \"#E5ECF6\", \"width\": 0.5}}, \"type\": \"bar\"}], \"barpolar\": [{\"marker\": {\"line\": {\"color\": \"#E5ECF6\", \"width\": 0.5}}, \"type\": \"barpolar\"}], \"carpet\": [{\"aaxis\": {\"endlinecolor\": \"#2a3f5f\", \"gridcolor\": \"white\", \"linecolor\": \"white\", \"minorgridcolor\": \"white\", \"startlinecolor\": \"#2a3f5f\"}, \"baxis\": {\"endlinecolor\": \"#2a3f5f\", \"gridcolor\": \"white\", \"linecolor\": \"white\", \"minorgridcolor\": \"white\", \"startlinecolor\": \"#2a3f5f\"}, \"type\": \"carpet\"}], \"choropleth\": [{\"colorbar\": {\"outlinewidth\": 0, \"ticks\": \"\"}, \"type\": \"choropleth\"}], \"contour\": [{\"colorbar\": {\"outlinewidth\": 0, \"ticks\": \"\"}, \"colorscale\": [[0.0, \"#0d0887\"], [0.1111111111111111, \"#46039f\"], [0.2222222222222222, \"#7201a8\"], [0.3333333333333333, \"#9c179e\"], [0.4444444444444444, \"#bd3786\"], [0.5555555555555556, \"#d8576b\"], [0.6666666666666666, \"#ed7953\"], [0.7777777777777778, \"#fb9f3a\"], [0.8888888888888888, \"#fdca26\"], [1.0, \"#f0f921\"]], \"type\": \"contour\"}], \"contourcarpet\": [{\"colorbar\": {\"outlinewidth\": 0, \"ticks\": \"\"}, \"type\": \"contourcarpet\"}], \"heatmap\": [{\"colorbar\": {\"outlinewidth\": 0, \"ticks\": \"\"}, \"colorscale\": [[0.0, \"#0d0887\"], [0.1111111111111111, \"#46039f\"], [0.2222222222222222, \"#7201a8\"], [0.3333333333333333, \"#9c179e\"], [0.4444444444444444, \"#bd3786\"], [0.5555555555555556, \"#d8576b\"], [0.6666666666666666, \"#ed7953\"], [0.7777777777777778, \"#fb9f3a\"], [0.8888888888888888, \"#fdca26\"], [1.0, \"#f0f921\"]], \"type\": \"heatmap\"}], \"heatmapgl\": [{\"colorbar\": {\"outlinewidth\": 0, \"ticks\": \"\"}, \"colorscale\": [[0.0, \"#0d0887\"], [0.1111111111111111, \"#46039f\"], [0.2222222222222222, \"#7201a8\"], [0.3333333333333333, \"#9c179e\"], [0.4444444444444444, \"#bd3786\"], [0.5555555555555556, \"#d8576b\"], [0.6666666666666666, \"#ed7953\"], [0.7777777777777778, \"#fb9f3a\"], [0.8888888888888888, \"#fdca26\"], [1.0, \"#f0f921\"]], \"type\": \"heatmapgl\"}], \"histogram\": [{\"marker\": {\"colorbar\": {\"outlinewidth\": 0, \"ticks\": \"\"}}, \"type\": \"histogram\"}], \"histogram2d\": [{\"colorbar\": {\"outlinewidth\": 0, \"ticks\": \"\"}, \"colorscale\": [[0.0, \"#0d0887\"], [0.1111111111111111, \"#46039f\"], [0.2222222222222222, \"#7201a8\"], [0.3333333333333333, \"#9c179e\"], [0.4444444444444444, \"#bd3786\"], [0.5555555555555556, \"#d8576b\"], [0.6666666666666666, \"#ed7953\"], [0.7777777777777778, \"#fb9f3a\"], [0.8888888888888888, \"#fdca26\"], [1.0, \"#f0f921\"]], \"type\": \"histogram2d\"}], \"histogram2dcontour\": [{\"colorbar\": {\"outlinewidth\": 0, \"ticks\": \"\"}, \"colorscale\": [[0.0, \"#0d0887\"], [0.1111111111111111, \"#46039f\"], [0.2222222222222222, \"#7201a8\"], [0.3333333333333333, \"#9c179e\"], [0.4444444444444444, \"#bd3786\"], [0.5555555555555556, \"#d8576b\"], [0.6666666666666666, \"#ed7953\"], [0.7777777777777778, \"#fb9f3a\"], [0.8888888888888888, \"#fdca26\"], [1.0, \"#f0f921\"]], \"type\": \"histogram2dcontour\"}], \"mesh3d\": [{\"colorbar\": {\"outlinewidth\": 0, \"ticks\": \"\"}, \"type\": \"mesh3d\"}], \"parcoords\": [{\"line\": {\"colorbar\": {\"outlinewidth\": 0, \"ticks\": \"\"}}, \"type\": \"parcoords\"}], \"pie\": [{\"automargin\": true, \"type\": \"pie\"}], \"scatter\": [{\"marker\": {\"colorbar\": {\"outlinewidth\": 0, \"ticks\": \"\"}}, \"type\": \"scatter\"}], \"scatter3d\": [{\"line\": {\"colorbar\": {\"outlinewidth\": 0, \"ticks\": \"\"}}, \"marker\": {\"colorbar\": {\"outlinewidth\": 0, \"ticks\": \"\"}}, \"type\": \"scatter3d\"}], \"scattercarpet\": [{\"marker\": {\"colorbar\": {\"outlinewidth\": 0, \"ticks\": \"\"}}, \"type\": \"scattercarpet\"}], \"scattergeo\": [{\"marker\": {\"colorbar\": {\"outlinewidth\": 0, \"ticks\": \"\"}}, \"type\": \"scattergeo\"}], \"scattergl\": [{\"marker\": {\"colorbar\": {\"outlinewidth\": 0, \"ticks\": \"\"}}, \"type\": \"scattergl\"}], \"scattermapbox\": [{\"marker\": {\"colorbar\": {\"outlinewidth\": 0, \"ticks\": \"\"}}, \"type\": \"scattermapbox\"}], \"scatterpolar\": [{\"marker\": {\"colorbar\": {\"outlinewidth\": 0, \"ticks\": \"\"}}, \"type\": \"scatterpolar\"}], \"scatterpolargl\": [{\"marker\": {\"colorbar\": {\"outlinewidth\": 0, \"ticks\": \"\"}}, \"type\": \"scatterpolargl\"}], \"scatterternary\": [{\"marker\": {\"colorbar\": {\"outlinewidth\": 0, \"ticks\": \"\"}}, \"type\": \"scatterternary\"}], \"surface\": [{\"colorbar\": {\"outlinewidth\": 0, \"ticks\": \"\"}, \"colorscale\": [[0.0, \"#0d0887\"], [0.1111111111111111, \"#46039f\"], [0.2222222222222222, \"#7201a8\"], [0.3333333333333333, \"#9c179e\"], [0.4444444444444444, \"#bd3786\"], [0.5555555555555556, \"#d8576b\"], [0.6666666666666666, \"#ed7953\"], [0.7777777777777778, \"#fb9f3a\"], [0.8888888888888888, \"#fdca26\"], [1.0, \"#f0f921\"]], \"type\": \"surface\"}], \"table\": [{\"cells\": {\"fill\": {\"color\": \"#EBF0F8\"}, \"line\": {\"color\": \"white\"}}, \"header\": {\"fill\": {\"color\": \"#C8D4E3\"}, \"line\": {\"color\": \"white\"}}, \"type\": \"table\"}]}, \"layout\": {\"annotationdefaults\": {\"arrowcolor\": \"#2a3f5f\", \"arrowhead\": 0, \"arrowwidth\": 1}, \"coloraxis\": {\"colorbar\": {\"outlinewidth\": 0, \"ticks\": \"\"}}, \"colorscale\": {\"diverging\": [[0, \"#8e0152\"], [0.1, \"#c51b7d\"], [0.2, \"#de77ae\"], [0.3, \"#f1b6da\"], [0.4, \"#fde0ef\"], [0.5, \"#f7f7f7\"], [0.6, \"#e6f5d0\"], [0.7, \"#b8e186\"], [0.8, \"#7fbc41\"], [0.9, \"#4d9221\"], [1, \"#276419\"]], \"sequential\": [[0.0, \"#0d0887\"], [0.1111111111111111, \"#46039f\"], [0.2222222222222222, \"#7201a8\"], [0.3333333333333333, \"#9c179e\"], [0.4444444444444444, \"#bd3786\"], [0.5555555555555556, \"#d8576b\"], [0.6666666666666666, \"#ed7953\"], [0.7777777777777778, \"#fb9f3a\"], [0.8888888888888888, \"#fdca26\"], [1.0, \"#f0f921\"]], \"sequentialminus\": [[0.0, \"#0d0887\"], [0.1111111111111111, \"#46039f\"], [0.2222222222222222, \"#7201a8\"], [0.3333333333333333, \"#9c179e\"], [0.4444444444444444, \"#bd3786\"], [0.5555555555555556, \"#d8576b\"], [0.6666666666666666, \"#ed7953\"], [0.7777777777777778, \"#fb9f3a\"], [0.8888888888888888, \"#fdca26\"], [1.0, \"#f0f921\"]]}, \"colorway\": [\"#636efa\", \"#EF553B\", \"#00cc96\", \"#ab63fa\", \"#FFA15A\", \"#19d3f3\", \"#FF6692\", \"#B6E880\", \"#FF97FF\", \"#FECB52\"], \"font\": {\"color\": \"#2a3f5f\"}, \"geo\": {\"bgcolor\": \"white\", \"lakecolor\": \"white\", \"landcolor\": \"#E5ECF6\", \"showlakes\": true, \"showland\": true, \"subunitcolor\": \"white\"}, \"hoverlabel\": {\"align\": \"left\"}, \"hovermode\": \"closest\", \"mapbox\": {\"style\": \"light\"}, \"paper_bgcolor\": \"white\", \"plot_bgcolor\": \"#E5ECF6\", \"polar\": {\"angularaxis\": {\"gridcolor\": \"white\", \"linecolor\": \"white\", \"ticks\": \"\"}, \"bgcolor\": \"#E5ECF6\", \"radialaxis\": {\"gridcolor\": \"white\", \"linecolor\": \"white\", \"ticks\": \"\"}}, \"scene\": {\"xaxis\": {\"backgroundcolor\": \"#E5ECF6\", \"gridcolor\": \"white\", \"gridwidth\": 2, \"linecolor\": \"white\", \"showbackground\": true, \"ticks\": \"\", \"zerolinecolor\": \"white\"}, \"yaxis\": {\"backgroundcolor\": \"#E5ECF6\", \"gridcolor\": \"white\", \"gridwidth\": 2, \"linecolor\": \"white\", \"showbackground\": true, \"ticks\": \"\", \"zerolinecolor\": \"white\"}, \"zaxis\": {\"backgroundcolor\": \"#E5ECF6\", \"gridcolor\": \"white\", \"gridwidth\": 2, \"linecolor\": \"white\", \"showbackground\": true, \"ticks\": \"\", \"zerolinecolor\": \"white\"}}, \"shapedefaults\": {\"line\": {\"color\": \"#2a3f5f\"}}, \"ternary\": {\"aaxis\": {\"gridcolor\": \"white\", \"linecolor\": \"white\", \"ticks\": \"\"}, \"baxis\": {\"gridcolor\": \"white\", \"linecolor\": \"white\", \"ticks\": \"\"}, \"bgcolor\": \"#E5ECF6\", \"caxis\": {\"gridcolor\": \"white\", \"linecolor\": \"white\", \"ticks\": \"\"}}, \"title\": {\"x\": 0.05}, \"xaxis\": {\"automargin\": true, \"gridcolor\": \"white\", \"linecolor\": \"white\", \"ticks\": \"\", \"title\": {\"standoff\": 15}, \"zerolinecolor\": \"white\", \"zerolinewidth\": 2}, \"yaxis\": {\"automargin\": true, \"gridcolor\": \"white\", \"linecolor\": \"white\", \"ticks\": \"\", \"title\": {\"standoff\": 15}, \"zerolinecolor\": \"white\", \"zerolinewidth\": 2}}}, \"title\": {\"font\": {\"color\": \"#4D5663\"}}, \"xaxis\": {\"gridcolor\": \"#E1E5ED\", \"showgrid\": true, \"tickfont\": {\"color\": \"#4D5663\"}, \"title\": {\"font\": {\"color\": \"#4D5663\"}, \"text\": \"\"}, \"zerolinecolor\": \"#E1E5ED\"}, \"yaxis\": {\"gridcolor\": \"#E1E5ED\", \"showgrid\": true, \"tickfont\": {\"color\": \"#4D5663\"}, \"title\": {\"font\": {\"color\": \"#4D5663\"}, \"text\": \"\"}, \"zerolinecolor\": \"#E1E5ED\"}},\n",
       "                        {\"showLink\": true, \"linkText\": \"Export to plot.ly\", \"plotlyServerURL\": \"https://plot.ly\", \"responsive\": true}\n",
       "                    ).then(function(){\n",
       "                            \n",
       "var gd = document.getElementById('713e9fd1-380e-4bff-ac89-b51163226ea4');\n",
       "var x = new MutationObserver(function (mutations, observer) {{\n",
       "        var display = window.getComputedStyle(gd).display;\n",
       "        if (!display || display === 'none') {{\n",
       "            console.log([gd, 'removed!']);\n",
       "            Plotly.purge(gd);\n",
       "            observer.disconnect();\n",
       "        }}\n",
       "}});\n",
       "\n",
       "// Listen for the removal of the full notebook cells\n",
       "var notebookContainer = gd.closest('#notebook-container');\n",
       "if (notebookContainer) {{\n",
       "    x.observe(notebookContainer, {childList: true});\n",
       "}}\n",
       "\n",
       "// Listen for the clearing of the current output cell\n",
       "var outputEl = gd.closest('.output');\n",
       "if (outputEl) {{\n",
       "    x.observe(outputEl, {childList: true});\n",
       "}}\n",
       "\n",
       "                        })\n",
       "                };\n",
       "                });\n",
       "            </script>\n",
       "        </div>"
      ]
     },
     "metadata": {},
     "output_type": "display_data"
    }
   ],
   "source": [
    "d.iplot(kind='barh')"
   ]
  },
  {
   "cell_type": "code",
   "execution_count": 15,
   "metadata": {},
   "outputs": [],
   "source": [
    "d=df[df.year==2011]"
   ]
  },
  {
   "cell_type": "code",
   "execution_count": 16,
   "metadata": {},
   "outputs": [],
   "source": [
    "d=d[d.country=='United Kingdom']"
   ]
  },
  {
   "cell_type": "code",
   "execution_count": 17,
   "metadata": {},
   "outputs": [
    {
     "data": {
      "text/html": [
       "<div>\n",
       "<style scoped>\n",
       "    .dataframe tbody tr th:only-of-type {\n",
       "        vertical-align: middle;\n",
       "    }\n",
       "\n",
       "    .dataframe tbody tr th {\n",
       "        vertical-align: top;\n",
       "    }\n",
       "\n",
       "    .dataframe thead th {\n",
       "        text-align: right;\n",
       "    }\n",
       "</style>\n",
       "<table border=\"1\" class=\"dataframe\">\n",
       "  <thead>\n",
       "    <tr style=\"text-align: right;\">\n",
       "      <th></th>\n",
       "      <th>world_rank</th>\n",
       "      <th>university_name</th>\n",
       "      <th>country</th>\n",
       "      <th>teaching</th>\n",
       "      <th>international</th>\n",
       "      <th>research</th>\n",
       "      <th>citations</th>\n",
       "      <th>income</th>\n",
       "      <th>total_score</th>\n",
       "      <th>num_students</th>\n",
       "      <th>student_staff_ratio</th>\n",
       "      <th>international_students</th>\n",
       "      <th>female_male_ratio</th>\n",
       "      <th>year</th>\n",
       "    </tr>\n",
       "  </thead>\n",
       "  <tbody>\n",
       "    <tr>\n",
       "      <th>5</th>\n",
       "      <td>6</td>\n",
       "      <td>University of Cambridge</td>\n",
       "      <td>United Kingdom</td>\n",
       "      <td>90.5</td>\n",
       "      <td>77.7</td>\n",
       "      <td>94.1</td>\n",
       "      <td>94.0</td>\n",
       "      <td>57</td>\n",
       "      <td>91.2</td>\n",
       "      <td>18,812</td>\n",
       "      <td>11.8</td>\n",
       "      <td>34%</td>\n",
       "      <td>46:54:00</td>\n",
       "      <td>2011</td>\n",
       "    </tr>\n",
       "    <tr>\n",
       "      <th>6</th>\n",
       "      <td>6</td>\n",
       "      <td>University of Oxford</td>\n",
       "      <td>United Kingdom</td>\n",
       "      <td>88.2</td>\n",
       "      <td>77.2</td>\n",
       "      <td>93.9</td>\n",
       "      <td>95.1</td>\n",
       "      <td>73.5</td>\n",
       "      <td>91.2</td>\n",
       "      <td>19,919</td>\n",
       "      <td>11.6</td>\n",
       "      <td>34%</td>\n",
       "      <td>46:54:00</td>\n",
       "      <td>2011</td>\n",
       "    </tr>\n",
       "    <tr>\n",
       "      <th>8</th>\n",
       "      <td>9</td>\n",
       "      <td>Imperial College London</td>\n",
       "      <td>United Kingdom</td>\n",
       "      <td>89.2</td>\n",
       "      <td>90</td>\n",
       "      <td>94.5</td>\n",
       "      <td>88.3</td>\n",
       "      <td>92.9</td>\n",
       "      <td>90.6</td>\n",
       "      <td>15,060</td>\n",
       "      <td>11.7</td>\n",
       "      <td>51%</td>\n",
       "      <td>37 : 63</td>\n",
       "      <td>2011</td>\n",
       "    </tr>\n",
       "    <tr>\n",
       "      <th>21</th>\n",
       "      <td>22</td>\n",
       "      <td>University College London</td>\n",
       "      <td>United Kingdom</td>\n",
       "      <td>74.0</td>\n",
       "      <td>90.8</td>\n",
       "      <td>81.6</td>\n",
       "      <td>80.6</td>\n",
       "      <td>39</td>\n",
       "      <td>78.4</td>\n",
       "      <td>26,607</td>\n",
       "      <td>10.7</td>\n",
       "      <td>46%</td>\n",
       "      <td>56:44:00</td>\n",
       "      <td>2011</td>\n",
       "    </tr>\n",
       "    <tr>\n",
       "      <th>39</th>\n",
       "      <td>40</td>\n",
       "      <td>University of Edinburgh</td>\n",
       "      <td>United Kingdom</td>\n",
       "      <td>59.9</td>\n",
       "      <td>67.3</td>\n",
       "      <td>61.9</td>\n",
       "      <td>86.8</td>\n",
       "      <td>42.2</td>\n",
       "      <td>69.2</td>\n",
       "      <td>25,774</td>\n",
       "      <td>14.1</td>\n",
       "      <td>36%</td>\n",
       "      <td>58:42:00</td>\n",
       "      <td>2011</td>\n",
       "    </tr>\n",
       "    <tr>\n",
       "      <th>67</th>\n",
       "      <td>68</td>\n",
       "      <td>University of Bristol</td>\n",
       "      <td>United Kingdom</td>\n",
       "      <td>49.6</td>\n",
       "      <td>67.2</td>\n",
       "      <td>53.1</td>\n",
       "      <td>80.9</td>\n",
       "      <td>36.2</td>\n",
       "      <td>61.4</td>\n",
       "      <td>17,906</td>\n",
       "      <td>14.0</td>\n",
       "      <td>25%</td>\n",
       "      <td>53:47:00</td>\n",
       "      <td>2011</td>\n",
       "    </tr>\n",
       "    <tr>\n",
       "      <th>76</th>\n",
       "      <td>77</td>\n",
       "      <td>King’s College London</td>\n",
       "      <td>United Kingdom</td>\n",
       "      <td>48.5</td>\n",
       "      <td>85.9</td>\n",
       "      <td>54.5</td>\n",
       "      <td>72.1</td>\n",
       "      <td>44.1</td>\n",
       "      <td>59.7</td>\n",
       "      <td>21,394</td>\n",
       "      <td>11.4</td>\n",
       "      <td>37%</td>\n",
       "      <td>61:39:00</td>\n",
       "      <td>2011</td>\n",
       "    </tr>\n",
       "    <tr>\n",
       "      <th>79</th>\n",
       "      <td>79</td>\n",
       "      <td>University of Sussex</td>\n",
       "      <td>United Kingdom</td>\n",
       "      <td>42.4</td>\n",
       "      <td>72.8</td>\n",
       "      <td>42.4</td>\n",
       "      <td>91.6</td>\n",
       "      <td>29.1</td>\n",
       "      <td>59.5</td>\n",
       "      <td>12,001</td>\n",
       "      <td>17.4</td>\n",
       "      <td>35%</td>\n",
       "      <td>54:46:00</td>\n",
       "      <td>2011</td>\n",
       "    </tr>\n",
       "    <tr>\n",
       "      <th>81</th>\n",
       "      <td>81</td>\n",
       "      <td>University of York</td>\n",
       "      <td>United Kingdom</td>\n",
       "      <td>47.9</td>\n",
       "      <td>66.6</td>\n",
       "      <td>46.2</td>\n",
       "      <td>81.9</td>\n",
       "      <td>36.2</td>\n",
       "      <td>59.1</td>\n",
       "      <td>NaN</td>\n",
       "      <td>NaN</td>\n",
       "      <td>NaN</td>\n",
       "      <td>NaN</td>\n",
       "      <td>2011</td>\n",
       "    </tr>\n",
       "    <tr>\n",
       "      <th>84</th>\n",
       "      <td>85</td>\n",
       "      <td>Durham University</td>\n",
       "      <td>United Kingdom</td>\n",
       "      <td>39.8</td>\n",
       "      <td>65.7</td>\n",
       "      <td>44.1</td>\n",
       "      <td>91.0</td>\n",
       "      <td>33.9</td>\n",
       "      <td>58.9</td>\n",
       "      <td>15,489</td>\n",
       "      <td>15.7</td>\n",
       "      <td>24%</td>\n",
       "      <td>54:46:00</td>\n",
       "      <td>2011</td>\n",
       "    </tr>\n",
       "    <tr>\n",
       "      <th>85</th>\n",
       "      <td>86</td>\n",
       "      <td>London School of Economics and Political Science</td>\n",
       "      <td>United Kingdom</td>\n",
       "      <td>62.4</td>\n",
       "      <td>99.5</td>\n",
       "      <td>56.2</td>\n",
       "      <td>51.6</td>\n",
       "      <td>38.4</td>\n",
       "      <td>58.3</td>\n",
       "      <td>NaN</td>\n",
       "      <td>NaN</td>\n",
       "      <td>NaN</td>\n",
       "      <td>NaN</td>\n",
       "      <td>2011</td>\n",
       "    </tr>\n",
       "    <tr>\n",
       "      <th>86</th>\n",
       "      <td>87</td>\n",
       "      <td>University of Manchester</td>\n",
       "      <td>United Kingdom</td>\n",
       "      <td>56.5</td>\n",
       "      <td>79.1</td>\n",
       "      <td>56.2</td>\n",
       "      <td>59.2</td>\n",
       "      <td>39</td>\n",
       "      <td>58</td>\n",
       "      <td>34,938</td>\n",
       "      <td>15.3</td>\n",
       "      <td>34%</td>\n",
       "      <td>52:48:00</td>\n",
       "      <td>2011</td>\n",
       "    </tr>\n",
       "    <tr>\n",
       "      <th>87</th>\n",
       "      <td>88</td>\n",
       "      <td>Royal Holloway, University of London</td>\n",
       "      <td>United Kingdom</td>\n",
       "      <td>37.7</td>\n",
       "      <td>92.9</td>\n",
       "      <td>36.2</td>\n",
       "      <td>93.2</td>\n",
       "      <td>30.5</td>\n",
       "      <td>57.9</td>\n",
       "      <td>8,747</td>\n",
       "      <td>15.9</td>\n",
       "      <td>37%</td>\n",
       "      <td>57:43:00</td>\n",
       "      <td>2011</td>\n",
       "    </tr>\n",
       "    <tr>\n",
       "      <th>89</th>\n",
       "      <td>90</td>\n",
       "      <td>University of Southampton</td>\n",
       "      <td>United Kingdom</td>\n",
       "      <td>50.8</td>\n",
       "      <td>69</td>\n",
       "      <td>47.8</td>\n",
       "      <td>72.9</td>\n",
       "      <td>37.7</td>\n",
       "      <td>57.7</td>\n",
       "      <td>20,925</td>\n",
       "      <td>13.5</td>\n",
       "      <td>29%</td>\n",
       "      <td>53:47:00</td>\n",
       "      <td>2011</td>\n",
       "    </tr>\n",
       "    <tr>\n",
       "      <th>102</th>\n",
       "      <td>103</td>\n",
       "      <td>University of St Andrews</td>\n",
       "      <td>United Kingdom</td>\n",
       "      <td>44.8</td>\n",
       "      <td>85.7</td>\n",
       "      <td>47.7</td>\n",
       "      <td>72.9</td>\n",
       "      <td>32.6</td>\n",
       "      <td>56.5</td>\n",
       "      <td>8,338</td>\n",
       "      <td>12.7</td>\n",
       "      <td>47%</td>\n",
       "      <td>56:44:00</td>\n",
       "      <td>2011</td>\n",
       "    </tr>\n",
       "    <tr>\n",
       "      <th>120</th>\n",
       "      <td>120</td>\n",
       "      <td>Queen Mary University of London</td>\n",
       "      <td>United Kingdom</td>\n",
       "      <td>39.7</td>\n",
       "      <td>91</td>\n",
       "      <td>44.1</td>\n",
       "      <td>73.5</td>\n",
       "      <td>38.9</td>\n",
       "      <td>54.6</td>\n",
       "      <td>14,260</td>\n",
       "      <td>14.0</td>\n",
       "      <td>40%</td>\n",
       "      <td>52:48:00</td>\n",
       "      <td>2011</td>\n",
       "    </tr>\n",
       "    <tr>\n",
       "      <th>124</th>\n",
       "      <td>124</td>\n",
       "      <td>Lancaster University</td>\n",
       "      <td>United Kingdom</td>\n",
       "      <td>43.5</td>\n",
       "      <td>73.8</td>\n",
       "      <td>41.9</td>\n",
       "      <td>74.9</td>\n",
       "      <td>28.8</td>\n",
       "      <td>54.4</td>\n",
       "      <td>11,512</td>\n",
       "      <td>14.9</td>\n",
       "      <td>33%</td>\n",
       "      <td>52:48:00</td>\n",
       "      <td>2011</td>\n",
       "    </tr>\n",
       "    <tr>\n",
       "      <th>127</th>\n",
       "      <td>128</td>\n",
       "      <td>University of Glasgow</td>\n",
       "      <td>United Kingdom</td>\n",
       "      <td>45.6</td>\n",
       "      <td>55.1</td>\n",
       "      <td>50.3</td>\n",
       "      <td>65.1</td>\n",
       "      <td>61</td>\n",
       "      <td>54.2</td>\n",
       "      <td>22,616</td>\n",
       "      <td>16.0</td>\n",
       "      <td>29%</td>\n",
       "      <td>57:43:00</td>\n",
       "      <td>2011</td>\n",
       "    </tr>\n",
       "    <tr>\n",
       "      <th>136</th>\n",
       "      <td>137</td>\n",
       "      <td>University of Sheffield</td>\n",
       "      <td>United Kingdom</td>\n",
       "      <td>48.9</td>\n",
       "      <td>62.7</td>\n",
       "      <td>49.2</td>\n",
       "      <td>58.4</td>\n",
       "      <td>40.3</td>\n",
       "      <td>52.5</td>\n",
       "      <td>23,311</td>\n",
       "      <td>15.5</td>\n",
       "      <td>31%</td>\n",
       "      <td>50:50:00</td>\n",
       "      <td>2011</td>\n",
       "    </tr>\n",
       "    <tr>\n",
       "      <th>140</th>\n",
       "      <td>140</td>\n",
       "      <td>University of Dundee</td>\n",
       "      <td>United Kingdom</td>\n",
       "      <td>34.1</td>\n",
       "      <td>54.4</td>\n",
       "      <td>41.0</td>\n",
       "      <td>79.3</td>\n",
       "      <td>49.3</td>\n",
       "      <td>52.2</td>\n",
       "      <td>11,628</td>\n",
       "      <td>15.3</td>\n",
       "      <td>25%</td>\n",
       "      <td>60:40:00</td>\n",
       "      <td>2011</td>\n",
       "    </tr>\n",
       "    <tr>\n",
       "      <th>145</th>\n",
       "      <td>145</td>\n",
       "      <td>University of Birmingham</td>\n",
       "      <td>United Kingdom</td>\n",
       "      <td>50.3</td>\n",
       "      <td>73.8</td>\n",
       "      <td>50.7</td>\n",
       "      <td>52.1</td>\n",
       "      <td>34.8</td>\n",
       "      <td>51.8</td>\n",
       "      <td>25,295</td>\n",
       "      <td>16.4</td>\n",
       "      <td>23%</td>\n",
       "      <td>54:46:00</td>\n",
       "      <td>2011</td>\n",
       "    </tr>\n",
       "    <tr>\n",
       "      <th>149</th>\n",
       "      <td>149</td>\n",
       "      <td>University of Aberdeen</td>\n",
       "      <td>United Kingdom</td>\n",
       "      <td>37.8</td>\n",
       "      <td>86.1</td>\n",
       "      <td>45.2</td>\n",
       "      <td>64.6</td>\n",
       "      <td>47</td>\n",
       "      <td>51.4</td>\n",
       "      <td>12,938</td>\n",
       "      <td>15.8</td>\n",
       "      <td>33%</td>\n",
       "      <td>54:46:00</td>\n",
       "      <td>2011</td>\n",
       "    </tr>\n",
       "    <tr>\n",
       "      <th>151</th>\n",
       "      <td>152</td>\n",
       "      <td>Birkbeck, University of London</td>\n",
       "      <td>United Kingdom</td>\n",
       "      <td>41.2</td>\n",
       "      <td>88.5</td>\n",
       "      <td>35.8</td>\n",
       "      <td>70.6</td>\n",
       "      <td>27.4</td>\n",
       "      <td>51.2</td>\n",
       "      <td>9,454</td>\n",
       "      <td>17.2</td>\n",
       "      <td>38%</td>\n",
       "      <td>55:45:00</td>\n",
       "      <td>2011</td>\n",
       "    </tr>\n",
       "    <tr>\n",
       "      <th>152</th>\n",
       "      <td>152</td>\n",
       "      <td>Newcastle University</td>\n",
       "      <td>United Kingdom</td>\n",
       "      <td>42.7</td>\n",
       "      <td>80.5</td>\n",
       "      <td>42.8</td>\n",
       "      <td>63.6</td>\n",
       "      <td>31.1</td>\n",
       "      <td>51.2</td>\n",
       "      <td>20,174</td>\n",
       "      <td>15.2</td>\n",
       "      <td>29%</td>\n",
       "      <td>50:50:00</td>\n",
       "      <td>2011</td>\n",
       "    </tr>\n",
       "    <tr>\n",
       "      <th>165</th>\n",
       "      <td>165</td>\n",
       "      <td>University of Liverpool</td>\n",
       "      <td>United Kingdom</td>\n",
       "      <td>40.8</td>\n",
       "      <td>59.8</td>\n",
       "      <td>47.8</td>\n",
       "      <td>59.6</td>\n",
       "      <td>40.6</td>\n",
       "      <td>50</td>\n",
       "      <td>18,815</td>\n",
       "      <td>13.6</td>\n",
       "      <td>30%</td>\n",
       "      <td>52:48:00</td>\n",
       "      <td>2011</td>\n",
       "    </tr>\n",
       "    <tr>\n",
       "      <th>167</th>\n",
       "      <td>168</td>\n",
       "      <td>University of Leeds</td>\n",
       "      <td>United Kingdom</td>\n",
       "      <td>46.2</td>\n",
       "      <td>50</td>\n",
       "      <td>48.0</td>\n",
       "      <td>55.6</td>\n",
       "      <td>38.3</td>\n",
       "      <td>49.8</td>\n",
       "      <td>27,703</td>\n",
       "      <td>14.7</td>\n",
       "      <td>21%</td>\n",
       "      <td>58:42:00</td>\n",
       "      <td>2011</td>\n",
       "    </tr>\n",
       "    <tr>\n",
       "      <th>174</th>\n",
       "      <td>174</td>\n",
       "      <td>University of East Anglia</td>\n",
       "      <td>United Kingdom</td>\n",
       "      <td>42.1</td>\n",
       "      <td>62.8</td>\n",
       "      <td>40.4</td>\n",
       "      <td>62.8</td>\n",
       "      <td>29.7</td>\n",
       "      <td>49</td>\n",
       "      <td>14,992</td>\n",
       "      <td>14.7</td>\n",
       "      <td>28%</td>\n",
       "      <td>58:42:00</td>\n",
       "      <td>2011</td>\n",
       "    </tr>\n",
       "    <tr>\n",
       "      <th>175</th>\n",
       "      <td>174</td>\n",
       "      <td>University of Nottingham</td>\n",
       "      <td>United Kingdom</td>\n",
       "      <td>46.8</td>\n",
       "      <td>74.8</td>\n",
       "      <td>44.1</td>\n",
       "      <td>52.5</td>\n",
       "      <td>38.4</td>\n",
       "      <td>49</td>\n",
       "      <td>30,144</td>\n",
       "      <td>15.0</td>\n",
       "      <td>27%</td>\n",
       "      <td>54:46:00</td>\n",
       "      <td>2011</td>\n",
       "    </tr>\n",
       "    <tr>\n",
       "      <th>183</th>\n",
       "      <td>184</td>\n",
       "      <td>University of Exeter</td>\n",
       "      <td>United Kingdom</td>\n",
       "      <td>40.4</td>\n",
       "      <td>62.8</td>\n",
       "      <td>42.5</td>\n",
       "      <td>57.9</td>\n",
       "      <td>32.2</td>\n",
       "      <td>47.6</td>\n",
       "      <td>17,755</td>\n",
       "      <td>18.8</td>\n",
       "      <td>28%</td>\n",
       "      <td>54:46:00</td>\n",
       "      <td>2011</td>\n",
       "    </tr>\n",
       "  </tbody>\n",
       "</table>\n",
       "</div>"
      ],
      "text/plain": [
       "    world_rank                                   university_name  \\\n",
       "5            6                           University of Cambridge   \n",
       "6            6                              University of Oxford   \n",
       "8            9                           Imperial College London   \n",
       "21          22                         University College London   \n",
       "39          40                           University of Edinburgh   \n",
       "67          68                             University of Bristol   \n",
       "76          77                             King’s College London   \n",
       "79          79                              University of Sussex   \n",
       "81          81                                University of York   \n",
       "84          85                                 Durham University   \n",
       "85          86  London School of Economics and Political Science   \n",
       "86          87                          University of Manchester   \n",
       "87          88              Royal Holloway, University of London   \n",
       "89          90                         University of Southampton   \n",
       "102        103                          University of St Andrews   \n",
       "120        120                   Queen Mary University of London   \n",
       "124        124                              Lancaster University   \n",
       "127        128                             University of Glasgow   \n",
       "136        137                           University of Sheffield   \n",
       "140        140                              University of Dundee   \n",
       "145        145                          University of Birmingham   \n",
       "149        149                            University of Aberdeen   \n",
       "151        152                    Birkbeck, University of London   \n",
       "152        152                              Newcastle University   \n",
       "165        165                           University of Liverpool   \n",
       "167        168                               University of Leeds   \n",
       "174        174                         University of East Anglia   \n",
       "175        174                          University of Nottingham   \n",
       "183        184                              University of Exeter   \n",
       "\n",
       "            country  teaching international  research  citations income  \\\n",
       "5    United Kingdom      90.5          77.7      94.1       94.0     57   \n",
       "6    United Kingdom      88.2          77.2      93.9       95.1   73.5   \n",
       "8    United Kingdom      89.2            90      94.5       88.3   92.9   \n",
       "21   United Kingdom      74.0          90.8      81.6       80.6     39   \n",
       "39   United Kingdom      59.9          67.3      61.9       86.8   42.2   \n",
       "67   United Kingdom      49.6          67.2      53.1       80.9   36.2   \n",
       "76   United Kingdom      48.5          85.9      54.5       72.1   44.1   \n",
       "79   United Kingdom      42.4          72.8      42.4       91.6   29.1   \n",
       "81   United Kingdom      47.9          66.6      46.2       81.9   36.2   \n",
       "84   United Kingdom      39.8          65.7      44.1       91.0   33.9   \n",
       "85   United Kingdom      62.4          99.5      56.2       51.6   38.4   \n",
       "86   United Kingdom      56.5          79.1      56.2       59.2     39   \n",
       "87   United Kingdom      37.7          92.9      36.2       93.2   30.5   \n",
       "89   United Kingdom      50.8            69      47.8       72.9   37.7   \n",
       "102  United Kingdom      44.8          85.7      47.7       72.9   32.6   \n",
       "120  United Kingdom      39.7            91      44.1       73.5   38.9   \n",
       "124  United Kingdom      43.5          73.8      41.9       74.9   28.8   \n",
       "127  United Kingdom      45.6          55.1      50.3       65.1     61   \n",
       "136  United Kingdom      48.9          62.7      49.2       58.4   40.3   \n",
       "140  United Kingdom      34.1          54.4      41.0       79.3   49.3   \n",
       "145  United Kingdom      50.3          73.8      50.7       52.1   34.8   \n",
       "149  United Kingdom      37.8          86.1      45.2       64.6     47   \n",
       "151  United Kingdom      41.2          88.5      35.8       70.6   27.4   \n",
       "152  United Kingdom      42.7          80.5      42.8       63.6   31.1   \n",
       "165  United Kingdom      40.8          59.8      47.8       59.6   40.6   \n",
       "167  United Kingdom      46.2            50      48.0       55.6   38.3   \n",
       "174  United Kingdom      42.1          62.8      40.4       62.8   29.7   \n",
       "175  United Kingdom      46.8          74.8      44.1       52.5   38.4   \n",
       "183  United Kingdom      40.4          62.8      42.5       57.9   32.2   \n",
       "\n",
       "    total_score num_students  student_staff_ratio international_students  \\\n",
       "5          91.2       18,812                 11.8                    34%   \n",
       "6          91.2       19,919                 11.6                    34%   \n",
       "8          90.6       15,060                 11.7                    51%   \n",
       "21         78.4       26,607                 10.7                    46%   \n",
       "39         69.2       25,774                 14.1                    36%   \n",
       "67         61.4       17,906                 14.0                    25%   \n",
       "76         59.7       21,394                 11.4                    37%   \n",
       "79         59.5       12,001                 17.4                    35%   \n",
       "81         59.1          NaN                  NaN                    NaN   \n",
       "84         58.9       15,489                 15.7                    24%   \n",
       "85         58.3          NaN                  NaN                    NaN   \n",
       "86           58       34,938                 15.3                    34%   \n",
       "87         57.9        8,747                 15.9                    37%   \n",
       "89         57.7       20,925                 13.5                    29%   \n",
       "102        56.5        8,338                 12.7                    47%   \n",
       "120        54.6       14,260                 14.0                    40%   \n",
       "124        54.4       11,512                 14.9                    33%   \n",
       "127        54.2       22,616                 16.0                    29%   \n",
       "136        52.5       23,311                 15.5                    31%   \n",
       "140        52.2       11,628                 15.3                    25%   \n",
       "145        51.8       25,295                 16.4                    23%   \n",
       "149        51.4       12,938                 15.8                    33%   \n",
       "151        51.2        9,454                 17.2                    38%   \n",
       "152        51.2       20,174                 15.2                    29%   \n",
       "165          50       18,815                 13.6                    30%   \n",
       "167        49.8       27,703                 14.7                    21%   \n",
       "174          49       14,992                 14.7                    28%   \n",
       "175          49       30,144                 15.0                    27%   \n",
       "183        47.6       17,755                 18.8                    28%   \n",
       "\n",
       "    female_male_ratio  year  \n",
       "5            46:54:00  2011  \n",
       "6            46:54:00  2011  \n",
       "8             37 : 63  2011  \n",
       "21           56:44:00  2011  \n",
       "39           58:42:00  2011  \n",
       "67           53:47:00  2011  \n",
       "76           61:39:00  2011  \n",
       "79           54:46:00  2011  \n",
       "81                NaN  2011  \n",
       "84           54:46:00  2011  \n",
       "85                NaN  2011  \n",
       "86           52:48:00  2011  \n",
       "87           57:43:00  2011  \n",
       "89           53:47:00  2011  \n",
       "102          56:44:00  2011  \n",
       "120          52:48:00  2011  \n",
       "124          52:48:00  2011  \n",
       "127          57:43:00  2011  \n",
       "136          50:50:00  2011  \n",
       "140          60:40:00  2011  \n",
       "145          54:46:00  2011  \n",
       "149          54:46:00  2011  \n",
       "151          55:45:00  2011  \n",
       "152          50:50:00  2011  \n",
       "165          52:48:00  2011  \n",
       "167          58:42:00  2011  \n",
       "174          58:42:00  2011  \n",
       "175          54:46:00  2011  \n",
       "183          54:46:00  2011  "
      ]
     },
     "execution_count": 17,
     "metadata": {},
     "output_type": "execute_result"
    }
   ],
   "source": [
    "d"
   ]
  },
  {
   "cell_type": "code",
   "execution_count": 22,
   "metadata": {},
   "outputs": [
    {
     "data": {
      "application/vnd.plotly.v1+json": {
       "config": {
        "linkText": "Export to plot.ly",
        "plotlyServerURL": "https://plot.ly",
        "showLink": true
       },
       "data": [
        {
         "histfunc": "count",
         "histnorm": "",
         "marker": {
          "color": "rgba(255, 153, 51, 1.0)",
          "line": {
           "color": "#4D5663",
           "width": 1.3
          }
         },
         "name": "student_staff_ratio",
         "opacity": 0.8,
         "orientation": "v",
         "type": "histogram",
         "x": [
          8.9,
          6.9,
          9,
          7.8,
          8.4,
          11.8,
          11.6,
          16.4,
          11.7,
          4.4,
          10.3,
          6.9,
          3.6,
          10.2,
          14.7,
          9,
          19.5,
          5.9,
          6.5,
          13.1,
          17.6,
          10.7,
          11.8,
          4.8,
          13.8,
          5.7,
          20.1,
          10.1,
          27.3,
          17.6,
          7.3,
          6.5,
          18.7,
          15.5,
          13.7,
          23.7,
          8.3,
          5.7,
          4.8,
          14.1,
          23.8,
          7.9,
          19.2,
          11.5,
          25.6,
          null,
          9,
          10.5,
          16.1,
          7.9,
          3.6,
          18,
          10,
          13.9,
          10.1,
          13,
          5.6,
          13.7,
          8.6,
          6.8,
          4.5,
          15.5,
          13.8,
          5.8,
          6.4,
          13.4,
          16.1,
          14,
          22.7,
          5.5,
          20.2,
          10.2,
          30.1,
          12.9,
          11.8,
          18,
          11.4,
          10.9,
          10,
          17.4,
          32.7,
          null,
          24.5,
          16.9,
          15.7,
          null,
          15.3,
          15.9,
          11.5,
          13.5,
          6.5,
          4.6,
          19.3,
          24.5,
          12,
          12.7,
          17.3,
          8.4,
          6.6,
          8,
          31.5,
          15.1,
          12.7,
          15,
          17.3,
          18.1,
          13.5,
          12.1,
          12.4,
          13.9,
          11,
          null,
          7.3,
          16,
          11.9,
          null,
          22,
          15,
          41.9,
          13.3,
          14,
          15.7,
          5,
          34.1,
          14.9,
          17.1,
          21.6,
          16,
          23.7,
          7.8,
          21.5,
          5,
          31.2,
          11.6,
          11.1,
          13.1,
          15.5,
          20.3,
          16.3,
          8.7,
          15.3,
          12.2,
          15.4,
          17,
          18.9,
          16.4,
          23.3,
          18.2,
          25.9,
          15.8,
          19.4,
          17.2,
          15.2,
          25.9,
          18.3,
          13.6,
          17.4,
          null,
          18.9,
          15.9,
          29.9,
          17.4,
          19.6,
          8.5,
          14.4,
          13.6,
          13.6,
          14.7,
          38.4,
          25.6,
          16.6,
          9.3,
          67.8,
          16.2,
          14.7,
          15,
          4.1,
          52.5,
          40.5,
          70.4,
          16.6,
          27.6,
          22.2,
          18.8,
          12,
          59.1,
          24.6,
          16.9,
          38.9,
          10.8,
          15.7,
          11.6,
          14.4,
          14.6,
          20.5,
          19,
          9.2,
          15.9,
          28.3,
          4.6,
          6.9,
          8.9,
          7.8,
          11.6,
          8.4,
          11.8,
          9,
          11.7,
          6.9,
          16.4,
          4.4,
          5.9,
          10.3,
          3.6,
          14.7,
          6.5,
          10.7,
          9,
          19.5,
          10.2,
          13.1,
          4.8,
          17.6,
          20.1,
          11.8,
          13.8,
          10.8,
          13.7,
          17.4,
          5.7,
          18.7,
          11.5,
          6.5,
          17.6,
          27.3,
          14.1,
          23.7,
          19.2,
          13.9,
          15.5,
          5.7,
          18,
          7.3,
          6.8,
          15.5,
          10.5,
          null,
          15.3,
          10.1,
          8.3,
          12.4,
          5.6,
          10.1,
          8.6,
          12.9,
          11.4,
          13.4,
          20.2,
          5.8,
          7.9,
          6.5,
          23.8,
          4.8,
          13,
          19.3,
          14,
          41.9,
          15.4,
          25.6,
          3.6,
          13.7,
          9,
          24.5,
          32.7,
          4.5,
          17,
          10,
          16.1,
          17.1,
          11.5,
          17.3,
          4.5,
          15.7,
          8.7,
          12.7,
          16.1,
          18.2,
          31.5,
          13.8,
          6.6,
          15.1,
          14.4,
          6.4,
          10,
          8.4,
          15.7,
          12.7,
          18.1,
          17.4,
          21.6,
          15.5,
          16,
          12.1,
          19.4,
          20.3,
          34.1,
          15.9,
          7.3,
          52.5,
          22.7,
          17.3,
          22.5,
          16.9,
          10.9,
          16,
          13.1,
          40.5,
          18,
          7.8,
          5,
          10.7,
          null,
          13.6,
          13.9,
          13.6,
          18.7,
          29.9,
          14,
          13.5,
          15,
          14.9,
          23.7,
          14.7,
          25.6,
          12,
          4.1,
          10.2,
          8.5,
          20.5,
          15,
          11.6,
          8,
          22,
          15,
          14.7,
          15.2,
          11.8,
          16.4,
          17.2,
          12.6,
          10.2,
          39.3,
          15.8,
          11.9,
          5.5,
          18.8,
          18.9,
          16.6,
          13,
          24.5,
          16.3,
          null,
          4.6,
          21.4,
          14.8,
          24.4,
          9.2,
          27.6,
          16.2,
          14.8,
          42,
          5.7,
          22.1,
          18.9,
          25.9,
          15.3,
          21.5,
          5,
          14.6,
          15.9,
          9.3,
          13.6,
          18.8,
          17.4,
          26.3,
          18.3,
          14.6,
          38.9,
          31.2,
          20.7,
          11.1,
          7.9,
          7.1,
          59.1,
          17.4,
          24.6,
          null,
          18.9,
          13.4,
          12,
          12.3,
          null,
          13.1,
          18.2,
          7.9,
          13.5,
          15.1,
          19.4,
          8.4,
          11.2,
          11.9,
          19,
          30.1,
          12.2,
          15.7,
          19.8,
          19.9,
          16.4,
          16.9,
          null,
          20.3,
          16.3,
          17.8,
          24.2,
          20.7,
          38.4,
          26.1,
          29.8,
          11.6,
          19,
          8.3,
          14.4,
          10.8,
          12.2,
          15.8,
          20,
          16.6,
          28.3,
          18.5,
          4.6,
          9.9,
          22.9,
          16.5,
          null,
          24.3,
          72.5,
          14.1,
          18.3,
          25.8,
          11.6,
          19.5,
          67.8,
          17.6,
          25.9,
          29.1,
          6.7,
          13.3,
          19.6,
          13.9,
          17.9,
          46.3,
          23,
          22.4,
          37.4,
          18.8,
          26.8,
          null,
          23.8,
          12.7,
          22.8,
          18.6,
          12.6,
          25.4,
          21.1,
          18.6,
          10.7,
          19.2,
          13,
          8.2,
          11,
          16,
          7.7,
          22.2,
          18.4,
          35.8,
          15.3,
          16.6,
          53.6,
          3.3,
          12.2,
          30.3,
          26.9,
          28.3,
          25.9,
          null,
          null,
          46.1,
          21.9,
          26.9,
          43.2,
          39.4,
          15.9,
          24.2,
          23.3,
          16,
          23.3,
          25,
          25.4,
          13,
          17,
          14.9,
          11.5,
          15.7,
          11.9,
          19,
          11.3,
          7.7,
          17.4,
          25.9,
          22.2,
          32.3,
          12.8,
          18.7,
          20.3,
          22.3,
          17.8,
          16.5,
          17.3,
          30.2,
          19.4,
          43.7,
          18.7,
          25.9,
          27.8,
          18.1,
          25.3,
          null,
          18,
          18.8,
          21.5,
          15.9,
          16.6,
          9.5,
          23.8,
          15.4,
          17,
          14.1,
          52,
          17.1,
          18.3,
          15.9,
          null,
          17.6,
          17.1,
          17.1,
          30.4,
          22.6,
          20.4,
          22,
          10.8,
          17.8,
          8.2,
          15.1,
          8.4,
          17.4,
          29,
          62.7,
          19.8,
          15.9,
          7.5,
          16.8,
          null,
          9.8,
          20.9,
          26.8,
          28,
          26.2,
          17.9,
          null,
          11.7,
          19.6,
          13.6,
          15.3,
          5.2,
          17.1,
          36.5,
          14.4,
          65.1,
          19,
          21.5,
          14.4,
          23.4,
          58.4,
          26.2,
          20.2,
          13,
          14.6,
          null,
          11.8,
          16.9,
          14.4,
          20.6,
          6.9,
          7.8,
          11.6,
          8.9,
          9,
          8.4,
          11.8,
          11.7,
          16.4,
          6.9,
          4.4,
          14.7,
          10.3,
          5.9,
          6.5,
          3.6,
          10.7,
          10.2,
          13.8,
          9,
          19.5,
          13.1,
          4.8,
          11.8,
          20.1,
          17.4,
          5.7,
          23.7,
          15.5,
          17.6,
          10.8,
          14.1,
          18.7,
          13.7,
          27.3,
          17.6,
          19.2,
          6.5,
          null,
          10.5,
          6.8,
          11.5,
          7.3,
          13.9,
          5.7,
          8.3,
          18,
          15.5,
          15.3,
          10.1,
          10.1,
          13.7,
          13.4,
          8.6,
          5.6,
          12.9,
          11.4,
          41.9,
          13.9,
          7.9,
          12.4,
          20.2,
          4.8,
          17.1,
          23.8,
          32.7,
          15.4,
          10,
          18.1,
          25.6,
          17,
          18.9,
          13,
          14,
          9,
          5.8,
          19.4,
          24.5,
          4.5,
          15.7,
          8.7,
          11.5,
          14.4,
          20.3,
          25.9,
          16.2,
          10,
          19.3,
          25.6,
          6.5,
          16.1,
          15,
          34.1,
          15.7,
          13.8,
          16.1,
          8.4,
          12.7,
          52.5,
          40.5,
          17.3,
          4.5,
          null,
          6.4,
          31.5,
          18.2,
          3.6,
          12.7,
          15.1,
          18,
          15.5,
          17.4,
          12.1,
          16,
          18.9,
          13.6,
          23.7,
          10.2,
          15.9,
          15,
          21.6,
          22.7,
          18.7,
          10.2,
          6.6,
          16.6,
          13,
          39.3,
          7.3,
          4.1,
          13.1,
          13.5,
          15,
          13.6,
          11.9,
          16.9,
          10.7,
          5,
          16,
          14.6,
          16.3,
          17.3,
          14.7,
          31.2,
          14.9,
          14,
          7.8,
          29.9,
          5,
          17.4,
          24.6,
          22.5,
          18.8,
          27.6,
          22,
          21.4,
          5.5,
          24.4,
          16.4,
          14.6,
          18.9,
          10.9,
          20.5,
          42,
          15.9,
          14.8,
          22.8,
          12,
          11.6,
          8,
          70.4,
          13.6,
          26.3,
          8.5,
          15,
          15.8,
          30.1,
          14.7,
          14.8,
          12.1,
          15.2,
          7.1,
          11.6,
          18.2,
          9.2,
          11.8,
          24.5,
          12,
          null,
          20.7,
          4.6,
          30.3,
          17.4,
          19.4,
          5.7,
          13.4,
          21.5,
          19,
          9.3,
          17.2,
          12.3,
          12.6,
          13.1,
          12.2,
          32.6,
          7.7,
          22.2,
          7.9,
          15.1,
          18.3,
          22.1,
          13.4,
          20.3,
          22.4,
          12.2,
          15.3,
          53.9,
          19.9,
          16.4,
          16.9,
          59.1,
          18.8,
          7.9,
          17.8,
          38.9,
          null,
          29.8,
          11.6,
          13.7,
          null,
          17.5,
          15.8,
          14.6,
          16.2,
          5.6,
          7.3,
          13.5,
          28.3,
          53.6,
          8.4,
          11.1,
          16.5,
          15.7,
          14.1,
          20.3,
          21.5,
          18.6,
          24.2,
          20.7,
          38.4,
          26.1,
          24.2,
          14.4,
          25.9,
          14.9,
          20,
          13.3,
          16.6,
          13.9,
          35.8,
          15.3,
          23,
          9.9,
          11.9,
          13,
          19.8,
          25.9,
          23.8,
          24.3,
          72.5,
          46.1,
          20.2,
          25.8,
          21.1,
          52,
          19.2,
          19.5,
          35.5,
          67.8,
          25,
          19,
          10.8,
          16,
          18.4,
          16.8,
          17.9,
          46.3,
          12.8,
          4.6,
          3.3,
          37.4,
          18.8,
          22.9,
          null,
          15.2,
          21.9,
          16.3,
          12.7,
          43.2,
          66,
          18.6,
          13,
          17.6,
          13,
          16.1,
          8.3,
          8.2,
          11,
          29.1,
          8.4,
          6.7,
          7.7,
          2.9,
          32.8,
          14.4,
          19.6,
          26.8,
          13.6,
          22.2,
          12.7,
          32.3,
          18.7,
          18.5,
          16.6,
          12.2,
          22.3,
          16.5,
          26.9,
          17.3,
          46.9,
          26.8,
          28.3,
          null,
          27.8,
          18.1,
          18.3,
          40.6,
          18,
          19.1,
          26.2,
          9.5,
          12.6,
          null,
          17,
          25.4,
          17.1,
          18.3,
          10.7,
          39.4,
          15.9,
          15.9,
          23.3,
          25.4,
          30.4,
          22.6,
          17,
          17.8,
          18.7,
          11.5,
          15.7,
          11.9,
          23.7,
          11.3,
          62.7,
          15.9,
          16.8,
          11.6,
          9.8,
          17.4,
          28,
          15.4,
          13.6,
          null,
          13.3,
          17.8,
          46.6,
          30.2,
          19.4,
          43.7,
          15.2,
          24.9,
          25.9,
          18.8,
          25.3,
          null,
          18.8,
          58.4,
          15.9,
          20.2,
          16.6,
          13,
          23.8,
          44.1,
          26.9,
          16.9,
          15.4,
          19,
          14.1,
          null,
          16.9,
          6.9,
          8.9,
          11.6,
          7.8,
          9,
          8.4,
          11.8,
          16.4,
          6.9,
          11.7,
          4.4,
          10.3,
          5.9,
          14.7,
          3.6,
          6.5,
          4.8,
          9,
          10.2,
          19.5,
          10.7,
          13.8,
          5.7,
          13.1,
          11.8,
          15.5,
          17.4,
          20.1,
          18.7,
          10.8,
          17.6,
          null,
          27.3,
          23.7,
          13.7,
          11.5,
          10.5,
          11.4,
          14.1,
          6.8,
          6.5,
          5.7,
          17.6,
          13.9,
          8.3,
          18,
          7.3,
          19.2,
          12.4,
          8.6,
          13.7,
          10.1,
          5.6,
          13.9,
          15.5,
          10,
          23.8,
          15.3,
          13.4,
          10.1,
          41.9,
          18.1,
          32.7,
          25.6,
          9,
          7.9,
          17.1,
          24.5,
          19.4,
          12.9,
          4.8,
          20.2,
          18.9,
          17.3,
          15.4,
          16.2,
          17,
          5.8,
          14,
          15.7,
          4.5,
          10,
          15.7,
          14.4,
          34.1,
          39.3,
          31.5,
          6.4,
          3.6,
          13.8,
          40.5,
          19.3,
          16.1,
          52.5,
          4.5,
          8.7,
          16.1,
          18.9,
          25.6,
          15.1,
          null,
          15.9,
          17.3,
          23.7,
          12.7,
          16,
          20.3,
          8.4,
          10.2,
          21.6,
          18.2,
          15.5,
          10.2,
          15,
          14,
          25.9,
          14.6,
          5,
          16,
          12.7,
          17.4,
          6.5,
          11.5,
          15,
          7.3,
          6.6,
          12.1,
          18.7,
          27.6,
          18,
          13,
          13.6,
          13.1,
          13,
          17.4,
          22.7,
          14.9,
          13.6,
          18.2,
          14.7,
          16.6,
          11.9,
          16.9,
          7.8,
          16.3,
          29.9,
          13.5,
          22,
          18.8,
          5,
          4.1,
          31.2,
          16.4,
          24.6,
          12.1,
          8,
          22.5,
          15,
          21.4,
          8.5,
          24.5,
          11.6,
          13.4,
          12.6,
          18.3,
          30.3,
          18.9,
          20.7,
          13.6,
          12,
          20.5,
          42,
          5.5,
          15.9,
          14.7,
          19,
          26.1,
          14.8,
          10.9,
          4.6,
          15,
          70.4,
          17.4,
          15.1,
          5.7,
          18.8,
          26.3,
          15.8,
          22.8,
          11.6,
          10.7,
          9.2,
          5.6,
          12,
          14.8,
          15.3,
          13.7,
          15.2,
          25,
          24.4,
          17.2,
          13.1,
          7.1,
          12.2,
          9.3,
          16,
          15.8,
          16.2,
          22.2,
          7.9,
          13.4,
          20.3,
          19.4,
          9.9,
          11.2,
          30.1,
          11.1,
          16.5,
          16.4,
          16.9,
          7.9,
          17.8,
          43.2,
          38.9,
          21.5,
          11.8,
          12.3,
          null,
          null,
          7.7,
          23.9,
          22.1,
          12.7,
          28.3,
          53.6,
          22.4,
          8.4,
          12.2,
          15.7,
          53.9,
          23.8,
          59.1,
          72.5,
          46.1,
          20.3,
          14.6,
          18.6,
          25.8,
          66,
          24.2,
          20.7,
          38.4,
          52,
          17.6,
          14.4,
          25.9,
          2.9,
          18.4,
          13.3,
          16.6,
          13.5,
          13.9,
          17.9,
          18.7,
          4.6,
          37.4,
          43.4,
          19.8,
          25.9,
          16.4,
          21.9,
          40.6,
          16.3,
          16.9,
          17.1,
          29.8,
          11.6,
          19,
          8.3,
          14.6,
          20,
          25.9,
          22.2,
          35.8,
          3.3,
          22.3,
          8.2,
          18.8,
          22.9,
          46.9,
          19.9,
          null,
          24.3,
          15.2,
          21.5,
          12.7,
          25.4,
          21.1,
          18.6,
          39.4,
          15.9,
          24.2,
          19.2,
          13,
          19.5,
          35.5,
          67.8,
          16.1,
          30.4,
          10.8,
          17.8,
          8.2,
          11,
          15.1,
          15.7,
          23.7,
          6.7,
          11.3,
          7.7,
          32.8,
          14.4,
          19.6,
          26.8,
          16.8,
          32.3,
          12.8,
          15.3,
          18.5,
          23,
          11.9,
          16.5,
          13,
          26.9,
          17.3,
          19.4,
          43.7,
          25.9,
          27.8,
          14.1,
          18.3,
          18,
          58.4,
          26.2,
          9.5,
          44.1,
          12.6,
          null,
          17,
          14.1,
          18.3,
          10.7,
          14.9,
          15.9,
          25.4,
          13,
          15.4,
          17,
          10.4,
          17.3,
          12.2,
          17.5,
          18.7,
          29.1,
          8.4,
          13.4,
          62.7,
          19.8,
          15.9,
          9.8,
          17.4,
          28,
          null,
          13.6,
          46.3,
          31.7,
          16.6,
          36.5,
          13.3,
          12.2,
          65.1,
          46.6,
          30.2,
          17.2,
          26.8,
          28.3,
          15.2,
          18.1,
          18.8,
          10.6,
          null,
          18.8,
          19.1,
          12.8,
          15.9,
          16.6,
          13,
          23.8,
          15.4,
          19,
          null,
          6.9,
          8.9,
          11.6,
          7.8,
          11.8,
          9,
          8.4,
          16.4,
          11.7,
          4.4,
          6.9,
          10.3,
          14.7,
          5.9,
          3.6,
          6.5,
          9,
          4.8,
          10.2,
          19.5,
          13.8,
          10.7,
          5.7,
          13.1,
          15.5,
          11.8,
          20.1,
          17.4,
          15.5,
          18.7,
          10.8,
          17.6,
          23.7,
          null,
          10.5,
          14.1,
          27.3,
          6.8,
          13.7,
          11.4,
          6.5,
          5.7,
          17.6,
          11.5,
          19.2,
          18,
          7.3,
          8.3,
          13.7,
          13.9,
          23.8,
          10,
          15.3,
          10.1,
          41.9,
          13.9,
          8.6,
          12.4,
          5.6,
          20.2,
          16.2,
          4.8,
          16.5,
          17.1,
          32.7,
          10.1,
          25.6,
          13.4,
          9,
          24.5,
          19.4,
          18.9,
          17,
          14,
          17.3,
          12.9,
          14.4,
          7.9,
          15.4,
          52.5,
          39.3,
          15.7,
          15.7,
          40.5,
          22.2,
          12.7,
          13.8,
          10,
          16.1,
          34.1,
          13,
          5.8,
          4.5,
          19.3,
          16,
          3.6,
          16.1,
          23.7,
          31.5,
          18.2,
          18.9,
          18.1,
          8.7,
          15.1,
          16.6,
          6.5,
          14,
          15,
          22.7,
          25.9,
          12.7,
          17.4,
          20.3,
          38.9,
          null,
          6.4,
          25.6,
          15.9,
          11.5,
          15,
          5,
          4.5,
          15.5,
          21.6,
          12.1,
          17.4,
          14.6,
          18.7,
          10.2,
          10.2,
          14.9,
          22.5,
          8.4,
          13.5,
          37.4,
          13.1,
          16.3,
          18,
          25,
          13,
          18.2,
          21.4,
          7.3,
          16,
          17.3,
          14.7,
          12.6,
          20.3,
          16.4,
          13.6,
          22,
          6.6,
          13.6,
          18.8,
          11.9,
          27.6,
          7.8,
          13.6,
          20.7,
          4.1,
          8,
          16.9,
          31.2,
          30.1,
          16,
          24.6,
          18.3,
          5,
          5.7,
          30.3,
          15,
          42,
          8.5,
          21.5,
          18.9,
          11.6,
          15.9,
          12.1,
          15.8,
          14.8,
          15.9,
          29.9,
          15.9,
          20.5,
          15.1,
          18.8,
          5.5,
          10.9,
          24.4,
          26.3,
          19,
          7.1,
          12.2,
          17.4,
          70.4,
          7.7,
          13.4,
          14.7,
          13.4,
          13.7,
          12,
          null,
          13.1,
          9.3,
          10.7,
          25.9,
          15.8,
          15.2,
          19.4,
          11.2,
          12.2,
          11.1,
          15.3,
          9.2,
          16.9,
          14.8,
          7.9,
          17.8,
          14.6,
          22.8,
          25.8,
          12,
          26.1,
          4.6,
          11.8,
          11.6,
          12.3,
          17.2,
          17.6,
          29.8,
          14.4,
          16.2,
          5.6,
          7.9,
          15,
          28.3,
          18.5,
          null,
          9.9,
          24.5,
          16.5,
          16.4,
          23.8,
          59.1,
          72.5,
          44.1,
          20.7,
          38.4,
          52,
          39.4,
          24.2,
          34,
          2.9,
          13.3,
          13.5,
          26.8,
          22.1,
          17.9,
          4.6,
          53.6,
          25.6,
          null,
          25.9,
          46.1,
          null,
          21.9,
          20.3,
          40.6,
          58.4,
          21.5,
          16.9,
          18.6,
          43.2,
          66,
          24.2,
          11.6,
          19,
          8.2,
          23.9,
          18.4,
          16.6,
          13.9,
          23.9,
          25.9,
          35.8,
          12.8,
          23,
          22.4,
          3.3,
          22.3,
          22.9,
          15.7,
          53.9,
          46.9,
          19.9,
          14.9,
          24.3,
          16.4,
          26.2,
          16.3,
          25.4,
          21.1,
          18.6,
          13,
          19.5,
          25.4,
          13,
          8.3,
          30.4,
          10.8,
          11,
          null,
          15.1,
          14.6,
          20,
          7.1,
          16.8,
          22.2,
          12.7,
          31.7,
          32.3,
          18.7,
          15.3,
          16.6,
          8.4,
          18.8,
          16.5,
          43.4,
          13,
          26.9,
          46.6,
          19.8,
          43.7,
          15.2,
          null,
          27.8,
          38.7,
          15.2,
          2.6,
          null,
          18.3,
          18,
          12.7,
          15.9,
          45.4,
          9.5,
          12.6,
          15.4,
          14.1,
          10.7,
          15.9,
          15.9,
          19.2,
          null,
          35.5,
          67.8,
          16.1,
          17.1,
          14.4,
          17,
          10.4,
          8.2,
          14.9,
          18.7,
          26.5,
          23.7,
          6.7,
          11.3,
          7.7,
          32.8,
          14.4,
          19.6,
          17.4,
          15.6,
          46.3,
          36.5,
          12.2,
          11.9,
          65.1,
          17.3,
          30.2,
          17.2,
          26.8,
          19.4,
          17.5,
          25.9,
          18.8,
          14.1,
          10.6,
          19.1,
          61.2,
          19,
          14.6,
          null,
          17,
          17.1,
          16.9,
          18.3,
          32.2,
          14.4,
          14.9,
          6.9,
          11.6,
          7.8,
          11.8,
          9,
          8.9,
          8.4,
          11.7,
          14.7,
          6.9,
          3.6,
          4.4,
          16.4,
          10.7,
          5.9,
          10.3,
          6.5,
          10.2,
          19.5,
          4.8,
          9,
          13.1,
          null,
          14.1,
          13.8,
          15.5,
          11.4,
          11.5,
          15.5,
          6.8,
          10.5,
          11.8,
          23.7,
          17.6,
          41.9,
          18.7,
          24.5,
          13.7,
          6.5,
          27.3,
          20.1,
          8.3,
          5.7,
          13.9,
          17.6,
          17.4,
          13.7,
          17,
          52.5,
          10.8,
          10.1,
          19.2,
          31.5,
          7.9,
          16.2,
          15.3,
          20.2,
          14.4,
          23.8,
          32.7,
          5.7,
          15.4,
          7.3,
          8.6,
          19.4,
          18,
          17.1,
          12.9,
          14,
          15.7,
          18.9,
          39.3,
          40.5,
          25.6,
          12.4,
          16,
          15.1,
          38.9,
          5.8,
          16.6,
          18.2,
          4.1,
          25.9,
          31.2,
          13.9,
          12.7,
          3.6,
          5.6,
          18.9,
          4.5,
          11.5,
          13.4,
          18.8,
          70.4,
          8.5,
          19.3,
          15.5,
          14,
          25.6,
          15.7,
          17.3,
          4.8,
          9,
          6.6,
          6.5,
          13.6,
          16.1,
          85.8,
          13.8,
          20.7,
          27.6,
          13.5,
          16.5,
          20.3,
          8.7,
          18.1,
          10.1,
          8.4,
          34.1,
          16.4,
          22.5,
          12.1,
          18.7,
          53.9,
          17.3,
          46.1,
          13,
          16.1,
          10,
          15.9,
          14.9,
          15,
          null,
          6.4,
          14.7,
          18.8,
          23.7,
          21.6,
          10.2,
          24.6,
          17.4,
          13,
          20.5,
          15,
          22.7,
          13.1,
          12.3,
          10.2,
          10,
          30.1,
          14.7,
          12,
          20.3,
          16.3,
          14.6,
          43.4,
          13.6,
          37.4,
          4.5,
          18,
          7.7,
          5.7,
          12.7,
          18.3,
          14.8,
          5.5,
          22,
          13.4,
          11.9,
          5,
          42,
          15.8,
          18.9,
          12.2,
          59.1,
          16,
          24.5,
          10.7,
          24.2,
          16.4,
          8.5,
          11.1,
          13.1,
          16.9,
          12.6,
          15.3,
          38.4,
          15,
          29.9,
          30.3,
          17.4,
          11.2,
          15.9,
          21.4,
          6.6,
          15.2,
          13.4,
          43.2,
          14.8,
          17.9,
          15.9,
          17.2,
          22.9,
          19,
          16.5,
          11.6,
          7.1,
          42.7,
          14.4,
          46.6,
          8,
          31.8,
          46.9,
          12.2,
          12,
          9.3,
          null,
          25.9,
          9.2,
          13.6,
          11.6,
          32.6,
          12.1,
          23.8,
          16.2,
          2.9,
          15.1,
          1.1,
          20.3,
          26.3,
          26.9,
          7.2,
          22.2,
          10.9,
          2.1,
          32.3,
          7.9,
          21.5,
          10.9,
          45.4,
          4.6,
          53.6,
          44.1,
          24.4,
          22.8,
          22.4,
          5,
          7.3,
          21.5,
          4.6,
          20.7,
          11.8,
          18.6,
          24.2,
          45.5,
          18.8,
          35.5,
          67.8,
          19.4,
          25.4,
          18.2,
          19,
          15.9,
          22.6,
          19.9,
          22,
          25.9,
          8.2,
          17.4,
          21.9,
          53.9,
          8.4,
          14.6,
          15.8,
          25.9,
          7.7,
          13.3,
          13.5,
          26.8,
          21.9,
          13.6,
          16.8,
          7.8,
          22.1,
          35.8,
          15,
          15.6,
          46.3,
          5.8,
          14.6,
          28.3,
          16.6,
          15.9,
          23.8,
          17,
          6.9,
          8.4,
          11.9,
          52,
          18.6,
          25.4,
          15.9,
          19.2,
          8.2,
          13,
          19.5,
          25.6,
          15.7,
          13,
          30.4,
          19.8,
          17,
          24,
          9.6,
          41.2,
          16.9,
          12.2,
          14.4,
          62.7,
          20,
          0.6,
          24.3,
          72.5,
          18.4,
          7.9,
          64.2,
          16.6,
          7.3,
          17.4,
          10.6,
          16.4,
          15.8,
          20.2,
          18.3,
          40.6,
          25.9,
          12.8,
          12.7,
          23,
          17.8,
          88.9,
          19.4,
          43.8,
          25.8,
          66,
          14.6,
          17.1,
          23.9,
          11.6,
          39.4,
          null,
          23.3,
          26.9,
          22.9,
          10.8,
          17.3,
          17.2,
          10.8,
          12.5,
          28.3,
          10.4,
          11,
          43.7,
          14.9,
          16.9,
          15.2,
          29,
          15.9,
          27.8,
          14.1,
          25.3,
          15.2,
          28,
          2.6,
          null,
          13.9,
          8.5,
          34.3,
          19.6,
          61.2,
          15.9,
          31.7,
          26.2,
          16.3,
          17.1,
          15.3,
          15.9,
          16.6,
          17.1,
          36.5,
          13,
          13.3,
          26.9,
          12.2,
          26.1,
          38.5,
          22.3,
          19.7,
          21.1,
          18.3,
          10.7,
          12,
          null,
          17.8,
          65.1,
          16,
          25.9,
          25,
          21.3,
          17.6,
          38.3,
          51,
          16.5,
          18.9,
          13,
          15.4,
          17.8,
          16.1,
          19,
          17.5,
          30.3,
          17.1,
          22.9,
          15.5,
          14.4,
          34,
          30.2,
          25.9,
          29.5,
          20.4,
          26.8,
          17.8,
          8.2,
          6.8,
          18.7,
          21.5,
          17.3,
          17.5,
          15.9,
          36.3,
          23.9,
          29.1,
          54.4,
          15.7,
          24.9,
          17.4,
          6.7,
          11.3,
          20.1,
          14.9,
          29.4,
          23,
          18.1,
          32.8,
          22.2,
          32.3,
          11.6,
          14.4,
          8.2,
          5.4,
          8.5,
          17.9,
          20.3,
          7.1,
          35.9,
          18.5,
          22.4,
          29.1,
          18,
          11.7,
          15.3,
          18.8,
          19.1,
          18.1,
          26.5,
          12.8,
          5.2,
          58.4,
          17,
          16.3,
          18.7,
          23.6,
          32.8,
          18.5,
          20.2,
          9.5,
          15.5,
          3.3,
          9.9,
          12.6,
          13.3,
          15.8,
          24.7,
          9,
          37.4,
          15.4,
          17,
          32.2,
          14.4,
          12.3,
          8.9,
          25.6,
          16.9,
          21.2,
          17.6,
          23.5,
          15.3,
          4,
          12.6,
          7.1,
          25,
          20.8,
          28.6,
          29.8,
          49.7,
          29.6,
          14.2,
          12,
          17.4,
          12,
          19.1,
          14,
          16.1,
          12.8,
          16,
          30.8,
          10.8,
          19.4,
          8.2,
          17.7,
          14.2,
          12.2,
          18.7,
          26.5,
          16,
          16.1,
          10.4,
          15.1,
          11.9,
          19,
          7.1,
          13.4,
          14.9,
          23.9,
          19.8,
          17.5,
          19.8,
          7.5,
          18.2,
          17.3,
          26.6,
          16.8,
          14.6,
          22.2,
          18.8,
          15.5,
          17.8,
          20.5,
          9.8,
          19.6,
          13,
          26.9,
          26.2,
          18.8,
          19.2,
          21.4,
          10.1,
          13.1,
          13.7,
          11.4,
          23.9,
          15.4,
          21.2,
          22.2,
          20,
          19.7,
          25.7,
          22.8,
          12.7,
          13.9,
          17.9,
          15.3,
          10.9,
          17.5,
          5.4,
          12.9,
          17.7,
          28.6,
          9,
          10.5,
          12.2,
          14.4,
          17.5,
          13.5,
          12.5,
          12.5,
          14.1,
          18.4,
          12.3,
          11.8,
          13,
          15.6,
          17,
          11.3,
          25.1,
          23.3,
          33,
          10.5,
          14.1,
          6.6,
          162.6,
          20.2,
          23,
          22.2,
          26.3,
          57.5,
          18.1,
          17.8,
          null,
          10.6,
          28.3,
          19.5,
          20.5,
          14.5,
          19.5,
          24.9,
          22.1,
          39.1,
          32.5,
          32.3,
          7.1,
          14.3,
          17.5,
          9.2,
          12.6,
          11.4,
          11,
          16.5,
          12.3,
          20.7,
          19.4,
          15,
          16,
          18.5,
          14.5,
          30.2,
          17.2,
          17.1,
          9.7,
          14.8,
          15.2,
          20.3,
          22.9,
          6.9,
          18.9,
          9.9,
          9.8,
          22.4,
          28,
          17.9,
          13.5,
          11.2,
          14.8,
          12.6,
          16.9,
          11.4,
          20.9,
          23.9,
          13.7,
          22.8,
          23.3,
          37.5,
          12.4,
          21.6,
          24.6,
          20.4,
          18.1,
          24.7,
          17.1,
          15.8,
          24.1,
          29.9,
          41.1,
          11.5,
          13.6,
          13.6,
          16.4,
          3.7,
          24.6,
          12.6,
          16.9,
          23.7,
          20.9,
          11.6,
          8.4,
          23.5,
          7.6,
          14.4,
          12.1,
          26.5,
          14.5,
          18.9,
          17.6,
          38.7,
          20.5,
          24.7,
          7,
          15.8,
          7.2,
          47,
          18.4,
          22.9,
          20.3,
          16.5,
          20.9,
          38.1,
          6.7,
          7.8,
          8.5,
          19.3,
          14.1,
          17.4,
          19.8,
          20.6,
          20,
          8.6,
          7.5,
          19.8,
          23.4,
          27.4,
          40.9,
          15.4,
          13.6,
          10.9,
          10.1,
          10.4,
          16.1,
          19,
          10.1,
          13.5,
          11.7,
          17,
          23.6,
          13,
          14.6,
          15.1,
          15.5,
          19,
          24.9,
          17.5,
          13.5,
          18.8,
          9.6,
          2.5,
          14.5,
          17.3,
          15.3,
          24.1,
          24.3,
          108.5,
          9,
          18.5,
          29.2,
          6,
          9,
          32.9,
          13.8,
          11.1,
          8.2,
          13.8,
          27,
          29,
          20.9,
          12.7,
          8.9,
          11.1,
          25.7,
          9.9,
          8.2,
          9.3,
          11.8,
          12.2,
          14.8,
          16.8,
          10.1,
          9.7,
          19,
          14.2,
          14.5,
          16.9,
          21.5,
          21.4,
          19,
          21,
          16.4,
          15.3,
          28.7,
          3.7,
          12.1,
          20.6
         ]
        }
       ],
       "layout": {
        "barmode": "overlay",
        "legend": {
         "bgcolor": "#F5F6F9",
         "font": {
          "color": "#4D5663"
         }
        },
        "paper_bgcolor": "#F5F6F9",
        "plot_bgcolor": "#F5F6F9",
        "template": {
         "data": {
          "bar": [
           {
            "error_x": {
             "color": "#2a3f5f"
            },
            "error_y": {
             "color": "#2a3f5f"
            },
            "marker": {
             "line": {
              "color": "#E5ECF6",
              "width": 0.5
             }
            },
            "type": "bar"
           }
          ],
          "barpolar": [
           {
            "marker": {
             "line": {
              "color": "#E5ECF6",
              "width": 0.5
             }
            },
            "type": "barpolar"
           }
          ],
          "carpet": [
           {
            "aaxis": {
             "endlinecolor": "#2a3f5f",
             "gridcolor": "white",
             "linecolor": "white",
             "minorgridcolor": "white",
             "startlinecolor": "#2a3f5f"
            },
            "baxis": {
             "endlinecolor": "#2a3f5f",
             "gridcolor": "white",
             "linecolor": "white",
             "minorgridcolor": "white",
             "startlinecolor": "#2a3f5f"
            },
            "type": "carpet"
           }
          ],
          "choropleth": [
           {
            "colorbar": {
             "outlinewidth": 0,
             "ticks": ""
            },
            "type": "choropleth"
           }
          ],
          "contour": [
           {
            "colorbar": {
             "outlinewidth": 0,
             "ticks": ""
            },
            "colorscale": [
             [
              0,
              "#0d0887"
             ],
             [
              0.1111111111111111,
              "#46039f"
             ],
             [
              0.2222222222222222,
              "#7201a8"
             ],
             [
              0.3333333333333333,
              "#9c179e"
             ],
             [
              0.4444444444444444,
              "#bd3786"
             ],
             [
              0.5555555555555556,
              "#d8576b"
             ],
             [
              0.6666666666666666,
              "#ed7953"
             ],
             [
              0.7777777777777778,
              "#fb9f3a"
             ],
             [
              0.8888888888888888,
              "#fdca26"
             ],
             [
              1,
              "#f0f921"
             ]
            ],
            "type": "contour"
           }
          ],
          "contourcarpet": [
           {
            "colorbar": {
             "outlinewidth": 0,
             "ticks": ""
            },
            "type": "contourcarpet"
           }
          ],
          "heatmap": [
           {
            "colorbar": {
             "outlinewidth": 0,
             "ticks": ""
            },
            "colorscale": [
             [
              0,
              "#0d0887"
             ],
             [
              0.1111111111111111,
              "#46039f"
             ],
             [
              0.2222222222222222,
              "#7201a8"
             ],
             [
              0.3333333333333333,
              "#9c179e"
             ],
             [
              0.4444444444444444,
              "#bd3786"
             ],
             [
              0.5555555555555556,
              "#d8576b"
             ],
             [
              0.6666666666666666,
              "#ed7953"
             ],
             [
              0.7777777777777778,
              "#fb9f3a"
             ],
             [
              0.8888888888888888,
              "#fdca26"
             ],
             [
              1,
              "#f0f921"
             ]
            ],
            "type": "heatmap"
           }
          ],
          "heatmapgl": [
           {
            "colorbar": {
             "outlinewidth": 0,
             "ticks": ""
            },
            "colorscale": [
             [
              0,
              "#0d0887"
             ],
             [
              0.1111111111111111,
              "#46039f"
             ],
             [
              0.2222222222222222,
              "#7201a8"
             ],
             [
              0.3333333333333333,
              "#9c179e"
             ],
             [
              0.4444444444444444,
              "#bd3786"
             ],
             [
              0.5555555555555556,
              "#d8576b"
             ],
             [
              0.6666666666666666,
              "#ed7953"
             ],
             [
              0.7777777777777778,
              "#fb9f3a"
             ],
             [
              0.8888888888888888,
              "#fdca26"
             ],
             [
              1,
              "#f0f921"
             ]
            ],
            "type": "heatmapgl"
           }
          ],
          "histogram": [
           {
            "marker": {
             "colorbar": {
              "outlinewidth": 0,
              "ticks": ""
             }
            },
            "type": "histogram"
           }
          ],
          "histogram2d": [
           {
            "colorbar": {
             "outlinewidth": 0,
             "ticks": ""
            },
            "colorscale": [
             [
              0,
              "#0d0887"
             ],
             [
              0.1111111111111111,
              "#46039f"
             ],
             [
              0.2222222222222222,
              "#7201a8"
             ],
             [
              0.3333333333333333,
              "#9c179e"
             ],
             [
              0.4444444444444444,
              "#bd3786"
             ],
             [
              0.5555555555555556,
              "#d8576b"
             ],
             [
              0.6666666666666666,
              "#ed7953"
             ],
             [
              0.7777777777777778,
              "#fb9f3a"
             ],
             [
              0.8888888888888888,
              "#fdca26"
             ],
             [
              1,
              "#f0f921"
             ]
            ],
            "type": "histogram2d"
           }
          ],
          "histogram2dcontour": [
           {
            "colorbar": {
             "outlinewidth": 0,
             "ticks": ""
            },
            "colorscale": [
             [
              0,
              "#0d0887"
             ],
             [
              0.1111111111111111,
              "#46039f"
             ],
             [
              0.2222222222222222,
              "#7201a8"
             ],
             [
              0.3333333333333333,
              "#9c179e"
             ],
             [
              0.4444444444444444,
              "#bd3786"
             ],
             [
              0.5555555555555556,
              "#d8576b"
             ],
             [
              0.6666666666666666,
              "#ed7953"
             ],
             [
              0.7777777777777778,
              "#fb9f3a"
             ],
             [
              0.8888888888888888,
              "#fdca26"
             ],
             [
              1,
              "#f0f921"
             ]
            ],
            "type": "histogram2dcontour"
           }
          ],
          "mesh3d": [
           {
            "colorbar": {
             "outlinewidth": 0,
             "ticks": ""
            },
            "type": "mesh3d"
           }
          ],
          "parcoords": [
           {
            "line": {
             "colorbar": {
              "outlinewidth": 0,
              "ticks": ""
             }
            },
            "type": "parcoords"
           }
          ],
          "pie": [
           {
            "automargin": true,
            "type": "pie"
           }
          ],
          "scatter": [
           {
            "marker": {
             "colorbar": {
              "outlinewidth": 0,
              "ticks": ""
             }
            },
            "type": "scatter"
           }
          ],
          "scatter3d": [
           {
            "line": {
             "colorbar": {
              "outlinewidth": 0,
              "ticks": ""
             }
            },
            "marker": {
             "colorbar": {
              "outlinewidth": 0,
              "ticks": ""
             }
            },
            "type": "scatter3d"
           }
          ],
          "scattercarpet": [
           {
            "marker": {
             "colorbar": {
              "outlinewidth": 0,
              "ticks": ""
             }
            },
            "type": "scattercarpet"
           }
          ],
          "scattergeo": [
           {
            "marker": {
             "colorbar": {
              "outlinewidth": 0,
              "ticks": ""
             }
            },
            "type": "scattergeo"
           }
          ],
          "scattergl": [
           {
            "marker": {
             "colorbar": {
              "outlinewidth": 0,
              "ticks": ""
             }
            },
            "type": "scattergl"
           }
          ],
          "scattermapbox": [
           {
            "marker": {
             "colorbar": {
              "outlinewidth": 0,
              "ticks": ""
             }
            },
            "type": "scattermapbox"
           }
          ],
          "scatterpolar": [
           {
            "marker": {
             "colorbar": {
              "outlinewidth": 0,
              "ticks": ""
             }
            },
            "type": "scatterpolar"
           }
          ],
          "scatterpolargl": [
           {
            "marker": {
             "colorbar": {
              "outlinewidth": 0,
              "ticks": ""
             }
            },
            "type": "scatterpolargl"
           }
          ],
          "scatterternary": [
           {
            "marker": {
             "colorbar": {
              "outlinewidth": 0,
              "ticks": ""
             }
            },
            "type": "scatterternary"
           }
          ],
          "surface": [
           {
            "colorbar": {
             "outlinewidth": 0,
             "ticks": ""
            },
            "colorscale": [
             [
              0,
              "#0d0887"
             ],
             [
              0.1111111111111111,
              "#46039f"
             ],
             [
              0.2222222222222222,
              "#7201a8"
             ],
             [
              0.3333333333333333,
              "#9c179e"
             ],
             [
              0.4444444444444444,
              "#bd3786"
             ],
             [
              0.5555555555555556,
              "#d8576b"
             ],
             [
              0.6666666666666666,
              "#ed7953"
             ],
             [
              0.7777777777777778,
              "#fb9f3a"
             ],
             [
              0.8888888888888888,
              "#fdca26"
             ],
             [
              1,
              "#f0f921"
             ]
            ],
            "type": "surface"
           }
          ],
          "table": [
           {
            "cells": {
             "fill": {
              "color": "#EBF0F8"
             },
             "line": {
              "color": "white"
             }
            },
            "header": {
             "fill": {
              "color": "#C8D4E3"
             },
             "line": {
              "color": "white"
             }
            },
            "type": "table"
           }
          ]
         },
         "layout": {
          "annotationdefaults": {
           "arrowcolor": "#2a3f5f",
           "arrowhead": 0,
           "arrowwidth": 1
          },
          "coloraxis": {
           "colorbar": {
            "outlinewidth": 0,
            "ticks": ""
           }
          },
          "colorscale": {
           "diverging": [
            [
             0,
             "#8e0152"
            ],
            [
             0.1,
             "#c51b7d"
            ],
            [
             0.2,
             "#de77ae"
            ],
            [
             0.3,
             "#f1b6da"
            ],
            [
             0.4,
             "#fde0ef"
            ],
            [
             0.5,
             "#f7f7f7"
            ],
            [
             0.6,
             "#e6f5d0"
            ],
            [
             0.7,
             "#b8e186"
            ],
            [
             0.8,
             "#7fbc41"
            ],
            [
             0.9,
             "#4d9221"
            ],
            [
             1,
             "#276419"
            ]
           ],
           "sequential": [
            [
             0,
             "#0d0887"
            ],
            [
             0.1111111111111111,
             "#46039f"
            ],
            [
             0.2222222222222222,
             "#7201a8"
            ],
            [
             0.3333333333333333,
             "#9c179e"
            ],
            [
             0.4444444444444444,
             "#bd3786"
            ],
            [
             0.5555555555555556,
             "#d8576b"
            ],
            [
             0.6666666666666666,
             "#ed7953"
            ],
            [
             0.7777777777777778,
             "#fb9f3a"
            ],
            [
             0.8888888888888888,
             "#fdca26"
            ],
            [
             1,
             "#f0f921"
            ]
           ],
           "sequentialminus": [
            [
             0,
             "#0d0887"
            ],
            [
             0.1111111111111111,
             "#46039f"
            ],
            [
             0.2222222222222222,
             "#7201a8"
            ],
            [
             0.3333333333333333,
             "#9c179e"
            ],
            [
             0.4444444444444444,
             "#bd3786"
            ],
            [
             0.5555555555555556,
             "#d8576b"
            ],
            [
             0.6666666666666666,
             "#ed7953"
            ],
            [
             0.7777777777777778,
             "#fb9f3a"
            ],
            [
             0.8888888888888888,
             "#fdca26"
            ],
            [
             1,
             "#f0f921"
            ]
           ]
          },
          "colorway": [
           "#636efa",
           "#EF553B",
           "#00cc96",
           "#ab63fa",
           "#FFA15A",
           "#19d3f3",
           "#FF6692",
           "#B6E880",
           "#FF97FF",
           "#FECB52"
          ],
          "font": {
           "color": "#2a3f5f"
          },
          "geo": {
           "bgcolor": "white",
           "lakecolor": "white",
           "landcolor": "#E5ECF6",
           "showlakes": true,
           "showland": true,
           "subunitcolor": "white"
          },
          "hoverlabel": {
           "align": "left"
          },
          "hovermode": "closest",
          "mapbox": {
           "style": "light"
          },
          "paper_bgcolor": "white",
          "plot_bgcolor": "#E5ECF6",
          "polar": {
           "angularaxis": {
            "gridcolor": "white",
            "linecolor": "white",
            "ticks": ""
           },
           "bgcolor": "#E5ECF6",
           "radialaxis": {
            "gridcolor": "white",
            "linecolor": "white",
            "ticks": ""
           }
          },
          "scene": {
           "xaxis": {
            "backgroundcolor": "#E5ECF6",
            "gridcolor": "white",
            "gridwidth": 2,
            "linecolor": "white",
            "showbackground": true,
            "ticks": "",
            "zerolinecolor": "white"
           },
           "yaxis": {
            "backgroundcolor": "#E5ECF6",
            "gridcolor": "white",
            "gridwidth": 2,
            "linecolor": "white",
            "showbackground": true,
            "ticks": "",
            "zerolinecolor": "white"
           },
           "zaxis": {
            "backgroundcolor": "#E5ECF6",
            "gridcolor": "white",
            "gridwidth": 2,
            "linecolor": "white",
            "showbackground": true,
            "ticks": "",
            "zerolinecolor": "white"
           }
          },
          "shapedefaults": {
           "line": {
            "color": "#2a3f5f"
           }
          },
          "ternary": {
           "aaxis": {
            "gridcolor": "white",
            "linecolor": "white",
            "ticks": ""
           },
           "baxis": {
            "gridcolor": "white",
            "linecolor": "white",
            "ticks": ""
           },
           "bgcolor": "#E5ECF6",
           "caxis": {
            "gridcolor": "white",
            "linecolor": "white",
            "ticks": ""
           }
          },
          "title": {
           "x": 0.05
          },
          "xaxis": {
           "automargin": true,
           "gridcolor": "white",
           "linecolor": "white",
           "ticks": "",
           "title": {
            "standoff": 15
           },
           "zerolinecolor": "white",
           "zerolinewidth": 2
          },
          "yaxis": {
           "automargin": true,
           "gridcolor": "white",
           "linecolor": "white",
           "ticks": "",
           "title": {
            "standoff": 15
           },
           "zerolinecolor": "white",
           "zerolinewidth": 2
          }
         }
        },
        "title": {
         "font": {
          "color": "#4D5663"
         }
        },
        "xaxis": {
         "gridcolor": "#E1E5ED",
         "showgrid": true,
         "tickfont": {
          "color": "#4D5663"
         },
         "title": {
          "font": {
           "color": "#4D5663"
          },
          "text": ""
         },
         "zerolinecolor": "#E1E5ED"
        },
        "yaxis": {
         "gridcolor": "#E1E5ED",
         "showgrid": true,
         "tickfont": {
          "color": "#4D5663"
         },
         "title": {
          "font": {
           "color": "#4D5663"
          },
          "text": ""
         },
         "zerolinecolor": "#E1E5ED"
        }
       }
      },
      "text/html": [
       "<div>\n",
       "        \n",
       "        \n",
       "            <div id=\"cfb2c4b5-1808-44bb-9970-84f328339759\" class=\"plotly-graph-div\" style=\"height:525px; width:100%;\"></div>\n",
       "            <script type=\"text/javascript\">\n",
       "                require([\"plotly\"], function(Plotly) {\n",
       "                    window.PLOTLYENV=window.PLOTLYENV || {};\n",
       "                    window.PLOTLYENV.BASE_URL='https://plot.ly';\n",
       "                    \n",
       "                if (document.getElementById(\"cfb2c4b5-1808-44bb-9970-84f328339759\")) {\n",
       "                    Plotly.newPlot(\n",
       "                        'cfb2c4b5-1808-44bb-9970-84f328339759',\n",
       "                        [{\"histfunc\": \"count\", \"histnorm\": \"\", \"marker\": {\"color\": \"rgba(255, 153, 51, 1.0)\", \"line\": {\"color\": \"#4D5663\", \"width\": 1.3}}, \"name\": \"student_staff_ratio\", \"opacity\": 0.8, \"orientation\": \"v\", \"type\": \"histogram\", \"x\": [8.9, 6.9, 9.0, 7.8, 8.4, 11.8, 11.6, 16.4, 11.7, 4.4, 10.3, 6.9, 3.6, 10.2, 14.7, 9.0, 19.5, 5.9, 6.5, 13.1, 17.6, 10.7, 11.8, 4.8, 13.8, 5.7, 20.1, 10.1, 27.3, 17.6, 7.3, 6.5, 18.7, 15.5, 13.7, 23.7, 8.3, 5.7, 4.8, 14.1, 23.8, 7.9, 19.2, 11.5, 25.6, null, 9.0, 10.5, 16.1, 7.9, 3.6, 18.0, 10.0, 13.9, 10.1, 13.0, 5.6, 13.7, 8.6, 6.8, 4.5, 15.5, 13.8, 5.8, 6.4, 13.4, 16.1, 14.0, 22.7, 5.5, 20.2, 10.2, 30.1, 12.9, 11.8, 18.0, 11.4, 10.9, 10.0, 17.4, 32.7, null, 24.5, 16.9, 15.7, null, 15.3, 15.9, 11.5, 13.5, 6.5, 4.6, 19.3, 24.5, 12.0, 12.7, 17.3, 8.4, 6.6, 8.0, 31.5, 15.1, 12.7, 15.0, 17.3, 18.1, 13.5, 12.1, 12.4, 13.9, 11.0, null, 7.3, 16.0, 11.9, null, 22.0, 15.0, 41.9, 13.3, 14.0, 15.7, 5.0, 34.1, 14.9, 17.1, 21.6, 16.0, 23.7, 7.8, 21.5, 5.0, 31.2, 11.6, 11.1, 13.1, 15.5, 20.3, 16.3, 8.7, 15.3, 12.2, 15.4, 17.0, 18.9, 16.4, 23.3, 18.2, 25.9, 15.8, 19.4, 17.2, 15.2, 25.9, 18.3, 13.6, 17.4, null, 18.9, 15.9, 29.9, 17.4, 19.6, 8.5, 14.4, 13.6, 13.6, 14.7, 38.4, 25.6, 16.6, 9.3, 67.8, 16.2, 14.7, 15.0, 4.1, 52.5, 40.5, 70.4, 16.6, 27.6, 22.2, 18.8, 12.0, 59.1, 24.6, 16.9, 38.9, 10.8, 15.7, 11.6, 14.4, 14.6, 20.5, 19.0, 9.2, 15.9, 28.3, 4.6, 6.9, 8.9, 7.8, 11.6, 8.4, 11.8, 9.0, 11.7, 6.9, 16.4, 4.4, 5.9, 10.3, 3.6, 14.7, 6.5, 10.7, 9.0, 19.5, 10.2, 13.1, 4.8, 17.6, 20.1, 11.8, 13.8, 10.8, 13.7, 17.4, 5.7, 18.7, 11.5, 6.5, 17.6, 27.3, 14.1, 23.7, 19.2, 13.9, 15.5, 5.7, 18.0, 7.3, 6.8, 15.5, 10.5, null, 15.3, 10.1, 8.3, 12.4, 5.6, 10.1, 8.6, 12.9, 11.4, 13.4, 20.2, 5.8, 7.9, 6.5, 23.8, 4.8, 13.0, 19.3, 14.0, 41.9, 15.4, 25.6, 3.6, 13.7, 9.0, 24.5, 32.7, 4.5, 17.0, 10.0, 16.1, 17.1, 11.5, 17.3, 4.5, 15.7, 8.7, 12.7, 16.1, 18.2, 31.5, 13.8, 6.6, 15.1, 14.4, 6.4, 10.0, 8.4, 15.7, 12.7, 18.1, 17.4, 21.6, 15.5, 16.0, 12.1, 19.4, 20.3, 34.1, 15.9, 7.3, 52.5, 22.7, 17.3, 22.5, 16.9, 10.9, 16.0, 13.1, 40.5, 18.0, 7.8, 5.0, 10.7, null, 13.6, 13.9, 13.6, 18.7, 29.9, 14.0, 13.5, 15.0, 14.9, 23.7, 14.7, 25.6, 12.0, 4.1, 10.2, 8.5, 20.5, 15.0, 11.6, 8.0, 22.0, 15.0, 14.7, 15.2, 11.8, 16.4, 17.2, 12.6, 10.2, 39.3, 15.8, 11.9, 5.5, 18.8, 18.9, 16.6, 13.0, 24.5, 16.3, null, 4.6, 21.4, 14.8, 24.4, 9.2, 27.6, 16.2, 14.8, 42.0, 5.7, 22.1, 18.9, 25.9, 15.3, 21.5, 5.0, 14.6, 15.9, 9.3, 13.6, 18.8, 17.4, 26.3, 18.3, 14.6, 38.9, 31.2, 20.7, 11.1, 7.9, 7.1, 59.1, 17.4, 24.6, null, 18.9, 13.4, 12.0, 12.3, null, 13.1, 18.2, 7.9, 13.5, 15.1, 19.4, 8.4, 11.2, 11.9, 19.0, 30.1, 12.2, 15.7, 19.8, 19.9, 16.4, 16.9, null, 20.3, 16.3, 17.8, 24.2, 20.7, 38.4, 26.1, 29.8, 11.6, 19.0, 8.3, 14.4, 10.8, 12.2, 15.8, 20.0, 16.6, 28.3, 18.5, 4.6, 9.9, 22.9, 16.5, null, 24.3, 72.5, 14.1, 18.3, 25.8, 11.6, 19.5, 67.8, 17.6, 25.9, 29.1, 6.7, 13.3, 19.6, 13.9, 17.9, 46.3, 23.0, 22.4, 37.4, 18.8, 26.8, null, 23.8, 12.7, 22.8, 18.6, 12.6, 25.4, 21.1, 18.6, 10.7, 19.2, 13.0, 8.2, 11.0, 16.0, 7.7, 22.2, 18.4, 35.8, 15.3, 16.6, 53.6, 3.3, 12.2, 30.3, 26.9, 28.3, 25.9, null, null, 46.1, 21.9, 26.9, 43.2, 39.4, 15.9, 24.2, 23.3, 16.0, 23.3, 25.0, 25.4, 13.0, 17.0, 14.9, 11.5, 15.7, 11.9, 19.0, 11.3, 7.7, 17.4, 25.9, 22.2, 32.3, 12.8, 18.7, 20.3, 22.3, 17.8, 16.5, 17.3, 30.2, 19.4, 43.7, 18.7, 25.9, 27.8, 18.1, 25.3, null, 18.0, 18.8, 21.5, 15.9, 16.6, 9.5, 23.8, 15.4, 17.0, 14.1, 52.0, 17.1, 18.3, 15.9, null, 17.6, 17.1, 17.1, 30.4, 22.6, 20.4, 22.0, 10.8, 17.8, 8.2, 15.1, 8.4, 17.4, 29.0, 62.7, 19.8, 15.9, 7.5, 16.8, null, 9.8, 20.9, 26.8, 28.0, 26.2, 17.9, null, 11.7, 19.6, 13.6, 15.3, 5.2, 17.1, 36.5, 14.4, 65.1, 19.0, 21.5, 14.4, 23.4, 58.4, 26.2, 20.2, 13.0, 14.6, null, 11.8, 16.9, 14.4, 20.6, 6.9, 7.8, 11.6, 8.9, 9.0, 8.4, 11.8, 11.7, 16.4, 6.9, 4.4, 14.7, 10.3, 5.9, 6.5, 3.6, 10.7, 10.2, 13.8, 9.0, 19.5, 13.1, 4.8, 11.8, 20.1, 17.4, 5.7, 23.7, 15.5, 17.6, 10.8, 14.1, 18.7, 13.7, 27.3, 17.6, 19.2, 6.5, null, 10.5, 6.8, 11.5, 7.3, 13.9, 5.7, 8.3, 18.0, 15.5, 15.3, 10.1, 10.1, 13.7, 13.4, 8.6, 5.6, 12.9, 11.4, 41.9, 13.9, 7.9, 12.4, 20.2, 4.8, 17.1, 23.8, 32.7, 15.4, 10.0, 18.1, 25.6, 17.0, 18.9, 13.0, 14.0, 9.0, 5.8, 19.4, 24.5, 4.5, 15.7, 8.7, 11.5, 14.4, 20.3, 25.9, 16.2, 10.0, 19.3, 25.6, 6.5, 16.1, 15.0, 34.1, 15.7, 13.8, 16.1, 8.4, 12.7, 52.5, 40.5, 17.3, 4.5, null, 6.4, 31.5, 18.2, 3.6, 12.7, 15.1, 18.0, 15.5, 17.4, 12.1, 16.0, 18.9, 13.6, 23.7, 10.2, 15.9, 15.0, 21.6, 22.7, 18.7, 10.2, 6.6, 16.6, 13.0, 39.3, 7.3, 4.1, 13.1, 13.5, 15.0, 13.6, 11.9, 16.9, 10.7, 5.0, 16.0, 14.6, 16.3, 17.3, 14.7, 31.2, 14.9, 14.0, 7.8, 29.9, 5.0, 17.4, 24.6, 22.5, 18.8, 27.6, 22.0, 21.4, 5.5, 24.4, 16.4, 14.6, 18.9, 10.9, 20.5, 42.0, 15.9, 14.8, 22.8, 12.0, 11.6, 8.0, 70.4, 13.6, 26.3, 8.5, 15.0, 15.8, 30.1, 14.7, 14.8, 12.1, 15.2, 7.1, 11.6, 18.2, 9.2, 11.8, 24.5, 12.0, null, 20.7, 4.6, 30.3, 17.4, 19.4, 5.7, 13.4, 21.5, 19.0, 9.3, 17.2, 12.3, 12.6, 13.1, 12.2, 32.6, 7.7, 22.2, 7.9, 15.1, 18.3, 22.1, 13.4, 20.3, 22.4, 12.2, 15.3, 53.9, 19.9, 16.4, 16.9, 59.1, 18.8, 7.9, 17.8, 38.9, null, 29.8, 11.6, 13.7, null, 17.5, 15.8, 14.6, 16.2, 5.6, 7.3, 13.5, 28.3, 53.6, 8.4, 11.1, 16.5, 15.7, 14.1, 20.3, 21.5, 18.6, 24.2, 20.7, 38.4, 26.1, 24.2, 14.4, 25.9, 14.9, 20.0, 13.3, 16.6, 13.9, 35.8, 15.3, 23.0, 9.9, 11.9, 13.0, 19.8, 25.9, 23.8, 24.3, 72.5, 46.1, 20.2, 25.8, 21.1, 52.0, 19.2, 19.5, 35.5, 67.8, 25.0, 19.0, 10.8, 16.0, 18.4, 16.8, 17.9, 46.3, 12.8, 4.6, 3.3, 37.4, 18.8, 22.9, null, 15.2, 21.9, 16.3, 12.7, 43.2, 66.0, 18.6, 13.0, 17.6, 13.0, 16.1, 8.3, 8.2, 11.0, 29.1, 8.4, 6.7, 7.7, 2.9, 32.8, 14.4, 19.6, 26.8, 13.6, 22.2, 12.7, 32.3, 18.7, 18.5, 16.6, 12.2, 22.3, 16.5, 26.9, 17.3, 46.9, 26.8, 28.3, null, 27.8, 18.1, 18.3, 40.6, 18.0, 19.1, 26.2, 9.5, 12.6, null, 17.0, 25.4, 17.1, 18.3, 10.7, 39.4, 15.9, 15.9, 23.3, 25.4, 30.4, 22.6, 17.0, 17.8, 18.7, 11.5, 15.7, 11.9, 23.7, 11.3, 62.7, 15.9, 16.8, 11.6, 9.8, 17.4, 28.0, 15.4, 13.6, null, 13.3, 17.8, 46.6, 30.2, 19.4, 43.7, 15.2, 24.9, 25.9, 18.8, 25.3, null, 18.8, 58.4, 15.9, 20.2, 16.6, 13.0, 23.8, 44.1, 26.9, 16.9, 15.4, 19.0, 14.1, null, 16.9, 6.9, 8.9, 11.6, 7.8, 9.0, 8.4, 11.8, 16.4, 6.9, 11.7, 4.4, 10.3, 5.9, 14.7, 3.6, 6.5, 4.8, 9.0, 10.2, 19.5, 10.7, 13.8, 5.7, 13.1, 11.8, 15.5, 17.4, 20.1, 18.7, 10.8, 17.6, null, 27.3, 23.7, 13.7, 11.5, 10.5, 11.4, 14.1, 6.8, 6.5, 5.7, 17.6, 13.9, 8.3, 18.0, 7.3, 19.2, 12.4, 8.6, 13.7, 10.1, 5.6, 13.9, 15.5, 10.0, 23.8, 15.3, 13.4, 10.1, 41.9, 18.1, 32.7, 25.6, 9.0, 7.9, 17.1, 24.5, 19.4, 12.9, 4.8, 20.2, 18.9, 17.3, 15.4, 16.2, 17.0, 5.8, 14.0, 15.7, 4.5, 10.0, 15.7, 14.4, 34.1, 39.3, 31.5, 6.4, 3.6, 13.8, 40.5, 19.3, 16.1, 52.5, 4.5, 8.7, 16.1, 18.9, 25.6, 15.1, null, 15.9, 17.3, 23.7, 12.7, 16.0, 20.3, 8.4, 10.2, 21.6, 18.2, 15.5, 10.2, 15.0, 14.0, 25.9, 14.6, 5.0, 16.0, 12.7, 17.4, 6.5, 11.5, 15.0, 7.3, 6.6, 12.1, 18.7, 27.6, 18.0, 13.0, 13.6, 13.1, 13.0, 17.4, 22.7, 14.9, 13.6, 18.2, 14.7, 16.6, 11.9, 16.9, 7.8, 16.3, 29.9, 13.5, 22.0, 18.8, 5.0, 4.1, 31.2, 16.4, 24.6, 12.1, 8.0, 22.5, 15.0, 21.4, 8.5, 24.5, 11.6, 13.4, 12.6, 18.3, 30.3, 18.9, 20.7, 13.6, 12.0, 20.5, 42.0, 5.5, 15.9, 14.7, 19.0, 26.1, 14.8, 10.9, 4.6, 15.0, 70.4, 17.4, 15.1, 5.7, 18.8, 26.3, 15.8, 22.8, 11.6, 10.7, 9.2, 5.6, 12.0, 14.8, 15.3, 13.7, 15.2, 25.0, 24.4, 17.2, 13.1, 7.1, 12.2, 9.3, 16.0, 15.8, 16.2, 22.2, 7.9, 13.4, 20.3, 19.4, 9.9, 11.2, 30.1, 11.1, 16.5, 16.4, 16.9, 7.9, 17.8, 43.2, 38.9, 21.5, 11.8, 12.3, null, null, 7.7, 23.9, 22.1, 12.7, 28.3, 53.6, 22.4, 8.4, 12.2, 15.7, 53.9, 23.8, 59.1, 72.5, 46.1, 20.3, 14.6, 18.6, 25.8, 66.0, 24.2, 20.7, 38.4, 52.0, 17.6, 14.4, 25.9, 2.9, 18.4, 13.3, 16.6, 13.5, 13.9, 17.9, 18.7, 4.6, 37.4, 43.4, 19.8, 25.9, 16.4, 21.9, 40.6, 16.3, 16.9, 17.1, 29.8, 11.6, 19.0, 8.3, 14.6, 20.0, 25.9, 22.2, 35.8, 3.3, 22.3, 8.2, 18.8, 22.9, 46.9, 19.9, null, 24.3, 15.2, 21.5, 12.7, 25.4, 21.1, 18.6, 39.4, 15.9, 24.2, 19.2, 13.0, 19.5, 35.5, 67.8, 16.1, 30.4, 10.8, 17.8, 8.2, 11.0, 15.1, 15.7, 23.7, 6.7, 11.3, 7.7, 32.8, 14.4, 19.6, 26.8, 16.8, 32.3, 12.8, 15.3, 18.5, 23.0, 11.9, 16.5, 13.0, 26.9, 17.3, 19.4, 43.7, 25.9, 27.8, 14.1, 18.3, 18.0, 58.4, 26.2, 9.5, 44.1, 12.6, null, 17.0, 14.1, 18.3, 10.7, 14.9, 15.9, 25.4, 13.0, 15.4, 17.0, 10.4, 17.3, 12.2, 17.5, 18.7, 29.1, 8.4, 13.4, 62.7, 19.8, 15.9, 9.8, 17.4, 28.0, null, 13.6, 46.3, 31.7, 16.6, 36.5, 13.3, 12.2, 65.1, 46.6, 30.2, 17.2, 26.8, 28.3, 15.2, 18.1, 18.8, 10.6, null, 18.8, 19.1, 12.8, 15.9, 16.6, 13.0, 23.8, 15.4, 19.0, null, 6.9, 8.9, 11.6, 7.8, 11.8, 9.0, 8.4, 16.4, 11.7, 4.4, 6.9, 10.3, 14.7, 5.9, 3.6, 6.5, 9.0, 4.8, 10.2, 19.5, 13.8, 10.7, 5.7, 13.1, 15.5, 11.8, 20.1, 17.4, 15.5, 18.7, 10.8, 17.6, 23.7, null, 10.5, 14.1, 27.3, 6.8, 13.7, 11.4, 6.5, 5.7, 17.6, 11.5, 19.2, 18.0, 7.3, 8.3, 13.7, 13.9, 23.8, 10.0, 15.3, 10.1, 41.9, 13.9, 8.6, 12.4, 5.6, 20.2, 16.2, 4.8, 16.5, 17.1, 32.7, 10.1, 25.6, 13.4, 9.0, 24.5, 19.4, 18.9, 17.0, 14.0, 17.3, 12.9, 14.4, 7.9, 15.4, 52.5, 39.3, 15.7, 15.7, 40.5, 22.2, 12.7, 13.8, 10.0, 16.1, 34.1, 13.0, 5.8, 4.5, 19.3, 16.0, 3.6, 16.1, 23.7, 31.5, 18.2, 18.9, 18.1, 8.7, 15.1, 16.6, 6.5, 14.0, 15.0, 22.7, 25.9, 12.7, 17.4, 20.3, 38.9, null, 6.4, 25.6, 15.9, 11.5, 15.0, 5.0, 4.5, 15.5, 21.6, 12.1, 17.4, 14.6, 18.7, 10.2, 10.2, 14.9, 22.5, 8.4, 13.5, 37.4, 13.1, 16.3, 18.0, 25.0, 13.0, 18.2, 21.4, 7.3, 16.0, 17.3, 14.7, 12.6, 20.3, 16.4, 13.6, 22.0, 6.6, 13.6, 18.8, 11.9, 27.6, 7.8, 13.6, 20.7, 4.1, 8.0, 16.9, 31.2, 30.1, 16.0, 24.6, 18.3, 5.0, 5.7, 30.3, 15.0, 42.0, 8.5, 21.5, 18.9, 11.6, 15.9, 12.1, 15.8, 14.8, 15.9, 29.9, 15.9, 20.5, 15.1, 18.8, 5.5, 10.9, 24.4, 26.3, 19.0, 7.1, 12.2, 17.4, 70.4, 7.7, 13.4, 14.7, 13.4, 13.7, 12.0, null, 13.1, 9.3, 10.7, 25.9, 15.8, 15.2, 19.4, 11.2, 12.2, 11.1, 15.3, 9.2, 16.9, 14.8, 7.9, 17.8, 14.6, 22.8, 25.8, 12.0, 26.1, 4.6, 11.8, 11.6, 12.3, 17.2, 17.6, 29.8, 14.4, 16.2, 5.6, 7.9, 15.0, 28.3, 18.5, null, 9.9, 24.5, 16.5, 16.4, 23.8, 59.1, 72.5, 44.1, 20.7, 38.4, 52.0, 39.4, 24.2, 34.0, 2.9, 13.3, 13.5, 26.8, 22.1, 17.9, 4.6, 53.6, 25.6, null, 25.9, 46.1, null, 21.9, 20.3, 40.6, 58.4, 21.5, 16.9, 18.6, 43.2, 66.0, 24.2, 11.6, 19.0, 8.2, 23.9, 18.4, 16.6, 13.9, 23.9, 25.9, 35.8, 12.8, 23.0, 22.4, 3.3, 22.3, 22.9, 15.7, 53.9, 46.9, 19.9, 14.9, 24.3, 16.4, 26.2, 16.3, 25.4, 21.1, 18.6, 13.0, 19.5, 25.4, 13.0, 8.3, 30.4, 10.8, 11.0, null, 15.1, 14.6, 20.0, 7.1, 16.8, 22.2, 12.7, 31.7, 32.3, 18.7, 15.3, 16.6, 8.4, 18.8, 16.5, 43.4, 13.0, 26.9, 46.6, 19.8, 43.7, 15.2, null, 27.8, 38.7, 15.2, 2.6, null, 18.3, 18.0, 12.7, 15.9, 45.4, 9.5, 12.6, 15.4, 14.1, 10.7, 15.9, 15.9, 19.2, null, 35.5, 67.8, 16.1, 17.1, 14.4, 17.0, 10.4, 8.2, 14.9, 18.7, 26.5, 23.7, 6.7, 11.3, 7.7, 32.8, 14.4, 19.6, 17.4, 15.6, 46.3, 36.5, 12.2, 11.9, 65.1, 17.3, 30.2, 17.2, 26.8, 19.4, 17.5, 25.9, 18.8, 14.1, 10.6, 19.1, 61.2, 19.0, 14.6, null, 17.0, 17.1, 16.9, 18.3, 32.2, 14.4, 14.9, 6.9, 11.6, 7.8, 11.8, 9.0, 8.9, 8.4, 11.7, 14.7, 6.9, 3.6, 4.4, 16.4, 10.7, 5.9, 10.3, 6.5, 10.2, 19.5, 4.8, 9.0, 13.1, null, 14.1, 13.8, 15.5, 11.4, 11.5, 15.5, 6.8, 10.5, 11.8, 23.7, 17.6, 41.9, 18.7, 24.5, 13.7, 6.5, 27.3, 20.1, 8.3, 5.7, 13.9, 17.6, 17.4, 13.7, 17.0, 52.5, 10.8, 10.1, 19.2, 31.5, 7.9, 16.2, 15.3, 20.2, 14.4, 23.8, 32.7, 5.7, 15.4, 7.3, 8.6, 19.4, 18.0, 17.1, 12.9, 14.0, 15.7, 18.9, 39.3, 40.5, 25.6, 12.4, 16.0, 15.1, 38.9, 5.8, 16.6, 18.2, 4.1, 25.9, 31.2, 13.9, 12.7, 3.6, 5.6, 18.9, 4.5, 11.5, 13.4, 18.8, 70.4, 8.5, 19.3, 15.5, 14.0, 25.6, 15.7, 17.3, 4.8, 9.0, 6.6, 6.5, 13.6, 16.1, 85.8, 13.8, 20.7, 27.6, 13.5, 16.5, 20.3, 8.7, 18.1, 10.1, 8.4, 34.1, 16.4, 22.5, 12.1, 18.7, 53.9, 17.3, 46.1, 13.0, 16.1, 10.0, 15.9, 14.9, 15.0, null, 6.4, 14.7, 18.8, 23.7, 21.6, 10.2, 24.6, 17.4, 13.0, 20.5, 15.0, 22.7, 13.1, 12.3, 10.2, 10.0, 30.1, 14.7, 12.0, 20.3, 16.3, 14.6, 43.4, 13.6, 37.4, 4.5, 18.0, 7.7, 5.7, 12.7, 18.3, 14.8, 5.5, 22.0, 13.4, 11.9, 5.0, 42.0, 15.8, 18.9, 12.2, 59.1, 16.0, 24.5, 10.7, 24.2, 16.4, 8.5, 11.1, 13.1, 16.9, 12.6, 15.3, 38.4, 15.0, 29.9, 30.3, 17.4, 11.2, 15.9, 21.4, 6.6, 15.2, 13.4, 43.2, 14.8, 17.9, 15.9, 17.2, 22.9, 19.0, 16.5, 11.6, 7.1, 42.7, 14.4, 46.6, 8.0, 31.8, 46.9, 12.2, 12.0, 9.3, null, 25.9, 9.2, 13.6, 11.6, 32.6, 12.1, 23.8, 16.2, 2.9, 15.1, 1.1, 20.3, 26.3, 26.9, 7.2, 22.2, 10.9, 2.1, 32.3, 7.9, 21.5, 10.9, 45.4, 4.6, 53.6, 44.1, 24.4, 22.8, 22.4, 5.0, 7.3, 21.5, 4.6, 20.7, 11.8, 18.6, 24.2, 45.5, 18.8, 35.5, 67.8, 19.4, 25.4, 18.2, 19.0, 15.9, 22.6, 19.9, 22.0, 25.9, 8.2, 17.4, 21.9, 53.9, 8.4, 14.6, 15.8, 25.9, 7.7, 13.3, 13.5, 26.8, 21.9, 13.6, 16.8, 7.8, 22.1, 35.8, 15.0, 15.6, 46.3, 5.8, 14.6, 28.3, 16.6, 15.9, 23.8, 17.0, 6.9, 8.4, 11.9, 52.0, 18.6, 25.4, 15.9, 19.2, 8.2, 13.0, 19.5, 25.6, 15.7, 13.0, 30.4, 19.8, 17.0, 24.0, 9.6, 41.2, 16.9, 12.2, 14.4, 62.7, 20.0, 0.6, 24.3, 72.5, 18.4, 7.9, 64.2, 16.6, 7.3, 17.4, 10.6, 16.4, 15.8, 20.2, 18.3, 40.6, 25.9, 12.8, 12.7, 23.0, 17.8, 88.9, 19.4, 43.8, 25.8, 66.0, 14.6, 17.1, 23.9, 11.6, 39.4, null, 23.3, 26.9, 22.9, 10.8, 17.3, 17.2, 10.8, 12.5, 28.3, 10.4, 11.0, 43.7, 14.9, 16.9, 15.2, 29.0, 15.9, 27.8, 14.1, 25.3, 15.2, 28.0, 2.6, null, 13.9, 8.5, 34.3, 19.6, 61.2, 15.9, 31.7, 26.2, 16.3, 17.1, 15.3, 15.9, 16.6, 17.1, 36.5, 13.0, 13.3, 26.9, 12.2, 26.1, 38.5, 22.3, 19.7, 21.1, 18.3, 10.7, 12.0, null, 17.8, 65.1, 16.0, 25.9, 25.0, 21.3, 17.6, 38.3, 51.0, 16.5, 18.9, 13.0, 15.4, 17.8, 16.1, 19.0, 17.5, 30.3, 17.1, 22.9, 15.5, 14.4, 34.0, 30.2, 25.9, 29.5, 20.4, 26.8, 17.8, 8.2, 6.8, 18.7, 21.5, 17.3, 17.5, 15.9, 36.3, 23.9, 29.1, 54.4, 15.7, 24.9, 17.4, 6.7, 11.3, 20.1, 14.9, 29.4, 23.0, 18.1, 32.8, 22.2, 32.3, 11.6, 14.4, 8.2, 5.4, 8.5, 17.9, 20.3, 7.1, 35.9, 18.5, 22.4, 29.1, 18.0, 11.7, 15.3, 18.8, 19.1, 18.1, 26.5, 12.8, 5.2, 58.4, 17.0, 16.3, 18.7, 23.6, 32.8, 18.5, 20.2, 9.5, 15.5, 3.3, 9.9, 12.6, 13.3, 15.8, 24.7, 9.0, 37.4, 15.4, 17.0, 32.2, 14.4, 12.3, 8.9, 25.6, 16.9, 21.2, 17.6, 23.5, 15.3, 4.0, 12.6, 7.1, 25.0, 20.8, 28.6, 29.8, 49.7, 29.6, 14.2, 12.0, 17.4, 12.0, 19.1, 14.0, 16.1, 12.8, 16.0, 30.8, 10.8, 19.4, 8.2, 17.7, 14.2, 12.2, 18.7, 26.5, 16.0, 16.1, 10.4, 15.1, 11.9, 19.0, 7.1, 13.4, 14.9, 23.9, 19.8, 17.5, 19.8, 7.5, 18.2, 17.3, 26.6, 16.8, 14.6, 22.2, 18.8, 15.5, 17.8, 20.5, 9.8, 19.6, 13.0, 26.9, 26.2, 18.8, 19.2, 21.4, 10.1, 13.1, 13.7, 11.4, 23.9, 15.4, 21.2, 22.2, 20.0, 19.7, 25.7, 22.8, 12.7, 13.9, 17.9, 15.3, 10.9, 17.5, 5.4, 12.9, 17.7, 28.6, 9.0, 10.5, 12.2, 14.4, 17.5, 13.5, 12.5, 12.5, 14.1, 18.4, 12.3, 11.8, 13.0, 15.6, 17.0, 11.3, 25.1, 23.3, 33.0, 10.5, 14.1, 6.6, 162.6, 20.2, 23.0, 22.2, 26.3, 57.5, 18.1, 17.8, null, 10.6, 28.3, 19.5, 20.5, 14.5, 19.5, 24.9, 22.1, 39.1, 32.5, 32.3, 7.1, 14.3, 17.5, 9.2, 12.6, 11.4, 11.0, 16.5, 12.3, 20.7, 19.4, 15.0, 16.0, 18.5, 14.5, 30.2, 17.2, 17.1, 9.7, 14.8, 15.2, 20.3, 22.9, 6.9, 18.9, 9.9, 9.8, 22.4, 28.0, 17.9, 13.5, 11.2, 14.8, 12.6, 16.9, 11.4, 20.9, 23.9, 13.7, 22.8, 23.3, 37.5, 12.4, 21.6, 24.6, 20.4, 18.1, 24.7, 17.1, 15.8, 24.1, 29.9, 41.1, 11.5, 13.6, 13.6, 16.4, 3.7, 24.6, 12.6, 16.9, 23.7, 20.9, 11.6, 8.4, 23.5, 7.6, 14.4, 12.1, 26.5, 14.5, 18.9, 17.6, 38.7, 20.5, 24.7, 7.0, 15.8, 7.2, 47.0, 18.4, 22.9, 20.3, 16.5, 20.9, 38.1, 6.7, 7.8, 8.5, 19.3, 14.1, 17.4, 19.8, 20.6, 20.0, 8.6, 7.5, 19.8, 23.4, 27.4, 40.9, 15.4, 13.6, 10.9, 10.1, 10.4, 16.1, 19.0, 10.1, 13.5, 11.7, 17.0, 23.6, 13.0, 14.6, 15.1, 15.5, 19.0, 24.9, 17.5, 13.5, 18.8, 9.6, 2.5, 14.5, 17.3, 15.3, 24.1, 24.3, 108.5, 9.0, 18.5, 29.2, 6.0, 9.0, 32.9, 13.8, 11.1, 8.2, 13.8, 27.0, 29.0, 20.9, 12.7, 8.9, 11.1, 25.7, 9.9, 8.2, 9.3, 11.8, 12.2, 14.8, 16.8, 10.1, 9.7, 19.0, 14.2, 14.5, 16.9, 21.5, 21.4, 19.0, 21.0, 16.4, 15.3, 28.7, 3.7, 12.1, 20.6]}],\n",
       "                        {\"barmode\": \"overlay\", \"legend\": {\"bgcolor\": \"#F5F6F9\", \"font\": {\"color\": \"#4D5663\"}}, \"paper_bgcolor\": \"#F5F6F9\", \"plot_bgcolor\": \"#F5F6F9\", \"template\": {\"data\": {\"bar\": [{\"error_x\": {\"color\": \"#2a3f5f\"}, \"error_y\": {\"color\": \"#2a3f5f\"}, \"marker\": {\"line\": {\"color\": \"#E5ECF6\", \"width\": 0.5}}, \"type\": \"bar\"}], \"barpolar\": [{\"marker\": {\"line\": {\"color\": \"#E5ECF6\", \"width\": 0.5}}, \"type\": \"barpolar\"}], \"carpet\": [{\"aaxis\": {\"endlinecolor\": \"#2a3f5f\", \"gridcolor\": \"white\", \"linecolor\": \"white\", \"minorgridcolor\": \"white\", \"startlinecolor\": \"#2a3f5f\"}, \"baxis\": {\"endlinecolor\": \"#2a3f5f\", \"gridcolor\": \"white\", \"linecolor\": \"white\", \"minorgridcolor\": \"white\", \"startlinecolor\": \"#2a3f5f\"}, \"type\": \"carpet\"}], \"choropleth\": [{\"colorbar\": {\"outlinewidth\": 0, \"ticks\": \"\"}, \"type\": \"choropleth\"}], \"contour\": [{\"colorbar\": {\"outlinewidth\": 0, \"ticks\": \"\"}, \"colorscale\": [[0.0, \"#0d0887\"], [0.1111111111111111, \"#46039f\"], [0.2222222222222222, \"#7201a8\"], [0.3333333333333333, \"#9c179e\"], [0.4444444444444444, \"#bd3786\"], [0.5555555555555556, \"#d8576b\"], [0.6666666666666666, \"#ed7953\"], [0.7777777777777778, \"#fb9f3a\"], [0.8888888888888888, \"#fdca26\"], [1.0, \"#f0f921\"]], \"type\": \"contour\"}], \"contourcarpet\": [{\"colorbar\": {\"outlinewidth\": 0, \"ticks\": \"\"}, \"type\": \"contourcarpet\"}], \"heatmap\": [{\"colorbar\": {\"outlinewidth\": 0, \"ticks\": \"\"}, \"colorscale\": [[0.0, \"#0d0887\"], [0.1111111111111111, \"#46039f\"], [0.2222222222222222, \"#7201a8\"], [0.3333333333333333, \"#9c179e\"], [0.4444444444444444, \"#bd3786\"], [0.5555555555555556, \"#d8576b\"], [0.6666666666666666, \"#ed7953\"], [0.7777777777777778, \"#fb9f3a\"], [0.8888888888888888, \"#fdca26\"], [1.0, \"#f0f921\"]], \"type\": \"heatmap\"}], \"heatmapgl\": [{\"colorbar\": {\"outlinewidth\": 0, \"ticks\": \"\"}, \"colorscale\": [[0.0, \"#0d0887\"], [0.1111111111111111, \"#46039f\"], [0.2222222222222222, \"#7201a8\"], [0.3333333333333333, \"#9c179e\"], [0.4444444444444444, \"#bd3786\"], [0.5555555555555556, \"#d8576b\"], [0.6666666666666666, \"#ed7953\"], [0.7777777777777778, \"#fb9f3a\"], [0.8888888888888888, \"#fdca26\"], [1.0, \"#f0f921\"]], \"type\": \"heatmapgl\"}], \"histogram\": [{\"marker\": {\"colorbar\": {\"outlinewidth\": 0, \"ticks\": \"\"}}, \"type\": \"histogram\"}], \"histogram2d\": [{\"colorbar\": {\"outlinewidth\": 0, \"ticks\": \"\"}, \"colorscale\": [[0.0, \"#0d0887\"], [0.1111111111111111, \"#46039f\"], [0.2222222222222222, \"#7201a8\"], [0.3333333333333333, \"#9c179e\"], [0.4444444444444444, \"#bd3786\"], [0.5555555555555556, \"#d8576b\"], [0.6666666666666666, \"#ed7953\"], [0.7777777777777778, \"#fb9f3a\"], [0.8888888888888888, \"#fdca26\"], [1.0, \"#f0f921\"]], \"type\": \"histogram2d\"}], \"histogram2dcontour\": [{\"colorbar\": {\"outlinewidth\": 0, \"ticks\": \"\"}, \"colorscale\": [[0.0, \"#0d0887\"], [0.1111111111111111, \"#46039f\"], [0.2222222222222222, \"#7201a8\"], [0.3333333333333333, \"#9c179e\"], [0.4444444444444444, \"#bd3786\"], [0.5555555555555556, \"#d8576b\"], [0.6666666666666666, \"#ed7953\"], [0.7777777777777778, \"#fb9f3a\"], [0.8888888888888888, \"#fdca26\"], [1.0, \"#f0f921\"]], \"type\": \"histogram2dcontour\"}], \"mesh3d\": [{\"colorbar\": {\"outlinewidth\": 0, \"ticks\": \"\"}, \"type\": \"mesh3d\"}], \"parcoords\": [{\"line\": {\"colorbar\": {\"outlinewidth\": 0, \"ticks\": \"\"}}, \"type\": \"parcoords\"}], \"pie\": [{\"automargin\": true, \"type\": \"pie\"}], \"scatter\": [{\"marker\": {\"colorbar\": {\"outlinewidth\": 0, \"ticks\": \"\"}}, \"type\": \"scatter\"}], \"scatter3d\": [{\"line\": {\"colorbar\": {\"outlinewidth\": 0, \"ticks\": \"\"}}, \"marker\": {\"colorbar\": {\"outlinewidth\": 0, \"ticks\": \"\"}}, \"type\": \"scatter3d\"}], \"scattercarpet\": [{\"marker\": {\"colorbar\": {\"outlinewidth\": 0, \"ticks\": \"\"}}, \"type\": \"scattercarpet\"}], \"scattergeo\": [{\"marker\": {\"colorbar\": {\"outlinewidth\": 0, \"ticks\": \"\"}}, \"type\": \"scattergeo\"}], \"scattergl\": [{\"marker\": {\"colorbar\": {\"outlinewidth\": 0, \"ticks\": \"\"}}, \"type\": \"scattergl\"}], \"scattermapbox\": [{\"marker\": {\"colorbar\": {\"outlinewidth\": 0, \"ticks\": \"\"}}, \"type\": \"scattermapbox\"}], \"scatterpolar\": [{\"marker\": {\"colorbar\": {\"outlinewidth\": 0, \"ticks\": \"\"}}, \"type\": \"scatterpolar\"}], \"scatterpolargl\": [{\"marker\": {\"colorbar\": {\"outlinewidth\": 0, \"ticks\": \"\"}}, \"type\": \"scatterpolargl\"}], \"scatterternary\": [{\"marker\": {\"colorbar\": {\"outlinewidth\": 0, \"ticks\": \"\"}}, \"type\": \"scatterternary\"}], \"surface\": [{\"colorbar\": {\"outlinewidth\": 0, \"ticks\": \"\"}, \"colorscale\": [[0.0, \"#0d0887\"], [0.1111111111111111, \"#46039f\"], [0.2222222222222222, \"#7201a8\"], [0.3333333333333333, \"#9c179e\"], [0.4444444444444444, \"#bd3786\"], [0.5555555555555556, \"#d8576b\"], [0.6666666666666666, \"#ed7953\"], [0.7777777777777778, \"#fb9f3a\"], [0.8888888888888888, \"#fdca26\"], [1.0, \"#f0f921\"]], \"type\": \"surface\"}], \"table\": [{\"cells\": {\"fill\": {\"color\": \"#EBF0F8\"}, \"line\": {\"color\": \"white\"}}, \"header\": {\"fill\": {\"color\": \"#C8D4E3\"}, \"line\": {\"color\": \"white\"}}, \"type\": \"table\"}]}, \"layout\": {\"annotationdefaults\": {\"arrowcolor\": \"#2a3f5f\", \"arrowhead\": 0, \"arrowwidth\": 1}, \"coloraxis\": {\"colorbar\": {\"outlinewidth\": 0, \"ticks\": \"\"}}, \"colorscale\": {\"diverging\": [[0, \"#8e0152\"], [0.1, \"#c51b7d\"], [0.2, \"#de77ae\"], [0.3, \"#f1b6da\"], [0.4, \"#fde0ef\"], [0.5, \"#f7f7f7\"], [0.6, \"#e6f5d0\"], [0.7, \"#b8e186\"], [0.8, \"#7fbc41\"], [0.9, \"#4d9221\"], [1, \"#276419\"]], \"sequential\": [[0.0, \"#0d0887\"], [0.1111111111111111, \"#46039f\"], [0.2222222222222222, \"#7201a8\"], [0.3333333333333333, \"#9c179e\"], [0.4444444444444444, \"#bd3786\"], [0.5555555555555556, \"#d8576b\"], [0.6666666666666666, \"#ed7953\"], [0.7777777777777778, \"#fb9f3a\"], [0.8888888888888888, \"#fdca26\"], [1.0, \"#f0f921\"]], \"sequentialminus\": [[0.0, \"#0d0887\"], [0.1111111111111111, \"#46039f\"], [0.2222222222222222, \"#7201a8\"], [0.3333333333333333, \"#9c179e\"], [0.4444444444444444, \"#bd3786\"], [0.5555555555555556, \"#d8576b\"], [0.6666666666666666, \"#ed7953\"], [0.7777777777777778, \"#fb9f3a\"], [0.8888888888888888, \"#fdca26\"], [1.0, \"#f0f921\"]]}, \"colorway\": [\"#636efa\", \"#EF553B\", \"#00cc96\", \"#ab63fa\", \"#FFA15A\", \"#19d3f3\", \"#FF6692\", \"#B6E880\", \"#FF97FF\", \"#FECB52\"], \"font\": {\"color\": \"#2a3f5f\"}, \"geo\": {\"bgcolor\": \"white\", \"lakecolor\": \"white\", \"landcolor\": \"#E5ECF6\", \"showlakes\": true, \"showland\": true, \"subunitcolor\": \"white\"}, \"hoverlabel\": {\"align\": \"left\"}, \"hovermode\": \"closest\", \"mapbox\": {\"style\": \"light\"}, \"paper_bgcolor\": \"white\", \"plot_bgcolor\": \"#E5ECF6\", \"polar\": {\"angularaxis\": {\"gridcolor\": \"white\", \"linecolor\": \"white\", \"ticks\": \"\"}, \"bgcolor\": \"#E5ECF6\", \"radialaxis\": {\"gridcolor\": \"white\", \"linecolor\": \"white\", \"ticks\": \"\"}}, \"scene\": {\"xaxis\": {\"backgroundcolor\": \"#E5ECF6\", \"gridcolor\": \"white\", \"gridwidth\": 2, \"linecolor\": \"white\", \"showbackground\": true, \"ticks\": \"\", \"zerolinecolor\": \"white\"}, \"yaxis\": {\"backgroundcolor\": \"#E5ECF6\", \"gridcolor\": \"white\", \"gridwidth\": 2, \"linecolor\": \"white\", \"showbackground\": true, \"ticks\": \"\", \"zerolinecolor\": \"white\"}, \"zaxis\": {\"backgroundcolor\": \"#E5ECF6\", \"gridcolor\": \"white\", \"gridwidth\": 2, \"linecolor\": \"white\", \"showbackground\": true, \"ticks\": \"\", \"zerolinecolor\": \"white\"}}, \"shapedefaults\": {\"line\": {\"color\": \"#2a3f5f\"}}, \"ternary\": {\"aaxis\": {\"gridcolor\": \"white\", \"linecolor\": \"white\", \"ticks\": \"\"}, \"baxis\": {\"gridcolor\": \"white\", \"linecolor\": \"white\", \"ticks\": \"\"}, \"bgcolor\": \"#E5ECF6\", \"caxis\": {\"gridcolor\": \"white\", \"linecolor\": \"white\", \"ticks\": \"\"}}, \"title\": {\"x\": 0.05}, \"xaxis\": {\"automargin\": true, \"gridcolor\": \"white\", \"linecolor\": \"white\", \"ticks\": \"\", \"title\": {\"standoff\": 15}, \"zerolinecolor\": \"white\", \"zerolinewidth\": 2}, \"yaxis\": {\"automargin\": true, \"gridcolor\": \"white\", \"linecolor\": \"white\", \"ticks\": \"\", \"title\": {\"standoff\": 15}, \"zerolinecolor\": \"white\", \"zerolinewidth\": 2}}}, \"title\": {\"font\": {\"color\": \"#4D5663\"}}, \"xaxis\": {\"gridcolor\": \"#E1E5ED\", \"showgrid\": true, \"tickfont\": {\"color\": \"#4D5663\"}, \"title\": {\"font\": {\"color\": \"#4D5663\"}, \"text\": \"\"}, \"zerolinecolor\": \"#E1E5ED\"}, \"yaxis\": {\"gridcolor\": \"#E1E5ED\", \"showgrid\": true, \"tickfont\": {\"color\": \"#4D5663\"}, \"title\": {\"font\": {\"color\": \"#4D5663\"}, \"text\": \"\"}, \"zerolinecolor\": \"#E1E5ED\"}},\n",
       "                        {\"showLink\": true, \"linkText\": \"Export to plot.ly\", \"plotlyServerURL\": \"https://plot.ly\", \"responsive\": true}\n",
       "                    ).then(function(){\n",
       "                            \n",
       "var gd = document.getElementById('cfb2c4b5-1808-44bb-9970-84f328339759');\n",
       "var x = new MutationObserver(function (mutations, observer) {{\n",
       "        var display = window.getComputedStyle(gd).display;\n",
       "        if (!display || display === 'none') {{\n",
       "            console.log([gd, 'removed!']);\n",
       "            Plotly.purge(gd);\n",
       "            observer.disconnect();\n",
       "        }}\n",
       "}});\n",
       "\n",
       "// Listen for the removal of the full notebook cells\n",
       "var notebookContainer = gd.closest('#notebook-container');\n",
       "if (notebookContainer) {{\n",
       "    x.observe(notebookContainer, {childList: true});\n",
       "}}\n",
       "\n",
       "// Listen for the clearing of the current output cell\n",
       "var outputEl = gd.closest('.output');\n",
       "if (outputEl) {{\n",
       "    x.observe(outputEl, {childList: true});\n",
       "}}\n",
       "\n",
       "                        })\n",
       "                };\n",
       "                });\n",
       "            </script>\n",
       "        </div>"
      ]
     },
     "metadata": {},
     "output_type": "display_data"
    }
   ],
   "source": [
    "df.student_staff_ratio.iplot(kind='hist')"
   ]
  },
  {
   "cell_type": "code",
   "execution_count": null,
   "metadata": {},
   "outputs": [],
   "source": []
  }
 ],
 "metadata": {
  "kernelspec": {
   "display_name": "Python 3",
   "language": "python",
   "name": "python3"
  },
  "language_info": {
   "codemirror_mode": {
    "name": "ipython",
    "version": 3
   },
   "file_extension": ".py",
   "mimetype": "text/x-python",
   "name": "python",
   "nbconvert_exporter": "python",
   "pygments_lexer": "ipython3",
   "version": "3.7.6"
  }
 },
 "nbformat": 4,
 "nbformat_minor": 4
}
