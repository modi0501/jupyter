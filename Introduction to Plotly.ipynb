{
 "cells": [
  {
   "cell_type": "markdown",
   "metadata": {},
   "source": [
    "# Introduction to Plotly- Line Charts"
   ]
  },
  {
   "cell_type": "code",
   "execution_count": 5,
   "metadata": {},
   "outputs": [],
   "source": [
    "#install plotly\n",
    "#conda install -c plotly plotly\n",
    "#pip install plotly==4.7.1"
   ]
  },
  {
   "cell_type": "code",
   "execution_count": 33,
   "metadata": {},
   "outputs": [],
   "source": [
    "#import pandas\n",
    "import pandas as pd"
   ]
  },
  {
   "cell_type": "code",
   "execution_count": 34,
   "metadata": {},
   "outputs": [],
   "source": [
    "#reading data from csv file\n",
    "df=pd.read_csv(\"timesData.csv\")"
   ]
  },
  {
   "cell_type": "code",
   "execution_count": 35,
   "metadata": {},
   "outputs": [
    {
     "data": {
      "text/html": [
       "<div>\n",
       "<style scoped>\n",
       "    .dataframe tbody tr th:only-of-type {\n",
       "        vertical-align: middle;\n",
       "    }\n",
       "\n",
       "    .dataframe tbody tr th {\n",
       "        vertical-align: top;\n",
       "    }\n",
       "\n",
       "    .dataframe thead th {\n",
       "        text-align: right;\n",
       "    }\n",
       "</style>\n",
       "<table border=\"1\" class=\"dataframe\">\n",
       "  <thead>\n",
       "    <tr style=\"text-align: right;\">\n",
       "      <th></th>\n",
       "      <th>world_rank</th>\n",
       "      <th>university_name</th>\n",
       "      <th>country</th>\n",
       "      <th>teaching</th>\n",
       "      <th>international</th>\n",
       "      <th>research</th>\n",
       "      <th>citations</th>\n",
       "      <th>income</th>\n",
       "      <th>total_score</th>\n",
       "      <th>num_students</th>\n",
       "      <th>student_staff_ratio</th>\n",
       "      <th>international_students</th>\n",
       "      <th>female_male_ratio</th>\n",
       "      <th>year</th>\n",
       "    </tr>\n",
       "  </thead>\n",
       "  <tbody>\n",
       "    <tr>\n",
       "      <th>0</th>\n",
       "      <td>1</td>\n",
       "      <td>Harvard University</td>\n",
       "      <td>United States of America</td>\n",
       "      <td>99.7</td>\n",
       "      <td>72.4</td>\n",
       "      <td>98.7</td>\n",
       "      <td>98.8</td>\n",
       "      <td>34.5</td>\n",
       "      <td>96.1</td>\n",
       "      <td>20,152</td>\n",
       "      <td>8.9</td>\n",
       "      <td>25%</td>\n",
       "      <td>NaN</td>\n",
       "      <td>2011</td>\n",
       "    </tr>\n",
       "    <tr>\n",
       "      <th>1</th>\n",
       "      <td>2</td>\n",
       "      <td>California Institute of Technology</td>\n",
       "      <td>United States of America</td>\n",
       "      <td>97.7</td>\n",
       "      <td>54.6</td>\n",
       "      <td>98.0</td>\n",
       "      <td>99.9</td>\n",
       "      <td>83.7</td>\n",
       "      <td>96</td>\n",
       "      <td>2,243</td>\n",
       "      <td>6.9</td>\n",
       "      <td>27%</td>\n",
       "      <td>33 : 67</td>\n",
       "      <td>2011</td>\n",
       "    </tr>\n",
       "    <tr>\n",
       "      <th>2</th>\n",
       "      <td>3</td>\n",
       "      <td>Massachusetts Institute of Technology</td>\n",
       "      <td>United States of America</td>\n",
       "      <td>97.8</td>\n",
       "      <td>82.3</td>\n",
       "      <td>91.4</td>\n",
       "      <td>99.9</td>\n",
       "      <td>87.5</td>\n",
       "      <td>95.6</td>\n",
       "      <td>11,074</td>\n",
       "      <td>9.0</td>\n",
       "      <td>33%</td>\n",
       "      <td>37 : 63</td>\n",
       "      <td>2011</td>\n",
       "    </tr>\n",
       "    <tr>\n",
       "      <th>3</th>\n",
       "      <td>4</td>\n",
       "      <td>Stanford University</td>\n",
       "      <td>United States of America</td>\n",
       "      <td>98.3</td>\n",
       "      <td>29.5</td>\n",
       "      <td>98.1</td>\n",
       "      <td>99.2</td>\n",
       "      <td>64.3</td>\n",
       "      <td>94.3</td>\n",
       "      <td>15,596</td>\n",
       "      <td>7.8</td>\n",
       "      <td>22%</td>\n",
       "      <td>42:58:00</td>\n",
       "      <td>2011</td>\n",
       "    </tr>\n",
       "    <tr>\n",
       "      <th>4</th>\n",
       "      <td>5</td>\n",
       "      <td>Princeton University</td>\n",
       "      <td>United States of America</td>\n",
       "      <td>90.9</td>\n",
       "      <td>70.3</td>\n",
       "      <td>95.4</td>\n",
       "      <td>99.9</td>\n",
       "      <td>-</td>\n",
       "      <td>94.2</td>\n",
       "      <td>7,929</td>\n",
       "      <td>8.4</td>\n",
       "      <td>27%</td>\n",
       "      <td>45:55:00</td>\n",
       "      <td>2011</td>\n",
       "    </tr>\n",
       "    <tr>\n",
       "      <th>5</th>\n",
       "      <td>6</td>\n",
       "      <td>University of Cambridge</td>\n",
       "      <td>United Kingdom</td>\n",
       "      <td>90.5</td>\n",
       "      <td>77.7</td>\n",
       "      <td>94.1</td>\n",
       "      <td>94.0</td>\n",
       "      <td>57</td>\n",
       "      <td>91.2</td>\n",
       "      <td>18,812</td>\n",
       "      <td>11.8</td>\n",
       "      <td>34%</td>\n",
       "      <td>46:54:00</td>\n",
       "      <td>2011</td>\n",
       "    </tr>\n",
       "    <tr>\n",
       "      <th>6</th>\n",
       "      <td>6</td>\n",
       "      <td>University of Oxford</td>\n",
       "      <td>United Kingdom</td>\n",
       "      <td>88.2</td>\n",
       "      <td>77.2</td>\n",
       "      <td>93.9</td>\n",
       "      <td>95.1</td>\n",
       "      <td>73.5</td>\n",
       "      <td>91.2</td>\n",
       "      <td>19,919</td>\n",
       "      <td>11.6</td>\n",
       "      <td>34%</td>\n",
       "      <td>46:54:00</td>\n",
       "      <td>2011</td>\n",
       "    </tr>\n",
       "    <tr>\n",
       "      <th>7</th>\n",
       "      <td>8</td>\n",
       "      <td>University of California, Berkeley</td>\n",
       "      <td>United States of America</td>\n",
       "      <td>84.2</td>\n",
       "      <td>39.6</td>\n",
       "      <td>99.3</td>\n",
       "      <td>97.8</td>\n",
       "      <td>-</td>\n",
       "      <td>91.1</td>\n",
       "      <td>36,186</td>\n",
       "      <td>16.4</td>\n",
       "      <td>15%</td>\n",
       "      <td>50:50:00</td>\n",
       "      <td>2011</td>\n",
       "    </tr>\n",
       "    <tr>\n",
       "      <th>8</th>\n",
       "      <td>9</td>\n",
       "      <td>Imperial College London</td>\n",
       "      <td>United Kingdom</td>\n",
       "      <td>89.2</td>\n",
       "      <td>90</td>\n",
       "      <td>94.5</td>\n",
       "      <td>88.3</td>\n",
       "      <td>92.9</td>\n",
       "      <td>90.6</td>\n",
       "      <td>15,060</td>\n",
       "      <td>11.7</td>\n",
       "      <td>51%</td>\n",
       "      <td>37 : 63</td>\n",
       "      <td>2011</td>\n",
       "    </tr>\n",
       "    <tr>\n",
       "      <th>9</th>\n",
       "      <td>10</td>\n",
       "      <td>Yale University</td>\n",
       "      <td>United States of America</td>\n",
       "      <td>92.1</td>\n",
       "      <td>59.2</td>\n",
       "      <td>89.7</td>\n",
       "      <td>91.5</td>\n",
       "      <td>-</td>\n",
       "      <td>89.5</td>\n",
       "      <td>11,751</td>\n",
       "      <td>4.4</td>\n",
       "      <td>20%</td>\n",
       "      <td>50:50:00</td>\n",
       "      <td>2011</td>\n",
       "    </tr>\n",
       "  </tbody>\n",
       "</table>\n",
       "</div>"
      ],
      "text/plain": [
       "  world_rank                        university_name                   country  \\\n",
       "0          1                     Harvard University  United States of America   \n",
       "1          2     California Institute of Technology  United States of America   \n",
       "2          3  Massachusetts Institute of Technology  United States of America   \n",
       "3          4                    Stanford University  United States of America   \n",
       "4          5                   Princeton University  United States of America   \n",
       "5          6                University of Cambridge            United Kingdom   \n",
       "6          6                   University of Oxford            United Kingdom   \n",
       "7          8     University of California, Berkeley  United States of America   \n",
       "8          9                Imperial College London            United Kingdom   \n",
       "9         10                        Yale University  United States of America   \n",
       "\n",
       "   teaching international  research  citations income total_score  \\\n",
       "0      99.7          72.4      98.7       98.8   34.5        96.1   \n",
       "1      97.7          54.6      98.0       99.9   83.7          96   \n",
       "2      97.8          82.3      91.4       99.9   87.5        95.6   \n",
       "3      98.3          29.5      98.1       99.2   64.3        94.3   \n",
       "4      90.9          70.3      95.4       99.9      -        94.2   \n",
       "5      90.5          77.7      94.1       94.0     57        91.2   \n",
       "6      88.2          77.2      93.9       95.1   73.5        91.2   \n",
       "7      84.2          39.6      99.3       97.8      -        91.1   \n",
       "8      89.2            90      94.5       88.3   92.9        90.6   \n",
       "9      92.1          59.2      89.7       91.5      -        89.5   \n",
       "\n",
       "  num_students  student_staff_ratio international_students female_male_ratio  \\\n",
       "0       20,152                  8.9                    25%               NaN   \n",
       "1        2,243                  6.9                    27%           33 : 67   \n",
       "2       11,074                  9.0                    33%           37 : 63   \n",
       "3       15,596                  7.8                    22%          42:58:00   \n",
       "4        7,929                  8.4                    27%          45:55:00   \n",
       "5       18,812                 11.8                    34%          46:54:00   \n",
       "6       19,919                 11.6                    34%          46:54:00   \n",
       "7       36,186                 16.4                    15%          50:50:00   \n",
       "8       15,060                 11.7                    51%           37 : 63   \n",
       "9       11,751                  4.4                    20%          50:50:00   \n",
       "\n",
       "   year  \n",
       "0  2011  \n",
       "1  2011  \n",
       "2  2011  \n",
       "3  2011  \n",
       "4  2011  \n",
       "5  2011  \n",
       "6  2011  \n",
       "7  2011  \n",
       "8  2011  \n",
       "9  2011  "
      ]
     },
     "execution_count": 35,
     "metadata": {},
     "output_type": "execute_result"
    }
   ],
   "source": [
    "#Exploring Data\n",
    "df.head(10)"
   ]
  },
  {
   "cell_type": "code",
   "execution_count": 36,
   "metadata": {},
   "outputs": [
    {
     "name": "stdout",
     "output_type": "stream",
     "text": [
      "<class 'pandas.core.frame.DataFrame'>\n",
      "RangeIndex: 2603 entries, 0 to 2602\n",
      "Data columns (total 14 columns):\n",
      " #   Column                  Non-Null Count  Dtype  \n",
      "---  ------                  --------------  -----  \n",
      " 0   world_rank              2603 non-null   object \n",
      " 1   university_name         2603 non-null   object \n",
      " 2   country                 2603 non-null   object \n",
      " 3   teaching                2603 non-null   float64\n",
      " 4   international           2595 non-null   object \n",
      " 5   research                2603 non-null   float64\n",
      " 6   citations               2603 non-null   float64\n",
      " 7   income                  2603 non-null   object \n",
      " 8   total_score             2603 non-null   object \n",
      " 9   num_students            2544 non-null   object \n",
      " 10  student_staff_ratio     2544 non-null   float64\n",
      " 11  international_students  2536 non-null   object \n",
      " 12  female_male_ratio       2370 non-null   object \n",
      " 13  year                    2603 non-null   int64  \n",
      "dtypes: float64(4), int64(1), object(9)\n",
      "memory usage: 284.8+ KB\n"
     ]
    }
   ],
   "source": [
    "#Checking datatypes\n",
    "df.info()"
   ]
  },
  {
   "cell_type": "code",
   "execution_count": 37,
   "metadata": {},
   "outputs": [],
   "source": [
    "#Preparing dataframe for plots\n",
    "d=df.iloc[:100,:]"
   ]
  },
  {
   "cell_type": "code",
   "execution_count": 38,
   "metadata": {},
   "outputs": [
    {
     "data": {
      "text/html": [
       "<div>\n",
       "<style scoped>\n",
       "    .dataframe tbody tr th:only-of-type {\n",
       "        vertical-align: middle;\n",
       "    }\n",
       "\n",
       "    .dataframe tbody tr th {\n",
       "        vertical-align: top;\n",
       "    }\n",
       "\n",
       "    .dataframe thead th {\n",
       "        text-align: right;\n",
       "    }\n",
       "</style>\n",
       "<table border=\"1\" class=\"dataframe\">\n",
       "  <thead>\n",
       "    <tr style=\"text-align: right;\">\n",
       "      <th></th>\n",
       "      <th>world_rank</th>\n",
       "      <th>university_name</th>\n",
       "      <th>country</th>\n",
       "      <th>teaching</th>\n",
       "      <th>international</th>\n",
       "      <th>research</th>\n",
       "      <th>citations</th>\n",
       "      <th>income</th>\n",
       "      <th>total_score</th>\n",
       "      <th>num_students</th>\n",
       "      <th>student_staff_ratio</th>\n",
       "      <th>international_students</th>\n",
       "      <th>female_male_ratio</th>\n",
       "      <th>year</th>\n",
       "    </tr>\n",
       "  </thead>\n",
       "  <tbody>\n",
       "    <tr>\n",
       "      <th>0</th>\n",
       "      <td>1</td>\n",
       "      <td>Harvard University</td>\n",
       "      <td>United States of America</td>\n",
       "      <td>99.7</td>\n",
       "      <td>72.4</td>\n",
       "      <td>98.7</td>\n",
       "      <td>98.8</td>\n",
       "      <td>34.5</td>\n",
       "      <td>96.1</td>\n",
       "      <td>20,152</td>\n",
       "      <td>8.9</td>\n",
       "      <td>25%</td>\n",
       "      <td>NaN</td>\n",
       "      <td>2011</td>\n",
       "    </tr>\n",
       "    <tr>\n",
       "      <th>1</th>\n",
       "      <td>2</td>\n",
       "      <td>California Institute of Technology</td>\n",
       "      <td>United States of America</td>\n",
       "      <td>97.7</td>\n",
       "      <td>54.6</td>\n",
       "      <td>98.0</td>\n",
       "      <td>99.9</td>\n",
       "      <td>83.7</td>\n",
       "      <td>96</td>\n",
       "      <td>2,243</td>\n",
       "      <td>6.9</td>\n",
       "      <td>27%</td>\n",
       "      <td>33 : 67</td>\n",
       "      <td>2011</td>\n",
       "    </tr>\n",
       "    <tr>\n",
       "      <th>2</th>\n",
       "      <td>3</td>\n",
       "      <td>Massachusetts Institute of Technology</td>\n",
       "      <td>United States of America</td>\n",
       "      <td>97.8</td>\n",
       "      <td>82.3</td>\n",
       "      <td>91.4</td>\n",
       "      <td>99.9</td>\n",
       "      <td>87.5</td>\n",
       "      <td>95.6</td>\n",
       "      <td>11,074</td>\n",
       "      <td>9.0</td>\n",
       "      <td>33%</td>\n",
       "      <td>37 : 63</td>\n",
       "      <td>2011</td>\n",
       "    </tr>\n",
       "    <tr>\n",
       "      <th>3</th>\n",
       "      <td>4</td>\n",
       "      <td>Stanford University</td>\n",
       "      <td>United States of America</td>\n",
       "      <td>98.3</td>\n",
       "      <td>29.5</td>\n",
       "      <td>98.1</td>\n",
       "      <td>99.2</td>\n",
       "      <td>64.3</td>\n",
       "      <td>94.3</td>\n",
       "      <td>15,596</td>\n",
       "      <td>7.8</td>\n",
       "      <td>22%</td>\n",
       "      <td>42:58:00</td>\n",
       "      <td>2011</td>\n",
       "    </tr>\n",
       "    <tr>\n",
       "      <th>4</th>\n",
       "      <td>5</td>\n",
       "      <td>Princeton University</td>\n",
       "      <td>United States of America</td>\n",
       "      <td>90.9</td>\n",
       "      <td>70.3</td>\n",
       "      <td>95.4</td>\n",
       "      <td>99.9</td>\n",
       "      <td>-</td>\n",
       "      <td>94.2</td>\n",
       "      <td>7,929</td>\n",
       "      <td>8.4</td>\n",
       "      <td>27%</td>\n",
       "      <td>45:55:00</td>\n",
       "      <td>2011</td>\n",
       "    </tr>\n",
       "    <tr>\n",
       "      <th>...</th>\n",
       "      <td>...</td>\n",
       "      <td>...</td>\n",
       "      <td>...</td>\n",
       "      <td>...</td>\n",
       "      <td>...</td>\n",
       "      <td>...</td>\n",
       "      <td>...</td>\n",
       "      <td>...</td>\n",
       "      <td>...</td>\n",
       "      <td>...</td>\n",
       "      <td>...</td>\n",
       "      <td>...</td>\n",
       "      <td>...</td>\n",
       "      <td>...</td>\n",
       "    </tr>\n",
       "    <tr>\n",
       "      <th>95</th>\n",
       "      <td>95</td>\n",
       "      <td>University of Arizona</td>\n",
       "      <td>United States of America</td>\n",
       "      <td>52.4</td>\n",
       "      <td>21.9</td>\n",
       "      <td>52.2</td>\n",
       "      <td>70.1</td>\n",
       "      <td>84.2</td>\n",
       "      <td>57.3</td>\n",
       "      <td>36,429</td>\n",
       "      <td>12.7</td>\n",
       "      <td>8%</td>\n",
       "      <td>52:48:00</td>\n",
       "      <td>2011</td>\n",
       "    </tr>\n",
       "    <tr>\n",
       "      <th>96</th>\n",
       "      <td>95</td>\n",
       "      <td>University of Basel</td>\n",
       "      <td>Switzerland</td>\n",
       "      <td>50.2</td>\n",
       "      <td>91.3</td>\n",
       "      <td>37.1</td>\n",
       "      <td>78.3</td>\n",
       "      <td>45.8</td>\n",
       "      <td>57.3</td>\n",
       "      <td>12,551</td>\n",
       "      <td>17.3</td>\n",
       "      <td>24%</td>\n",
       "      <td>54:46:00</td>\n",
       "      <td>2011</td>\n",
       "    </tr>\n",
       "    <tr>\n",
       "      <th>97</th>\n",
       "      <td>98</td>\n",
       "      <td>University of Maryland, College Park</td>\n",
       "      <td>United States of America</td>\n",
       "      <td>45.4</td>\n",
       "      <td>35.4</td>\n",
       "      <td>48.6</td>\n",
       "      <td>79.2</td>\n",
       "      <td>-</td>\n",
       "      <td>57.2</td>\n",
       "      <td>31,331</td>\n",
       "      <td>8.4</td>\n",
       "      <td>9%</td>\n",
       "      <td>48:52:00</td>\n",
       "      <td>2011</td>\n",
       "    </tr>\n",
       "    <tr>\n",
       "      <th>98</th>\n",
       "      <td>99</td>\n",
       "      <td>Dartmouth College</td>\n",
       "      <td>United States of America</td>\n",
       "      <td>44.7</td>\n",
       "      <td>31</td>\n",
       "      <td>49.2</td>\n",
       "      <td>79.7</td>\n",
       "      <td>-</td>\n",
       "      <td>57.1</td>\n",
       "      <td>6,178</td>\n",
       "      <td>6.6</td>\n",
       "      <td>16%</td>\n",
       "      <td>47:53:00</td>\n",
       "      <td>2011</td>\n",
       "    </tr>\n",
       "    <tr>\n",
       "      <th>99</th>\n",
       "      <td>100</td>\n",
       "      <td>École Normale Supérieure de Lyon</td>\n",
       "      <td>France</td>\n",
       "      <td>51.1</td>\n",
       "      <td>37.6</td>\n",
       "      <td>34.4</td>\n",
       "      <td>88.8</td>\n",
       "      <td>26.1</td>\n",
       "      <td>57</td>\n",
       "      <td>2,218</td>\n",
       "      <td>8.0</td>\n",
       "      <td>14%</td>\n",
       "      <td>49:51:00</td>\n",
       "      <td>2011</td>\n",
       "    </tr>\n",
       "  </tbody>\n",
       "</table>\n",
       "<p>100 rows × 14 columns</p>\n",
       "</div>"
      ],
      "text/plain": [
       "   world_rank                        university_name  \\\n",
       "0           1                     Harvard University   \n",
       "1           2     California Institute of Technology   \n",
       "2           3  Massachusetts Institute of Technology   \n",
       "3           4                    Stanford University   \n",
       "4           5                   Princeton University   \n",
       "..        ...                                    ...   \n",
       "95         95                  University of Arizona   \n",
       "96         95                    University of Basel   \n",
       "97         98   University of Maryland, College Park   \n",
       "98         99                      Dartmouth College   \n",
       "99        100       École Normale Supérieure de Lyon   \n",
       "\n",
       "                     country  teaching international  research  citations  \\\n",
       "0   United States of America      99.7          72.4      98.7       98.8   \n",
       "1   United States of America      97.7          54.6      98.0       99.9   \n",
       "2   United States of America      97.8          82.3      91.4       99.9   \n",
       "3   United States of America      98.3          29.5      98.1       99.2   \n",
       "4   United States of America      90.9          70.3      95.4       99.9   \n",
       "..                       ...       ...           ...       ...        ...   \n",
       "95  United States of America      52.4          21.9      52.2       70.1   \n",
       "96               Switzerland      50.2          91.3      37.1       78.3   \n",
       "97  United States of America      45.4          35.4      48.6       79.2   \n",
       "98  United States of America      44.7            31      49.2       79.7   \n",
       "99                    France      51.1          37.6      34.4       88.8   \n",
       "\n",
       "   income total_score num_students  student_staff_ratio  \\\n",
       "0    34.5        96.1       20,152                  8.9   \n",
       "1    83.7          96        2,243                  6.9   \n",
       "2    87.5        95.6       11,074                  9.0   \n",
       "3    64.3        94.3       15,596                  7.8   \n",
       "4       -        94.2        7,929                  8.4   \n",
       "..    ...         ...          ...                  ...   \n",
       "95   84.2        57.3       36,429                 12.7   \n",
       "96   45.8        57.3       12,551                 17.3   \n",
       "97      -        57.2       31,331                  8.4   \n",
       "98      -        57.1        6,178                  6.6   \n",
       "99   26.1          57        2,218                  8.0   \n",
       "\n",
       "   international_students female_male_ratio  year  \n",
       "0                     25%               NaN  2011  \n",
       "1                     27%           33 : 67  2011  \n",
       "2                     33%           37 : 63  2011  \n",
       "3                     22%          42:58:00  2011  \n",
       "4                     27%          45:55:00  2011  \n",
       "..                    ...               ...   ...  \n",
       "95                     8%          52:48:00  2011  \n",
       "96                    24%          54:46:00  2011  \n",
       "97                     9%          48:52:00  2011  \n",
       "98                    16%          47:53:00  2011  \n",
       "99                    14%          49:51:00  2011  \n",
       "\n",
       "[100 rows x 14 columns]"
      ]
     },
     "execution_count": 38,
     "metadata": {},
     "output_type": "execute_result"
    }
   ],
   "source": [
    "d"
   ]
  },
  {
   "cell_type": "code",
   "execution_count": 39,
   "metadata": {},
   "outputs": [],
   "source": [
    "import plotly.graph_objs as go\n",
    "from plotly.offline import *"
   ]
  },
  {
   "cell_type": "code",
   "execution_count": 40,
   "metadata": {},
   "outputs": [
    {
     "data": {
      "application/vnd.plotly.v1+json": {
       "config": {
        "linkText": "Export to plot.ly",
        "plotlyServerURL": "https://plot.ly",
        "showLink": false
       },
       "data": [
        {
         "marker": {
          "color": "rgba(16,112,0,0.8)"
         },
         "mode": "lines+markers",
         "name": "Citations",
         "text": [
          "Harvard University",
          "California Institute of Technology",
          "Massachusetts Institute of Technology",
          "Stanford University",
          "Princeton University",
          "University of Cambridge",
          "University of Oxford",
          "University of California, Berkeley",
          "Imperial College London",
          "Yale University",
          "University of California, Los Angeles",
          "University of Chicago",
          "Johns Hopkins University",
          "Cornell University",
          "ETH Zurich – Swiss Federal Institute of Technology Zurich",
          "University of Michigan",
          "University of Toronto",
          "Columbia University",
          "University of Pennsylvania",
          "Carnegie Mellon University",
          "University of Hong Kong",
          "University College London",
          "University of Washington",
          "Duke University",
          "Northwestern University",
          "University of Tokyo",
          "Georgia Institute of Technology",
          "Pohang University of Science and Technology",
          "University of California, Santa Barbara",
          "University of British Columbia",
          "University of North Carolina at Chapel Hill",
          "University of California, San Diego",
          "University of Illinois at Urbana-Champaign",
          "National University of Singapore",
          "McGill University",
          "University of Melbourne",
          "Peking University",
          "Washington University in St Louis",
          "École Polytechnique",
          "University of Edinburgh",
          "Hong Kong University of Science and Technology",
          "École Normale Supérieure",
          "Australian National University",
          "Karolinska Institute",
          "University of Göttingen",
          "University of Wisconsin",
          "Rice University",
          "École Polytechnique Fédérale de Lausanne",
          "University of California, Irvine",
          "University of Science and Technology of China",
          "Vanderbilt University",
          "University of Minnesota",
          "Tufts University",
          "University of California, Davis",
          "Brown University",
          "University of Massachusetts",
          "Kyoto University",
          "Tsinghua University",
          "Boston University",
          "New York University",
          "Emory University",
          "LMU Munich",
          "University of Notre Dame",
          "University of Pittsburgh",
          "Case Western Reserve University",
          "Ohio State University",
          "University of Colorado Boulder",
          "University of Bristol",
          "University of California, Santa Cruz",
          "Yeshiva University",
          "University of Sydney",
          "University of Virginia",
          "University of Adelaide",
          "University of Southern California",
          "William & Mary",
          "Trinity College Dublin",
          "King’s College London",
          "Stony Brook University",
          "Korea Advanced Institute of Science and Technology (KAIST)",
          "University of Sussex",
          "The University of Queensland",
          "University of York",
          "Heidelberg University",
          "University of Utah",
          "Durham University",
          "London School of Economics and Political Science",
          "University of Manchester",
          "Royal Holloway, University of London",
          "Lund University",
          "University of Southampton",
          "University of Zurich",
          "Wake Forest University",
          "McMaster University",
          "University College Dublin",
          "George Washington University",
          "University of Arizona",
          "University of Basel",
          "University of Maryland, College Park",
          "Dartmouth College",
          "École Normale Supérieure de Lyon"
         ],
         "type": "scatter",
         "x": [
          "1",
          "2",
          "3",
          "4",
          "5",
          "6",
          "6",
          "8",
          "9",
          "10",
          "11",
          "12",
          "13",
          "14",
          "15",
          "15",
          "17",
          "18",
          "19",
          "20",
          "21",
          "22",
          "23",
          "24",
          "25",
          "26",
          "27",
          "28",
          "29",
          "30",
          "30",
          "32",
          "33",
          "34",
          "35",
          "36",
          "37",
          "38",
          "39",
          "40",
          "41",
          "42",
          "43",
          "43",
          "43",
          "43",
          "47",
          "48",
          "49",
          "49",
          "51",
          "52",
          "53",
          "54",
          "55",
          "56",
          "57",
          "58",
          "59",
          "60",
          "61",
          "61",
          "63",
          "64",
          "65",
          "66",
          "67",
          "68",
          "68",
          "68",
          "71",
          "72",
          "73",
          "73",
          "75",
          "76",
          "77",
          "78",
          "79",
          "79",
          "81",
          "81",
          "83",
          "83",
          "85",
          "86",
          "87",
          "88",
          "89",
          "90",
          "90",
          "90",
          "93",
          "94",
          "95",
          "95",
          "95",
          "98",
          "99",
          "100"
         ],
         "y": [
          98.8,
          99.9,
          99.9,
          99.2,
          99.9,
          94,
          95.1,
          97.8,
          88.3,
          91.5,
          93.2,
          96.9,
          92.3,
          88.1,
          83.1,
          84.1,
          82.2,
          92.6,
          93.6,
          95.7,
          96.1,
          80.6,
          95.9,
          92.3,
          95.3,
          58.1,
          83.2,
          96.5,
          98.8,
          80.3,
          85,
          90.8,
          72.9,
          78.7,
          69,
          83.3,
          72.2,
          88.6,
          91.4,
          86.8,
          98.2,
          95.7,
          81,
          62.3,
          92.5,
          83.4,
          99.1,
          83.8,
          91.6,
          92.7,
          78.1,
          76.4,
          83.9,
          68.8,
          77.7,
          67.9,
          46.3,
          52.7,
          91.4,
          82.9,
          77.8,
          76.4,
          89.1,
          78.3,
          66,
          67.2,
          83.4,
          80.9,
          99.6,
          74.4,
          64.3,
          68.6,
          90.5,
          71.9,
          95.6,
          84.4,
          72.1,
          85.8,
          45.5,
          91.6,
          69,
          81.9,
          70.3,
          72,
          91,
          51.6,
          59.2,
          93.2,
          67.6,
          72.9,
          65,
          79.2,
          68.5,
          86.3,
          70.2,
          70.1,
          78.3,
          79.2,
          79.7,
          88.8
         ]
        },
        {
         "marker": {
          "color": "rgba(80,26,80,0.8)"
         },
         "mode": "markers",
         "name": "teaching",
         "text": [
          "Harvard University",
          "California Institute of Technology",
          "Massachusetts Institute of Technology",
          "Stanford University",
          "Princeton University",
          "University of Cambridge",
          "University of Oxford",
          "University of California, Berkeley",
          "Imperial College London",
          "Yale University",
          "University of California, Los Angeles",
          "University of Chicago",
          "Johns Hopkins University",
          "Cornell University",
          "ETH Zurich – Swiss Federal Institute of Technology Zurich",
          "University of Michigan",
          "University of Toronto",
          "Columbia University",
          "University of Pennsylvania",
          "Carnegie Mellon University",
          "University of Hong Kong",
          "University College London",
          "University of Washington",
          "Duke University",
          "Northwestern University",
          "University of Tokyo",
          "Georgia Institute of Technology",
          "Pohang University of Science and Technology",
          "University of California, Santa Barbara",
          "University of British Columbia",
          "University of North Carolina at Chapel Hill",
          "University of California, San Diego",
          "University of Illinois at Urbana-Champaign",
          "National University of Singapore",
          "McGill University",
          "University of Melbourne",
          "Peking University",
          "Washington University in St Louis",
          "École Polytechnique",
          "University of Edinburgh",
          "Hong Kong University of Science and Technology",
          "École Normale Supérieure",
          "Australian National University",
          "Karolinska Institute",
          "University of Göttingen",
          "University of Wisconsin",
          "Rice University",
          "École Polytechnique Fédérale de Lausanne",
          "University of California, Irvine",
          "University of Science and Technology of China",
          "Vanderbilt University",
          "University of Minnesota",
          "Tufts University",
          "University of California, Davis",
          "Brown University",
          "University of Massachusetts",
          "Kyoto University",
          "Tsinghua University",
          "Boston University",
          "New York University",
          "Emory University",
          "LMU Munich",
          "University of Notre Dame",
          "University of Pittsburgh",
          "Case Western Reserve University",
          "Ohio State University",
          "University of Colorado Boulder",
          "University of Bristol",
          "University of California, Santa Cruz",
          "Yeshiva University",
          "University of Sydney",
          "University of Virginia",
          "University of Adelaide",
          "University of Southern California",
          "William & Mary",
          "Trinity College Dublin",
          "King’s College London",
          "Stony Brook University",
          "Korea Advanced Institute of Science and Technology (KAIST)",
          "University of Sussex",
          "The University of Queensland",
          "University of York",
          "Heidelberg University",
          "University of Utah",
          "Durham University",
          "London School of Economics and Political Science",
          "University of Manchester",
          "Royal Holloway, University of London",
          "Lund University",
          "University of Southampton",
          "University of Zurich",
          "Wake Forest University",
          "McMaster University",
          "University College Dublin",
          "George Washington University",
          "University of Arizona",
          "University of Basel",
          "University of Maryland, College Park",
          "Dartmouth College",
          "École Normale Supérieure de Lyon"
         ],
         "type": "scatter",
         "x": [
          "1",
          "2",
          "3",
          "4",
          "5",
          "6",
          "6",
          "8",
          "9",
          "10",
          "11",
          "12",
          "13",
          "14",
          "15",
          "15",
          "17",
          "18",
          "19",
          "20",
          "21",
          "22",
          "23",
          "24",
          "25",
          "26",
          "27",
          "28",
          "29",
          "30",
          "30",
          "32",
          "33",
          "34",
          "35",
          "36",
          "37",
          "38",
          "39",
          "40",
          "41",
          "42",
          "43",
          "43",
          "43",
          "43",
          "47",
          "48",
          "49",
          "49",
          "51",
          "52",
          "53",
          "54",
          "55",
          "56",
          "57",
          "58",
          "59",
          "60",
          "61",
          "61",
          "63",
          "64",
          "65",
          "66",
          "67",
          "68",
          "68",
          "68",
          "71",
          "72",
          "73",
          "73",
          "75",
          "76",
          "77",
          "78",
          "79",
          "79",
          "81",
          "81",
          "83",
          "83",
          "85",
          "86",
          "87",
          "88",
          "89",
          "90",
          "90",
          "90",
          "93",
          "94",
          "95",
          "95",
          "95",
          "98",
          "99",
          "100"
         ],
         "y": [
          99.7,
          97.7,
          97.8,
          98.3,
          90.9,
          90.5,
          88.2,
          84.2,
          89.2,
          92.1,
          83,
          79.1,
          80.9,
          82.2,
          77.5,
          83.9,
          75.8,
          73.8,
          71.8,
          70.3,
          68.4,
          74,
          68.2,
          66.8,
          64.5,
          87.7,
          67.9,
          69.5,
          56.6,
          65.1,
          70.9,
          59.8,
          68.1,
          65.5,
          69,
          58.7,
          76.4,
          58.9,
          57.9,
          59.9,
          50.4,
          66.8,
          51.9,
          65.8,
          57.3,
          55.5,
          57.4,
          55,
          49.4,
          57.5,
          64.9,
          57.6,
          64.1,
          57.3,
          59.7,
          61.3,
          78.9,
          74.9,
          53.6,
          62,
          63.4,
          59.1,
          56.4,
          58.5,
          67.2,
          63.5,
          46.4,
          49.6,
          38.3,
          63.5,
          49.8,
          62,
          46.5,
          65.4,
          53.1,
          47.7,
          48.5,
          48.5,
          71.3,
          42.4,
          51.8,
          47.9,
          59.2,
          55.8,
          39.8,
          62.4,
          56.5,
          37.7,
          46.3,
          50.8,
          56.6,
          54.6,
          44.7,
          42.4,
          60.6,
          52.4,
          50.2,
          45.4,
          44.7,
          51.1
         ]
        }
       ],
       "layout": {
        "template": {
         "data": {
          "bar": [
           {
            "error_x": {
             "color": "#2a3f5f"
            },
            "error_y": {
             "color": "#2a3f5f"
            },
            "marker": {
             "line": {
              "color": "#E5ECF6",
              "width": 0.5
             }
            },
            "type": "bar"
           }
          ],
          "barpolar": [
           {
            "marker": {
             "line": {
              "color": "#E5ECF6",
              "width": 0.5
             }
            },
            "type": "barpolar"
           }
          ],
          "carpet": [
           {
            "aaxis": {
             "endlinecolor": "#2a3f5f",
             "gridcolor": "white",
             "linecolor": "white",
             "minorgridcolor": "white",
             "startlinecolor": "#2a3f5f"
            },
            "baxis": {
             "endlinecolor": "#2a3f5f",
             "gridcolor": "white",
             "linecolor": "white",
             "minorgridcolor": "white",
             "startlinecolor": "#2a3f5f"
            },
            "type": "carpet"
           }
          ],
          "choropleth": [
           {
            "colorbar": {
             "outlinewidth": 0,
             "ticks": ""
            },
            "type": "choropleth"
           }
          ],
          "contour": [
           {
            "colorbar": {
             "outlinewidth": 0,
             "ticks": ""
            },
            "colorscale": [
             [
              0,
              "#0d0887"
             ],
             [
              0.1111111111111111,
              "#46039f"
             ],
             [
              0.2222222222222222,
              "#7201a8"
             ],
             [
              0.3333333333333333,
              "#9c179e"
             ],
             [
              0.4444444444444444,
              "#bd3786"
             ],
             [
              0.5555555555555556,
              "#d8576b"
             ],
             [
              0.6666666666666666,
              "#ed7953"
             ],
             [
              0.7777777777777778,
              "#fb9f3a"
             ],
             [
              0.8888888888888888,
              "#fdca26"
             ],
             [
              1,
              "#f0f921"
             ]
            ],
            "type": "contour"
           }
          ],
          "contourcarpet": [
           {
            "colorbar": {
             "outlinewidth": 0,
             "ticks": ""
            },
            "type": "contourcarpet"
           }
          ],
          "heatmap": [
           {
            "colorbar": {
             "outlinewidth": 0,
             "ticks": ""
            },
            "colorscale": [
             [
              0,
              "#0d0887"
             ],
             [
              0.1111111111111111,
              "#46039f"
             ],
             [
              0.2222222222222222,
              "#7201a8"
             ],
             [
              0.3333333333333333,
              "#9c179e"
             ],
             [
              0.4444444444444444,
              "#bd3786"
             ],
             [
              0.5555555555555556,
              "#d8576b"
             ],
             [
              0.6666666666666666,
              "#ed7953"
             ],
             [
              0.7777777777777778,
              "#fb9f3a"
             ],
             [
              0.8888888888888888,
              "#fdca26"
             ],
             [
              1,
              "#f0f921"
             ]
            ],
            "type": "heatmap"
           }
          ],
          "heatmapgl": [
           {
            "colorbar": {
             "outlinewidth": 0,
             "ticks": ""
            },
            "colorscale": [
             [
              0,
              "#0d0887"
             ],
             [
              0.1111111111111111,
              "#46039f"
             ],
             [
              0.2222222222222222,
              "#7201a8"
             ],
             [
              0.3333333333333333,
              "#9c179e"
             ],
             [
              0.4444444444444444,
              "#bd3786"
             ],
             [
              0.5555555555555556,
              "#d8576b"
             ],
             [
              0.6666666666666666,
              "#ed7953"
             ],
             [
              0.7777777777777778,
              "#fb9f3a"
             ],
             [
              0.8888888888888888,
              "#fdca26"
             ],
             [
              1,
              "#f0f921"
             ]
            ],
            "type": "heatmapgl"
           }
          ],
          "histogram": [
           {
            "marker": {
             "colorbar": {
              "outlinewidth": 0,
              "ticks": ""
             }
            },
            "type": "histogram"
           }
          ],
          "histogram2d": [
           {
            "colorbar": {
             "outlinewidth": 0,
             "ticks": ""
            },
            "colorscale": [
             [
              0,
              "#0d0887"
             ],
             [
              0.1111111111111111,
              "#46039f"
             ],
             [
              0.2222222222222222,
              "#7201a8"
             ],
             [
              0.3333333333333333,
              "#9c179e"
             ],
             [
              0.4444444444444444,
              "#bd3786"
             ],
             [
              0.5555555555555556,
              "#d8576b"
             ],
             [
              0.6666666666666666,
              "#ed7953"
             ],
             [
              0.7777777777777778,
              "#fb9f3a"
             ],
             [
              0.8888888888888888,
              "#fdca26"
             ],
             [
              1,
              "#f0f921"
             ]
            ],
            "type": "histogram2d"
           }
          ],
          "histogram2dcontour": [
           {
            "colorbar": {
             "outlinewidth": 0,
             "ticks": ""
            },
            "colorscale": [
             [
              0,
              "#0d0887"
             ],
             [
              0.1111111111111111,
              "#46039f"
             ],
             [
              0.2222222222222222,
              "#7201a8"
             ],
             [
              0.3333333333333333,
              "#9c179e"
             ],
             [
              0.4444444444444444,
              "#bd3786"
             ],
             [
              0.5555555555555556,
              "#d8576b"
             ],
             [
              0.6666666666666666,
              "#ed7953"
             ],
             [
              0.7777777777777778,
              "#fb9f3a"
             ],
             [
              0.8888888888888888,
              "#fdca26"
             ],
             [
              1,
              "#f0f921"
             ]
            ],
            "type": "histogram2dcontour"
           }
          ],
          "mesh3d": [
           {
            "colorbar": {
             "outlinewidth": 0,
             "ticks": ""
            },
            "type": "mesh3d"
           }
          ],
          "parcoords": [
           {
            "line": {
             "colorbar": {
              "outlinewidth": 0,
              "ticks": ""
             }
            },
            "type": "parcoords"
           }
          ],
          "pie": [
           {
            "automargin": true,
            "type": "pie"
           }
          ],
          "scatter": [
           {
            "marker": {
             "colorbar": {
              "outlinewidth": 0,
              "ticks": ""
             }
            },
            "type": "scatter"
           }
          ],
          "scatter3d": [
           {
            "line": {
             "colorbar": {
              "outlinewidth": 0,
              "ticks": ""
             }
            },
            "marker": {
             "colorbar": {
              "outlinewidth": 0,
              "ticks": ""
             }
            },
            "type": "scatter3d"
           }
          ],
          "scattercarpet": [
           {
            "marker": {
             "colorbar": {
              "outlinewidth": 0,
              "ticks": ""
             }
            },
            "type": "scattercarpet"
           }
          ],
          "scattergeo": [
           {
            "marker": {
             "colorbar": {
              "outlinewidth": 0,
              "ticks": ""
             }
            },
            "type": "scattergeo"
           }
          ],
          "scattergl": [
           {
            "marker": {
             "colorbar": {
              "outlinewidth": 0,
              "ticks": ""
             }
            },
            "type": "scattergl"
           }
          ],
          "scattermapbox": [
           {
            "marker": {
             "colorbar": {
              "outlinewidth": 0,
              "ticks": ""
             }
            },
            "type": "scattermapbox"
           }
          ],
          "scatterpolar": [
           {
            "marker": {
             "colorbar": {
              "outlinewidth": 0,
              "ticks": ""
             }
            },
            "type": "scatterpolar"
           }
          ],
          "scatterpolargl": [
           {
            "marker": {
             "colorbar": {
              "outlinewidth": 0,
              "ticks": ""
             }
            },
            "type": "scatterpolargl"
           }
          ],
          "scatterternary": [
           {
            "marker": {
             "colorbar": {
              "outlinewidth": 0,
              "ticks": ""
             }
            },
            "type": "scatterternary"
           }
          ],
          "surface": [
           {
            "colorbar": {
             "outlinewidth": 0,
             "ticks": ""
            },
            "colorscale": [
             [
              0,
              "#0d0887"
             ],
             [
              0.1111111111111111,
              "#46039f"
             ],
             [
              0.2222222222222222,
              "#7201a8"
             ],
             [
              0.3333333333333333,
              "#9c179e"
             ],
             [
              0.4444444444444444,
              "#bd3786"
             ],
             [
              0.5555555555555556,
              "#d8576b"
             ],
             [
              0.6666666666666666,
              "#ed7953"
             ],
             [
              0.7777777777777778,
              "#fb9f3a"
             ],
             [
              0.8888888888888888,
              "#fdca26"
             ],
             [
              1,
              "#f0f921"
             ]
            ],
            "type": "surface"
           }
          ],
          "table": [
           {
            "cells": {
             "fill": {
              "color": "#EBF0F8"
             },
             "line": {
              "color": "white"
             }
            },
            "header": {
             "fill": {
              "color": "#C8D4E3"
             },
             "line": {
              "color": "white"
             }
            },
            "type": "table"
           }
          ]
         },
         "layout": {
          "annotationdefaults": {
           "arrowcolor": "#2a3f5f",
           "arrowhead": 0,
           "arrowwidth": 1
          },
          "coloraxis": {
           "colorbar": {
            "outlinewidth": 0,
            "ticks": ""
           }
          },
          "colorscale": {
           "diverging": [
            [
             0,
             "#8e0152"
            ],
            [
             0.1,
             "#c51b7d"
            ],
            [
             0.2,
             "#de77ae"
            ],
            [
             0.3,
             "#f1b6da"
            ],
            [
             0.4,
             "#fde0ef"
            ],
            [
             0.5,
             "#f7f7f7"
            ],
            [
             0.6,
             "#e6f5d0"
            ],
            [
             0.7,
             "#b8e186"
            ],
            [
             0.8,
             "#7fbc41"
            ],
            [
             0.9,
             "#4d9221"
            ],
            [
             1,
             "#276419"
            ]
           ],
           "sequential": [
            [
             0,
             "#0d0887"
            ],
            [
             0.1111111111111111,
             "#46039f"
            ],
            [
             0.2222222222222222,
             "#7201a8"
            ],
            [
             0.3333333333333333,
             "#9c179e"
            ],
            [
             0.4444444444444444,
             "#bd3786"
            ],
            [
             0.5555555555555556,
             "#d8576b"
            ],
            [
             0.6666666666666666,
             "#ed7953"
            ],
            [
             0.7777777777777778,
             "#fb9f3a"
            ],
            [
             0.8888888888888888,
             "#fdca26"
            ],
            [
             1,
             "#f0f921"
            ]
           ],
           "sequentialminus": [
            [
             0,
             "#0d0887"
            ],
            [
             0.1111111111111111,
             "#46039f"
            ],
            [
             0.2222222222222222,
             "#7201a8"
            ],
            [
             0.3333333333333333,
             "#9c179e"
            ],
            [
             0.4444444444444444,
             "#bd3786"
            ],
            [
             0.5555555555555556,
             "#d8576b"
            ],
            [
             0.6666666666666666,
             "#ed7953"
            ],
            [
             0.7777777777777778,
             "#fb9f3a"
            ],
            [
             0.8888888888888888,
             "#fdca26"
            ],
            [
             1,
             "#f0f921"
            ]
           ]
          },
          "colorway": [
           "#636efa",
           "#EF553B",
           "#00cc96",
           "#ab63fa",
           "#FFA15A",
           "#19d3f3",
           "#FF6692",
           "#B6E880",
           "#FF97FF",
           "#FECB52"
          ],
          "font": {
           "color": "#2a3f5f"
          },
          "geo": {
           "bgcolor": "white",
           "lakecolor": "white",
           "landcolor": "#E5ECF6",
           "showlakes": true,
           "showland": true,
           "subunitcolor": "white"
          },
          "hoverlabel": {
           "align": "left"
          },
          "hovermode": "closest",
          "mapbox": {
           "style": "light"
          },
          "paper_bgcolor": "white",
          "plot_bgcolor": "#E5ECF6",
          "polar": {
           "angularaxis": {
            "gridcolor": "white",
            "linecolor": "white",
            "ticks": ""
           },
           "bgcolor": "#E5ECF6",
           "radialaxis": {
            "gridcolor": "white",
            "linecolor": "white",
            "ticks": ""
           }
          },
          "scene": {
           "xaxis": {
            "backgroundcolor": "#E5ECF6",
            "gridcolor": "white",
            "gridwidth": 2,
            "linecolor": "white",
            "showbackground": true,
            "ticks": "",
            "zerolinecolor": "white"
           },
           "yaxis": {
            "backgroundcolor": "#E5ECF6",
            "gridcolor": "white",
            "gridwidth": 2,
            "linecolor": "white",
            "showbackground": true,
            "ticks": "",
            "zerolinecolor": "white"
           },
           "zaxis": {
            "backgroundcolor": "#E5ECF6",
            "gridcolor": "white",
            "gridwidth": 2,
            "linecolor": "white",
            "showbackground": true,
            "ticks": "",
            "zerolinecolor": "white"
           }
          },
          "shapedefaults": {
           "line": {
            "color": "#2a3f5f"
           }
          },
          "ternary": {
           "aaxis": {
            "gridcolor": "white",
            "linecolor": "white",
            "ticks": ""
           },
           "baxis": {
            "gridcolor": "white",
            "linecolor": "white",
            "ticks": ""
           },
           "bgcolor": "#E5ECF6",
           "caxis": {
            "gridcolor": "white",
            "linecolor": "white",
            "ticks": ""
           }
          },
          "title": {
           "x": 0.05
          },
          "xaxis": {
           "automargin": true,
           "gridcolor": "white",
           "linecolor": "white",
           "ticks": "",
           "title": {
            "standoff": 15
           },
           "zerolinecolor": "white",
           "zerolinewidth": 2
          },
          "yaxis": {
           "automargin": true,
           "gridcolor": "white",
           "linecolor": "white",
           "ticks": "",
           "title": {
            "standoff": 15
           },
           "zerolinecolor": "white",
           "zerolinewidth": 2
          }
         }
        },
        "title": {
         "text": "Citations vs Teaching vs World rankings"
        },
        "xaxis": {
         "title": {
          "text": "World Ranks"
         }
        }
       }
      },
      "text/html": [
       "<div>\n",
       "        \n",
       "        \n",
       "            <div id=\"7a3e0bf5-68a6-4a5a-9755-e0a35e3dab90\" class=\"plotly-graph-div\" style=\"height:525px; width:100%;\"></div>\n",
       "            <script type=\"text/javascript\">\n",
       "                require([\"plotly\"], function(Plotly) {\n",
       "                    window.PLOTLYENV=window.PLOTLYENV || {};\n",
       "                    \n",
       "                if (document.getElementById(\"7a3e0bf5-68a6-4a5a-9755-e0a35e3dab90\")) {\n",
       "                    Plotly.newPlot(\n",
       "                        '7a3e0bf5-68a6-4a5a-9755-e0a35e3dab90',\n",
       "                        [{\"marker\": {\"color\": \"rgba(16,112,0,0.8)\"}, \"mode\": \"lines+markers\", \"name\": \"Citations\", \"text\": [\"Harvard University\", \"California Institute of Technology\", \"Massachusetts Institute of Technology\", \"Stanford University\", \"Princeton University\", \"University of Cambridge\", \"University of Oxford\", \"University of California, Berkeley\", \"Imperial College London\", \"Yale University\", \"University of California, Los Angeles\", \"University of Chicago\", \"Johns Hopkins University\", \"Cornell University\", \"ETH Zurich \\u2013 Swiss Federal Institute of Technology Zurich\", \"University of Michigan\", \"University of Toronto\", \"Columbia University\", \"University of Pennsylvania\", \"Carnegie Mellon University\", \"University of Hong Kong\", \"University College London\", \"University of Washington\", \"Duke University\", \"Northwestern University\", \"University of Tokyo\", \"Georgia Institute of Technology\", \"Pohang University of Science and Technology\", \"University of California, Santa Barbara\", \"University of British Columbia\", \"University of North Carolina at Chapel Hill\", \"University of California, San Diego\", \"University of Illinois at Urbana-Champaign\", \"National University of Singapore\", \"McGill University\", \"University of Melbourne\", \"Peking University\", \"Washington University in St Louis\", \"\\u00c9cole Polytechnique\", \"University of Edinburgh\", \"Hong Kong University of Science and Technology\", \"\\u00c9cole Normale Sup\\u00e9rieure\", \"Australian National University\", \"Karolinska Institute\", \"University of G\\u00f6ttingen\", \"University of Wisconsin\", \"Rice University\", \"\\u00c9cole Polytechnique F\\u00e9d\\u00e9rale de Lausanne\", \"University of California, Irvine\", \"University of Science and Technology of China\", \"Vanderbilt University\", \"University of Minnesota\", \"Tufts University\", \"University of California, Davis\", \"Brown University\", \"University of Massachusetts\", \"Kyoto University\", \"Tsinghua University\", \"Boston University\", \"New York University\", \"Emory University\", \"LMU Munich\", \"University of Notre Dame\", \"University of Pittsburgh\", \"Case Western Reserve University\", \"Ohio State University\", \"University of Colorado Boulder\", \"University of Bristol\", \"University of California, Santa Cruz\", \"Yeshiva University\", \"University of Sydney\", \"University of Virginia\", \"University of Adelaide\", \"University of Southern California\", \"William & Mary\", \"Trinity College Dublin\", \"King\\u2019s College London\", \"Stony Brook University\", \"Korea Advanced Institute of Science and Technology (KAIST)\", \"University of Sussex\", \"The University of Queensland\", \"University of York\", \"Heidelberg University\", \"University of Utah\", \"Durham University\", \"London School of Economics and Political Science\", \"University of Manchester\", \"Royal Holloway, University of London\", \"Lund University\", \"University of Southampton\", \"University of Zurich\", \"Wake Forest University\", \"McMaster University\", \"University College Dublin\", \"George Washington University\", \"University of Arizona\", \"University of Basel\", \"University of Maryland, College Park\", \"Dartmouth College\", \"\\u00c9cole Normale Sup\\u00e9rieure de Lyon\"], \"type\": \"scatter\", \"x\": [\"1\", \"2\", \"3\", \"4\", \"5\", \"6\", \"6\", \"8\", \"9\", \"10\", \"11\", \"12\", \"13\", \"14\", \"15\", \"15\", \"17\", \"18\", \"19\", \"20\", \"21\", \"22\", \"23\", \"24\", \"25\", \"26\", \"27\", \"28\", \"29\", \"30\", \"30\", \"32\", \"33\", \"34\", \"35\", \"36\", \"37\", \"38\", \"39\", \"40\", \"41\", \"42\", \"43\", \"43\", \"43\", \"43\", \"47\", \"48\", \"49\", \"49\", \"51\", \"52\", \"53\", \"54\", \"55\", \"56\", \"57\", \"58\", \"59\", \"60\", \"61\", \"61\", \"63\", \"64\", \"65\", \"66\", \"67\", \"68\", \"68\", \"68\", \"71\", \"72\", \"73\", \"73\", \"75\", \"76\", \"77\", \"78\", \"79\", \"79\", \"81\", \"81\", \"83\", \"83\", \"85\", \"86\", \"87\", \"88\", \"89\", \"90\", \"90\", \"90\", \"93\", \"94\", \"95\", \"95\", \"95\", \"98\", \"99\", \"100\"], \"y\": [98.8, 99.9, 99.9, 99.2, 99.9, 94.0, 95.1, 97.8, 88.3, 91.5, 93.2, 96.9, 92.3, 88.1, 83.1, 84.1, 82.2, 92.6, 93.6, 95.7, 96.1, 80.6, 95.9, 92.3, 95.3, 58.1, 83.2, 96.5, 98.8, 80.3, 85.0, 90.8, 72.9, 78.7, 69.0, 83.3, 72.2, 88.6, 91.4, 86.8, 98.2, 95.7, 81.0, 62.3, 92.5, 83.4, 99.1, 83.8, 91.6, 92.7, 78.1, 76.4, 83.9, 68.8, 77.7, 67.9, 46.3, 52.7, 91.4, 82.9, 77.8, 76.4, 89.1, 78.3, 66.0, 67.2, 83.4, 80.9, 99.6, 74.4, 64.3, 68.6, 90.5, 71.9, 95.6, 84.4, 72.1, 85.8, 45.5, 91.6, 69.0, 81.9, 70.3, 72.0, 91.0, 51.6, 59.2, 93.2, 67.6, 72.9, 65.0, 79.2, 68.5, 86.3, 70.2, 70.1, 78.3, 79.2, 79.7, 88.8]}, {\"marker\": {\"color\": \"rgba(80,26,80,0.8)\"}, \"mode\": \"markers\", \"name\": \"teaching\", \"text\": [\"Harvard University\", \"California Institute of Technology\", \"Massachusetts Institute of Technology\", \"Stanford University\", \"Princeton University\", \"University of Cambridge\", \"University of Oxford\", \"University of California, Berkeley\", \"Imperial College London\", \"Yale University\", \"University of California, Los Angeles\", \"University of Chicago\", \"Johns Hopkins University\", \"Cornell University\", \"ETH Zurich \\u2013 Swiss Federal Institute of Technology Zurich\", \"University of Michigan\", \"University of Toronto\", \"Columbia University\", \"University of Pennsylvania\", \"Carnegie Mellon University\", \"University of Hong Kong\", \"University College London\", \"University of Washington\", \"Duke University\", \"Northwestern University\", \"University of Tokyo\", \"Georgia Institute of Technology\", \"Pohang University of Science and Technology\", \"University of California, Santa Barbara\", \"University of British Columbia\", \"University of North Carolina at Chapel Hill\", \"University of California, San Diego\", \"University of Illinois at Urbana-Champaign\", \"National University of Singapore\", \"McGill University\", \"University of Melbourne\", \"Peking University\", \"Washington University in St Louis\", \"\\u00c9cole Polytechnique\", \"University of Edinburgh\", \"Hong Kong University of Science and Technology\", \"\\u00c9cole Normale Sup\\u00e9rieure\", \"Australian National University\", \"Karolinska Institute\", \"University of G\\u00f6ttingen\", \"University of Wisconsin\", \"Rice University\", \"\\u00c9cole Polytechnique F\\u00e9d\\u00e9rale de Lausanne\", \"University of California, Irvine\", \"University of Science and Technology of China\", \"Vanderbilt University\", \"University of Minnesota\", \"Tufts University\", \"University of California, Davis\", \"Brown University\", \"University of Massachusetts\", \"Kyoto University\", \"Tsinghua University\", \"Boston University\", \"New York University\", \"Emory University\", \"LMU Munich\", \"University of Notre Dame\", \"University of Pittsburgh\", \"Case Western Reserve University\", \"Ohio State University\", \"University of Colorado Boulder\", \"University of Bristol\", \"University of California, Santa Cruz\", \"Yeshiva University\", \"University of Sydney\", \"University of Virginia\", \"University of Adelaide\", \"University of Southern California\", \"William & Mary\", \"Trinity College Dublin\", \"King\\u2019s College London\", \"Stony Brook University\", \"Korea Advanced Institute of Science and Technology (KAIST)\", \"University of Sussex\", \"The University of Queensland\", \"University of York\", \"Heidelberg University\", \"University of Utah\", \"Durham University\", \"London School of Economics and Political Science\", \"University of Manchester\", \"Royal Holloway, University of London\", \"Lund University\", \"University of Southampton\", \"University of Zurich\", \"Wake Forest University\", \"McMaster University\", \"University College Dublin\", \"George Washington University\", \"University of Arizona\", \"University of Basel\", \"University of Maryland, College Park\", \"Dartmouth College\", \"\\u00c9cole Normale Sup\\u00e9rieure de Lyon\"], \"type\": \"scatter\", \"x\": [\"1\", \"2\", \"3\", \"4\", \"5\", \"6\", \"6\", \"8\", \"9\", \"10\", \"11\", \"12\", \"13\", \"14\", \"15\", \"15\", \"17\", \"18\", \"19\", \"20\", \"21\", \"22\", \"23\", \"24\", \"25\", \"26\", \"27\", \"28\", \"29\", \"30\", \"30\", \"32\", \"33\", \"34\", \"35\", \"36\", \"37\", \"38\", \"39\", \"40\", \"41\", \"42\", \"43\", \"43\", \"43\", \"43\", \"47\", \"48\", \"49\", \"49\", \"51\", \"52\", \"53\", \"54\", \"55\", \"56\", \"57\", \"58\", \"59\", \"60\", \"61\", \"61\", \"63\", \"64\", \"65\", \"66\", \"67\", \"68\", \"68\", \"68\", \"71\", \"72\", \"73\", \"73\", \"75\", \"76\", \"77\", \"78\", \"79\", \"79\", \"81\", \"81\", \"83\", \"83\", \"85\", \"86\", \"87\", \"88\", \"89\", \"90\", \"90\", \"90\", \"93\", \"94\", \"95\", \"95\", \"95\", \"98\", \"99\", \"100\"], \"y\": [99.7, 97.7, 97.8, 98.3, 90.9, 90.5, 88.2, 84.2, 89.2, 92.1, 83.0, 79.1, 80.9, 82.2, 77.5, 83.9, 75.8, 73.8, 71.8, 70.3, 68.4, 74.0, 68.2, 66.8, 64.5, 87.7, 67.9, 69.5, 56.6, 65.1, 70.9, 59.8, 68.1, 65.5, 69.0, 58.7, 76.4, 58.9, 57.9, 59.9, 50.4, 66.8, 51.9, 65.8, 57.3, 55.5, 57.4, 55.0, 49.4, 57.5, 64.9, 57.6, 64.1, 57.3, 59.7, 61.3, 78.9, 74.9, 53.6, 62.0, 63.4, 59.1, 56.4, 58.5, 67.2, 63.5, 46.4, 49.6, 38.3, 63.5, 49.8, 62.0, 46.5, 65.4, 53.1, 47.7, 48.5, 48.5, 71.3, 42.4, 51.8, 47.9, 59.2, 55.8, 39.8, 62.4, 56.5, 37.7, 46.3, 50.8, 56.6, 54.6, 44.7, 42.4, 60.6, 52.4, 50.2, 45.4, 44.7, 51.1]}],\n",
       "                        {\"template\": {\"data\": {\"bar\": [{\"error_x\": {\"color\": \"#2a3f5f\"}, \"error_y\": {\"color\": \"#2a3f5f\"}, \"marker\": {\"line\": {\"color\": \"#E5ECF6\", \"width\": 0.5}}, \"type\": \"bar\"}], \"barpolar\": [{\"marker\": {\"line\": {\"color\": \"#E5ECF6\", \"width\": 0.5}}, \"type\": \"barpolar\"}], \"carpet\": [{\"aaxis\": {\"endlinecolor\": \"#2a3f5f\", \"gridcolor\": \"white\", \"linecolor\": \"white\", \"minorgridcolor\": \"white\", \"startlinecolor\": \"#2a3f5f\"}, \"baxis\": {\"endlinecolor\": \"#2a3f5f\", \"gridcolor\": \"white\", \"linecolor\": \"white\", \"minorgridcolor\": \"white\", \"startlinecolor\": \"#2a3f5f\"}, \"type\": \"carpet\"}], \"choropleth\": [{\"colorbar\": {\"outlinewidth\": 0, \"ticks\": \"\"}, \"type\": \"choropleth\"}], \"contour\": [{\"colorbar\": {\"outlinewidth\": 0, \"ticks\": \"\"}, \"colorscale\": [[0.0, \"#0d0887\"], [0.1111111111111111, \"#46039f\"], [0.2222222222222222, \"#7201a8\"], [0.3333333333333333, \"#9c179e\"], [0.4444444444444444, \"#bd3786\"], [0.5555555555555556, \"#d8576b\"], [0.6666666666666666, \"#ed7953\"], [0.7777777777777778, \"#fb9f3a\"], [0.8888888888888888, \"#fdca26\"], [1.0, \"#f0f921\"]], \"type\": \"contour\"}], \"contourcarpet\": [{\"colorbar\": {\"outlinewidth\": 0, \"ticks\": \"\"}, \"type\": \"contourcarpet\"}], \"heatmap\": [{\"colorbar\": {\"outlinewidth\": 0, \"ticks\": \"\"}, \"colorscale\": [[0.0, \"#0d0887\"], [0.1111111111111111, \"#46039f\"], [0.2222222222222222, \"#7201a8\"], [0.3333333333333333, \"#9c179e\"], [0.4444444444444444, \"#bd3786\"], [0.5555555555555556, \"#d8576b\"], [0.6666666666666666, \"#ed7953\"], [0.7777777777777778, \"#fb9f3a\"], [0.8888888888888888, \"#fdca26\"], [1.0, \"#f0f921\"]], \"type\": \"heatmap\"}], \"heatmapgl\": [{\"colorbar\": {\"outlinewidth\": 0, \"ticks\": \"\"}, \"colorscale\": [[0.0, \"#0d0887\"], [0.1111111111111111, \"#46039f\"], [0.2222222222222222, \"#7201a8\"], [0.3333333333333333, \"#9c179e\"], [0.4444444444444444, \"#bd3786\"], [0.5555555555555556, \"#d8576b\"], [0.6666666666666666, \"#ed7953\"], [0.7777777777777778, \"#fb9f3a\"], [0.8888888888888888, \"#fdca26\"], [1.0, \"#f0f921\"]], \"type\": \"heatmapgl\"}], \"histogram\": [{\"marker\": {\"colorbar\": {\"outlinewidth\": 0, \"ticks\": \"\"}}, \"type\": \"histogram\"}], \"histogram2d\": [{\"colorbar\": {\"outlinewidth\": 0, \"ticks\": \"\"}, \"colorscale\": [[0.0, \"#0d0887\"], [0.1111111111111111, \"#46039f\"], [0.2222222222222222, \"#7201a8\"], [0.3333333333333333, \"#9c179e\"], [0.4444444444444444, \"#bd3786\"], [0.5555555555555556, \"#d8576b\"], [0.6666666666666666, \"#ed7953\"], [0.7777777777777778, \"#fb9f3a\"], [0.8888888888888888, \"#fdca26\"], [1.0, \"#f0f921\"]], \"type\": \"histogram2d\"}], \"histogram2dcontour\": [{\"colorbar\": {\"outlinewidth\": 0, \"ticks\": \"\"}, \"colorscale\": [[0.0, \"#0d0887\"], [0.1111111111111111, \"#46039f\"], [0.2222222222222222, \"#7201a8\"], [0.3333333333333333, \"#9c179e\"], [0.4444444444444444, \"#bd3786\"], [0.5555555555555556, \"#d8576b\"], [0.6666666666666666, \"#ed7953\"], [0.7777777777777778, \"#fb9f3a\"], [0.8888888888888888, \"#fdca26\"], [1.0, \"#f0f921\"]], \"type\": \"histogram2dcontour\"}], \"mesh3d\": [{\"colorbar\": {\"outlinewidth\": 0, \"ticks\": \"\"}, \"type\": \"mesh3d\"}], \"parcoords\": [{\"line\": {\"colorbar\": {\"outlinewidth\": 0, \"ticks\": \"\"}}, \"type\": \"parcoords\"}], \"pie\": [{\"automargin\": true, \"type\": \"pie\"}], \"scatter\": [{\"marker\": {\"colorbar\": {\"outlinewidth\": 0, \"ticks\": \"\"}}, \"type\": \"scatter\"}], \"scatter3d\": [{\"line\": {\"colorbar\": {\"outlinewidth\": 0, \"ticks\": \"\"}}, \"marker\": {\"colorbar\": {\"outlinewidth\": 0, \"ticks\": \"\"}}, \"type\": \"scatter3d\"}], \"scattercarpet\": [{\"marker\": {\"colorbar\": {\"outlinewidth\": 0, \"ticks\": \"\"}}, \"type\": \"scattercarpet\"}], \"scattergeo\": [{\"marker\": {\"colorbar\": {\"outlinewidth\": 0, \"ticks\": \"\"}}, \"type\": \"scattergeo\"}], \"scattergl\": [{\"marker\": {\"colorbar\": {\"outlinewidth\": 0, \"ticks\": \"\"}}, \"type\": \"scattergl\"}], \"scattermapbox\": [{\"marker\": {\"colorbar\": {\"outlinewidth\": 0, \"ticks\": \"\"}}, \"type\": \"scattermapbox\"}], \"scatterpolar\": [{\"marker\": {\"colorbar\": {\"outlinewidth\": 0, \"ticks\": \"\"}}, \"type\": \"scatterpolar\"}], \"scatterpolargl\": [{\"marker\": {\"colorbar\": {\"outlinewidth\": 0, \"ticks\": \"\"}}, \"type\": \"scatterpolargl\"}], \"scatterternary\": [{\"marker\": {\"colorbar\": {\"outlinewidth\": 0, \"ticks\": \"\"}}, \"type\": \"scatterternary\"}], \"surface\": [{\"colorbar\": {\"outlinewidth\": 0, \"ticks\": \"\"}, \"colorscale\": [[0.0, \"#0d0887\"], [0.1111111111111111, \"#46039f\"], [0.2222222222222222, \"#7201a8\"], [0.3333333333333333, \"#9c179e\"], [0.4444444444444444, \"#bd3786\"], [0.5555555555555556, \"#d8576b\"], [0.6666666666666666, \"#ed7953\"], [0.7777777777777778, \"#fb9f3a\"], [0.8888888888888888, \"#fdca26\"], [1.0, \"#f0f921\"]], \"type\": \"surface\"}], \"table\": [{\"cells\": {\"fill\": {\"color\": \"#EBF0F8\"}, \"line\": {\"color\": \"white\"}}, \"header\": {\"fill\": {\"color\": \"#C8D4E3\"}, \"line\": {\"color\": \"white\"}}, \"type\": \"table\"}]}, \"layout\": {\"annotationdefaults\": {\"arrowcolor\": \"#2a3f5f\", \"arrowhead\": 0, \"arrowwidth\": 1}, \"coloraxis\": {\"colorbar\": {\"outlinewidth\": 0, \"ticks\": \"\"}}, \"colorscale\": {\"diverging\": [[0, \"#8e0152\"], [0.1, \"#c51b7d\"], [0.2, \"#de77ae\"], [0.3, \"#f1b6da\"], [0.4, \"#fde0ef\"], [0.5, \"#f7f7f7\"], [0.6, \"#e6f5d0\"], [0.7, \"#b8e186\"], [0.8, \"#7fbc41\"], [0.9, \"#4d9221\"], [1, \"#276419\"]], \"sequential\": [[0.0, \"#0d0887\"], [0.1111111111111111, \"#46039f\"], [0.2222222222222222, \"#7201a8\"], [0.3333333333333333, \"#9c179e\"], [0.4444444444444444, \"#bd3786\"], [0.5555555555555556, \"#d8576b\"], [0.6666666666666666, \"#ed7953\"], [0.7777777777777778, \"#fb9f3a\"], [0.8888888888888888, \"#fdca26\"], [1.0, \"#f0f921\"]], \"sequentialminus\": [[0.0, \"#0d0887\"], [0.1111111111111111, \"#46039f\"], [0.2222222222222222, \"#7201a8\"], [0.3333333333333333, \"#9c179e\"], [0.4444444444444444, \"#bd3786\"], [0.5555555555555556, \"#d8576b\"], [0.6666666666666666, \"#ed7953\"], [0.7777777777777778, \"#fb9f3a\"], [0.8888888888888888, \"#fdca26\"], [1.0, \"#f0f921\"]]}, \"colorway\": [\"#636efa\", \"#EF553B\", \"#00cc96\", \"#ab63fa\", \"#FFA15A\", \"#19d3f3\", \"#FF6692\", \"#B6E880\", \"#FF97FF\", \"#FECB52\"], \"font\": {\"color\": \"#2a3f5f\"}, \"geo\": {\"bgcolor\": \"white\", \"lakecolor\": \"white\", \"landcolor\": \"#E5ECF6\", \"showlakes\": true, \"showland\": true, \"subunitcolor\": \"white\"}, \"hoverlabel\": {\"align\": \"left\"}, \"hovermode\": \"closest\", \"mapbox\": {\"style\": \"light\"}, \"paper_bgcolor\": \"white\", \"plot_bgcolor\": \"#E5ECF6\", \"polar\": {\"angularaxis\": {\"gridcolor\": \"white\", \"linecolor\": \"white\", \"ticks\": \"\"}, \"bgcolor\": \"#E5ECF6\", \"radialaxis\": {\"gridcolor\": \"white\", \"linecolor\": \"white\", \"ticks\": \"\"}}, \"scene\": {\"xaxis\": {\"backgroundcolor\": \"#E5ECF6\", \"gridcolor\": \"white\", \"gridwidth\": 2, \"linecolor\": \"white\", \"showbackground\": true, \"ticks\": \"\", \"zerolinecolor\": \"white\"}, \"yaxis\": {\"backgroundcolor\": \"#E5ECF6\", \"gridcolor\": \"white\", \"gridwidth\": 2, \"linecolor\": \"white\", \"showbackground\": true, \"ticks\": \"\", \"zerolinecolor\": \"white\"}, \"zaxis\": {\"backgroundcolor\": \"#E5ECF6\", \"gridcolor\": \"white\", \"gridwidth\": 2, \"linecolor\": \"white\", \"showbackground\": true, \"ticks\": \"\", \"zerolinecolor\": \"white\"}}, \"shapedefaults\": {\"line\": {\"color\": \"#2a3f5f\"}}, \"ternary\": {\"aaxis\": {\"gridcolor\": \"white\", \"linecolor\": \"white\", \"ticks\": \"\"}, \"baxis\": {\"gridcolor\": \"white\", \"linecolor\": \"white\", \"ticks\": \"\"}, \"bgcolor\": \"#E5ECF6\", \"caxis\": {\"gridcolor\": \"white\", \"linecolor\": \"white\", \"ticks\": \"\"}}, \"title\": {\"x\": 0.05}, \"xaxis\": {\"automargin\": true, \"gridcolor\": \"white\", \"linecolor\": \"white\", \"ticks\": \"\", \"title\": {\"standoff\": 15}, \"zerolinecolor\": \"white\", \"zerolinewidth\": 2}, \"yaxis\": {\"automargin\": true, \"gridcolor\": \"white\", \"linecolor\": \"white\", \"ticks\": \"\", \"title\": {\"standoff\": 15}, \"zerolinecolor\": \"white\", \"zerolinewidth\": 2}}}, \"title\": {\"text\": \"Citations vs Teaching vs World rankings\"}, \"xaxis\": {\"title\": {\"text\": \"World Ranks\"}}},\n",
       "                        {\"responsive\": true}\n",
       "                    ).then(function(){\n",
       "                            \n",
       "var gd = document.getElementById('7a3e0bf5-68a6-4a5a-9755-e0a35e3dab90');\n",
       "var x = new MutationObserver(function (mutations, observer) {{\n",
       "        var display = window.getComputedStyle(gd).display;\n",
       "        if (!display || display === 'none') {{\n",
       "            console.log([gd, 'removed!']);\n",
       "            Plotly.purge(gd);\n",
       "            observer.disconnect();\n",
       "        }}\n",
       "}});\n",
       "\n",
       "// Listen for the removal of the full notebook cells\n",
       "var notebookContainer = gd.closest('#notebook-container');\n",
       "if (notebookContainer) {{\n",
       "    x.observe(notebookContainer, {childList: true});\n",
       "}}\n",
       "\n",
       "// Listen for the clearing of the current output cell\n",
       "var outputEl = gd.closest('.output');\n",
       "if (outputEl) {{\n",
       "    x.observe(outputEl, {childList: true});\n",
       "}}\n",
       "\n",
       "                        })\n",
       "                };\n",
       "                });\n",
       "            </script>\n",
       "        </div>"
      ]
     },
     "metadata": {},
     "output_type": "display_data"
    }
   ],
   "source": [
    "trace1= go.Scatter(\n",
    "            x=d.world_rank,\n",
    "            y=d.citations,\n",
    "            mode=\"lines+markers\",\n",
    "            marker= dict(color='rgba(16,112,0,0.8)'),\n",
    "            name=\"Citations\",\n",
    "            text=d.university_name\n",
    ")\n",
    "trace2=go.Scatter(\n",
    "            x=d.world_rank,\n",
    "            y=d.teaching,\n",
    "            mode=\"markers\",\n",
    "            marker= dict(color='rgba(80,26,80,0.8)'),\n",
    "    name=\"teaching\",\n",
    "            text=d.university_name\n",
    ")\n",
    "data=[trace1,trace2]\n",
    "layout=dict(title=\"Citations vs Teaching vs World rankings\",\n",
    "           xaxis=dict(title=\"World Ranks\"))\n",
    "fig=dict(data=data,layout=layout)\n",
    "iplot(fig)"
   ]
  },
  {
   "cell_type": "markdown",
   "metadata": {},
   "source": [
    "# Introduction to Plotly"
   ]
  },
  {
   "cell_type": "markdown",
   "metadata": {},
   "source": [
    "## Bar Graphs"
   ]
  },
  {
   "cell_type": "code",
   "execution_count": 41,
   "metadata": {},
   "outputs": [
    {
     "data": {
      "application/vnd.plotly.v1+json": {
       "config": {
        "linkText": "Export to plot.ly",
        "plotlyServerURL": "https://plot.ly",
        "showLink": false
       },
       "data": [
        {
         "marker": {
          "color": "rgba(255,174,255,0.5)",
          "line": {
           "color": "rgb(0,0,0)",
           "width": 2
          }
         },
         "name": "Citations",
         "text": [
          "United States of America",
          "United States of America",
          "United States of America",
          "United States of America",
          "United States of America",
          "United Kingdom",
          "United Kingdom",
          "United States of America",
          "United Kingdom",
          "United States of America",
          "United States of America",
          "United States of America",
          "United States of America",
          "United States of America",
          "Switzerland",
          "United States of America",
          "Canada",
          "United States of America",
          "United States of America",
          "United States of America"
         ],
         "type": "bar",
         "x": [
          "Harvard University",
          "California Institute of Technology",
          "Massachusetts Institute of Technology",
          "Stanford University",
          "Princeton University",
          "University of Cambridge",
          "University of Oxford",
          "University of California, Berkeley",
          "Imperial College London",
          "Yale University",
          "University of California, Los Angeles",
          "University of Chicago",
          "Johns Hopkins University",
          "Cornell University",
          "ETH Zurich – Swiss Federal Institute of Technology Zurich",
          "University of Michigan",
          "University of Toronto",
          "Columbia University",
          "University of Pennsylvania",
          "Carnegie Mellon University"
         ],
         "y": [
          98.8,
          99.9,
          99.9,
          99.2,
          99.9,
          94,
          95.1,
          97.8,
          88.3,
          91.5,
          93.2,
          96.9,
          92.3,
          88.1,
          83.1,
          84.1,
          82.2,
          92.6,
          93.6,
          95.7
         ]
        },
        {
         "marker": {
          "color": "rgba(255,255,170,0.5)",
          "line": {
           "color": "rgb(0,0,0)",
           "width": 2
          }
         },
         "name": "Teaching",
         "text": [
          "United States of America",
          "United States of America",
          "United States of America",
          "United States of America",
          "United States of America",
          "United Kingdom",
          "United Kingdom",
          "United States of America",
          "United Kingdom",
          "United States of America",
          "United States of America",
          "United States of America",
          "United States of America",
          "United States of America",
          "Switzerland",
          "United States of America",
          "Canada",
          "United States of America",
          "United States of America",
          "United States of America"
         ],
         "type": "bar",
         "x": [
          "Harvard University",
          "California Institute of Technology",
          "Massachusetts Institute of Technology",
          "Stanford University",
          "Princeton University",
          "University of Cambridge",
          "University of Oxford",
          "University of California, Berkeley",
          "Imperial College London",
          "Yale University",
          "University of California, Los Angeles",
          "University of Chicago",
          "Johns Hopkins University",
          "Cornell University",
          "ETH Zurich – Swiss Federal Institute of Technology Zurich",
          "University of Michigan",
          "University of Toronto",
          "Columbia University",
          "University of Pennsylvania",
          "Carnegie Mellon University"
         ],
         "y": [
          99.7,
          97.7,
          97.8,
          98.3,
          90.9,
          90.5,
          88.2,
          84.2,
          89.2,
          92.1,
          83,
          79.1,
          80.9,
          82.2,
          77.5,
          83.9,
          75.8,
          73.8,
          71.8,
          70.3
         ]
        }
       ],
       "layout": {
        "barmode": "relative",
        "template": {
         "data": {
          "bar": [
           {
            "error_x": {
             "color": "#2a3f5f"
            },
            "error_y": {
             "color": "#2a3f5f"
            },
            "marker": {
             "line": {
              "color": "#E5ECF6",
              "width": 0.5
             }
            },
            "type": "bar"
           }
          ],
          "barpolar": [
           {
            "marker": {
             "line": {
              "color": "#E5ECF6",
              "width": 0.5
             }
            },
            "type": "barpolar"
           }
          ],
          "carpet": [
           {
            "aaxis": {
             "endlinecolor": "#2a3f5f",
             "gridcolor": "white",
             "linecolor": "white",
             "minorgridcolor": "white",
             "startlinecolor": "#2a3f5f"
            },
            "baxis": {
             "endlinecolor": "#2a3f5f",
             "gridcolor": "white",
             "linecolor": "white",
             "minorgridcolor": "white",
             "startlinecolor": "#2a3f5f"
            },
            "type": "carpet"
           }
          ],
          "choropleth": [
           {
            "colorbar": {
             "outlinewidth": 0,
             "ticks": ""
            },
            "type": "choropleth"
           }
          ],
          "contour": [
           {
            "colorbar": {
             "outlinewidth": 0,
             "ticks": ""
            },
            "colorscale": [
             [
              0,
              "#0d0887"
             ],
             [
              0.1111111111111111,
              "#46039f"
             ],
             [
              0.2222222222222222,
              "#7201a8"
             ],
             [
              0.3333333333333333,
              "#9c179e"
             ],
             [
              0.4444444444444444,
              "#bd3786"
             ],
             [
              0.5555555555555556,
              "#d8576b"
             ],
             [
              0.6666666666666666,
              "#ed7953"
             ],
             [
              0.7777777777777778,
              "#fb9f3a"
             ],
             [
              0.8888888888888888,
              "#fdca26"
             ],
             [
              1,
              "#f0f921"
             ]
            ],
            "type": "contour"
           }
          ],
          "contourcarpet": [
           {
            "colorbar": {
             "outlinewidth": 0,
             "ticks": ""
            },
            "type": "contourcarpet"
           }
          ],
          "heatmap": [
           {
            "colorbar": {
             "outlinewidth": 0,
             "ticks": ""
            },
            "colorscale": [
             [
              0,
              "#0d0887"
             ],
             [
              0.1111111111111111,
              "#46039f"
             ],
             [
              0.2222222222222222,
              "#7201a8"
             ],
             [
              0.3333333333333333,
              "#9c179e"
             ],
             [
              0.4444444444444444,
              "#bd3786"
             ],
             [
              0.5555555555555556,
              "#d8576b"
             ],
             [
              0.6666666666666666,
              "#ed7953"
             ],
             [
              0.7777777777777778,
              "#fb9f3a"
             ],
             [
              0.8888888888888888,
              "#fdca26"
             ],
             [
              1,
              "#f0f921"
             ]
            ],
            "type": "heatmap"
           }
          ],
          "heatmapgl": [
           {
            "colorbar": {
             "outlinewidth": 0,
             "ticks": ""
            },
            "colorscale": [
             [
              0,
              "#0d0887"
             ],
             [
              0.1111111111111111,
              "#46039f"
             ],
             [
              0.2222222222222222,
              "#7201a8"
             ],
             [
              0.3333333333333333,
              "#9c179e"
             ],
             [
              0.4444444444444444,
              "#bd3786"
             ],
             [
              0.5555555555555556,
              "#d8576b"
             ],
             [
              0.6666666666666666,
              "#ed7953"
             ],
             [
              0.7777777777777778,
              "#fb9f3a"
             ],
             [
              0.8888888888888888,
              "#fdca26"
             ],
             [
              1,
              "#f0f921"
             ]
            ],
            "type": "heatmapgl"
           }
          ],
          "histogram": [
           {
            "marker": {
             "colorbar": {
              "outlinewidth": 0,
              "ticks": ""
             }
            },
            "type": "histogram"
           }
          ],
          "histogram2d": [
           {
            "colorbar": {
             "outlinewidth": 0,
             "ticks": ""
            },
            "colorscale": [
             [
              0,
              "#0d0887"
             ],
             [
              0.1111111111111111,
              "#46039f"
             ],
             [
              0.2222222222222222,
              "#7201a8"
             ],
             [
              0.3333333333333333,
              "#9c179e"
             ],
             [
              0.4444444444444444,
              "#bd3786"
             ],
             [
              0.5555555555555556,
              "#d8576b"
             ],
             [
              0.6666666666666666,
              "#ed7953"
             ],
             [
              0.7777777777777778,
              "#fb9f3a"
             ],
             [
              0.8888888888888888,
              "#fdca26"
             ],
             [
              1,
              "#f0f921"
             ]
            ],
            "type": "histogram2d"
           }
          ],
          "histogram2dcontour": [
           {
            "colorbar": {
             "outlinewidth": 0,
             "ticks": ""
            },
            "colorscale": [
             [
              0,
              "#0d0887"
             ],
             [
              0.1111111111111111,
              "#46039f"
             ],
             [
              0.2222222222222222,
              "#7201a8"
             ],
             [
              0.3333333333333333,
              "#9c179e"
             ],
             [
              0.4444444444444444,
              "#bd3786"
             ],
             [
              0.5555555555555556,
              "#d8576b"
             ],
             [
              0.6666666666666666,
              "#ed7953"
             ],
             [
              0.7777777777777778,
              "#fb9f3a"
             ],
             [
              0.8888888888888888,
              "#fdca26"
             ],
             [
              1,
              "#f0f921"
             ]
            ],
            "type": "histogram2dcontour"
           }
          ],
          "mesh3d": [
           {
            "colorbar": {
             "outlinewidth": 0,
             "ticks": ""
            },
            "type": "mesh3d"
           }
          ],
          "parcoords": [
           {
            "line": {
             "colorbar": {
              "outlinewidth": 0,
              "ticks": ""
             }
            },
            "type": "parcoords"
           }
          ],
          "pie": [
           {
            "automargin": true,
            "type": "pie"
           }
          ],
          "scatter": [
           {
            "marker": {
             "colorbar": {
              "outlinewidth": 0,
              "ticks": ""
             }
            },
            "type": "scatter"
           }
          ],
          "scatter3d": [
           {
            "line": {
             "colorbar": {
              "outlinewidth": 0,
              "ticks": ""
             }
            },
            "marker": {
             "colorbar": {
              "outlinewidth": 0,
              "ticks": ""
             }
            },
            "type": "scatter3d"
           }
          ],
          "scattercarpet": [
           {
            "marker": {
             "colorbar": {
              "outlinewidth": 0,
              "ticks": ""
             }
            },
            "type": "scattercarpet"
           }
          ],
          "scattergeo": [
           {
            "marker": {
             "colorbar": {
              "outlinewidth": 0,
              "ticks": ""
             }
            },
            "type": "scattergeo"
           }
          ],
          "scattergl": [
           {
            "marker": {
             "colorbar": {
              "outlinewidth": 0,
              "ticks": ""
             }
            },
            "type": "scattergl"
           }
          ],
          "scattermapbox": [
           {
            "marker": {
             "colorbar": {
              "outlinewidth": 0,
              "ticks": ""
             }
            },
            "type": "scattermapbox"
           }
          ],
          "scatterpolar": [
           {
            "marker": {
             "colorbar": {
              "outlinewidth": 0,
              "ticks": ""
             }
            },
            "type": "scatterpolar"
           }
          ],
          "scatterpolargl": [
           {
            "marker": {
             "colorbar": {
              "outlinewidth": 0,
              "ticks": ""
             }
            },
            "type": "scatterpolargl"
           }
          ],
          "scatterternary": [
           {
            "marker": {
             "colorbar": {
              "outlinewidth": 0,
              "ticks": ""
             }
            },
            "type": "scatterternary"
           }
          ],
          "surface": [
           {
            "colorbar": {
             "outlinewidth": 0,
             "ticks": ""
            },
            "colorscale": [
             [
              0,
              "#0d0887"
             ],
             [
              0.1111111111111111,
              "#46039f"
             ],
             [
              0.2222222222222222,
              "#7201a8"
             ],
             [
              0.3333333333333333,
              "#9c179e"
             ],
             [
              0.4444444444444444,
              "#bd3786"
             ],
             [
              0.5555555555555556,
              "#d8576b"
             ],
             [
              0.6666666666666666,
              "#ed7953"
             ],
             [
              0.7777777777777778,
              "#fb9f3a"
             ],
             [
              0.8888888888888888,
              "#fdca26"
             ],
             [
              1,
              "#f0f921"
             ]
            ],
            "type": "surface"
           }
          ],
          "table": [
           {
            "cells": {
             "fill": {
              "color": "#EBF0F8"
             },
             "line": {
              "color": "white"
             }
            },
            "header": {
             "fill": {
              "color": "#C8D4E3"
             },
             "line": {
              "color": "white"
             }
            },
            "type": "table"
           }
          ]
         },
         "layout": {
          "annotationdefaults": {
           "arrowcolor": "#2a3f5f",
           "arrowhead": 0,
           "arrowwidth": 1
          },
          "coloraxis": {
           "colorbar": {
            "outlinewidth": 0,
            "ticks": ""
           }
          },
          "colorscale": {
           "diverging": [
            [
             0,
             "#8e0152"
            ],
            [
             0.1,
             "#c51b7d"
            ],
            [
             0.2,
             "#de77ae"
            ],
            [
             0.3,
             "#f1b6da"
            ],
            [
             0.4,
             "#fde0ef"
            ],
            [
             0.5,
             "#f7f7f7"
            ],
            [
             0.6,
             "#e6f5d0"
            ],
            [
             0.7,
             "#b8e186"
            ],
            [
             0.8,
             "#7fbc41"
            ],
            [
             0.9,
             "#4d9221"
            ],
            [
             1,
             "#276419"
            ]
           ],
           "sequential": [
            [
             0,
             "#0d0887"
            ],
            [
             0.1111111111111111,
             "#46039f"
            ],
            [
             0.2222222222222222,
             "#7201a8"
            ],
            [
             0.3333333333333333,
             "#9c179e"
            ],
            [
             0.4444444444444444,
             "#bd3786"
            ],
            [
             0.5555555555555556,
             "#d8576b"
            ],
            [
             0.6666666666666666,
             "#ed7953"
            ],
            [
             0.7777777777777778,
             "#fb9f3a"
            ],
            [
             0.8888888888888888,
             "#fdca26"
            ],
            [
             1,
             "#f0f921"
            ]
           ],
           "sequentialminus": [
            [
             0,
             "#0d0887"
            ],
            [
             0.1111111111111111,
             "#46039f"
            ],
            [
             0.2222222222222222,
             "#7201a8"
            ],
            [
             0.3333333333333333,
             "#9c179e"
            ],
            [
             0.4444444444444444,
             "#bd3786"
            ],
            [
             0.5555555555555556,
             "#d8576b"
            ],
            [
             0.6666666666666666,
             "#ed7953"
            ],
            [
             0.7777777777777778,
             "#fb9f3a"
            ],
            [
             0.8888888888888888,
             "#fdca26"
            ],
            [
             1,
             "#f0f921"
            ]
           ]
          },
          "colorway": [
           "#636efa",
           "#EF553B",
           "#00cc96",
           "#ab63fa",
           "#FFA15A",
           "#19d3f3",
           "#FF6692",
           "#B6E880",
           "#FF97FF",
           "#FECB52"
          ],
          "font": {
           "color": "#2a3f5f"
          },
          "geo": {
           "bgcolor": "white",
           "lakecolor": "white",
           "landcolor": "#E5ECF6",
           "showlakes": true,
           "showland": true,
           "subunitcolor": "white"
          },
          "hoverlabel": {
           "align": "left"
          },
          "hovermode": "closest",
          "mapbox": {
           "style": "light"
          },
          "paper_bgcolor": "white",
          "plot_bgcolor": "#E5ECF6",
          "polar": {
           "angularaxis": {
            "gridcolor": "white",
            "linecolor": "white",
            "ticks": ""
           },
           "bgcolor": "#E5ECF6",
           "radialaxis": {
            "gridcolor": "white",
            "linecolor": "white",
            "ticks": ""
           }
          },
          "scene": {
           "xaxis": {
            "backgroundcolor": "#E5ECF6",
            "gridcolor": "white",
            "gridwidth": 2,
            "linecolor": "white",
            "showbackground": true,
            "ticks": "",
            "zerolinecolor": "white"
           },
           "yaxis": {
            "backgroundcolor": "#E5ECF6",
            "gridcolor": "white",
            "gridwidth": 2,
            "linecolor": "white",
            "showbackground": true,
            "ticks": "",
            "zerolinecolor": "white"
           },
           "zaxis": {
            "backgroundcolor": "#E5ECF6",
            "gridcolor": "white",
            "gridwidth": 2,
            "linecolor": "white",
            "showbackground": true,
            "ticks": "",
            "zerolinecolor": "white"
           }
          },
          "shapedefaults": {
           "line": {
            "color": "#2a3f5f"
           }
          },
          "ternary": {
           "aaxis": {
            "gridcolor": "white",
            "linecolor": "white",
            "ticks": ""
           },
           "baxis": {
            "gridcolor": "white",
            "linecolor": "white",
            "ticks": ""
           },
           "bgcolor": "#E5ECF6",
           "caxis": {
            "gridcolor": "white",
            "linecolor": "white",
            "ticks": ""
           }
          },
          "title": {
           "x": 0.05
          },
          "xaxis": {
           "automargin": true,
           "gridcolor": "white",
           "linecolor": "white",
           "ticks": "",
           "title": {
            "standoff": 15
           },
           "zerolinecolor": "white",
           "zerolinewidth": 2
          },
          "yaxis": {
           "automargin": true,
           "gridcolor": "white",
           "linecolor": "white",
           "ticks": "",
           "title": {
            "standoff": 15
           },
           "zerolinecolor": "white",
           "zerolinewidth": 2
          }
         }
        },
        "title": {
         "text": "Citations vs teaching"
        }
       }
      },
      "text/html": [
       "<div>\n",
       "        \n",
       "        \n",
       "            <div id=\"9af39247-e7b5-49db-8c4a-cc2377a76538\" class=\"plotly-graph-div\" style=\"height:525px; width:100%;\"></div>\n",
       "            <script type=\"text/javascript\">\n",
       "                require([\"plotly\"], function(Plotly) {\n",
       "                    window.PLOTLYENV=window.PLOTLYENV || {};\n",
       "                    \n",
       "                if (document.getElementById(\"9af39247-e7b5-49db-8c4a-cc2377a76538\")) {\n",
       "                    Plotly.newPlot(\n",
       "                        '9af39247-e7b5-49db-8c4a-cc2377a76538',\n",
       "                        [{\"marker\": {\"color\": \"rgba(255,174,255,0.5)\", \"line\": {\"color\": \"rgb(0,0,0)\", \"width\": 2}}, \"name\": \"Citations\", \"text\": [\"United States of America\", \"United States of America\", \"United States of America\", \"United States of America\", \"United States of America\", \"United Kingdom\", \"United Kingdom\", \"United States of America\", \"United Kingdom\", \"United States of America\", \"United States of America\", \"United States of America\", \"United States of America\", \"United States of America\", \"Switzerland\", \"United States of America\", \"Canada\", \"United States of America\", \"United States of America\", \"United States of America\"], \"type\": \"bar\", \"x\": [\"Harvard University\", \"California Institute of Technology\", \"Massachusetts Institute of Technology\", \"Stanford University\", \"Princeton University\", \"University of Cambridge\", \"University of Oxford\", \"University of California, Berkeley\", \"Imperial College London\", \"Yale University\", \"University of California, Los Angeles\", \"University of Chicago\", \"Johns Hopkins University\", \"Cornell University\", \"ETH Zurich \\u2013 Swiss Federal Institute of Technology Zurich\", \"University of Michigan\", \"University of Toronto\", \"Columbia University\", \"University of Pennsylvania\", \"Carnegie Mellon University\"], \"y\": [98.8, 99.9, 99.9, 99.2, 99.9, 94.0, 95.1, 97.8, 88.3, 91.5, 93.2, 96.9, 92.3, 88.1, 83.1, 84.1, 82.2, 92.6, 93.6, 95.7]}, {\"marker\": {\"color\": \"rgba(255,255,170,0.5)\", \"line\": {\"color\": \"rgb(0,0,0)\", \"width\": 2}}, \"name\": \"Teaching\", \"text\": [\"United States of America\", \"United States of America\", \"United States of America\", \"United States of America\", \"United States of America\", \"United Kingdom\", \"United Kingdom\", \"United States of America\", \"United Kingdom\", \"United States of America\", \"United States of America\", \"United States of America\", \"United States of America\", \"United States of America\", \"Switzerland\", \"United States of America\", \"Canada\", \"United States of America\", \"United States of America\", \"United States of America\"], \"type\": \"bar\", \"x\": [\"Harvard University\", \"California Institute of Technology\", \"Massachusetts Institute of Technology\", \"Stanford University\", \"Princeton University\", \"University of Cambridge\", \"University of Oxford\", \"University of California, Berkeley\", \"Imperial College London\", \"Yale University\", \"University of California, Los Angeles\", \"University of Chicago\", \"Johns Hopkins University\", \"Cornell University\", \"ETH Zurich \\u2013 Swiss Federal Institute of Technology Zurich\", \"University of Michigan\", \"University of Toronto\", \"Columbia University\", \"University of Pennsylvania\", \"Carnegie Mellon University\"], \"y\": [99.7, 97.7, 97.8, 98.3, 90.9, 90.5, 88.2, 84.2, 89.2, 92.1, 83.0, 79.1, 80.9, 82.2, 77.5, 83.9, 75.8, 73.8, 71.8, 70.3]}],\n",
       "                        {\"barmode\": \"relative\", \"template\": {\"data\": {\"bar\": [{\"error_x\": {\"color\": \"#2a3f5f\"}, \"error_y\": {\"color\": \"#2a3f5f\"}, \"marker\": {\"line\": {\"color\": \"#E5ECF6\", \"width\": 0.5}}, \"type\": \"bar\"}], \"barpolar\": [{\"marker\": {\"line\": {\"color\": \"#E5ECF6\", \"width\": 0.5}}, \"type\": \"barpolar\"}], \"carpet\": [{\"aaxis\": {\"endlinecolor\": \"#2a3f5f\", \"gridcolor\": \"white\", \"linecolor\": \"white\", \"minorgridcolor\": \"white\", \"startlinecolor\": \"#2a3f5f\"}, \"baxis\": {\"endlinecolor\": \"#2a3f5f\", \"gridcolor\": \"white\", \"linecolor\": \"white\", \"minorgridcolor\": \"white\", \"startlinecolor\": \"#2a3f5f\"}, \"type\": \"carpet\"}], \"choropleth\": [{\"colorbar\": {\"outlinewidth\": 0, \"ticks\": \"\"}, \"type\": \"choropleth\"}], \"contour\": [{\"colorbar\": {\"outlinewidth\": 0, \"ticks\": \"\"}, \"colorscale\": [[0.0, \"#0d0887\"], [0.1111111111111111, \"#46039f\"], [0.2222222222222222, \"#7201a8\"], [0.3333333333333333, \"#9c179e\"], [0.4444444444444444, \"#bd3786\"], [0.5555555555555556, \"#d8576b\"], [0.6666666666666666, \"#ed7953\"], [0.7777777777777778, \"#fb9f3a\"], [0.8888888888888888, \"#fdca26\"], [1.0, \"#f0f921\"]], \"type\": \"contour\"}], \"contourcarpet\": [{\"colorbar\": {\"outlinewidth\": 0, \"ticks\": \"\"}, \"type\": \"contourcarpet\"}], \"heatmap\": [{\"colorbar\": {\"outlinewidth\": 0, \"ticks\": \"\"}, \"colorscale\": [[0.0, \"#0d0887\"], [0.1111111111111111, \"#46039f\"], [0.2222222222222222, \"#7201a8\"], [0.3333333333333333, \"#9c179e\"], [0.4444444444444444, \"#bd3786\"], [0.5555555555555556, \"#d8576b\"], [0.6666666666666666, \"#ed7953\"], [0.7777777777777778, \"#fb9f3a\"], [0.8888888888888888, \"#fdca26\"], [1.0, \"#f0f921\"]], \"type\": \"heatmap\"}], \"heatmapgl\": [{\"colorbar\": {\"outlinewidth\": 0, \"ticks\": \"\"}, \"colorscale\": [[0.0, \"#0d0887\"], [0.1111111111111111, \"#46039f\"], [0.2222222222222222, \"#7201a8\"], [0.3333333333333333, \"#9c179e\"], [0.4444444444444444, \"#bd3786\"], [0.5555555555555556, \"#d8576b\"], [0.6666666666666666, \"#ed7953\"], [0.7777777777777778, \"#fb9f3a\"], [0.8888888888888888, \"#fdca26\"], [1.0, \"#f0f921\"]], \"type\": \"heatmapgl\"}], \"histogram\": [{\"marker\": {\"colorbar\": {\"outlinewidth\": 0, \"ticks\": \"\"}}, \"type\": \"histogram\"}], \"histogram2d\": [{\"colorbar\": {\"outlinewidth\": 0, \"ticks\": \"\"}, \"colorscale\": [[0.0, \"#0d0887\"], [0.1111111111111111, \"#46039f\"], [0.2222222222222222, \"#7201a8\"], [0.3333333333333333, \"#9c179e\"], [0.4444444444444444, \"#bd3786\"], [0.5555555555555556, \"#d8576b\"], [0.6666666666666666, \"#ed7953\"], [0.7777777777777778, \"#fb9f3a\"], [0.8888888888888888, \"#fdca26\"], [1.0, \"#f0f921\"]], \"type\": \"histogram2d\"}], \"histogram2dcontour\": [{\"colorbar\": {\"outlinewidth\": 0, \"ticks\": \"\"}, \"colorscale\": [[0.0, \"#0d0887\"], [0.1111111111111111, \"#46039f\"], [0.2222222222222222, \"#7201a8\"], [0.3333333333333333, \"#9c179e\"], [0.4444444444444444, \"#bd3786\"], [0.5555555555555556, \"#d8576b\"], [0.6666666666666666, \"#ed7953\"], [0.7777777777777778, \"#fb9f3a\"], [0.8888888888888888, \"#fdca26\"], [1.0, \"#f0f921\"]], \"type\": \"histogram2dcontour\"}], \"mesh3d\": [{\"colorbar\": {\"outlinewidth\": 0, \"ticks\": \"\"}, \"type\": \"mesh3d\"}], \"parcoords\": [{\"line\": {\"colorbar\": {\"outlinewidth\": 0, \"ticks\": \"\"}}, \"type\": \"parcoords\"}], \"pie\": [{\"automargin\": true, \"type\": \"pie\"}], \"scatter\": [{\"marker\": {\"colorbar\": {\"outlinewidth\": 0, \"ticks\": \"\"}}, \"type\": \"scatter\"}], \"scatter3d\": [{\"line\": {\"colorbar\": {\"outlinewidth\": 0, \"ticks\": \"\"}}, \"marker\": {\"colorbar\": {\"outlinewidth\": 0, \"ticks\": \"\"}}, \"type\": \"scatter3d\"}], \"scattercarpet\": [{\"marker\": {\"colorbar\": {\"outlinewidth\": 0, \"ticks\": \"\"}}, \"type\": \"scattercarpet\"}], \"scattergeo\": [{\"marker\": {\"colorbar\": {\"outlinewidth\": 0, \"ticks\": \"\"}}, \"type\": \"scattergeo\"}], \"scattergl\": [{\"marker\": {\"colorbar\": {\"outlinewidth\": 0, \"ticks\": \"\"}}, \"type\": \"scattergl\"}], \"scattermapbox\": [{\"marker\": {\"colorbar\": {\"outlinewidth\": 0, \"ticks\": \"\"}}, \"type\": \"scattermapbox\"}], \"scatterpolar\": [{\"marker\": {\"colorbar\": {\"outlinewidth\": 0, \"ticks\": \"\"}}, \"type\": \"scatterpolar\"}], \"scatterpolargl\": [{\"marker\": {\"colorbar\": {\"outlinewidth\": 0, \"ticks\": \"\"}}, \"type\": \"scatterpolargl\"}], \"scatterternary\": [{\"marker\": {\"colorbar\": {\"outlinewidth\": 0, \"ticks\": \"\"}}, \"type\": \"scatterternary\"}], \"surface\": [{\"colorbar\": {\"outlinewidth\": 0, \"ticks\": \"\"}, \"colorscale\": [[0.0, \"#0d0887\"], [0.1111111111111111, \"#46039f\"], [0.2222222222222222, \"#7201a8\"], [0.3333333333333333, \"#9c179e\"], [0.4444444444444444, \"#bd3786\"], [0.5555555555555556, \"#d8576b\"], [0.6666666666666666, \"#ed7953\"], [0.7777777777777778, \"#fb9f3a\"], [0.8888888888888888, \"#fdca26\"], [1.0, \"#f0f921\"]], \"type\": \"surface\"}], \"table\": [{\"cells\": {\"fill\": {\"color\": \"#EBF0F8\"}, \"line\": {\"color\": \"white\"}}, \"header\": {\"fill\": {\"color\": \"#C8D4E3\"}, \"line\": {\"color\": \"white\"}}, \"type\": \"table\"}]}, \"layout\": {\"annotationdefaults\": {\"arrowcolor\": \"#2a3f5f\", \"arrowhead\": 0, \"arrowwidth\": 1}, \"coloraxis\": {\"colorbar\": {\"outlinewidth\": 0, \"ticks\": \"\"}}, \"colorscale\": {\"diverging\": [[0, \"#8e0152\"], [0.1, \"#c51b7d\"], [0.2, \"#de77ae\"], [0.3, \"#f1b6da\"], [0.4, \"#fde0ef\"], [0.5, \"#f7f7f7\"], [0.6, \"#e6f5d0\"], [0.7, \"#b8e186\"], [0.8, \"#7fbc41\"], [0.9, \"#4d9221\"], [1, \"#276419\"]], \"sequential\": [[0.0, \"#0d0887\"], [0.1111111111111111, \"#46039f\"], [0.2222222222222222, \"#7201a8\"], [0.3333333333333333, \"#9c179e\"], [0.4444444444444444, \"#bd3786\"], [0.5555555555555556, \"#d8576b\"], [0.6666666666666666, \"#ed7953\"], [0.7777777777777778, \"#fb9f3a\"], [0.8888888888888888, \"#fdca26\"], [1.0, \"#f0f921\"]], \"sequentialminus\": [[0.0, \"#0d0887\"], [0.1111111111111111, \"#46039f\"], [0.2222222222222222, \"#7201a8\"], [0.3333333333333333, \"#9c179e\"], [0.4444444444444444, \"#bd3786\"], [0.5555555555555556, \"#d8576b\"], [0.6666666666666666, \"#ed7953\"], [0.7777777777777778, \"#fb9f3a\"], [0.8888888888888888, \"#fdca26\"], [1.0, \"#f0f921\"]]}, \"colorway\": [\"#636efa\", \"#EF553B\", \"#00cc96\", \"#ab63fa\", \"#FFA15A\", \"#19d3f3\", \"#FF6692\", \"#B6E880\", \"#FF97FF\", \"#FECB52\"], \"font\": {\"color\": \"#2a3f5f\"}, \"geo\": {\"bgcolor\": \"white\", \"lakecolor\": \"white\", \"landcolor\": \"#E5ECF6\", \"showlakes\": true, \"showland\": true, \"subunitcolor\": \"white\"}, \"hoverlabel\": {\"align\": \"left\"}, \"hovermode\": \"closest\", \"mapbox\": {\"style\": \"light\"}, \"paper_bgcolor\": \"white\", \"plot_bgcolor\": \"#E5ECF6\", \"polar\": {\"angularaxis\": {\"gridcolor\": \"white\", \"linecolor\": \"white\", \"ticks\": \"\"}, \"bgcolor\": \"#E5ECF6\", \"radialaxis\": {\"gridcolor\": \"white\", \"linecolor\": \"white\", \"ticks\": \"\"}}, \"scene\": {\"xaxis\": {\"backgroundcolor\": \"#E5ECF6\", \"gridcolor\": \"white\", \"gridwidth\": 2, \"linecolor\": \"white\", \"showbackground\": true, \"ticks\": \"\", \"zerolinecolor\": \"white\"}, \"yaxis\": {\"backgroundcolor\": \"#E5ECF6\", \"gridcolor\": \"white\", \"gridwidth\": 2, \"linecolor\": \"white\", \"showbackground\": true, \"ticks\": \"\", \"zerolinecolor\": \"white\"}, \"zaxis\": {\"backgroundcolor\": \"#E5ECF6\", \"gridcolor\": \"white\", \"gridwidth\": 2, \"linecolor\": \"white\", \"showbackground\": true, \"ticks\": \"\", \"zerolinecolor\": \"white\"}}, \"shapedefaults\": {\"line\": {\"color\": \"#2a3f5f\"}}, \"ternary\": {\"aaxis\": {\"gridcolor\": \"white\", \"linecolor\": \"white\", \"ticks\": \"\"}, \"baxis\": {\"gridcolor\": \"white\", \"linecolor\": \"white\", \"ticks\": \"\"}, \"bgcolor\": \"#E5ECF6\", \"caxis\": {\"gridcolor\": \"white\", \"linecolor\": \"white\", \"ticks\": \"\"}}, \"title\": {\"x\": 0.05}, \"xaxis\": {\"automargin\": true, \"gridcolor\": \"white\", \"linecolor\": \"white\", \"ticks\": \"\", \"title\": {\"standoff\": 15}, \"zerolinecolor\": \"white\", \"zerolinewidth\": 2}, \"yaxis\": {\"automargin\": true, \"gridcolor\": \"white\", \"linecolor\": \"white\", \"ticks\": \"\", \"title\": {\"standoff\": 15}, \"zerolinecolor\": \"white\", \"zerolinewidth\": 2}}}, \"title\": {\"text\": \"Citations vs teaching\"}},\n",
       "                        {\"responsive\": true}\n",
       "                    ).then(function(){\n",
       "                            \n",
       "var gd = document.getElementById('9af39247-e7b5-49db-8c4a-cc2377a76538');\n",
       "var x = new MutationObserver(function (mutations, observer) {{\n",
       "        var display = window.getComputedStyle(gd).display;\n",
       "        if (!display || display === 'none') {{\n",
       "            console.log([gd, 'removed!']);\n",
       "            Plotly.purge(gd);\n",
       "            observer.disconnect();\n",
       "        }}\n",
       "}});\n",
       "\n",
       "// Listen for the removal of the full notebook cells\n",
       "var notebookContainer = gd.closest('#notebook-container');\n",
       "if (notebookContainer) {{\n",
       "    x.observe(notebookContainer, {childList: true});\n",
       "}}\n",
       "\n",
       "// Listen for the clearing of the current output cell\n",
       "var outputEl = gd.closest('.output');\n",
       "if (outputEl) {{\n",
       "    x.observe(outputEl, {childList: true});\n",
       "}}\n",
       "\n",
       "                        })\n",
       "                };\n",
       "                });\n",
       "            </script>\n",
       "        </div>"
      ]
     },
     "metadata": {},
     "output_type": "display_data"
    }
   ],
   "source": [
    "df2011=df[df.year==2011].iloc[:20,:]\n",
    "trace3=go.Bar(\n",
    "    x=df2011.university_name,\n",
    "    y=df2011.citations,\n",
    "    name=\"Citations\",\n",
    "    marker=dict(color='rgba(255,174,255,0.5)',line=dict(color='rgb(0,0,0)',width=2)),\n",
    "    text=df2011.country\n",
    ")\n",
    "trace4=go.Bar(\n",
    "    x=df2011.university_name,\n",
    "    y=df2011.teaching,\n",
    "    name=\"Teaching\",\n",
    "    marker=dict(color='rgba(255,255,170,0.5)',line=dict(color='rgb(0,0,0)',width=2)),\n",
    "    text=df2011.country\n",
    ")\n",
    "\n",
    "data=[trace3,trace4]\n",
    "layout=dict(barmode=\"relative\",title=\"Citations vs teaching\")\n",
    "fig= dict(data=data,layout=layout)\n",
    "iplot(fig)"
   ]
  },
  {
   "cell_type": "markdown",
   "metadata": {},
   "source": [
    "# Pie Charts"
   ]
  },
  {
   "cell_type": "code",
   "execution_count": 42,
   "metadata": {},
   "outputs": [
    {
     "data": {
      "application/vnd.plotly.v1+json": {
       "config": {
        "linkText": "Export to plot.ly",
        "plotlyServerURL": "https://plot.ly",
        "showLink": false
       },
       "data": [
        {
         "hole": 0,
         "hoverinfo": "label+percent",
         "labels": [
          "Harvard University",
          "California Institute of Technology",
          "Massachusetts Institute of Technology",
          "Stanford University",
          "Princeton University",
          "University of Cambridge",
          "University of Oxford",
          "University of California, Berkeley",
          "Imperial College London",
          "Yale University",
          "University of California, Los Angeles",
          "University of Chicago",
          "Johns Hopkins University",
          "Cornell University",
          "ETH Zurich – Swiss Federal Institute of Technology Zurich",
          "University of Michigan",
          "University of Toronto",
          "Columbia University",
          "University of Pennsylvania",
          "Carnegie Mellon University",
          "University of Hong Kong",
          "University College London",
          "University of Washington",
          "Duke University",
          "Northwestern University",
          "University of Tokyo",
          "Georgia Institute of Technology",
          "Pohang University of Science and Technology",
          "University of California, Santa Barbara",
          "University of British Columbia",
          "University of North Carolina at Chapel Hill",
          "University of California, San Diego",
          "University of Illinois at Urbana-Champaign",
          "National University of Singapore",
          "McGill University",
          "University of Melbourne",
          "Peking University",
          "Washington University in St Louis",
          "École Polytechnique",
          "University of Edinburgh",
          "Hong Kong University of Science and Technology",
          "École Normale Supérieure",
          "Australian National University",
          "Karolinska Institute",
          "University of Göttingen",
          "University of Wisconsin",
          "Rice University",
          "École Polytechnique Fédérale de Lausanne",
          "University of California, Irvine",
          "University of Science and Technology of China",
          "Vanderbilt University",
          "University of Minnesota",
          "Tufts University",
          "University of California, Davis",
          "Brown University",
          "University of Massachusetts",
          "Kyoto University",
          "Tsinghua University",
          "Boston University",
          "New York University",
          "Emory University",
          "LMU Munich",
          "University of Notre Dame",
          "University of Pittsburgh",
          "Case Western Reserve University",
          "Ohio State University",
          "University of Colorado Boulder",
          "University of Bristol",
          "University of California, Santa Cruz",
          "Yeshiva University",
          "University of Sydney",
          "University of Virginia",
          "University of Adelaide",
          "University of Southern California",
          "William & Mary",
          "Trinity College Dublin",
          "King’s College London",
          "Stony Brook University",
          "Korea Advanced Institute of Science and Technology (KAIST)",
          "University of Sussex",
          "The University of Queensland",
          "University of York",
          "Heidelberg University",
          "University of Utah",
          "Durham University",
          "London School of Economics and Political Science",
          "University of Manchester",
          "Royal Holloway, University of London",
          "Lund University",
          "University of Southampton",
          "University of Zurich",
          "Wake Forest University",
          "McMaster University",
          "University College Dublin",
          "George Washington University",
          "University of Arizona",
          "University of Basel",
          "University of Maryland, College Park",
          "Dartmouth College",
          "École Normale Supérieure de Lyon",
          "Technical University of Munich",
          "University of Helsinki",
          "University of St Andrews",
          "Rensselaer Polytechnic Institute",
          "Rutgers, the State University of New Jersey",
          "Purdue University",
          "National Tsing Hua University",
          "University of Cape Town",
          "Pennsylvania State University",
          "Seoul National University",
          "Hong Kong Baptist University",
          "Bilkent University",
          "Tokyo Institute of Technology",
          "Eindhoven University of Technology",
          "National Taiwan University",
          "University of Hawai’i at Mānoa",
          "University of California, Riverside",
          "University of Geneva",
          "KU Leuven",
          "Nanjing University",
          "Queen Mary University of London",
          "Michigan State University",
          "Technical University of Denmark",
          "Ghent University",
          "Lancaster University",
          "Leiden University",
          "University of Alberta",
          "University of Glasgow",
          "Stockholm University",
          "Osaka University",
          "University of Victoria",
          "Tohoku University",
          "University of Freiburg",
          "University of Iowa",
          "University of Bergen",
          "University of Lausanne",
          "University of Sheffield",
          "University of Montreal",
          "VU University Amsterdam",
          "Pierre and Marie Curie University",
          "University of Dundee",
          "University of Barcelona",
          "Utrecht University",
          "Wageningen University and Research Center",
          "University of Auckland",
          "University of Birmingham",
          "Alexandria University",
          "Uppsala University",
          "Hong Kong Polytechnic University",
          "University of Aberdeen",
          "Delft University of Technology",
          "Birkbeck, University of London",
          "Newcastle University",
          "University of New South Wales",
          "Pompeu Fabra University",
          "Indiana University",
          "Iowa State University",
          "Georgia Health Sciences University",
          "Erasmus University Rotterdam",
          "University of Delaware",
          "Arizona State University",
          "Boston College",
          "National Sun Yat-Sen University",
          "Georgetown University",
          "University of Amsterdam",
          "University of Liverpool",
          "Aarhus University",
          "University of Leeds",
          "University of Würzburg",
          "University of Groningen",
          "Sun Yat-sen University",
          "Goethe University Frankfurt",
          "Bielefeld University",
          "Nanyang Technological University",
          "University of East Anglia",
          "University of Nottingham",
          "University of Copenhagen",
          "Humboldt University of Berlin",
          "Monash University",
          "University of Bonn",
          "National Chiao Tung University",
          "RWTH Aachen University",
          "Middle East Technical University",
          "University of Exeter",
          "University of Twente",
          "University of Konstanz",
          "Karlsruhe Institute of Technology",
          "University of Innsbruck",
          "University of Tübingen",
          "Drexel University",
          "University of Cincinnati",
          "Yonsei University",
          "Dalhousie University",
          "KTH Royal Institute of Technology",
          "University of Vienna",
          "Kent State University",
          "University of Illinois at Chicago",
          "Zhejiang University",
          "Simon Fraser University",
          "Swedish University of Agricultural Sciences",
          "California Institute of Technology",
          "Harvard University",
          "Stanford University",
          "University of Oxford",
          "Princeton University",
          "University of Cambridge",
          "Massachusetts Institute of Technology",
          "Imperial College London",
          "University of Chicago",
          "University of California, Berkeley",
          "Yale University",
          "Columbia University",
          "University of California, Los Angeles",
          "Johns Hopkins University",
          "ETH Zurich – Swiss Federal Institute of Technology Zurich",
          "University of Pennsylvania",
          "University College London",
          "University of Michigan",
          "University of Toronto",
          "Cornell University",
          "Carnegie Mellon University",
          "Duke University",
          "University of British Columbia",
          "Georgia Institute of Technology",
          "University of Washington",
          "Northwestern University",
          "University of Wisconsin-Madison",
          "McGill University",
          "University of Texas at Austin",
          "University of Tokyo",
          "University of Illinois at Urbana-Champaign",
          "Karolinska Institute",
          "University of California, San Diego",
          "University of Hong Kong",
          "University of California, Santa Barbara",
          "University of Edinburgh",
          "University of Melbourne",
          "Australian National University",
          "University of California, Davis",
          "National University of Singapore",
          "Washington University in St Louis",
          "University of Minnesota",
          "University of North Carolina at Chapel Hill",
          "New York University",
          "LMU Munich",
          "École Polytechnique Fédérale de Lausanne",
          "London School of Economics and Political Science",
          "University of Manchester",
          "Brown University",
          "Peking University",
          "Pennsylvania State University",
          "Kyoto University",
          "Pohang University of Science and Technology",
          "Boston University",
          "University of Southern California",
          "King’s College London",
          "Ohio State University",
          "University of Sydney",
          "University of Pittsburgh",
          "École Normale Supérieure",
          "University of Zurich",
          "Hong Kong University of Science and Technology",
          "École Polytechnique",
          "University of Massachusetts",
          "McMaster University",
          "University of Bristol",
          "KU Leuven",
          "Utrecht University",
          "University of Göttingen",
          "Vanderbilt University",
          "Tsinghua University",
          "Rice University",
          "Heidelberg University",
          "The University of Queensland",
          "Emory University",
          "Wageningen University and Research Center",
          "Tufts University",
          "University of Colorado Boulder",
          "Leiden University",
          "Lund University",
          "Rutgers, the State University of New Jersey",
          "University of Rochester",
          "Durham University",
          "Pierre and Marie Curie University",
          "University of St Andrews",
          "University of California, Irvine",
          "Uppsala University",
          "Technical University of Munich",
          "University of Notre Dame",
          "Dartmouth College",
          "University of Helsinki",
          "University of Amsterdam",
          "Case Western Reserve University",
          "Korea Advanced Institute of Science and Technology (KAIST)",
          "University of Maryland, College Park",
          "Michigan State University",
          "University of Arizona",
          "Purdue University",
          "University of Sussex",
          "University of Alberta",
          "University of Sheffield",
          "University of Glasgow",
          "University of Cape Town",
          "Delft University of Technology",
          "University of Montreal",
          "Ghent University",
          "Royal Holloway, University of London",
          "Tokyo Institute of Technology",
          "Humboldt University of Berlin",
          "University of California, Santa Cruz",
          "University of Basel",
          "University of Bern",
          "University of Utah",
          "Stony Brook University",
          "Eindhoven University of Technology",
          "University of Lausanne",
          "Monash University",
          "Trinity College Dublin",
          "Osaka University",
          "Tohoku University",
          "Hebrew University of Jerusalem",
          "University of York",
          "Indiana University",
          "Seoul National University",
          "Aarhus University",
          "University of Florida",
          "Arizona State University",
          "Queen Mary University of London",
          "University of Southampton",
          "University of Geneva",
          "Lancaster University",
          "Stockholm University",
          "University of Leeds",
          "University of Groningen",
          "George Washington University",
          "University of Copenhagen",
          "University of Virginia",
          "Georgetown University",
          "University of Vienna",
          "University of Nottingham",
          "University of Iowa",
          "École Normale Supérieure de Lyon",
          "University of California, Riverside",
          "Rensselaer Polytechnic Institute",
          "University of East Anglia",
          "Newcastle University",
          "William & Mary",
          "University of Birmingham",
          "Birkbeck, University of London",
          "Brandeis University",
          "Chinese University of Hong Kong",
          "Free University of Berlin",
          "University of Aberdeen",
          "National Taiwan University",
          "Yeshiva University",
          "University of Exeter",
          "Erasmus University Rotterdam",
          "University of Warwick",
          "Radboud University Nijmegen",
          "University College Dublin",
          "VU University Amsterdam",
          "Medical University of South Carolina",
          "Wake Forest University",
          "Texas A&M University",
          "University of Reading",
          "Tel Aviv University",
          "University of Illinois at Chicago",
          "RWTH Aachen University",
          "Nanyang Technological University",
          "Paris Diderot University – Paris 7",
          "Université Catholique de Louvain",
          "University of Miami",
          "Queen’s University",
          "University of Auckland",
          "University of New South Wales",
          "University of Dundee",
          "University of Victoria",
          "Technical University of Denmark",
          "University of São Paulo",
          "University of Delaware",
          "Goethe University Frankfurt",
          "University of Liverpool",
          "University of Oslo",
          "Iowa State University",
          "University of Ottawa",
          "Pompeu Fabra University",
          "KTH Royal Institute of Technology",
          "University of Tübingen",
          "University of Freiburg",
          "University of Western Australia",
          "University of Bergen",
          "University of Science and Technology of China",
          "City University of Hong Kong",
          "University of Konstanz",
          "Boston College",
          "Karlsruhe Institute of Technology",
          "Georgia Health Sciences University",
          "Maastricht University",
          "University of Leicester",
          "University of Twente",
          "Autonomous University of Barcelona",
          "Bilkent University",
          "Cardiff University",
          "Colorado School of Mines",
          "Nagoya University",
          "National Tsing Hua University",
          "Northeastern University",
          "Technion Israel Institute of Technology",
          "Tulane University",
          "Ulm University",
          "Umeå University",
          "University at Buffalo",
          "University of Adelaide",
          "University of Barcelona",
          "University of Cincinnati",
          "University of Essex",
          "University of Georgia",
          "University of Gothenburg",
          "University of Innsbruck",
          "University of Medicine and Dentistry of New Jersey",
          "University of Otago",
          "University of South Carolina",
          "University of Strasbourg",
          "University of Waterloo",
          "University of Western Ontario",
          "University of Würzburg",
          "Université Libre de Bruxelles",
          "Carleton University",
          "Chalmers University of Technology",
          "Colorado State University",
          "Creighton University",
          "Dalhousie University",
          "Drexel University",
          "Fudan University",
          "Korea University",
          "Macquarie University",
          "National Chiao Tung University",
          "Simon Fraser University",
          "State University of New York Albany",
          "Swedish University of Agricultural Sciences",
          "Tokyo Metropolitan University",
          "University of Bologna",
          "University of Calgary",
          "University of Hamburg",
          "University of Milan",
          "University of Milan-Bicocca",
          "University of Missouri",
          "University of Padua",
          "University of Trieste",
          "Yonsei University",
          "Bangor University",
          "Bielefeld University",
          "Brunel University London",
          "Hong Kong Polytechnic University",
          "Johannes Kepler University of Linz",
          "Kyushu University",
          "Nanjing University",
          "National Sun Yat-Sen University",
          "Norwegian University of Science and Technology",
          "Queen’s University Belfast",
          "Ruhr University Bochum",
          "Stellenbosch University",
          "Tilburg University",
          "TU Dresden",
          "University of Bath",
          "University of Graz",
          "University of Hawai’i at Mānoa",
          "University of Kiel",
          "University of Southern Denmark",
          "University of Texas at Dallas",
          "University of the Witwatersrand",
          "University of Tsukuba",
          "University of Wollongong",
          "Victoria University of Wellington",
          "Virginia Polytechnic Institute and State University",
          "Wayne State University",
          "Aberystwyth University",
          "Autonomous University of Madrid",
          "Hokkaido University",
          "Hong Kong Baptist University",
          "Istanbul Technical University",
          "Lomonosov Moscow State University",
          "Middle East Technical University",
          "Montpellier University",
          "Queensland University of Technology",
          "State University of Campinas",
          "Sun Yat-sen University",
          "Technical University of Darmstadt",
          "Tokyo Medical and Dental University (TMDU)",
          "UiT The Arctic University of Norway",
          "University of Antwerp",
          "University of Crete",
          "University of Guelph",
          "University of Iceland",
          "University of Kansas",
          "University of Kentucky",
          "University of Münster",
          "University of Newcastle",
          "University of Texas at San Antonio",
          "University of Trento",
          "York University",
          "Aalborg University",
          "Aalto University",
          "Alexandria University",
          "Bar-Ilan University",
          "Binghamton University, State University of New York",
          "Boğaziçi University",
          "Charles Darwin University",
          "Charles University in Prague",
          "George Mason University",
          "Indian Institute of Technology Bombay",
          "Jagiellonian University",
          "Keele University",
          "Keio University",
          "Kent State University",
          "Lehigh University",
          "Linköping University",
          "National Taiwan University of Science and Technology (Taiwan Tech)",
          "Plymouth University",
          "Polytechnic University of Milan",
          "Sapienza University of Rome",
          "Shanghai Jiao Tong University",
          "Sharif University of Technology",
          "Sungkyunkwan University (SKKU)",
          "University College Cork",
          "University of Aveiro",
          "University of Canterbury",
          "University of Eastern Finland",
          "University of Ferrara",
          "University of Hertfordshire",
          "University of Houston",
          "University of Hull",
          "University of Liège",
          "University of Manitoba",
          "University of Maryland, Baltimore County",
          "University of Modena and Reggio Emilia",
          "University of Oklahoma",
          "University of Pisa",
          "University of Porto",
          "University of South Florida",
          "University of Stirling",
          "University of Surrey",
          "University of Tampere",
          "University of Tasmania",
          "University of Valencia",
          "University of Waikato",
          "University of Warsaw",
          "Vienna University of Technology",
          "Vrije Universiteit Brussel",
          "Washington State University",
          "Zhejiang University",
          "Aston University",
          "Auburn University",
          "Clemson University",
          "Curtin University",
          "Deakin University",
          "Flinders University",
          "Georgia State University",
          "Griffith University",
          "Harbin Institute of Technology",
          "Heriot-Watt University",
          "Hiroshima University",
          "Kansas State University",
          "Kobe University",
          "Kyung Hee University",
          "La Trobe University",
          "Leibniz University of Hanover",
          "Liverpool John Moores University",
          "Loughborough University",
          "Mahidol University",
          "Massey University",
          "Michigan Technological University",
          "National Central University",
          "National Taiwan Ocean University",
          "National University of Ireland, Galway",
          "National University of Ireland, Maynooth",
          "New Jersey Institute of Technology",
          "New University of Lisbon",
          "Old Dominion University",
          "Polytechnic University of Catalonia",
          "Polytechnic University of Turin",
          "Polytechnic University of Valencia",
          "Pontifical Catholic University of Chile",
          "Saint Petersburg State University",
          "Swansea University",
          "Swinburne University of Technology",
          "Tokyo University of Agriculture and Technology",
          "University of Bari Aldo Moro",
          "University of Coimbra",
          "University of Idaho",
          "University of Kent",
          "University of Paris North – Paris 13",
          "University of Salento",
          "University of South Australia",
          "University of Strathclyde",
          "University of Tartu",
          "University of Turku",
          "University of Wyoming",
          "University of Zaragoza",
          "Waseda University",
          "Wuhan University",
          "Yuan Ze University",
          "California Institute of Technology",
          "Stanford University",
          "University of Oxford",
          "Harvard University",
          "Massachusetts Institute of Technology",
          "Princeton University",
          "University of Cambridge",
          "Imperial College London",
          "University of California, Berkeley",
          "University of Chicago",
          "Yale University",
          "ETH Zurich – Swiss Federal Institute of Technology Zurich",
          "University of California, Los Angeles",
          "Columbia University",
          "University of Pennsylvania",
          "Johns Hopkins University",
          "University College London",
          "Cornell University",
          "Northwestern University",
          "University of Michigan",
          "University of Toronto",
          "Carnegie Mellon University",
          "Duke University",
          "University of Washington",
          "Georgia Institute of Technology",
          "University of Texas at Austin",
          "University of Tokyo",
          "University of Melbourne",
          "National University of Singapore",
          "University of British Columbia",
          "University of Wisconsin-Madison",
          "University of Edinburgh",
          "University of Illinois at Urbana-Champaign",
          "McGill University",
          "University of California, Santa Barbara",
          "University of Hong Kong",
          "Australian National University",
          "University of California, San Diego",
          "London School of Economics and Political Science",
          "École Polytechnique Fédérale de Lausanne",
          "New York University",
          "Karolinska Institute",
          "University of North Carolina at Chapel Hill",
          "University of California, Davis",
          "Washington University in St Louis",
          "Peking University",
          "University of Minnesota",
          "LMU Munich",
          "University of Manchester",
          "Pohang University of Science and Technology",
          "Brown University",
          "Tsinghua University",
          "Ohio State University",
          "Boston University",
          "Kyoto University",
          "University of Southern California",
          "King’s College London",
          "KU Leuven",
          "Seoul National University",
          "École Normale Supérieure",
          "Pennsylvania State University",
          "University of Sydney",
          "École Polytechnique",
          "Leiden University",
          "Hong Kong University of Science and Technology",
          "The University of Queensland",
          "Utrecht University",
          "Korea Advanced Institute of Science and Technology (KAIST)",
          "Purdue University",
          "University of Göttingen",
          "Wageningen University and Research Center",
          "Erasmus University Rotterdam",
          "University of Massachusetts",
          "University of Bristol",
          "Rice University",
          "University of Pittsburgh",
          "Delft University of Technology",
          "Heidelberg University",
          "Emory University",
          "Durham University",
          "Pierre and Marie Curie University",
          "Lund University",
          "University of Amsterdam",
          "University of Montreal",
          "University of New South Wales",
          "Nanyang Technological University",
          "Tufts University",
          "McMaster University",
          "University of Groningen",
          "University of Zurich",
          "University of Colorado Boulder",
          "Paris-Sud University",
          "Ghent University",
          "Michigan State University",
          "University of Notre Dame",
          "University of California, Irvine",
          "University of Maryland, College Park",
          "University of Arizona",
          "Humboldt University of Berlin",
          "Monash University",
          "Rutgers, the State University of New Jersey",
          "University of Rochester",
          "University of York",
          "Case Western Reserve University",
          "Technical University of Munich",
          "Uppsala University",
          "Vanderbilt University",
          "University of St Andrews",
          "University of Helsinki",
          "Trinity College Dublin",
          "University of Sheffield",
          "University of Sussex",
          "University of Cape Town",
          "Eindhoven University of Technology",
          "Maastricht University",
          "Aarhus University",
          "Stockholm University",
          "University of Virginia",
          "Royal Holloway, University of London",
          "University of Nottingham",
          "University of Alberta",
          "University of California, Santa Cruz",
          "University of Florida",
          "Chinese University of Hong Kong",
          "Dartmouth College",
          "University of Warwick",
          "Radboud University Nijmegen",
          "Free University of Berlin",
          "Tokyo Institute of Technology",
          "University of Copenhagen",
          "University of Lausanne",
          "University of Southampton",
          "University of Geneva",
          "Indiana University",
          "National Taiwan University",
          "University of Utah",
          "Hebrew University of Jerusalem",
          "Tohoku University",
          "University of Glasgow",
          "KTH Royal Institute of Technology",
          "VU University Amsterdam",
          "University of Basel",
          "University of Leeds",
          "University of Freiburg",
          "Lancaster University",
          "Queen Mary University of London",
          "Osaka University",
          "Arizona State University",
          "Technical University of Denmark",
          "Boston College",
          "Karlsruhe Institute of Technology",
          "University of Bern",
          "University of Exeter",
          "RWTH Aachen University",
          "University of California, Riverside",
          "Texas A&M University",
          "Yeshiva University",
          "Tel Aviv University",
          "University of Birmingham",
          "University of São Paulo",
          "University of Auckland",
          "Stony Brook University",
          "University of Vienna",
          "Université Catholique de Louvain",
          "University of Delaware",
          "Paris Diderot University – Paris 7",
          "University of Texas at Dallas",
          "George Washington University",
          "University of Iowa",
          "École Normale Supérieure de Lyon",
          "University of Bonn",
          "University of Liverpool",
          "University of Ottawa",
          "Georgetown University",
          "Rensselaer Polytechnic Institute",
          "University of Aberdeen",
          "University of Adelaide",
          "University of East Anglia",
          "University of Reading",
          "Joseph Fourier University",
          "Newcastle University",
          "City University of Hong Kong",
          "Yonsei University",
          "Colorado School of Mines",
          "University of Illinois at Chicago",
          "William & Mary",
          "University College Dublin",
          "University of Twente",
          "Medical University of South Carolina",
          "University of Western Australia",
          "Wake Forest University",
          "University of Antwerp",
          "Iowa State University",
          "Technion Israel Institute of Technology",
          "University of Miami",
          "University of Leicester",
          "University of Victoria",
          "University at Buffalo",
          "Goethe University Frankfurt",
          "Birkbeck, University of London",
          "Autonomous University of Barcelona",
          "Brandeis University",
          "Cardiff University",
          "Fudan University",
          "Johannes Gutenberg University of Mainz",
          "Lomonosov Moscow State University",
          "Middle East Technical University",
          "Nagoya University",
          "Northeastern University",
          "Pompeu Fabra University",
          "Queen’s University",
          "St George’s, University of London",
          "Sungkyunkwan University (SKKU)",
          "Tilburg University",
          "University of Barcelona",
          "University of Dundee",
          "University of Erlangen-Nuremberg",
          "University of Georgia",
          "University of Gothenburg",
          "University of Innsbruck",
          "University of Konstanz",
          "University of Oslo",
          "University of Science and Technology of China",
          "University of Strasbourg",
          "University of Tübingen",
          "Bilkent University",
          "Carleton University",
          "Chalmers University of Technology",
          "Florida Institute of Technology",
          "Georgia Health Sciences University",
          "Indian Institute of Technology Kharagpur",
          "Korea University",
          "Koç University",
          "Laval University",
          "Mines ParisTech",
          "National Research Nuclear University MePhI",
          "National Tsing Hua University",
          "Simon Fraser University",
          "Technical University of Darmstadt",
          "Tulane University",
          "University of Bergen",
          "University of Calgary",
          "University of Cincinnati",
          "University of Missouri",
          "University of Otago",
          "University of South Florida",
          "University of the Witwatersrand",
          "University of Waterloo",
          "University of Western Ontario",
          "University of Würzburg",
          "Université Libre de Bruxelles",
          "Aalto University",
          "Dalhousie University",
          "Hong Kong Polytechnic University",
          "Indian Institute of Technology Bombay",
          "Macquarie University",
          "Nanjing University",
          "National Chiao Tung University",
          "Norwegian University of Science and Technology",
          "Queensland University of Technology",
          "State University of Campinas",
          "Stellenbosch University",
          "Tokyo Metropolitan University",
          "Umeå University",
          "University of Connecticut",
          "University of Essex",
          "University of Iceland",
          "University of Kiel",
          "University of Milan",
          "University of Milan-Bicocca",
          "University of Münster",
          "University of Oregon",
          "University of Trieste",
          "Victoria University of Wellington",
          "Vienna University of Technology",
          "Aberystwyth University",
          "Bangor University",
          "Bayreuth University",
          "Bielefeld University",
          "Boğaziçi University",
          "Colorado State University",
          "Drexel University",
          "Istanbul Technical University",
          "Montpellier University",
          "Oregon State University",
          "Queen’s University Belfast",
          "Ruhr University Bochum",
          "Shanghai Jiao Tong University",
          "Swedish University of Agricultural Sciences",
          "Tokyo Medical and Dental University (TMDU)",
          "TU Dresden",
          "University of Bath",
          "University of Bologna",
          "University of Kansas",
          "University of Montana",
          "University of Newcastle",
          "University of South Carolina",
          "University of Southern Denmark",
          "University of Trento",
          "University of Turin",
          "Virginia Polytechnic Institute and State University",
          "Autonomous University of Madrid",
          "Brunel University London",
          "Charles University in Prague",
          "Claude Bernard University Lyon 1",
          "Creighton University",
          "Hokkaido University",
          "Hong Kong Baptist University",
          "Johannes Kepler University of Linz",
          "King Abdulaziz University",
          "Kyushu University",
          "Linköping University",
          "Medical University of Vienna",
          "Murdoch University",
          "National Cheng Kung University",
          "National Sun Yat-Sen University",
          "National University of Ireland, Galway",
          "North Carolina State University",
          "Polytechnic University of Milan",
          "Renmin University of China",
          "Sapienza University of Rome",
          "Sharif University of Technology",
          "State University of New York Albany",
          "Sun Yat-sen University",
          "UiT The Arctic University of Norway",
          "University College Cork",
          "University of Canterbury",
          "University of Crete",
          "University of Eastern Finland",
          "University of Fribourg",
          "University of Graz",
          "University of Guelph",
          "University of Kentucky",
          "University of Manitoba",
          "University of Maryland, Baltimore County",
          "University of Padua",
          "University of Pavia",
          "University of Pisa",
          "University of Portsmouth",
          "University of South Australia",
          "University of Tampere",
          "University of Tsukuba",
          "University of Vermont",
          "University of Waikato",
          "University of Wollongong",
          "Vrije Universiteit Brussel",
          "Washington State University",
          "Wayne State University",
          "York University",
          "Zhejiang University",
          "Aalborg University",
          "Binghamton University, State University of New York",
          "Charles Darwin University",
          "Deakin University",
          "Flinders University",
          "George Mason University",
          "Heriot-Watt University",
          "Indian Institute of Technology Roorkee",
          "Jagiellonian University",
          "Keele University",
          "Keio University",
          "King Mongkut’s University of Technology Thonburi",
          "Lehigh University",
          "Leibniz University of Hanover",
          "Loughborough University",
          "Massey University",
          "National Autonomous University of Mexico",
          "National Central University",
          "National Taiwan University of Science and Technology (Taiwan Tech)",
          "National University of Ireland, Maynooth",
          "Paris Dauphine University",
          "Polytechnic University of Valencia",
          "Southern Methodist University",
          "Temple University",
          "University of Aveiro",
          "University of Duisburg-Essen",
          "University of Ferrara",
          "University of Hertfordshire",
          "University of Houston",
          "University of Jyväskylä",
          "University of KwaZulu-Natal",
          "University of Liège",
          "University of Minho",
          "University of Modena and Reggio Emilia",
          "University of Oklahoma",
          "University of Porto",
          "University of Salento",
          "University of Stirling",
          "University of Strathclyde",
          "University of Surrey",
          "University of Tartu",
          "University of Tasmania",
          "University of Technology Sydney",
          "University of Texas at San Antonio",
          "University of the Andes, Colombia",
          "University of Valencia",
          "University of Vigo",
          "University of Warsaw",
          "University of Wyoming",
          "Waseda University",
          "California Institute of Technology",
          "Harvard University",
          "University of Oxford",
          "Stanford University",
          "Massachusetts Institute of Technology",
          "Princeton University",
          "University of Cambridge",
          "University of California, Berkeley",
          "University of Chicago",
          "Imperial College London",
          "Yale University",
          "University of California, Los Angeles",
          "Columbia University",
          "ETH Zurich – Swiss Federal Institute of Technology Zurich",
          "Johns Hopkins University",
          "University of Pennsylvania",
          "Duke University",
          "University of Michigan",
          "Cornell University",
          "University of Toronto",
          "University College London",
          "Northwestern University",
          "University of Tokyo",
          "Carnegie Mellon University",
          "University of Washington",
          "National University of Singapore",
          "University of Texas at Austin",
          "Georgia Institute of Technology",
          "University of Illinois at Urbana-Champaign",
          "University of Wisconsin-Madison",
          "University of British Columbia",
          "London School of Economics and Political Science",
          "University of California, Santa Barbara",
          "University of Melbourne",
          "McGill University",
          "Karolinska Institute",
          "École Polytechnique Fédérale de Lausanne",
          "King’s College London",
          "University of Edinburgh",
          "New York University",
          "University of California, San Diego",
          "Washington University in St Louis",
          "University of Hong Kong",
          "Seoul National University",
          "Peking University",
          "University of Minnesota",
          "University of North Carolina at Chapel Hill",
          "Australian National University",
          "Pennsylvania State University",
          "Boston University",
          "Tsinghua University",
          "Brown University",
          "Kyoto University",
          "University of California, Davis",
          "LMU Munich",
          "Korea Advanced Institute of Science and Technology (KAIST)",
          "Hong Kong University of Science and Technology",
          "University of Manchester",
          "Ohio State University",
          "Pohang University of Science and Technology",
          "KU Leuven",
          "Purdue University",
          "The University of Queensland",
          "University of Göttingen",
          "Rice University",
          "École Normale Supérieure",
          "Leiden University",
          "Heidelberg University",
          "Delft University of Technology",
          "University of Southern California",
          "École Polytechnique",
          "University of Sydney",
          "Erasmus University Rotterdam",
          "University of Basel",
          "Utrecht University",
          "Nanyang Technological University",
          "Wageningen University and Research Center",
          "University of Pittsburgh",
          "University of Bristol",
          "Durham University",
          "Emory University",
          "Tufts University",
          "Michigan State University",
          "University of Amsterdam",
          "Ghent University",
          "Free University of Berlin",
          "Technical University of Munich",
          "Case Western Reserve University",
          "Vanderbilt University",
          "University of Notre Dame",
          "Monash University",
          "McMaster University",
          "University of California, Irvine",
          "Humboldt University of Berlin",
          "University of Rochester",
          "Pierre and Marie Curie University",
          "University of Colorado Boulder",
          "Maastricht University",
          "University of Groningen",
          "University of Helsinki",
          "University of York",
          "Royal Holloway, University of London",
          "Rutgers, the State University of New Jersey",
          "Stockholm University",
          "University of Arizona",
          "Eindhoven University of Technology",
          "University of Montreal",
          "University of Maryland, College Park",
          "Chinese University of Hong Kong",
          "University of Alberta",
          "Uppsala University",
          "University of Sheffield",
          "University of Virginia",
          "Paris-Sud University",
          "Queen Mary University of London",
          "University of New South Wales",
          "KTH Royal Institute of Technology",
          "Technical University of Denmark",
          "University of Glasgow",
          "University of St Andrews",
          "University of Sussex",
          "University of Zurich",
          "Lund University",
          "University of Geneva",
          "Tokyo Institute of Technology",
          "Dartmouth College",
          "University of Cape Town",
          "University of Florida",
          "RWTH Aachen University",
          "Trinity College Dublin",
          "Radboud University Nijmegen",
          "Indiana University",
          "University of Lausanne",
          "University of Massachusetts",
          "Boston College",
          "University of California, Santa Cruz",
          "Lancaster University",
          "Aarhus University",
          "Colorado School of Mines",
          "University of Leeds",
          "University of Warwick",
          "National Taiwan University",
          "University of Utah",
          "Osaka University",
          "VU University Amsterdam",
          "Arizona State University",
          "University of Southampton",
          "University of California, Riverside",
          "University of Exeter",
          "Tohoku University",
          "University of Copenhagen",
          "University of Freiburg",
          "University of Birmingham",
          "Karlsruhe Institute of Technology",
          "Joseph Fourier University",
          "École Normale Supérieure de Lyon",
          "University of Bern",
          "University of Nottingham",
          "Texas A&M University",
          "Georgetown University",
          "University College Dublin",
          "University of Iowa",
          "University of Leicester",
          "Brandeis University",
          "Pompeu Fabra University",
          "University of Antwerp",
          "University of Auckland",
          "University of Western Australia",
          "University of Liverpool",
          "University of Twente",
          "University of Vienna",
          "Université Catholique de Louvain",
          "Yeshiva University",
          "University of Delaware",
          "University of East Anglia",
          "University at Buffalo",
          "Université Libre de Bruxelles",
          "Paris Diderot University – Paris 7",
          "Stony Brook University",
          "Wake Forest University",
          "Rensselaer Polytechnic Institute",
          "University of Bonn",
          "Iowa State University",
          "Northeastern University",
          "University of Miami",
          "University of Oslo",
          "University of Ottawa",
          "University of Aberdeen",
          "University of Texas at Dallas",
          "Yonsei University",
          "Hebrew University of Jerusalem",
          "University of Illinois at Chicago",
          "Mines ParisTech",
          "George Washington University",
          "University of Reading",
          "University of Dundee",
          "Florida Institute of Technology",
          "Newcastle University",
          "Boğaziçi University",
          "Tel Aviv University",
          "Birkbeck, University of London",
          "Cardiff University",
          "City University of Hong Kong",
          "Fudan University",
          "Goethe University Frankfurt",
          "Istanbul Technical University",
          "Korea University",
          "Laval University",
          "Middle East Technical University",
          "Nagoya University",
          "St George’s, University of London",
          "Sungkyunkwan University (SKKU)",
          "Technion Israel Institute of Technology",
          "Tokyo Metropolitan University",
          "Ulm University",
          "University of Adelaide",
          "University of Bergen",
          "University of Calgary",
          "University of Gothenburg",
          "University of Innsbruck",
          "University of Science and Technology of China",
          "University of Strasbourg",
          "University of Trento",
          "University of Tübingen",
          "University of Victoria",
          "William & Mary",
          "Autonomous University of Barcelona",
          "Bilkent University",
          "Georgia Health Sciences University",
          "Lomonosov Moscow State University",
          "Panjab University",
          "Queen’s University",
          "Renmin University of China",
          "Simon Fraser University",
          "Technical University of Darmstadt",
          "Tilburg University",
          "Tulane University",
          "University of Barcelona",
          "University of Cincinnati",
          "University of Erlangen-Nuremberg",
          "University of Kiel",
          "University of Konstanz",
          "University of Milan-Bicocca",
          "University of Münster",
          "University of Otago",
          "University of São Paulo",
          "University of the Witwatersrand",
          "University of Trieste",
          "University of Turin",
          "University of Waterloo",
          "University of Western Ontario",
          "University of Würzburg",
          "Vienna University of Technology",
          "Brunel University London",
          "Dalhousie University",
          "Hong Kong Polytechnic University",
          "Medical University of Vienna",
          "Montpellier University",
          "Nanjing University",
          "National Chiao Tung University",
          "National Tsing Hua University",
          "Norwegian University of Science and Technology",
          "Queen’s University Belfast",
          "Sharif University of Technology",
          "Swedish University of Agricultural Sciences",
          "TU Dresden",
          "University of Cologne",
          "University of Essex",
          "University of Iceland",
          "University of Nebraska-Lincoln",
          "University of Newcastle",
          "University of Pavia",
          "University of South Carolina",
          "University of the Andes, Colombia",
          "Vrije Universiteit Brussel",
          "Carleton University",
          "Chalmers University of Technology",
          "Colorado State University",
          "Creighton University",
          "Koç University",
          "Macquarie University",
          "Plymouth University",
          "Polytechnic University of Milan",
          "Queensland University of Technology",
          "Tokyo Medical and Dental University (TMDU)",
          "University College Cork",
          "University of Alaska Fairbanks",
          "University of Bath",
          "University of Bologna",
          "University of Fribourg",
          "University of Georgia",
          "University of Kansas",
          "University of Milan",
          "University of Montana",
          "University of South Florida",
          "University of Southern Denmark",
          "University of Wollongong",
          "Victoria University of Wellington",
          "Virginia Polytechnic Institute and State University",
          "York University",
          "Aalborg University",
          "Aalto University",
          "Aberystwyth University",
          "Autonomous University of Madrid",
          "Bangor University",
          "Bayreuth University",
          "Bielefeld University",
          "Claude Bernard University Lyon 1",
          "Deakin University",
          "Drexel University",
          "Heriot-Watt University",
          "Hokkaido University",
          "Hong Kong Baptist University",
          "Kansas State University",
          "Keele University",
          "King Mongkut’s University of Technology Thonburi",
          "Kyushu University",
          "Lehigh University",
          "Linköping University",
          "Murdoch University",
          "National Cheng Kung University",
          "National Sun Yat-Sen University",
          "National University of Ireland, Galway",
          "Oregon State University",
          "Sapienza University of Rome",
          "Shanghai Jiao Tong University",
          "State University of Campinas",
          "State University of New York Albany",
          "Stellenbosch University",
          "Umeå University",
          "University of Canterbury",
          "University of Connecticut",
          "University of Crete",
          "University of Eastern Finland",
          "University of Hertfordshire",
          "University of Houston",
          "University of Liège",
          "University of Manitoba",
          "University of Missouri",
          "University of Padua",
          "University of Pisa",
          "University of Salento",
          "University of South Australia",
          "University of Tampere",
          "University of Technology Sydney",
          "University of Tsukuba",
          "University of Vermont",
          "University of Waikato",
          "University of Warsaw",
          "Washington State University",
          "Wayne State University",
          "Wuhan University of Technology",
          "Zhejiang University",
          "Charles Darwin University",
          "Charles University in Prague",
          "China Medical University, Taiwan",
          "George Mason University",
          "Hanyang University",
          "Indian Institute of Technology Delhi",
          "Indian Institute of Technology Kanpur",
          "Indian Institute of Technology Kharagpur",
          "Indian Institute of Technology Roorkee",
          "Johannes Kepler University of Linz",
          "King Abdulaziz University",
          "King Saud University",
          "Leibniz University of Hanover",
          "Liverpool John Moores University",
          "Loughborough University",
          "National Central University",
          "National Taiwan University of Science and Technology (Taiwan Tech)",
          "National University of Ireland, Maynooth",
          "Old Dominion University",
          "Polytechnic University of Valencia",
          "Ruhr University Bochum",
          "San Diego State University",
          "Sun Yat-sen University",
          "Swinburne University of Technology",
          "Temple University",
          "UiT The Arctic University of Norway",
          "University of Bari Aldo Moro",
          "University of Duisburg-Essen",
          "University of Ferrara",
          "University of Florence",
          "University of Graz",
          "University of Guelph",
          "University of Jyväskylä",
          "University of Maryland, Baltimore County",
          "University of Minho",
          "University of Navarra",
          "University of Oklahoma",
          "University of Porto",
          "University of Portsmouth",
          "University of Rovira i Virgili",
          "University of Stirling",
          "University of Surrey",
          "University of Tartu",
          "University of Tasmania",
          "University of Valencia",
          "University of Vigo",
          "University of Wyoming",
          "California Institute of Technology",
          "Harvard University",
          "University of Oxford",
          "Stanford University",
          "University of Cambridge",
          "Massachusetts Institute of Technology",
          "Princeton University",
          "University of California, Berkeley",
          "Imperial College London",
          "Yale University",
          "University of Chicago",
          "University of California, Los Angeles",
          "ETH Zurich – Swiss Federal Institute of Technology Zurich",
          "Columbia University",
          "Johns Hopkins University",
          "University of Pennsylvania",
          "University of Michigan",
          "Duke University",
          "Cornell University",
          "University of Toronto",
          "Northwestern University",
          "University College London",
          "University of Tokyo",
          "Carnegie Mellon University",
          "National University of Singapore",
          "University of Washington",
          "Georgia Institute of Technology",
          "University of Texas at Austin",
          "LMU Munich",
          "University of Illinois at Urbana-Champaign",
          "University of Wisconsin-Madison",
          "University of British Columbia",
          "University of Melbourne",
          "London School of Economics and Political Science",
          "École Polytechnique Fédérale de Lausanne",
          "University of Edinburgh",
          "University of California, Santa Barbara",
          "New York University",
          "McGill University",
          "King’s College London",
          "University of California, San Diego",
          "Washington University in St Louis",
          "University of Hong Kong",
          "Karolinska Institute",
          "Australian National University",
          "University of Minnesota",
          "University of North Carolina at Chapel Hill",
          "Peking University",
          "Tsinghua University",
          "Seoul National University",
          "Hong Kong University of Science and Technology",
          "Korea Advanced Institute of Science and Technology (KAIST)",
          "University of Manchester",
          "Brown University",
          "KU Leuven",
          "University of California, Davis",
          "Boston University",
          "Pennsylvania State University",
          "Kyoto University",
          "University of Sydney",
          "Nanyang Technological University",
          "École Polytechnique",
          "Scuola Normale Superiore di Pisa",
          "Leiden University",
          "The University of Queensland",
          "Pohang University of Science and Technology",
          "University of Göttingen",
          "Ohio State University",
          "Rice University",
          "Heidelberg University",
          "Delft University of Technology",
          "Erasmus University Rotterdam",
          "Wageningen University and Research Center",
          "University of Bristol",
          "University of Basel",
          "University of Southern California",
          "University of Amsterdam",
          "École Normale Supérieure",
          "Utrecht University",
          "Humboldt University of Berlin",
          "Free University of Berlin",
          "Michigan State University",
          "Durham University",
          "Monash University",
          "Middle East Technical University",
          "University of Arizona",
          "University of Notre Dame",
          "Tufts University",
          "University of California, Irvine",
          "Ghent University",
          "University of Massachusetts",
          "University of Pittsburgh",
          "Emory University",
          "McMaster University",
          "University of Glasgow",
          "Vanderbilt University",
          "University of Colorado Boulder",
          "Stockholm University",
          "Technical University of Munich",
          "Uppsala University",
          "Maastricht University",
          "Purdue University",
          "Pierre and Marie Curie University",
          "University of Helsinki",
          "University of Warwick",
          "University of Zurich",
          "Queen Mary University of London",
          "University of Geneva",
          "University of California, Santa Cruz",
          "University of New South Wales",
          "University of St Andrews",
          "University of Sussex",
          "University of Montreal",
          "University of Tübingen",
          "University of York",
          "Case Western Reserve University",
          "University of Groningen",
          "Royal Holloway, University of London",
          "Lund University",
          "Paris-Sud University",
          "Technical University of Denmark",
          "University of Rochester",
          "University of Sheffield",
          "University of Alberta",
          "University of Cape Town",
          "Boston College",
          "KTH Royal Institute of Technology",
          "University of Florida",
          "Chinese University of Hong Kong",
          "University of Virginia",
          "Lancaster University",
          "University of Bern",
          "University of Maryland, College Park",
          "University of Southampton",
          "TU Dresden",
          "University of Lausanne",
          "VU University Amsterdam",
          "Trinity College Dublin",
          "Boğaziçi University",
          "Radboud University Nijmegen",
          "Colorado School of Mines",
          "Texas A&M University",
          "Tokyo Institute of Technology",
          "Eindhoven University of Technology",
          "Rutgers, the State University of New Jersey",
          "University of Leeds",
          "Brandeis University",
          "Sungkyunkwan University (SKKU)",
          "University of Birmingham",
          "Indiana University",
          "University of California, Riverside",
          "Dartmouth College",
          "Aarhus University",
          "University of Exeter",
          "National Taiwan University",
          "RWTH Aachen University",
          "Osaka University",
          "University of Liverpool",
          "University of Western Australia",
          "University of Copenhagen",
          "École Normale Supérieure de Lyon",
          "University of Utah",
          "University of Freiburg",
          "University of Adelaide",
          "Istanbul Technical University",
          "Karlsruhe Institute of Technology",
          "Pompeu Fabra University",
          "Tohoku University",
          "University of Miami",
          "University of Antwerp",
          "University of Nottingham",
          "Université Catholique de Louvain",
          "Georgetown University",
          "University of Victoria",
          "University of Auckland",
          "University of Iowa",
          "Syracuse University",
          "Joseph Fourier University",
          "University of Aberdeen",
          "Paris Diderot University – Paris 7",
          "University of Delaware",
          "Arizona State University",
          "Sabancı University",
          "University of Vienna",
          "Northeastern University",
          "University of Oslo",
          "Yeshiva University",
          "Stony Brook University",
          "Tel Aviv University",
          "University of Ottawa",
          "University at Buffalo",
          "City University of Hong Kong",
          "Fudan University",
          "Iowa State University",
          "University of Bonn",
          "Lomonosov Moscow State University",
          "St George’s, University of London",
          "University of East Anglia",
          "University of Leicester",
          "Florida Institute of Technology",
          "George Washington University",
          "Bilkent University",
          "Cardiff University",
          "Goethe University Frankfurt",
          "Hebrew University of Jerusalem",
          "Hong Kong Polytechnic University",
          "Korea University",
          "Newcastle University",
          "Technion Israel Institute of Technology",
          "Ulm University",
          "University of Barcelona",
          "University of Bergen",
          "University of Dundee",
          "University of Illinois at Chicago",
          "University of Innsbruck",
          "University of Reading",
          "University of Science and Technology of China",
          "University of Strasbourg",
          "University of São Paulo",
          "University of Texas at Dallas",
          "University of Trieste",
          "University of Twente",
          "Université Libre de Bruxelles",
          "Wake Forest University",
          "William & Mary",
          "Yonsei University",
          "Autonomous University of Barcelona",
          "Birkbeck, University of London",
          "Brunel University London",
          "Carleton University",
          "Dalhousie University",
          "Laval University",
          "Mines ParisTech",
          "Nagoya University",
          "Rensselaer Polytechnic Institute",
          "Simon Fraser University",
          "State University of New York Albany",
          "Technical University of Berlin",
          "Tokyo Metropolitan University",
          "University College Dublin",
          "University of Calgary",
          "University of Gothenburg",
          "University of Kiel",
          "University of Konstanz",
          "University of Milan-Bicocca",
          "University of Technology Sydney",
          "University of Western Ontario",
          "University of Würzburg",
          "Vienna University of Technology",
          "York University",
          "Aalto University",
          "Federico Santa María Technical University",
          "Medical University of Vienna",
          "Nanjing University",
          "National Tsing Hua University",
          "National University of Ireland, Galway",
          "Queen’s University",
          "Queen’s University Belfast",
          "Swedish University of Agricultural Sciences",
          "Technical University of Darmstadt",
          "University of Bremen",
          "University of Hawai’i at Mānoa",
          "University of Iceland",
          "University of Münster",
          "University of New Mexico",
          "University of Newcastle",
          "University of Otago",
          "University of Pavia",
          "University of Salento",
          "University of South Florida",
          "University of the Andes, Colombia",
          "University of the Witwatersrand",
          "University of Trento",
          "University of Turin",
          "University of Waterloo",
          "Chalmers University of Technology",
          "Colorado State University",
          "Indian Institute of Science",
          "Lappeenranta University of Technology",
          "Montpellier University",
          "National Chiao Tung University",
          "Norwegian University of Science and Technology",
          "Panjab University",
          "Plymouth University",
          "Queensland University of Technology",
          "Shanghai Jiao Tong University",
          "Stellenbosch University",
          "Tilburg University",
          "Tokyo Medical and Dental University (TMDU)",
          "University College Cork",
          "University of Bologna",
          "University of Cincinnati",
          "University of Erlangen-Nuremberg",
          "University of Fribourg",
          "University of Georgia",
          "University of Macau",
          "University of Milan",
          "University of Nebraska-Lincoln",
          "University of South Australia",
          "University of South Carolina",
          "University of Wollongong",
          "Victoria University of Wellington",
          "Virginia Polytechnic Institute and State University",
          "Autonomous University of Madrid",
          "Bangor University",
          "Charles Darwin University",
          "Charles University in Prague",
          "Creighton University",
          "Deakin University",
          "Drexel University",
          "Hong Kong Baptist University",
          "Illinois Institute of Technology",
          "Kansas State University",
          "Koç University",
          "Macquarie University",
          "Novosibirsk State University",
          "Oregon State University",
          "Polytechnic University of Milan",
          "Renmin University of China",
          "San Diego State University",
          "Sapienza University of Rome",
          "Sharif University of Technology",
          "State University of Campinas",
          "Sun Yat-sen University",
          "Tulane University",
          "University of Bath",
          "University of Canterbury",
          "University of Cologne",
          "University of Connecticut",
          "University of Crete",
          "University of Duisburg-Essen",
          "University of Essex",
          "University of Houston",
          "University of Jyväskylä",
          "University of Kansas",
          "University of Manitoba",
          "University of Marrakech Cadi Ayyad",
          "University of Montana",
          "University of Nebraska Medical Center",
          "University of Oklahoma",
          "University of Padua",
          "University of Pisa",
          "University of Southern Denmark",
          "University of Stirling",
          "University of Stuttgart",
          "University of Tampere",
          "University of Tsukuba",
          "University of Valencia",
          "University of Warsaw",
          "Wayne State University",
          "Zhejiang University",
          "Aalborg University",
          "Aberystwyth University",
          "Aston University",
          "Bayreuth University",
          "Bielefeld University",
          "Claude Bernard University Lyon 1",
          "Curtin University",
          "Ewha Womans University",
          "George Mason University",
          "Hanyang University",
          "Hokkaido University",
          "Indian Institute of Technology Bombay",
          "Indian Institute of Technology Roorkee",
          "Isfahan University of Technology",
          "King Mongkut’s University of Technology Thonburi",
          "Kyushu University",
          "Lehigh University",
          "Linköping University",
          "Murdoch University",
          "National Cheng Kung University",
          "National Sun Yat-Sen University",
          "National Taiwan University of Science and Technology (Taiwan Tech)",
          "Royal College of Surgeons in Ireland",
          "Ruhr University Bochum",
          "Swinburne University of Technology",
          "UiT The Arctic University of Norway",
          "Umeå University",
          "University of Bari Aldo Moro",
          "University of Eastern Finland",
          "University of Ferrara",
          "University of Florence",
          "University of Graz",
          "University of Hertfordshire",
          "University of Lisbon",
          "University of Liège",
          "University of Minho",
          "University of Missouri",
          "University of Navarra",
          "University of Portsmouth",
          "University of Rome III",
          "University of Seoul",
          "University of Turku",
          "University of Vermont",
          "University of Waikato",
          "Vrije Universiteit Brussel",
          "Waseda University",
          "Washington State University",
          "Western Sydney University",
          "Wuhan University",
          "Wuhan University of Technology",
          "California Institute of Technology",
          "University of Oxford",
          "Stanford University",
          "University of Cambridge",
          "Massachusetts Institute of Technology",
          "Harvard University",
          "Princeton University",
          "Imperial College London",
          "ETH Zurich – Swiss Federal Institute of Technology Zurich",
          "University of Chicago",
          "Johns Hopkins University",
          "Yale University",
          "University of California, Berkeley",
          "University College London",
          "Columbia University",
          "University of California, Los Angeles",
          "University of Pennsylvania",
          "Cornell University",
          "University of Toronto",
          "Duke University",
          "University of Michigan",
          "Carnegie Mellon University",
          "London School of Economics and Political Science",
          "University of Edinburgh",
          "Northwestern University",
          "National University of Singapore",
          "King’s College London",
          "Karolinska Institute",
          "LMU Munich",
          "New York University",
          "École Polytechnique Fédérale de Lausanne",
          "University of Washington",
          "University of Melbourne",
          "University of British Columbia",
          "KU Leuven",
          "University of Illinois at Urbana-Champaign",
          "Heidelberg University",
          "McGill University",
          "University of California, San Diego",
          "University of California, Santa Barbara",
          "Georgia Institute of Technology",
          "Peking University",
          "University of Tokyo",
          "University of California, Davis",
          "University of Hong Kong",
          "University of Texas at Austin",
          "Tsinghua University",
          "Wageningen University and Research Center",
          "Humboldt University of Berlin",
          "University of Wisconsin-Madison",
          "Brown University",
          "Australian National University",
          "Technical University of Munich",
          "École Normale Supérieure",
          "Nanyang Technological University",
          "University of Manchester",
          "University of Sydney",
          "University of Amsterdam",
          "Hong Kong University of Science and Technology",
          "The University of Queensland",
          "Washington University in St Louis",
          "Utrecht University",
          "University of North Carolina at Chapel Hill",
          "Boston University",
          "Delft University of Technology",
          "University of Minnesota",
          "Leiden University",
          "University of Southern California",
          "University of Bristol",
          "Durham University",
          "Erasmus University Rotterdam",
          "Free University of Berlin",
          "Monash University",
          "University of Groningen",
          "Pennsylvania State University",
          "University of Glasgow",
          "University of Helsinki",
          "University of Tübingen",
          "University of Pittsburgh",
          "University of Warwick",
          "Uppsala University",
          "University of Copenhagen",
          "University of New South Wales",
          "University of Freiburg",
          "Seoul National University",
          "University of St Andrews",
          "Vanderbilt University",
          "Kyoto University",
          "Maastricht University",
          "Emory University",
          "Lund University",
          "Ohio State University",
          "University of Exeter",
          "University of Bonn",
          "Georgetown University",
          "McMaster University",
          "University of Sheffield",
          "Queen Mary University of London",
          "University of Göttingen",
          "Michigan State University",
          "University of Basel",
          "École Polytechnique",
          "Rice University",
          "Dartmouth College",
          "University of Zurich",
          "Aarhus University",
          "University of California, Irvine",
          "University of Mannheim",
          "University of Notre Dame",
          "University of Western Australia",
          "RWTH Aachen University",
          "University of Southampton",
          "Scuola Normale Superiore di Pisa",
          "University of Montreal",
          "Pierre and Marie Curie University",
          "Purdue University",
          "Pohang University of Science and Technology",
          "University of Maryland, College Park",
          "Ghent University",
          "University of Birmingham",
          "University of Bern",
          "University of Cape Town",
          "University of Florida",
          "University of Erlangen-Nuremberg",
          "Rutgers, the State University of New Jersey",
          "University of Münster",
          "Radboud University Nijmegen",
          "University of Colorado Boulder",
          "Tufts University",
          "Royal Holloway, University of London",
          "Lancaster University",
          "University of Geneva",
          "University of York",
          "Case Western Reserve University",
          "University of Leeds",
          "University of Oslo",
          "Stockholm University",
          "University of Alberta",
          "Chinese University of Hong Kong",
          "Karlsruhe Institute of Technology",
          "University of Sussex",
          "University of Massachusetts",
          "University of Vienna",
          "University of Nottingham",
          "University of California, Santa Cruz",
          "University of Lausanne",
          "Autonomous University of Barcelona",
          "University of Virginia",
          "Korea Advanced Institute of Science and Technology (KAIST)",
          "University of Adelaide",
          "University of East Anglia",
          "University of Twente",
          "Sungkyunkwan University (SKKU)",
          "VU University Amsterdam",
          "KTH Royal Institute of Technology",
          "University of Cologne",
          "University of Liverpool",
          "TU Dresden",
          "University of Rochester",
          "Trinity College Dublin",
          "Lomonosov Moscow State University",
          "University of Miami",
          "University of Arizona",
          "Pompeu Fabra University",
          "University of Reading",
          "Yeshiva University",
          "University of California, Riverside",
          "University of Leicester",
          "National Taiwan University",
          "Technical University of Denmark",
          "Université Catholique de Louvain",
          "University of Aberdeen",
          "University of Auckland",
          "University of Barcelona",
          "University of Konstanz",
          "Eindhoven University of Technology",
          "University College Dublin",
          "Hebrew University of Jerusalem",
          "University of Waterloo",
          "University of Gothenburg",
          "Scuola Superiore Sant’Anna",
          "University of Bergen",
          "Cardiff University",
          "University of Utah",
          "Brandeis University",
          "University of Dundee",
          "University of Würzburg",
          "Paris-Sud University",
          "Arizona State University",
          "University of Antwerp",
          "Boston College",
          "Ulm University",
          "University of Luxembourg",
          "Texas A&M University",
          "Charité - Universitätsmedizin Berlin",
          "Newcastle University",
          "St George’s, University of London",
          "University of Trento",
          "Paris Diderot University – Paris 7",
          "Queen’s University Belfast",
          "Aalborg University",
          "Birkbeck, University of London",
          "University of Bologna",
          "University at Buffalo",
          "University of Calgary",
          "Chalmers University of Technology",
          "City University of Hong Kong",
          "Copenhagen Business School",
          "Dalhousie University",
          "University of Duisburg-Essen",
          "École Normale Supérieure de Lyon",
          "Florida State University",
          "University of Fribourg",
          "Fudan University",
          "George Washington University",
          "Goethe University Frankfurt",
          "University of Hawai’i at Mānoa",
          "Hong Kong Polytechnic University",
          "University of Illinois at Chicago",
          "Indiana University",
          "University of Iowa",
          "Johannes Gutenberg University of Mainz",
          "Joseph Fourier University",
          "University of Kiel",
          "Laval University",
          "Medical University of Vienna",
          "Northeastern University",
          "Oregon Health and Science University",
          "University of Otago",
          "University of Ottawa",
          "Paris Descartes University",
          "Peter the Great St Petersburg Polytechnic University",
          "Polytechnic University of Milan",
          "Royal Veterinary College",
          "Rush University",
          "Sapienza University of Rome",
          "University of Science and Technology of China",
          "University of South Florida",
          "Stony Brook University",
          "University of Stuttgart",
          "Swedish University of Agricultural Sciences",
          "Technical University of Darmstadt",
          "University of Technology Sydney",
          "Tel Aviv University",
          "University of Texas at Dallas",
          "Tilburg University",
          "Tohoku University",
          "Tokyo Institute of Technology",
          "University of Victoria",
          "Wake Forest University",
          "University of Western Ontario",
          "William & Mary",
          "University of the Witwatersrand",
          "Aalto University",
          "Aix-Marseille University",
          "University of Bath",
          "Bayreuth University",
          "Bielefeld University",
          "University of Bordeaux",
          "Charles Darwin University",
          "Colorado School of Mines",
          "Colorado State University",
          "University of Delaware",
          "Flinders University",
          "University of Georgia",
          "Griffith University",
          "University of Iceland",
          "Indian Institute of Science",
          "Iowa State University",
          "James Cook University",
          "Justus Liebig University Giessen",
          "King Abdulaziz University",
          "Koç University",
          "Korea University",
          "University of Liège",
          "Linköping University",
          "Nanjing University",
          "National Tsing Hua University",
          "National University of Ireland, Galway",
          "University of Newcastle",
          "North Carolina State University",
          "Oregon State University",
          "Osaka University",
          "Queen’s University",
          "Queensland University of Technology",
          "Rensselaer Polytechnic Institute",
          "Royal College of Surgeons in Ireland",
          "Ruhr University Bochum",
          "Saint Louis University",
          "University of São Paulo",
          "Simon Fraser University",
          "University of Surrey",
          "Syracuse University",
          "University of Tasmania",
          "University of Tennessee, Knoxville",
          "Tomsk Polytechnic University",
          "Tulane University",
          "Umeå University",
          "Vienna University of Technology",
          "Virginia Polytechnic Institute and State University",
          "University of Wollongong",
          "Zhejiang University",
          "Aberystwyth University",
          "University of Alaska Fairbanks",
          "Autonomous University of Madrid",
          "Bangor University",
          "University of Bremen",
          "University of Cincinnati",
          "University of Connecticut",
          "Deakin University",
          "University of Essex",
          "George Mason University",
          "University of Greifswald",
          "Gwangju Institute of Science and Technology",
          "University of Hohenheim",
          "University of Innsbruck",
          "Kazan Federal University",
          "University of Kent",
          "Leibniz University of Hanover",
          "Macquarie University",
          "Medical College of Wisconsin",
          "University of Milan",
          "University of Milan-Bicocca",
          "Montpellier University",
          "Nagoya University",
          "University of Naples Federico II",
          "National Chiao Tung University",
          "National Research Nuclear University MePhI",
          "National Taiwan University of Science and Technology (Taiwan Tech)",
          "University of Navarra",
          "University of Nebraska-Lincoln",
          "Örebro University",
          "University of Oregon",
          "University of Padua",
          "University of Pavia",
          "Plymouth University",
          "Shanghai Jiao Tong University",
          "University of Southern Denmark",
          "Stellenbosch University",
          "University of Strasbourg",
          "Technical University of Dortmund",
          "Technion Israel Institute of Technology",
          "Toulouse 1 Capitole University",
          "University of Trieste",
          "University of Turin",
          "University of Turku",
          "Vrije Universiteit Brussel",
          "VŠB - Technical University of Ostrava",
          "Yonsei University",
          "York University",
          "Bilkent University",
          "Binghamton University, State University of New York",
          "University of Crete",
          "University of Cyprus",
          "Drexel University",
          "University of Eastern Finland",
          "University of Florence",
          "University of St Gallen",
          "Graz University of Technology",
          "University of Guelph",
          "Hanyang University",
          "Hong Kong Baptist University",
          "University of Houston",
          "Indian Institute of Technology Bombay",
          "Instituto Superior Técnico Lisboa",
          "University of Jyväskylä",
          "La Trobe University",
          "Loughborough University",
          "University of Manitoba",
          "University of Missouri",
          "University of Modena and Reggio Emilia",
          "University of Montana",
          "National University of Ireland, Maynooth",
          "University of Nebraska Medical Center",
          "University of New Mexico",
          "Norwegian University of Science and Technology",
          "University of Oulu",
          "Panthéon-Sorbonne University – Paris 1",
          "Polytechnic University of Turin",
          "University of Rome III",
          "Sabancı University",
          "San Diego State University",
          "University of South Australia",
          "University of South Carolina",
          "University of South Dakota",
          "State University of Campinas",
          "University of Stirling",
          "Sun Yat-sen University",
          "Swansea University",
          "Swinburne University of Technology",
          "University of Tartu",
          "Temple University",
          "University of Texas at San Antonio",
          "UiT The Arctic University of Norway",
          "Université Libre de Bruxelles",
          "Lille 2 University – Health and Law",
          "University College Cork",
          "Verona University",
          "Victoria University of Wellington",
          "Washington State University",
          "Wayne State University",
          "American University",
          "Aston University",
          "University of Aveiro",
          "University of Bari Aldo Moro",
          "Bar-Ilan University",
          "Bournemouth University",
          "University of Brescia",
          "Brno University of Technology",
          "Brunel University London",
          "Ca’ Foscari University of Venice",
          "University of Cagliari",
          "University of Canterbury",
          "Catholic University of the Sacred Heart",
          "Charles University in Prague",
          "China Medical University, Taiwan",
          "City University London",
          "Claude Bernard University Lyon 1",
          "University of Coimbra",
          "Complutense University of Madrid",
          "Concordia University",
          "Curtin University",
          "Dublin City University",
          "East China University of Science and Technology",
          "Ewha Womans University",
          "Federico Santa María Technical University",
          "University of Ferrara",
          "Florida International University",
          "University of Genoa",
          "Georgia State University",
          "University of Graz",
          "Heriot-Watt University",
          "Hokkaido University",
          "Howard University",
          "University of Hull",
          "University of Idaho",
          "Indian Institute of Technology Delhi",
          "Indian Institute of Technology Kharagpur",
          "Indian Institute of Technology Madras",
          "University of Ioannina",
          "Iran University of Science and Technology",
          "Johannes Kepler University of Linz",
          "University of Kaiserslautern",
          "Keele University",
          "University of KwaZulu-Natal",
          "Kyung Hee University",
          "Kyushu University",
          "Lehigh University",
          "Louisiana State University",
          "University of Macau",
          "Makerere University",
          "Marche Polytechnic University",
          "University of Maryland, Baltimore County",
          "Murdoch University",
          "University of Nantes",
          "National and Kapodistrian University of Athens",
          "National Autonomous University of Mexico",
          "National Cheng Kung University",
          "National Institute of Applied Sciences of Lyon (INSA Lyon)",
          "National Yang-Ming University",
          "University of Neuchâtel",
          "New University of Lisbon",
          "University of Nice Sophia Antipolis",
          "Novosibirsk State University",
          "The Open University",
          "Oxford Brookes University",
          "University of Palermo",
          "University of Parma",
          "University of Pisa",
          "Polytechnic University of Catalonia",
          "Pontifical Catholic University of Chile",
          "University of Porto",
          "University of Portsmouth",
          "RMIT University",
          "University of Rome II – Tor Vergata",
          "University of Rovira i Virgili",
          "Saint Petersburg State University",
          "University of Salento",
          "University of San Francisco",
          "University of Saskatchewan",
          "Sharif University of Technology",
          "University of Siena",
          "Southern Cross University",
          "State University of New York Albany",
          "University of Strathclyde",
          "University of Tampere",
          "Tampere University of Technology",
          "Tokyo Medical and Dental University (TMDU)",
          "Tokyo Metropolitan University",
          "University of Tsukuba",
          "University of Ulsan",
          "Ulster University",
          "Université du Québec à Montréal",
          "Universiti Teknologi Malaysia",
          "University of Urbino Carlo Bo",
          "University of Valencia",
          "University of Waikato",
          "Western Sydney University",
          "Wuhan University",
          "Xiamen University",
          "American University of Beirut",
          "Amirkabir University of Technology",
          "University of the Andes, Colombia",
          "University of Arkansas",
          "Auburn University",
          "Babeş-Bolyai University",
          "University of the Basque Country",
          "Bauman Moscow State Technical University",
          "Ben-Gurion University of the Negev",
          "Blaise Pascal University",
          "Boğaziçi University",
          "University of Burgundy",
          "University of Canberra",
          "Carleton University",
          "University of Catania",
          "Central Queensland University",
          "University of Chile",
          "China Agricultural University",
          "Chung-Ang University",
          "Czech Technical University in Prague",
          "De Montfort University",
          "East China Normal University",
          "Edith Cowan University",
          "Federal University of Rio de Janeiro",
          "University of Granada",
          "University of Haifa",
          "Harbin Institute of Technology",
          "University of Hertfordshire",
          "Hiroshima University",
          "Huazhong University of Science and Technology",
          "Indian Institute of Technology Guwahati",
          "Indian Institute of Technology Kanpur",
          "Indian Institute of Technology Roorkee",
          "Isfahan University of Technology",
          "Istanbul Technical University",
          "Jadavpur University",
          "Kanazawa University",
          "Kansas State University",
          "Keio University",
          "Kent State University",
          "King Fahd University of Petroleum and Minerals",
          "King Saud University",
          "University of La Laguna",
          "Lappeenranta University of Technology",
          "University of Limerick",
          "University of Lisbon",
          "Liverpool John Moores University",
          "Mahidol University",
          "Manchester Metropolitan University",
          "University of Maribor",
          "Masaryk University",
          "Massey University",
          "Memorial University of Newfoundland",
          "Middle East Technical University",
          "University of Minho",
          "Missouri University of Science and Technology",
          "Montana State University",
          "Monterrey Institute of Technology and Higher Education",
          "National Central University",
          "National Sun Yat-Sen University",
          "National Taiwan Normal University",
          "National Technical University of Athens",
          "New Jersey Institute of Technology",
          "New Mexico State University",
          "University of North Carolina at Greensboro",
          "Oklahoma State University",
          "Osaka City University",
          "Otto von Guericke University of Magdeburg",
          "University of Oviedo",
          "Palacký University in Olomouc",
          "Panjab University",
          "Paris Dauphine University",
          "Pontifical Catholic University of Rio de Janeiro (PUC-Rio)",
          "Portland State University",
          "University of Pretoria",
          "Pusan National University",
          "Quaid-i-azam University",
          "University of Regina",
          "Renmin University of China",
          "University of Rennes 1",
          "University of Salamanca",
          "University of Santiago de Compostela",
          "Semmelweis University",
          "University of Seville",
          "Université de Sherbrooke",
          "Soochow University",
          "South China University of Technology",
          "Tallinn University of Technology",
          "Tehran University of Medical Sciences",
          "University of Texas at Arlington",
          "Tianjin University",
          "Tokyo University of Agriculture and Technology",
          "University of Toledo",
          "Tongji University",
          "University of Tulsa",
          "United Arab Emirates University",
          "University of Warsaw",
          "University of Wisconsin-Milwaukee",
          "Xi’an Jiaotong University",
          "University of Zaragoza",
          "University of A Coruña",
          "Adam Mickiewicz University",
          "AGH University of Science and Technology",
          "Ajou University",
          "University of Alcalá",
          "Alexandria University",
          "Alexandru Ioan Cuza University",
          "Aligarh Muslim University",
          "American University of Sharjah",
          "Amrita University",
          "Anadolu University",
          "Andhra University",
          "University of Antioquia",
          "Aristotle University of Thessaloniki",
          "Asia University, Taiwan",
          "Athens University of Economics and Business",
          "Auckland University of Technology",
          "Austral University of Chile",
          "Beijing Institute of Technology",
          "Belarusian State University",
          "University of Belgrade",
          "Birla Institute of Technology and Science, Pilani",
          "University of Bradford",
          "University of Brasília",
          "University of Brighton",
          "University of Bucharest",
          "Budapest University of Technology and Economics",
          "Cairo University",
          "University of Calcutta",
          "California State University, Long Beach",
          "Capital Medical University",
          "University of Castilla-La Mancha",
          "University of Central Lancashire",
          "University of Cergy-Pontoise",
          "Chang Gung University",
          "Carlos III University of Madrid",
          "University of Chemistry and Technology, Prague",
          "Chiang Mai University",
          "Chiba University",
          "China University of Geosciences (Wuhan)",
          "China University of Petroleum (Beijing)",
          "Chonbuk National University",
          "Chongqing University",
          "Chonnam National University",
          "Chulalongkorn University",
          "Chung Yuan Christian University",
          "Chungnam National University",
          "Clemson University",
          "Comenius University in Bratislava",
          "Coventry University",
          "Dalian University of Technology",
          "University of Debrecen",
          "University of Delhi",
          "University of Dhaka",
          "Dublin Institute of Technology",
          "Ehime University",
          "University of Electronic Science and Technology of China",
          "Eötvös Loránd University",
          "Erciyes University",
          "Federal University of Bahia",
          "Federal University of Minas Gerais",
          "Federal University of Paraná (UFPR)",
          "Federal University of Rio Grande do Sul",
          "Federal University of Santa Catarina",
          "Federal University of São Carlos",
          "Federal University of Viçosa",
          "Federal University of Lavras",
          "Feng Chia University",
          "Florida Institute of Technology",
          "Fu Jen Catholic University",
          "Gdańsk University of Technology",
          "University of Ghana",
          "Gifu University",
          "Glasgow Caledonian University",
          "University of Greenwich",
          "Hacettepe University",
          "University of Huddersfield",
          "Hunan University",
          "University of Ibadan",
          "University of Indonesia",
          "Inha University",
          "I-Shou University",
          "Istanbul University",
          "Jagiellonian University",
          "Jilin University",
          "University of Jordan",
          "Jordan University of Science and Technology",
          "Juntendo University",
          "K.N. Toosi University of Technology",
          "Kaohsiung Medical University",
          "Khon Kaen University",
          "King Mongkut’s University of Technology Thonburi",
          "Kingston University",
          "Kinki University",
          "Kobe University",
          "Konkuk University",
          "Kumamoto University",
          "Kyungpook National University",
          "Kyushu Institute of Technology",
          "University of Latvia",
          "Lille 1 University – Science and Technology",
          "University of Lincoln",
          "University of Ljubljana",
          "University of Marrakech Cadi Ayyad",
          "Miami University",
          "Middlesex University",
          "Moscow Institute of Physics and Technology",
          "University of Murcia",
          "Nagasaki University",
          "University of Nairobi",
          "National Chengchi University",
          "National Chung Cheng University",
          "National Chung Hsing University",
          "National Taipei University of Technology",
          "National Taiwan Ocean University",
          "National University of Córdoba",
          "National University of Science and Technology (MISiS)",
          "National University of Sciences and Technology",
          "Niigata University",
          "Northumbria University",
          "Northwestern Polytechnical University",
          "Nottingham Trent University",
          "Oakland University",
          "Ocean University of China",
          "Ohio University",
          "Okayama University",
          "Osaka Prefecture University",
          "University of Pardubice",
          "University of Paris North – Paris 13",
          "Paris-Sorbonne University – Paris 4",
          "University of Patras",
          "University of Pécs",
          "Polytechnic University of Valencia",
          "Pontifical Catholic University of Paraná",
          "Pontifical Catholic University of Rio Grande do Sul (PUCRS)",
          "Pontifical Catholic University of Valparaíso",
          "Prince of Songkla University",
          "Qatar University",
          "Rio de Janeiro State University (UERJ)",
          "Rochester Institute of Technology",
          "Saitama University",
          "University of Salford",
          "University of Santiago, Chile (USACH)",
          "São Paulo State University (UNESP)",
          "Savitribai Phule Pune University",
          "University of Science and Technology Beijing",
          "Sejong University",
          "University of Seoul",
          "Shahid Beheshti University",
          "Shanghai University",
          "Shantou University",
          "Sheffield Hallam University",
          "Shinshu University",
          "Showa University",
          "Sichuan University",
          "University of Silesia in Katowice",
          "Slovak University of Technology in Bratislava",
          "Sogang University",
          "Sophia University",
          "University of South Africa",
          "Southern Federal University",
          "University of Southern Mississippi",
          "University of Southern Queensland",
          "Suez Canal University",
          "Sultan Qaboos University",
          "Suranaree University of Technology",
          "University of Szeged",
          "Taipei Medical University",
          "Taras Shevchenko National University of Kyiv",
          "Technical University of Madrid",
          "University of Tehran",
          "University of Texas at El Paso",
          "Texas Tech University",
          "Tokai University",
          "Tokushima University",
          "Tokyo University of Marine Science and Technology",
          "Tokyo University of Science",
          "Tomsk State University",
          "Tottori University",
          "Toyohashi University of Technology",
          "Universiti Kebangsaan Malaysia",
          "Universiti Putra Malaysia",
          "Universiti Sains Malaysia",
          "Universiti Teknologi MARA",
          "Ural Federal University",
          "V.N. Karazin Kharkiv National University",
          "University of Vigo",
          "Vilnius University",
          "Warsaw University of Technology",
          "Waseda University",
          "University of West Bohemia",
          "University of the West of England",
          "West University of Timişoara",
          "University of Westminster",
          "Xidian University",
          "Yeungnam University",
          "Yıldız Technical University",
          "Yokohama City University",
          "Yokohama National University",
          "Yuan Ze University"
         ],
         "type": "pie",
         "values": [
          20.152,
          2.243,
          11.074,
          15.596,
          7.929,
          18.812,
          19.919
         ]
        }
       ],
       "layout": {
        "template": {
         "data": {
          "bar": [
           {
            "error_x": {
             "color": "#2a3f5f"
            },
            "error_y": {
             "color": "#2a3f5f"
            },
            "marker": {
             "line": {
              "color": "#E5ECF6",
              "width": 0.5
             }
            },
            "type": "bar"
           }
          ],
          "barpolar": [
           {
            "marker": {
             "line": {
              "color": "#E5ECF6",
              "width": 0.5
             }
            },
            "type": "barpolar"
           }
          ],
          "carpet": [
           {
            "aaxis": {
             "endlinecolor": "#2a3f5f",
             "gridcolor": "white",
             "linecolor": "white",
             "minorgridcolor": "white",
             "startlinecolor": "#2a3f5f"
            },
            "baxis": {
             "endlinecolor": "#2a3f5f",
             "gridcolor": "white",
             "linecolor": "white",
             "minorgridcolor": "white",
             "startlinecolor": "#2a3f5f"
            },
            "type": "carpet"
           }
          ],
          "choropleth": [
           {
            "colorbar": {
             "outlinewidth": 0,
             "ticks": ""
            },
            "type": "choropleth"
           }
          ],
          "contour": [
           {
            "colorbar": {
             "outlinewidth": 0,
             "ticks": ""
            },
            "colorscale": [
             [
              0,
              "#0d0887"
             ],
             [
              0.1111111111111111,
              "#46039f"
             ],
             [
              0.2222222222222222,
              "#7201a8"
             ],
             [
              0.3333333333333333,
              "#9c179e"
             ],
             [
              0.4444444444444444,
              "#bd3786"
             ],
             [
              0.5555555555555556,
              "#d8576b"
             ],
             [
              0.6666666666666666,
              "#ed7953"
             ],
             [
              0.7777777777777778,
              "#fb9f3a"
             ],
             [
              0.8888888888888888,
              "#fdca26"
             ],
             [
              1,
              "#f0f921"
             ]
            ],
            "type": "contour"
           }
          ],
          "contourcarpet": [
           {
            "colorbar": {
             "outlinewidth": 0,
             "ticks": ""
            },
            "type": "contourcarpet"
           }
          ],
          "heatmap": [
           {
            "colorbar": {
             "outlinewidth": 0,
             "ticks": ""
            },
            "colorscale": [
             [
              0,
              "#0d0887"
             ],
             [
              0.1111111111111111,
              "#46039f"
             ],
             [
              0.2222222222222222,
              "#7201a8"
             ],
             [
              0.3333333333333333,
              "#9c179e"
             ],
             [
              0.4444444444444444,
              "#bd3786"
             ],
             [
              0.5555555555555556,
              "#d8576b"
             ],
             [
              0.6666666666666666,
              "#ed7953"
             ],
             [
              0.7777777777777778,
              "#fb9f3a"
             ],
             [
              0.8888888888888888,
              "#fdca26"
             ],
             [
              1,
              "#f0f921"
             ]
            ],
            "type": "heatmap"
           }
          ],
          "heatmapgl": [
           {
            "colorbar": {
             "outlinewidth": 0,
             "ticks": ""
            },
            "colorscale": [
             [
              0,
              "#0d0887"
             ],
             [
              0.1111111111111111,
              "#46039f"
             ],
             [
              0.2222222222222222,
              "#7201a8"
             ],
             [
              0.3333333333333333,
              "#9c179e"
             ],
             [
              0.4444444444444444,
              "#bd3786"
             ],
             [
              0.5555555555555556,
              "#d8576b"
             ],
             [
              0.6666666666666666,
              "#ed7953"
             ],
             [
              0.7777777777777778,
              "#fb9f3a"
             ],
             [
              0.8888888888888888,
              "#fdca26"
             ],
             [
              1,
              "#f0f921"
             ]
            ],
            "type": "heatmapgl"
           }
          ],
          "histogram": [
           {
            "marker": {
             "colorbar": {
              "outlinewidth": 0,
              "ticks": ""
             }
            },
            "type": "histogram"
           }
          ],
          "histogram2d": [
           {
            "colorbar": {
             "outlinewidth": 0,
             "ticks": ""
            },
            "colorscale": [
             [
              0,
              "#0d0887"
             ],
             [
              0.1111111111111111,
              "#46039f"
             ],
             [
              0.2222222222222222,
              "#7201a8"
             ],
             [
              0.3333333333333333,
              "#9c179e"
             ],
             [
              0.4444444444444444,
              "#bd3786"
             ],
             [
              0.5555555555555556,
              "#d8576b"
             ],
             [
              0.6666666666666666,
              "#ed7953"
             ],
             [
              0.7777777777777778,
              "#fb9f3a"
             ],
             [
              0.8888888888888888,
              "#fdca26"
             ],
             [
              1,
              "#f0f921"
             ]
            ],
            "type": "histogram2d"
           }
          ],
          "histogram2dcontour": [
           {
            "colorbar": {
             "outlinewidth": 0,
             "ticks": ""
            },
            "colorscale": [
             [
              0,
              "#0d0887"
             ],
             [
              0.1111111111111111,
              "#46039f"
             ],
             [
              0.2222222222222222,
              "#7201a8"
             ],
             [
              0.3333333333333333,
              "#9c179e"
             ],
             [
              0.4444444444444444,
              "#bd3786"
             ],
             [
              0.5555555555555556,
              "#d8576b"
             ],
             [
              0.6666666666666666,
              "#ed7953"
             ],
             [
              0.7777777777777778,
              "#fb9f3a"
             ],
             [
              0.8888888888888888,
              "#fdca26"
             ],
             [
              1,
              "#f0f921"
             ]
            ],
            "type": "histogram2dcontour"
           }
          ],
          "mesh3d": [
           {
            "colorbar": {
             "outlinewidth": 0,
             "ticks": ""
            },
            "type": "mesh3d"
           }
          ],
          "parcoords": [
           {
            "line": {
             "colorbar": {
              "outlinewidth": 0,
              "ticks": ""
             }
            },
            "type": "parcoords"
           }
          ],
          "pie": [
           {
            "automargin": true,
            "type": "pie"
           }
          ],
          "scatter": [
           {
            "marker": {
             "colorbar": {
              "outlinewidth": 0,
              "ticks": ""
             }
            },
            "type": "scatter"
           }
          ],
          "scatter3d": [
           {
            "line": {
             "colorbar": {
              "outlinewidth": 0,
              "ticks": ""
             }
            },
            "marker": {
             "colorbar": {
              "outlinewidth": 0,
              "ticks": ""
             }
            },
            "type": "scatter3d"
           }
          ],
          "scattercarpet": [
           {
            "marker": {
             "colorbar": {
              "outlinewidth": 0,
              "ticks": ""
             }
            },
            "type": "scattercarpet"
           }
          ],
          "scattergeo": [
           {
            "marker": {
             "colorbar": {
              "outlinewidth": 0,
              "ticks": ""
             }
            },
            "type": "scattergeo"
           }
          ],
          "scattergl": [
           {
            "marker": {
             "colorbar": {
              "outlinewidth": 0,
              "ticks": ""
             }
            },
            "type": "scattergl"
           }
          ],
          "scattermapbox": [
           {
            "marker": {
             "colorbar": {
              "outlinewidth": 0,
              "ticks": ""
             }
            },
            "type": "scattermapbox"
           }
          ],
          "scatterpolar": [
           {
            "marker": {
             "colorbar": {
              "outlinewidth": 0,
              "ticks": ""
             }
            },
            "type": "scatterpolar"
           }
          ],
          "scatterpolargl": [
           {
            "marker": {
             "colorbar": {
              "outlinewidth": 0,
              "ticks": ""
             }
            },
            "type": "scatterpolargl"
           }
          ],
          "scatterternary": [
           {
            "marker": {
             "colorbar": {
              "outlinewidth": 0,
              "ticks": ""
             }
            },
            "type": "scatterternary"
           }
          ],
          "surface": [
           {
            "colorbar": {
             "outlinewidth": 0,
             "ticks": ""
            },
            "colorscale": [
             [
              0,
              "#0d0887"
             ],
             [
              0.1111111111111111,
              "#46039f"
             ],
             [
              0.2222222222222222,
              "#7201a8"
             ],
             [
              0.3333333333333333,
              "#9c179e"
             ],
             [
              0.4444444444444444,
              "#bd3786"
             ],
             [
              0.5555555555555556,
              "#d8576b"
             ],
             [
              0.6666666666666666,
              "#ed7953"
             ],
             [
              0.7777777777777778,
              "#fb9f3a"
             ],
             [
              0.8888888888888888,
              "#fdca26"
             ],
             [
              1,
              "#f0f921"
             ]
            ],
            "type": "surface"
           }
          ],
          "table": [
           {
            "cells": {
             "fill": {
              "color": "#EBF0F8"
             },
             "line": {
              "color": "white"
             }
            },
            "header": {
             "fill": {
              "color": "#C8D4E3"
             },
             "line": {
              "color": "white"
             }
            },
            "type": "table"
           }
          ]
         },
         "layout": {
          "annotationdefaults": {
           "arrowcolor": "#2a3f5f",
           "arrowhead": 0,
           "arrowwidth": 1
          },
          "coloraxis": {
           "colorbar": {
            "outlinewidth": 0,
            "ticks": ""
           }
          },
          "colorscale": {
           "diverging": [
            [
             0,
             "#8e0152"
            ],
            [
             0.1,
             "#c51b7d"
            ],
            [
             0.2,
             "#de77ae"
            ],
            [
             0.3,
             "#f1b6da"
            ],
            [
             0.4,
             "#fde0ef"
            ],
            [
             0.5,
             "#f7f7f7"
            ],
            [
             0.6,
             "#e6f5d0"
            ],
            [
             0.7,
             "#b8e186"
            ],
            [
             0.8,
             "#7fbc41"
            ],
            [
             0.9,
             "#4d9221"
            ],
            [
             1,
             "#276419"
            ]
           ],
           "sequential": [
            [
             0,
             "#0d0887"
            ],
            [
             0.1111111111111111,
             "#46039f"
            ],
            [
             0.2222222222222222,
             "#7201a8"
            ],
            [
             0.3333333333333333,
             "#9c179e"
            ],
            [
             0.4444444444444444,
             "#bd3786"
            ],
            [
             0.5555555555555556,
             "#d8576b"
            ],
            [
             0.6666666666666666,
             "#ed7953"
            ],
            [
             0.7777777777777778,
             "#fb9f3a"
            ],
            [
             0.8888888888888888,
             "#fdca26"
            ],
            [
             1,
             "#f0f921"
            ]
           ],
           "sequentialminus": [
            [
             0,
             "#0d0887"
            ],
            [
             0.1111111111111111,
             "#46039f"
            ],
            [
             0.2222222222222222,
             "#7201a8"
            ],
            [
             0.3333333333333333,
             "#9c179e"
            ],
            [
             0.4444444444444444,
             "#bd3786"
            ],
            [
             0.5555555555555556,
             "#d8576b"
            ],
            [
             0.6666666666666666,
             "#ed7953"
            ],
            [
             0.7777777777777778,
             "#fb9f3a"
            ],
            [
             0.8888888888888888,
             "#fdca26"
            ],
            [
             1,
             "#f0f921"
            ]
           ]
          },
          "colorway": [
           "#636efa",
           "#EF553B",
           "#00cc96",
           "#ab63fa",
           "#FFA15A",
           "#19d3f3",
           "#FF6692",
           "#B6E880",
           "#FF97FF",
           "#FECB52"
          ],
          "font": {
           "color": "#2a3f5f"
          },
          "geo": {
           "bgcolor": "white",
           "lakecolor": "white",
           "landcolor": "#E5ECF6",
           "showlakes": true,
           "showland": true,
           "subunitcolor": "white"
          },
          "hoverlabel": {
           "align": "left"
          },
          "hovermode": "closest",
          "mapbox": {
           "style": "light"
          },
          "paper_bgcolor": "white",
          "plot_bgcolor": "#E5ECF6",
          "polar": {
           "angularaxis": {
            "gridcolor": "white",
            "linecolor": "white",
            "ticks": ""
           },
           "bgcolor": "#E5ECF6",
           "radialaxis": {
            "gridcolor": "white",
            "linecolor": "white",
            "ticks": ""
           }
          },
          "scene": {
           "xaxis": {
            "backgroundcolor": "#E5ECF6",
            "gridcolor": "white",
            "gridwidth": 2,
            "linecolor": "white",
            "showbackground": true,
            "ticks": "",
            "zerolinecolor": "white"
           },
           "yaxis": {
            "backgroundcolor": "#E5ECF6",
            "gridcolor": "white",
            "gridwidth": 2,
            "linecolor": "white",
            "showbackground": true,
            "ticks": "",
            "zerolinecolor": "white"
           },
           "zaxis": {
            "backgroundcolor": "#E5ECF6",
            "gridcolor": "white",
            "gridwidth": 2,
            "linecolor": "white",
            "showbackground": true,
            "ticks": "",
            "zerolinecolor": "white"
           }
          },
          "shapedefaults": {
           "line": {
            "color": "#2a3f5f"
           }
          },
          "ternary": {
           "aaxis": {
            "gridcolor": "white",
            "linecolor": "white",
            "ticks": ""
           },
           "baxis": {
            "gridcolor": "white",
            "linecolor": "white",
            "ticks": ""
           },
           "bgcolor": "#E5ECF6",
           "caxis": {
            "gridcolor": "white",
            "linecolor": "white",
            "ticks": ""
           }
          },
          "title": {
           "x": 0.05
          },
          "xaxis": {
           "automargin": true,
           "gridcolor": "white",
           "linecolor": "white",
           "ticks": "",
           "title": {
            "standoff": 15
           },
           "zerolinecolor": "white",
           "zerolinewidth": 2
          },
          "yaxis": {
           "automargin": true,
           "gridcolor": "white",
           "linecolor": "white",
           "ticks": "",
           "title": {
            "standoff": 15
           },
           "zerolinecolor": "white",
           "zerolinewidth": 2
          }
         }
        },
        "title": {
         "text": "% of number of students in universities"
        }
       }
      },
      "text/html": [
       "<div>\n",
       "        \n",
       "        \n",
       "            <div id=\"1efa76fe-4cb0-468f-8f91-59ab889065c6\" class=\"plotly-graph-div\" style=\"height:525px; width:100%;\"></div>\n",
       "            <script type=\"text/javascript\">\n",
       "                require([\"plotly\"], function(Plotly) {\n",
       "                    window.PLOTLYENV=window.PLOTLYENV || {};\n",
       "                    \n",
       "                if (document.getElementById(\"1efa76fe-4cb0-468f-8f91-59ab889065c6\")) {\n",
       "                    Plotly.newPlot(\n",
       "                        '1efa76fe-4cb0-468f-8f91-59ab889065c6',\n",
       "                        [{\"hole\": 0, \"hoverinfo\": \"label+percent\", \"labels\": [\"Harvard University\", \"California Institute of Technology\", \"Massachusetts Institute of Technology\", \"Stanford University\", \"Princeton University\", \"University of Cambridge\", \"University of Oxford\", \"University of California, Berkeley\", \"Imperial College London\", \"Yale University\", \"University of California, Los Angeles\", \"University of Chicago\", \"Johns Hopkins University\", \"Cornell University\", \"ETH Zurich \\u2013 Swiss Federal Institute of Technology Zurich\", \"University of Michigan\", \"University of Toronto\", \"Columbia University\", \"University of Pennsylvania\", \"Carnegie Mellon University\", \"University of Hong Kong\", \"University College London\", \"University of Washington\", \"Duke University\", \"Northwestern University\", \"University of Tokyo\", \"Georgia Institute of Technology\", \"Pohang University of Science and Technology\", \"University of California, Santa Barbara\", \"University of British Columbia\", \"University of North Carolina at Chapel Hill\", \"University of California, San Diego\", \"University of Illinois at Urbana-Champaign\", \"National University of Singapore\", \"McGill University\", \"University of Melbourne\", \"Peking University\", \"Washington University in St Louis\", \"\\u00c9cole Polytechnique\", \"University of Edinburgh\", \"Hong Kong University of Science and Technology\", \"\\u00c9cole Normale Sup\\u00e9rieure\", \"Australian National University\", \"Karolinska Institute\", \"University of G\\u00f6ttingen\", \"University of Wisconsin\", \"Rice University\", \"\\u00c9cole Polytechnique F\\u00e9d\\u00e9rale de Lausanne\", \"University of California, Irvine\", \"University of Science and Technology of China\", \"Vanderbilt University\", \"University of Minnesota\", \"Tufts University\", \"University of California, Davis\", \"Brown University\", \"University of Massachusetts\", \"Kyoto University\", \"Tsinghua University\", \"Boston University\", \"New York University\", \"Emory University\", \"LMU Munich\", \"University of Notre Dame\", \"University of Pittsburgh\", \"Case Western Reserve University\", \"Ohio State University\", \"University of Colorado Boulder\", \"University of Bristol\", \"University of California, Santa Cruz\", \"Yeshiva University\", \"University of Sydney\", \"University of Virginia\", \"University of Adelaide\", \"University of Southern California\", \"William & Mary\", \"Trinity College Dublin\", \"King\\u2019s College London\", \"Stony Brook University\", \"Korea Advanced Institute of Science and Technology (KAIST)\", \"University of Sussex\", \"The University of Queensland\", \"University of York\", \"Heidelberg University\", \"University of Utah\", \"Durham University\", \"London School of Economics and Political Science\", \"University of Manchester\", \"Royal Holloway, University of London\", \"Lund University\", \"University of Southampton\", \"University of Zurich\", \"Wake Forest University\", \"McMaster University\", \"University College Dublin\", \"George Washington University\", \"University of Arizona\", \"University of Basel\", \"University of Maryland, College Park\", \"Dartmouth College\", \"\\u00c9cole Normale Sup\\u00e9rieure de Lyon\", \"Technical University of Munich\", \"University of Helsinki\", \"University of St Andrews\", \"Rensselaer Polytechnic Institute\", \"Rutgers, the State University of New Jersey\", \"Purdue University\", \"National Tsing Hua University\", \"University of Cape Town\", \"Pennsylvania State University\", \"Seoul National University\", \"Hong Kong Baptist University\", \"Bilkent University\", \"Tokyo Institute of Technology\", \"Eindhoven University of Technology\", \"National Taiwan University\", \"University of Hawai\\u2019i at M\\u0101noa\", \"University of California, Riverside\", \"University of Geneva\", \"KU Leuven\", \"Nanjing University\", \"Queen Mary University of London\", \"Michigan State University\", \"Technical University of Denmark\", \"Ghent University\", \"Lancaster University\", \"Leiden University\", \"University of Alberta\", \"University of Glasgow\", \"Stockholm University\", \"Osaka University\", \"University of Victoria\", \"Tohoku University\", \"University of Freiburg\", \"University of Iowa\", \"University of Bergen\", \"University of Lausanne\", \"University of Sheffield\", \"University of Montreal\", \"VU University Amsterdam\", \"Pierre and Marie Curie University\", \"University of Dundee\", \"University of Barcelona\", \"Utrecht University\", \"Wageningen University and Research Center\", \"University of Auckland\", \"University of Birmingham\", \"Alexandria University\", \"Uppsala University\", \"Hong Kong Polytechnic University\", \"University of Aberdeen\", \"Delft University of Technology\", \"Birkbeck, University of London\", \"Newcastle University\", \"University of New South Wales\", \"Pompeu Fabra University\", \"Indiana University\", \"Iowa State University\", \"Georgia Health Sciences University\", \"Erasmus University Rotterdam\", \"University of Delaware\", \"Arizona State University\", \"Boston College\", \"National Sun Yat-Sen University\", \"Georgetown University\", \"University of Amsterdam\", \"University of Liverpool\", \"Aarhus University\", \"University of Leeds\", \"University of W\\u00fcrzburg\", \"University of Groningen\", \"Sun Yat-sen University\", \"Goethe University Frankfurt\", \"Bielefeld University\", \"Nanyang Technological University\", \"University of East Anglia\", \"University of Nottingham\", \"University of Copenhagen\", \"Humboldt University of Berlin\", \"Monash University\", \"University of Bonn\", \"National Chiao Tung University\", \"RWTH Aachen University\", \"Middle East Technical University\", \"University of Exeter\", \"University of Twente\", \"University of Konstanz\", \"Karlsruhe Institute of Technology\", \"University of Innsbruck\", \"University of T\\u00fcbingen\", \"Drexel University\", \"University of Cincinnati\", \"Yonsei University\", \"Dalhousie University\", \"KTH Royal Institute of Technology\", \"University of Vienna\", \"Kent State University\", \"University of Illinois at Chicago\", \"Zhejiang University\", \"Simon Fraser University\", \"Swedish University of Agricultural Sciences\", \"California Institute of Technology\", \"Harvard University\", \"Stanford University\", \"University of Oxford\", \"Princeton University\", \"University of Cambridge\", \"Massachusetts Institute of Technology\", \"Imperial College London\", \"University of Chicago\", \"University of California, Berkeley\", \"Yale University\", \"Columbia University\", \"University of California, Los Angeles\", \"Johns Hopkins University\", \"ETH Zurich \\u2013 Swiss Federal Institute of Technology Zurich\", \"University of Pennsylvania\", \"University College London\", \"University of Michigan\", \"University of Toronto\", \"Cornell University\", \"Carnegie Mellon University\", \"Duke University\", \"University of British Columbia\", \"Georgia Institute of Technology\", \"University of Washington\", \"Northwestern University\", \"University of Wisconsin-Madison\", \"McGill University\", \"University of Texas at Austin\", \"University of Tokyo\", \"University of Illinois at Urbana-Champaign\", \"Karolinska Institute\", \"University of California, San Diego\", \"University of Hong Kong\", \"University of California, Santa Barbara\", \"University of Edinburgh\", \"University of Melbourne\", \"Australian National University\", \"University of California, Davis\", \"National University of Singapore\", \"Washington University in St Louis\", \"University of Minnesota\", \"University of North Carolina at Chapel Hill\", \"New York University\", \"LMU Munich\", \"\\u00c9cole Polytechnique F\\u00e9d\\u00e9rale de Lausanne\", \"London School of Economics and Political Science\", \"University of Manchester\", \"Brown University\", \"Peking University\", \"Pennsylvania State University\", \"Kyoto University\", \"Pohang University of Science and Technology\", \"Boston University\", \"University of Southern California\", \"King\\u2019s College London\", \"Ohio State University\", \"University of Sydney\", \"University of Pittsburgh\", \"\\u00c9cole Normale Sup\\u00e9rieure\", \"University of Zurich\", \"Hong Kong University of Science and Technology\", \"\\u00c9cole Polytechnique\", \"University of Massachusetts\", \"McMaster University\", \"University of Bristol\", \"KU Leuven\", \"Utrecht University\", \"University of G\\u00f6ttingen\", \"Vanderbilt University\", \"Tsinghua University\", \"Rice University\", \"Heidelberg University\", \"The University of Queensland\", \"Emory University\", \"Wageningen University and Research Center\", \"Tufts University\", \"University of Colorado Boulder\", \"Leiden University\", \"Lund University\", \"Rutgers, the State University of New Jersey\", \"University of Rochester\", \"Durham University\", \"Pierre and Marie Curie University\", \"University of St Andrews\", \"University of California, Irvine\", \"Uppsala University\", \"Technical University of Munich\", \"University of Notre Dame\", \"Dartmouth College\", \"University of Helsinki\", \"University of Amsterdam\", \"Case Western Reserve University\", \"Korea Advanced Institute of Science and Technology (KAIST)\", \"University of Maryland, College Park\", \"Michigan State University\", \"University of Arizona\", \"Purdue University\", \"University of Sussex\", \"University of Alberta\", \"University of Sheffield\", \"University of Glasgow\", \"University of Cape Town\", \"Delft University of Technology\", \"University of Montreal\", \"Ghent University\", \"Royal Holloway, University of London\", \"Tokyo Institute of Technology\", \"Humboldt University of Berlin\", \"University of California, Santa Cruz\", \"University of Basel\", \"University of Bern\", \"University of Utah\", \"Stony Brook University\", \"Eindhoven University of Technology\", \"University of Lausanne\", \"Monash University\", \"Trinity College Dublin\", \"Osaka University\", \"Tohoku University\", \"Hebrew University of Jerusalem\", \"University of York\", \"Indiana University\", \"Seoul National University\", \"Aarhus University\", \"University of Florida\", \"Arizona State University\", \"Queen Mary University of London\", \"University of Southampton\", \"University of Geneva\", \"Lancaster University\", \"Stockholm University\", \"University of Leeds\", \"University of Groningen\", \"George Washington University\", \"University of Copenhagen\", \"University of Virginia\", \"Georgetown University\", \"University of Vienna\", \"University of Nottingham\", \"University of Iowa\", \"\\u00c9cole Normale Sup\\u00e9rieure de Lyon\", \"University of California, Riverside\", \"Rensselaer Polytechnic Institute\", \"University of East Anglia\", \"Newcastle University\", \"William & Mary\", \"University of Birmingham\", \"Birkbeck, University of London\", \"Brandeis University\", \"Chinese University of Hong Kong\", \"Free University of Berlin\", \"University of Aberdeen\", \"National Taiwan University\", \"Yeshiva University\", \"University of Exeter\", \"Erasmus University Rotterdam\", \"University of Warwick\", \"Radboud University Nijmegen\", \"University College Dublin\", \"VU University Amsterdam\", \"Medical University of South Carolina\", \"Wake Forest University\", \"Texas A&M University\", \"University of Reading\", \"Tel Aviv University\", \"University of Illinois at Chicago\", \"RWTH Aachen University\", \"Nanyang Technological University\", \"Paris Diderot University \\u2013 Paris 7\", \"Universit\\u00e9 Catholique de Louvain\", \"University of Miami\", \"Queen\\u2019s University\", \"University of Auckland\", \"University of New South Wales\", \"University of Dundee\", \"University of Victoria\", \"Technical University of Denmark\", \"University of S\\u00e3o Paulo\", \"University of Delaware\", \"Goethe University Frankfurt\", \"University of Liverpool\", \"University of Oslo\", \"Iowa State University\", \"University of Ottawa\", \"Pompeu Fabra University\", \"KTH Royal Institute of Technology\", \"University of T\\u00fcbingen\", \"University of Freiburg\", \"University of Western Australia\", \"University of Bergen\", \"University of Science and Technology of China\", \"City University of Hong Kong\", \"University of Konstanz\", \"Boston College\", \"Karlsruhe Institute of Technology\", \"Georgia Health Sciences University\", \"Maastricht University\", \"University of Leicester\", \"University of Twente\", \"Autonomous University of Barcelona\", \"Bilkent University\", \"Cardiff University\", \"Colorado School of Mines\", \"Nagoya University\", \"National Tsing Hua University\", \"Northeastern University\", \"Technion Israel Institute of Technology\", \"Tulane University\", \"Ulm University\", \"Ume\\u00e5 University\", \"University at Buffalo\", \"University of Adelaide\", \"University of Barcelona\", \"University of Cincinnati\", \"University of Essex\", \"University of Georgia\", \"University of Gothenburg\", \"University of Innsbruck\", \"University of Medicine and Dentistry of New Jersey\", \"University of Otago\", \"University of South Carolina\", \"University of Strasbourg\", \"University of Waterloo\", \"University of Western Ontario\", \"University of W\\u00fcrzburg\", \"Universit\\u00e9 Libre de Bruxelles\", \"Carleton University\", \"Chalmers University of Technology\", \"Colorado State University\", \"Creighton University\", \"Dalhousie University\", \"Drexel University\", \"Fudan University\", \"Korea University\", \"Macquarie University\", \"National Chiao Tung University\", \"Simon Fraser University\", \"State University of New York Albany\", \"Swedish University of Agricultural Sciences\", \"Tokyo Metropolitan University\", \"University of Bologna\", \"University of Calgary\", \"University of Hamburg\", \"University of Milan\", \"University of Milan-Bicocca\", \"University of Missouri\", \"University of Padua\", \"University of Trieste\", \"Yonsei University\", \"Bangor University\", \"Bielefeld University\", \"Brunel University London\", \"Hong Kong Polytechnic University\", \"Johannes Kepler University of Linz\", \"Kyushu University\", \"Nanjing University\", \"National Sun Yat-Sen University\", \"Norwegian University of Science and Technology\", \"Queen\\u2019s University Belfast\", \"Ruhr University Bochum\", \"Stellenbosch University\", \"Tilburg University\", \"TU Dresden\", \"University of Bath\", \"University of Graz\", \"University of Hawai\\u2019i at M\\u0101noa\", \"University of Kiel\", \"University of Southern Denmark\", \"University of Texas at Dallas\", \"University of the Witwatersrand\", \"University of Tsukuba\", \"University of Wollongong\", \"Victoria University of Wellington\", \"Virginia Polytechnic Institute and State University\", \"Wayne State University\", \"Aberystwyth University\", \"Autonomous University of Madrid\", \"Hokkaido University\", \"Hong Kong Baptist University\", \"Istanbul Technical University\", \"Lomonosov Moscow State University\", \"Middle East Technical University\", \"Montpellier University\", \"Queensland University of Technology\", \"State University of Campinas\", \"Sun Yat-sen University\", \"Technical University of Darmstadt\", \"Tokyo Medical and Dental University (TMDU)\", \"UiT The Arctic University of Norway\", \"University of Antwerp\", \"University of Crete\", \"University of Guelph\", \"University of Iceland\", \"University of Kansas\", \"University of Kentucky\", \"University of M\\u00fcnster\", \"University of Newcastle\", \"University of Texas at San Antonio\", \"University of Trento\", \"York University\", \"Aalborg University\", \"Aalto University\", \"Alexandria University\", \"Bar-Ilan University\", \"Binghamton University, State University of New York\", \"Bo\\u011fazi\\u00e7i University\", \"Charles Darwin University\", \"Charles University in Prague\", \"George Mason University\", \"Indian Institute of Technology Bombay\", \"Jagiellonian University\", \"Keele University\", \"Keio University\", \"Kent State University\", \"Lehigh University\", \"Link\\u00f6ping University\", \"National Taiwan University of Science and Technology (Taiwan Tech)\", \"Plymouth University\", \"Polytechnic University of Milan\", \"Sapienza University of Rome\", \"Shanghai Jiao Tong University\", \"Sharif University of Technology\", \"Sungkyunkwan University (SKKU)\", \"University College Cork\", \"University of Aveiro\", \"University of Canterbury\", \"University of Eastern Finland\", \"University of Ferrara\", \"University of Hertfordshire\", \"University of Houston\", \"University of Hull\", \"University of Li\\u00e8ge\", \"University of Manitoba\", \"University of Maryland, Baltimore County\", \"University of Modena and Reggio Emilia\", \"University of Oklahoma\", \"University of Pisa\", \"University of Porto\", \"University of South Florida\", \"University of Stirling\", \"University of Surrey\", \"University of Tampere\", \"University of Tasmania\", \"University of Valencia\", \"University of Waikato\", \"University of Warsaw\", \"Vienna University of Technology\", \"Vrije Universiteit Brussel\", \"Washington State University\", \"Zhejiang University\", \"Aston University\", \"Auburn University\", \"Clemson University\", \"Curtin University\", \"Deakin University\", \"Flinders University\", \"Georgia State University\", \"Griffith University\", \"Harbin Institute of Technology\", \"Heriot-Watt University\", \"Hiroshima University\", \"Kansas State University\", \"Kobe University\", \"Kyung Hee University\", \"La Trobe University\", \"Leibniz University of Hanover\", \"Liverpool John Moores University\", \"Loughborough University\", \"Mahidol University\", \"Massey University\", \"Michigan Technological University\", \"National Central University\", \"National Taiwan Ocean University\", \"National University of Ireland, Galway\", \"National University of Ireland, Maynooth\", \"New Jersey Institute of Technology\", \"New University of Lisbon\", \"Old Dominion University\", \"Polytechnic University of Catalonia\", \"Polytechnic University of Turin\", \"Polytechnic University of Valencia\", \"Pontifical Catholic University of Chile\", \"Saint Petersburg State University\", \"Swansea University\", \"Swinburne University of Technology\", \"Tokyo University of Agriculture and Technology\", \"University of Bari Aldo Moro\", \"University of Coimbra\", \"University of Idaho\", \"University of Kent\", \"University of Paris North \\u2013 Paris 13\", \"University of Salento\", \"University of South Australia\", \"University of Strathclyde\", \"University of Tartu\", \"University of Turku\", \"University of Wyoming\", \"University of Zaragoza\", \"Waseda University\", \"Wuhan University\", \"Yuan Ze University\", \"California Institute of Technology\", \"Stanford University\", \"University of Oxford\", \"Harvard University\", \"Massachusetts Institute of Technology\", \"Princeton University\", \"University of Cambridge\", \"Imperial College London\", \"University of California, Berkeley\", \"University of Chicago\", \"Yale University\", \"ETH Zurich \\u2013 Swiss Federal Institute of Technology Zurich\", \"University of California, Los Angeles\", \"Columbia University\", \"University of Pennsylvania\", \"Johns Hopkins University\", \"University College London\", \"Cornell University\", \"Northwestern University\", \"University of Michigan\", \"University of Toronto\", \"Carnegie Mellon University\", \"Duke University\", \"University of Washington\", \"Georgia Institute of Technology\", \"University of Texas at Austin\", \"University of Tokyo\", \"University of Melbourne\", \"National University of Singapore\", \"University of British Columbia\", \"University of Wisconsin-Madison\", \"University of Edinburgh\", \"University of Illinois at Urbana-Champaign\", \"McGill University\", \"University of California, Santa Barbara\", \"University of Hong Kong\", \"Australian National University\", \"University of California, San Diego\", \"London School of Economics and Political Science\", \"\\u00c9cole Polytechnique F\\u00e9d\\u00e9rale de Lausanne\", \"New York University\", \"Karolinska Institute\", \"University of North Carolina at Chapel Hill\", \"University of California, Davis\", \"Washington University in St Louis\", \"Peking University\", \"University of Minnesota\", \"LMU Munich\", \"University of Manchester\", \"Pohang University of Science and Technology\", \"Brown University\", \"Tsinghua University\", \"Ohio State University\", \"Boston University\", \"Kyoto University\", \"University of Southern California\", \"King\\u2019s College London\", \"KU Leuven\", \"Seoul National University\", \"\\u00c9cole Normale Sup\\u00e9rieure\", \"Pennsylvania State University\", \"University of Sydney\", \"\\u00c9cole Polytechnique\", \"Leiden University\", \"Hong Kong University of Science and Technology\", \"The University of Queensland\", \"Utrecht University\", \"Korea Advanced Institute of Science and Technology (KAIST)\", \"Purdue University\", \"University of G\\u00f6ttingen\", \"Wageningen University and Research Center\", \"Erasmus University Rotterdam\", \"University of Massachusetts\", \"University of Bristol\", \"Rice University\", \"University of Pittsburgh\", \"Delft University of Technology\", \"Heidelberg University\", \"Emory University\", \"Durham University\", \"Pierre and Marie Curie University\", \"Lund University\", \"University of Amsterdam\", \"University of Montreal\", \"University of New South Wales\", \"Nanyang Technological University\", \"Tufts University\", \"McMaster University\", \"University of Groningen\", \"University of Zurich\", \"University of Colorado Boulder\", \"Paris-Sud University\", \"Ghent University\", \"Michigan State University\", \"University of Notre Dame\", \"University of California, Irvine\", \"University of Maryland, College Park\", \"University of Arizona\", \"Humboldt University of Berlin\", \"Monash University\", \"Rutgers, the State University of New Jersey\", \"University of Rochester\", \"University of York\", \"Case Western Reserve University\", \"Technical University of Munich\", \"Uppsala University\", \"Vanderbilt University\", \"University of St Andrews\", \"University of Helsinki\", \"Trinity College Dublin\", \"University of Sheffield\", \"University of Sussex\", \"University of Cape Town\", \"Eindhoven University of Technology\", \"Maastricht University\", \"Aarhus University\", \"Stockholm University\", \"University of Virginia\", \"Royal Holloway, University of London\", \"University of Nottingham\", \"University of Alberta\", \"University of California, Santa Cruz\", \"University of Florida\", \"Chinese University of Hong Kong\", \"Dartmouth College\", \"University of Warwick\", \"Radboud University Nijmegen\", \"Free University of Berlin\", \"Tokyo Institute of Technology\", \"University of Copenhagen\", \"University of Lausanne\", \"University of Southampton\", \"University of Geneva\", \"Indiana University\", \"National Taiwan University\", \"University of Utah\", \"Hebrew University of Jerusalem\", \"Tohoku University\", \"University of Glasgow\", \"KTH Royal Institute of Technology\", \"VU University Amsterdam\", \"University of Basel\", \"University of Leeds\", \"University of Freiburg\", \"Lancaster University\", \"Queen Mary University of London\", \"Osaka University\", \"Arizona State University\", \"Technical University of Denmark\", \"Boston College\", \"Karlsruhe Institute of Technology\", \"University of Bern\", \"University of Exeter\", \"RWTH Aachen University\", \"University of California, Riverside\", \"Texas A&M University\", \"Yeshiva University\", \"Tel Aviv University\", \"University of Birmingham\", \"University of S\\u00e3o Paulo\", \"University of Auckland\", \"Stony Brook University\", \"University of Vienna\", \"Universit\\u00e9 Catholique de Louvain\", \"University of Delaware\", \"Paris Diderot University \\u2013 Paris 7\", \"University of Texas at Dallas\", \"George Washington University\", \"University of Iowa\", \"\\u00c9cole Normale Sup\\u00e9rieure de Lyon\", \"University of Bonn\", \"University of Liverpool\", \"University of Ottawa\", \"Georgetown University\", \"Rensselaer Polytechnic Institute\", \"University of Aberdeen\", \"University of Adelaide\", \"University of East Anglia\", \"University of Reading\", \"Joseph Fourier University\", \"Newcastle University\", \"City University of Hong Kong\", \"Yonsei University\", \"Colorado School of Mines\", \"University of Illinois at Chicago\", \"William & Mary\", \"University College Dublin\", \"University of Twente\", \"Medical University of South Carolina\", \"University of Western Australia\", \"Wake Forest University\", \"University of Antwerp\", \"Iowa State University\", \"Technion Israel Institute of Technology\", \"University of Miami\", \"University of Leicester\", \"University of Victoria\", \"University at Buffalo\", \"Goethe University Frankfurt\", \"Birkbeck, University of London\", \"Autonomous University of Barcelona\", \"Brandeis University\", \"Cardiff University\", \"Fudan University\", \"Johannes Gutenberg University of Mainz\", \"Lomonosov Moscow State University\", \"Middle East Technical University\", \"Nagoya University\", \"Northeastern University\", \"Pompeu Fabra University\", \"Queen\\u2019s University\", \"St George\\u2019s, University of London\", \"Sungkyunkwan University (SKKU)\", \"Tilburg University\", \"University of Barcelona\", \"University of Dundee\", \"University of Erlangen-Nuremberg\", \"University of Georgia\", \"University of Gothenburg\", \"University of Innsbruck\", \"University of Konstanz\", \"University of Oslo\", \"University of Science and Technology of China\", \"University of Strasbourg\", \"University of T\\u00fcbingen\", \"Bilkent University\", \"Carleton University\", \"Chalmers University of Technology\", \"Florida Institute of Technology\", \"Georgia Health Sciences University\", \"Indian Institute of Technology Kharagpur\", \"Korea University\", \"Ko\\u00e7 University\", \"Laval University\", \"Mines ParisTech\", \"National Research Nuclear University MePhI\", \"National Tsing Hua University\", \"Simon Fraser University\", \"Technical University of Darmstadt\", \"Tulane University\", \"University of Bergen\", \"University of Calgary\", \"University of Cincinnati\", \"University of Missouri\", \"University of Otago\", \"University of South Florida\", \"University of the Witwatersrand\", \"University of Waterloo\", \"University of Western Ontario\", \"University of W\\u00fcrzburg\", \"Universit\\u00e9 Libre de Bruxelles\", \"Aalto University\", \"Dalhousie University\", \"Hong Kong Polytechnic University\", \"Indian Institute of Technology Bombay\", \"Macquarie University\", \"Nanjing University\", \"National Chiao Tung University\", \"Norwegian University of Science and Technology\", \"Queensland University of Technology\", \"State University of Campinas\", \"Stellenbosch University\", \"Tokyo Metropolitan University\", \"Ume\\u00e5 University\", \"University of Connecticut\", \"University of Essex\", \"University of Iceland\", \"University of Kiel\", \"University of Milan\", \"University of Milan-Bicocca\", \"University of M\\u00fcnster\", \"University of Oregon\", \"University of Trieste\", \"Victoria University of Wellington\", \"Vienna University of Technology\", \"Aberystwyth University\", \"Bangor University\", \"Bayreuth University\", \"Bielefeld University\", \"Bo\\u011fazi\\u00e7i University\", \"Colorado State University\", \"Drexel University\", \"Istanbul Technical University\", \"Montpellier University\", \"Oregon State University\", \"Queen\\u2019s University Belfast\", \"Ruhr University Bochum\", \"Shanghai Jiao Tong University\", \"Swedish University of Agricultural Sciences\", \"Tokyo Medical and Dental University (TMDU)\", \"TU Dresden\", \"University of Bath\", \"University of Bologna\", \"University of Kansas\", \"University of Montana\", \"University of Newcastle\", \"University of South Carolina\", \"University of Southern Denmark\", \"University of Trento\", \"University of Turin\", \"Virginia Polytechnic Institute and State University\", \"Autonomous University of Madrid\", \"Brunel University London\", \"Charles University in Prague\", \"Claude Bernard University Lyon 1\", \"Creighton University\", \"Hokkaido University\", \"Hong Kong Baptist University\", \"Johannes Kepler University of Linz\", \"King Abdulaziz University\", \"Kyushu University\", \"Link\\u00f6ping University\", \"Medical University of Vienna\", \"Murdoch University\", \"National Cheng Kung University\", \"National Sun Yat-Sen University\", \"National University of Ireland, Galway\", \"North Carolina State University\", \"Polytechnic University of Milan\", \"Renmin University of China\", \"Sapienza University of Rome\", \"Sharif University of Technology\", \"State University of New York Albany\", \"Sun Yat-sen University\", \"UiT The Arctic University of Norway\", \"University College Cork\", \"University of Canterbury\", \"University of Crete\", \"University of Eastern Finland\", \"University of Fribourg\", \"University of Graz\", \"University of Guelph\", \"University of Kentucky\", \"University of Manitoba\", \"University of Maryland, Baltimore County\", \"University of Padua\", \"University of Pavia\", \"University of Pisa\", \"University of Portsmouth\", \"University of South Australia\", \"University of Tampere\", \"University of Tsukuba\", \"University of Vermont\", \"University of Waikato\", \"University of Wollongong\", \"Vrije Universiteit Brussel\", \"Washington State University\", \"Wayne State University\", \"York University\", \"Zhejiang University\", \"Aalborg University\", \"Binghamton University, State University of New York\", \"Charles Darwin University\", \"Deakin University\", \"Flinders University\", \"George Mason University\", \"Heriot-Watt University\", \"Indian Institute of Technology Roorkee\", \"Jagiellonian University\", \"Keele University\", \"Keio University\", \"King Mongkut\\u2019s University of Technology Thonburi\", \"Lehigh University\", \"Leibniz University of Hanover\", \"Loughborough University\", \"Massey University\", \"National Autonomous University of Mexico\", \"National Central University\", \"National Taiwan University of Science and Technology (Taiwan Tech)\", \"National University of Ireland, Maynooth\", \"Paris Dauphine University\", \"Polytechnic University of Valencia\", \"Southern Methodist University\", \"Temple University\", \"University of Aveiro\", \"University of Duisburg-Essen\", \"University of Ferrara\", \"University of Hertfordshire\", \"University of Houston\", \"University of Jyv\\u00e4skyl\\u00e4\", \"University of KwaZulu-Natal\", \"University of Li\\u00e8ge\", \"University of Minho\", \"University of Modena and Reggio Emilia\", \"University of Oklahoma\", \"University of Porto\", \"University of Salento\", \"University of Stirling\", \"University of Strathclyde\", \"University of Surrey\", \"University of Tartu\", \"University of Tasmania\", \"University of Technology Sydney\", \"University of Texas at San Antonio\", \"University of the Andes, Colombia\", \"University of Valencia\", \"University of Vigo\", \"University of Warsaw\", \"University of Wyoming\", \"Waseda University\", \"California Institute of Technology\", \"Harvard University\", \"University of Oxford\", \"Stanford University\", \"Massachusetts Institute of Technology\", \"Princeton University\", \"University of Cambridge\", \"University of California, Berkeley\", \"University of Chicago\", \"Imperial College London\", \"Yale University\", \"University of California, Los Angeles\", \"Columbia University\", \"ETH Zurich \\u2013 Swiss Federal Institute of Technology Zurich\", \"Johns Hopkins University\", \"University of Pennsylvania\", \"Duke University\", \"University of Michigan\", \"Cornell University\", \"University of Toronto\", \"University College London\", \"Northwestern University\", \"University of Tokyo\", \"Carnegie Mellon University\", \"University of Washington\", \"National University of Singapore\", \"University of Texas at Austin\", \"Georgia Institute of Technology\", \"University of Illinois at Urbana-Champaign\", \"University of Wisconsin-Madison\", \"University of British Columbia\", \"London School of Economics and Political Science\", \"University of California, Santa Barbara\", \"University of Melbourne\", \"McGill University\", \"Karolinska Institute\", \"\\u00c9cole Polytechnique F\\u00e9d\\u00e9rale de Lausanne\", \"King\\u2019s College London\", \"University of Edinburgh\", \"New York University\", \"University of California, San Diego\", \"Washington University in St Louis\", \"University of Hong Kong\", \"Seoul National University\", \"Peking University\", \"University of Minnesota\", \"University of North Carolina at Chapel Hill\", \"Australian National University\", \"Pennsylvania State University\", \"Boston University\", \"Tsinghua University\", \"Brown University\", \"Kyoto University\", \"University of California, Davis\", \"LMU Munich\", \"Korea Advanced Institute of Science and Technology (KAIST)\", \"Hong Kong University of Science and Technology\", \"University of Manchester\", \"Ohio State University\", \"Pohang University of Science and Technology\", \"KU Leuven\", \"Purdue University\", \"The University of Queensland\", \"University of G\\u00f6ttingen\", \"Rice University\", \"\\u00c9cole Normale Sup\\u00e9rieure\", \"Leiden University\", \"Heidelberg University\", \"Delft University of Technology\", \"University of Southern California\", \"\\u00c9cole Polytechnique\", \"University of Sydney\", \"Erasmus University Rotterdam\", \"University of Basel\", \"Utrecht University\", \"Nanyang Technological University\", \"Wageningen University and Research Center\", \"University of Pittsburgh\", \"University of Bristol\", \"Durham University\", \"Emory University\", \"Tufts University\", \"Michigan State University\", \"University of Amsterdam\", \"Ghent University\", \"Free University of Berlin\", \"Technical University of Munich\", \"Case Western Reserve University\", \"Vanderbilt University\", \"University of Notre Dame\", \"Monash University\", \"McMaster University\", \"University of California, Irvine\", \"Humboldt University of Berlin\", \"University of Rochester\", \"Pierre and Marie Curie University\", \"University of Colorado Boulder\", \"Maastricht University\", \"University of Groningen\", \"University of Helsinki\", \"University of York\", \"Royal Holloway, University of London\", \"Rutgers, the State University of New Jersey\", \"Stockholm University\", \"University of Arizona\", \"Eindhoven University of Technology\", \"University of Montreal\", \"University of Maryland, College Park\", \"Chinese University of Hong Kong\", \"University of Alberta\", \"Uppsala University\", \"University of Sheffield\", \"University of Virginia\", \"Paris-Sud University\", \"Queen Mary University of London\", \"University of New South Wales\", \"KTH Royal Institute of Technology\", \"Technical University of Denmark\", \"University of Glasgow\", \"University of St Andrews\", \"University of Sussex\", \"University of Zurich\", \"Lund University\", \"University of Geneva\", \"Tokyo Institute of Technology\", \"Dartmouth College\", \"University of Cape Town\", \"University of Florida\", \"RWTH Aachen University\", \"Trinity College Dublin\", \"Radboud University Nijmegen\", \"Indiana University\", \"University of Lausanne\", \"University of Massachusetts\", \"Boston College\", \"University of California, Santa Cruz\", \"Lancaster University\", \"Aarhus University\", \"Colorado School of Mines\", \"University of Leeds\", \"University of Warwick\", \"National Taiwan University\", \"University of Utah\", \"Osaka University\", \"VU University Amsterdam\", \"Arizona State University\", \"University of Southampton\", \"University of California, Riverside\", \"University of Exeter\", \"Tohoku University\", \"University of Copenhagen\", \"University of Freiburg\", \"University of Birmingham\", \"Karlsruhe Institute of Technology\", \"Joseph Fourier University\", \"\\u00c9cole Normale Sup\\u00e9rieure de Lyon\", \"University of Bern\", \"University of Nottingham\", \"Texas A&M University\", \"Georgetown University\", \"University College Dublin\", \"University of Iowa\", \"University of Leicester\", \"Brandeis University\", \"Pompeu Fabra University\", \"University of Antwerp\", \"University of Auckland\", \"University of Western Australia\", \"University of Liverpool\", \"University of Twente\", \"University of Vienna\", \"Universit\\u00e9 Catholique de Louvain\", \"Yeshiva University\", \"University of Delaware\", \"University of East Anglia\", \"University at Buffalo\", \"Universit\\u00e9 Libre de Bruxelles\", \"Paris Diderot University \\u2013 Paris 7\", \"Stony Brook University\", \"Wake Forest University\", \"Rensselaer Polytechnic Institute\", \"University of Bonn\", \"Iowa State University\", \"Northeastern University\", \"University of Miami\", \"University of Oslo\", \"University of Ottawa\", \"University of Aberdeen\", \"University of Texas at Dallas\", \"Yonsei University\", \"Hebrew University of Jerusalem\", \"University of Illinois at Chicago\", \"Mines ParisTech\", \"George Washington University\", \"University of Reading\", \"University of Dundee\", \"Florida Institute of Technology\", \"Newcastle University\", \"Bo\\u011fazi\\u00e7i University\", \"Tel Aviv University\", \"Birkbeck, University of London\", \"Cardiff University\", \"City University of Hong Kong\", \"Fudan University\", \"Goethe University Frankfurt\", \"Istanbul Technical University\", \"Korea University\", \"Laval University\", \"Middle East Technical University\", \"Nagoya University\", \"St George\\u2019s, University of London\", \"Sungkyunkwan University (SKKU)\", \"Technion Israel Institute of Technology\", \"Tokyo Metropolitan University\", \"Ulm University\", \"University of Adelaide\", \"University of Bergen\", \"University of Calgary\", \"University of Gothenburg\", \"University of Innsbruck\", \"University of Science and Technology of China\", \"University of Strasbourg\", \"University of Trento\", \"University of T\\u00fcbingen\", \"University of Victoria\", \"William & Mary\", \"Autonomous University of Barcelona\", \"Bilkent University\", \"Georgia Health Sciences University\", \"Lomonosov Moscow State University\", \"Panjab University\", \"Queen\\u2019s University\", \"Renmin University of China\", \"Simon Fraser University\", \"Technical University of Darmstadt\", \"Tilburg University\", \"Tulane University\", \"University of Barcelona\", \"University of Cincinnati\", \"University of Erlangen-Nuremberg\", \"University of Kiel\", \"University of Konstanz\", \"University of Milan-Bicocca\", \"University of M\\u00fcnster\", \"University of Otago\", \"University of S\\u00e3o Paulo\", \"University of the Witwatersrand\", \"University of Trieste\", \"University of Turin\", \"University of Waterloo\", \"University of Western Ontario\", \"University of W\\u00fcrzburg\", \"Vienna University of Technology\", \"Brunel University London\", \"Dalhousie University\", \"Hong Kong Polytechnic University\", \"Medical University of Vienna\", \"Montpellier University\", \"Nanjing University\", \"National Chiao Tung University\", \"National Tsing Hua University\", \"Norwegian University of Science and Technology\", \"Queen\\u2019s University Belfast\", \"Sharif University of Technology\", \"Swedish University of Agricultural Sciences\", \"TU Dresden\", \"University of Cologne\", \"University of Essex\", \"University of Iceland\", \"University of Nebraska-Lincoln\", \"University of Newcastle\", \"University of Pavia\", \"University of South Carolina\", \"University of the Andes, Colombia\", \"Vrije Universiteit Brussel\", \"Carleton University\", \"Chalmers University of Technology\", \"Colorado State University\", \"Creighton University\", \"Ko\\u00e7 University\", \"Macquarie University\", \"Plymouth University\", \"Polytechnic University of Milan\", \"Queensland University of Technology\", \"Tokyo Medical and Dental University (TMDU)\", \"University College Cork\", \"University of Alaska Fairbanks\", \"University of Bath\", \"University of Bologna\", \"University of Fribourg\", \"University of Georgia\", \"University of Kansas\", \"University of Milan\", \"University of Montana\", \"University of South Florida\", \"University of Southern Denmark\", \"University of Wollongong\", \"Victoria University of Wellington\", \"Virginia Polytechnic Institute and State University\", \"York University\", \"Aalborg University\", \"Aalto University\", \"Aberystwyth University\", \"Autonomous University of Madrid\", \"Bangor University\", \"Bayreuth University\", \"Bielefeld University\", \"Claude Bernard University Lyon 1\", \"Deakin University\", \"Drexel University\", \"Heriot-Watt University\", \"Hokkaido University\", \"Hong Kong Baptist University\", \"Kansas State University\", \"Keele University\", \"King Mongkut\\u2019s University of Technology Thonburi\", \"Kyushu University\", \"Lehigh University\", \"Link\\u00f6ping University\", \"Murdoch University\", \"National Cheng Kung University\", \"National Sun Yat-Sen University\", \"National University of Ireland, Galway\", \"Oregon State University\", \"Sapienza University of Rome\", \"Shanghai Jiao Tong University\", \"State University of Campinas\", \"State University of New York Albany\", \"Stellenbosch University\", \"Ume\\u00e5 University\", \"University of Canterbury\", \"University of Connecticut\", \"University of Crete\", \"University of Eastern Finland\", \"University of Hertfordshire\", \"University of Houston\", \"University of Li\\u00e8ge\", \"University of Manitoba\", \"University of Missouri\", \"University of Padua\", \"University of Pisa\", \"University of Salento\", \"University of South Australia\", \"University of Tampere\", \"University of Technology Sydney\", \"University of Tsukuba\", \"University of Vermont\", \"University of Waikato\", \"University of Warsaw\", \"Washington State University\", \"Wayne State University\", \"Wuhan University of Technology\", \"Zhejiang University\", \"Charles Darwin University\", \"Charles University in Prague\", \"China Medical University, Taiwan\", \"George Mason University\", \"Hanyang University\", \"Indian Institute of Technology Delhi\", \"Indian Institute of Technology Kanpur\", \"Indian Institute of Technology Kharagpur\", \"Indian Institute of Technology Roorkee\", \"Johannes Kepler University of Linz\", \"King Abdulaziz University\", \"King Saud University\", \"Leibniz University of Hanover\", \"Liverpool John Moores University\", \"Loughborough University\", \"National Central University\", \"National Taiwan University of Science and Technology (Taiwan Tech)\", \"National University of Ireland, Maynooth\", \"Old Dominion University\", \"Polytechnic University of Valencia\", \"Ruhr University Bochum\", \"San Diego State University\", \"Sun Yat-sen University\", \"Swinburne University of Technology\", \"Temple University\", \"UiT The Arctic University of Norway\", \"University of Bari Aldo Moro\", \"University of Duisburg-Essen\", \"University of Ferrara\", \"University of Florence\", \"University of Graz\", \"University of Guelph\", \"University of Jyv\\u00e4skyl\\u00e4\", \"University of Maryland, Baltimore County\", \"University of Minho\", \"University of Navarra\", \"University of Oklahoma\", \"University of Porto\", \"University of Portsmouth\", \"University of Rovira i Virgili\", \"University of Stirling\", \"University of Surrey\", \"University of Tartu\", \"University of Tasmania\", \"University of Valencia\", \"University of Vigo\", \"University of Wyoming\", \"California Institute of Technology\", \"Harvard University\", \"University of Oxford\", \"Stanford University\", \"University of Cambridge\", \"Massachusetts Institute of Technology\", \"Princeton University\", \"University of California, Berkeley\", \"Imperial College London\", \"Yale University\", \"University of Chicago\", \"University of California, Los Angeles\", \"ETH Zurich \\u2013 Swiss Federal Institute of Technology Zurich\", \"Columbia University\", \"Johns Hopkins University\", \"University of Pennsylvania\", \"University of Michigan\", \"Duke University\", \"Cornell University\", \"University of Toronto\", \"Northwestern University\", \"University College London\", \"University of Tokyo\", \"Carnegie Mellon University\", \"National University of Singapore\", \"University of Washington\", \"Georgia Institute of Technology\", \"University of Texas at Austin\", \"LMU Munich\", \"University of Illinois at Urbana-Champaign\", \"University of Wisconsin-Madison\", \"University of British Columbia\", \"University of Melbourne\", \"London School of Economics and Political Science\", \"\\u00c9cole Polytechnique F\\u00e9d\\u00e9rale de Lausanne\", \"University of Edinburgh\", \"University of California, Santa Barbara\", \"New York University\", \"McGill University\", \"King\\u2019s College London\", \"University of California, San Diego\", \"Washington University in St Louis\", \"University of Hong Kong\", \"Karolinska Institute\", \"Australian National University\", \"University of Minnesota\", \"University of North Carolina at Chapel Hill\", \"Peking University\", \"Tsinghua University\", \"Seoul National University\", \"Hong Kong University of Science and Technology\", \"Korea Advanced Institute of Science and Technology (KAIST)\", \"University of Manchester\", \"Brown University\", \"KU Leuven\", \"University of California, Davis\", \"Boston University\", \"Pennsylvania State University\", \"Kyoto University\", \"University of Sydney\", \"Nanyang Technological University\", \"\\u00c9cole Polytechnique\", \"Scuola Normale Superiore di Pisa\", \"Leiden University\", \"The University of Queensland\", \"Pohang University of Science and Technology\", \"University of G\\u00f6ttingen\", \"Ohio State University\", \"Rice University\", \"Heidelberg University\", \"Delft University of Technology\", \"Erasmus University Rotterdam\", \"Wageningen University and Research Center\", \"University of Bristol\", \"University of Basel\", \"University of Southern California\", \"University of Amsterdam\", \"\\u00c9cole Normale Sup\\u00e9rieure\", \"Utrecht University\", \"Humboldt University of Berlin\", \"Free University of Berlin\", \"Michigan State University\", \"Durham University\", \"Monash University\", \"Middle East Technical University\", \"University of Arizona\", \"University of Notre Dame\", \"Tufts University\", \"University of California, Irvine\", \"Ghent University\", \"University of Massachusetts\", \"University of Pittsburgh\", \"Emory University\", \"McMaster University\", \"University of Glasgow\", \"Vanderbilt University\", \"University of Colorado Boulder\", \"Stockholm University\", \"Technical University of Munich\", \"Uppsala University\", \"Maastricht University\", \"Purdue University\", \"Pierre and Marie Curie University\", \"University of Helsinki\", \"University of Warwick\", \"University of Zurich\", \"Queen Mary University of London\", \"University of Geneva\", \"University of California, Santa Cruz\", \"University of New South Wales\", \"University of St Andrews\", \"University of Sussex\", \"University of Montreal\", \"University of T\\u00fcbingen\", \"University of York\", \"Case Western Reserve University\", \"University of Groningen\", \"Royal Holloway, University of London\", \"Lund University\", \"Paris-Sud University\", \"Technical University of Denmark\", \"University of Rochester\", \"University of Sheffield\", \"University of Alberta\", \"University of Cape Town\", \"Boston College\", \"KTH Royal Institute of Technology\", \"University of Florida\", \"Chinese University of Hong Kong\", \"University of Virginia\", \"Lancaster University\", \"University of Bern\", \"University of Maryland, College Park\", \"University of Southampton\", \"TU Dresden\", \"University of Lausanne\", \"VU University Amsterdam\", \"Trinity College Dublin\", \"Bo\\u011fazi\\u00e7i University\", \"Radboud University Nijmegen\", \"Colorado School of Mines\", \"Texas A&M University\", \"Tokyo Institute of Technology\", \"Eindhoven University of Technology\", \"Rutgers, the State University of New Jersey\", \"University of Leeds\", \"Brandeis University\", \"Sungkyunkwan University (SKKU)\", \"University of Birmingham\", \"Indiana University\", \"University of California, Riverside\", \"Dartmouth College\", \"Aarhus University\", \"University of Exeter\", \"National Taiwan University\", \"RWTH Aachen University\", \"Osaka University\", \"University of Liverpool\", \"University of Western Australia\", \"University of Copenhagen\", \"\\u00c9cole Normale Sup\\u00e9rieure de Lyon\", \"University of Utah\", \"University of Freiburg\", \"University of Adelaide\", \"Istanbul Technical University\", \"Karlsruhe Institute of Technology\", \"Pompeu Fabra University\", \"Tohoku University\", \"University of Miami\", \"University of Antwerp\", \"University of Nottingham\", \"Universit\\u00e9 Catholique de Louvain\", \"Georgetown University\", \"University of Victoria\", \"University of Auckland\", \"University of Iowa\", \"Syracuse University\", \"Joseph Fourier University\", \"University of Aberdeen\", \"Paris Diderot University \\u2013 Paris 7\", \"University of Delaware\", \"Arizona State University\", \"Sabanc\\u0131 University\", \"University of Vienna\", \"Northeastern University\", \"University of Oslo\", \"Yeshiva University\", \"Stony Brook University\", \"Tel Aviv University\", \"University of Ottawa\", \"University at Buffalo\", \"City University of Hong Kong\", \"Fudan University\", \"Iowa State University\", \"University of Bonn\", \"Lomonosov Moscow State University\", \"St George\\u2019s, University of London\", \"University of East Anglia\", \"University of Leicester\", \"Florida Institute of Technology\", \"George Washington University\", \"Bilkent University\", \"Cardiff University\", \"Goethe University Frankfurt\", \"Hebrew University of Jerusalem\", \"Hong Kong Polytechnic University\", \"Korea University\", \"Newcastle University\", \"Technion Israel Institute of Technology\", \"Ulm University\", \"University of Barcelona\", \"University of Bergen\", \"University of Dundee\", \"University of Illinois at Chicago\", \"University of Innsbruck\", \"University of Reading\", \"University of Science and Technology of China\", \"University of Strasbourg\", \"University of S\\u00e3o Paulo\", \"University of Texas at Dallas\", \"University of Trieste\", \"University of Twente\", \"Universit\\u00e9 Libre de Bruxelles\", \"Wake Forest University\", \"William & Mary\", \"Yonsei University\", \"Autonomous University of Barcelona\", \"Birkbeck, University of London\", \"Brunel University London\", \"Carleton University\", \"Dalhousie University\", \"Laval University\", \"Mines ParisTech\", \"Nagoya University\", \"Rensselaer Polytechnic Institute\", \"Simon Fraser University\", \"State University of New York Albany\", \"Technical University of Berlin\", \"Tokyo Metropolitan University\", \"University College Dublin\", \"University of Calgary\", \"University of Gothenburg\", \"University of Kiel\", \"University of Konstanz\", \"University of Milan-Bicocca\", \"University of Technology Sydney\", \"University of Western Ontario\", \"University of W\\u00fcrzburg\", \"Vienna University of Technology\", \"York University\", \"Aalto University\", \"Federico Santa Mar\\u00eda Technical University\", \"Medical University of Vienna\", \"Nanjing University\", \"National Tsing Hua University\", \"National University of Ireland, Galway\", \"Queen\\u2019s University\", \"Queen\\u2019s University Belfast\", \"Swedish University of Agricultural Sciences\", \"Technical University of Darmstadt\", \"University of Bremen\", \"University of Hawai\\u2019i at M\\u0101noa\", \"University of Iceland\", \"University of M\\u00fcnster\", \"University of New Mexico\", \"University of Newcastle\", \"University of Otago\", \"University of Pavia\", \"University of Salento\", \"University of South Florida\", \"University of the Andes, Colombia\", \"University of the Witwatersrand\", \"University of Trento\", \"University of Turin\", \"University of Waterloo\", \"Chalmers University of Technology\", \"Colorado State University\", \"Indian Institute of Science\", \"Lappeenranta University of Technology\", \"Montpellier University\", \"National Chiao Tung University\", \"Norwegian University of Science and Technology\", \"Panjab University\", \"Plymouth University\", \"Queensland University of Technology\", \"Shanghai Jiao Tong University\", \"Stellenbosch University\", \"Tilburg University\", \"Tokyo Medical and Dental University (TMDU)\", \"University College Cork\", \"University of Bologna\", \"University of Cincinnati\", \"University of Erlangen-Nuremberg\", \"University of Fribourg\", \"University of Georgia\", \"University of Macau\", \"University of Milan\", \"University of Nebraska-Lincoln\", \"University of South Australia\", \"University of South Carolina\", \"University of Wollongong\", \"Victoria University of Wellington\", \"Virginia Polytechnic Institute and State University\", \"Autonomous University of Madrid\", \"Bangor University\", \"Charles Darwin University\", \"Charles University in Prague\", \"Creighton University\", \"Deakin University\", \"Drexel University\", \"Hong Kong Baptist University\", \"Illinois Institute of Technology\", \"Kansas State University\", \"Ko\\u00e7 University\", \"Macquarie University\", \"Novosibirsk State University\", \"Oregon State University\", \"Polytechnic University of Milan\", \"Renmin University of China\", \"San Diego State University\", \"Sapienza University of Rome\", \"Sharif University of Technology\", \"State University of Campinas\", \"Sun Yat-sen University\", \"Tulane University\", \"University of Bath\", \"University of Canterbury\", \"University of Cologne\", \"University of Connecticut\", \"University of Crete\", \"University of Duisburg-Essen\", \"University of Essex\", \"University of Houston\", \"University of Jyv\\u00e4skyl\\u00e4\", \"University of Kansas\", \"University of Manitoba\", \"University of Marrakech Cadi Ayyad\", \"University of Montana\", \"University of Nebraska Medical Center\", \"University of Oklahoma\", \"University of Padua\", \"University of Pisa\", \"University of Southern Denmark\", \"University of Stirling\", \"University of Stuttgart\", \"University of Tampere\", \"University of Tsukuba\", \"University of Valencia\", \"University of Warsaw\", \"Wayne State University\", \"Zhejiang University\", \"Aalborg University\", \"Aberystwyth University\", \"Aston University\", \"Bayreuth University\", \"Bielefeld University\", \"Claude Bernard University Lyon 1\", \"Curtin University\", \"Ewha Womans University\", \"George Mason University\", \"Hanyang University\", \"Hokkaido University\", \"Indian Institute of Technology Bombay\", \"Indian Institute of Technology Roorkee\", \"Isfahan University of Technology\", \"King Mongkut\\u2019s University of Technology Thonburi\", \"Kyushu University\", \"Lehigh University\", \"Link\\u00f6ping University\", \"Murdoch University\", \"National Cheng Kung University\", \"National Sun Yat-Sen University\", \"National Taiwan University of Science and Technology (Taiwan Tech)\", \"Royal College of Surgeons in Ireland\", \"Ruhr University Bochum\", \"Swinburne University of Technology\", \"UiT The Arctic University of Norway\", \"Ume\\u00e5 University\", \"University of Bari Aldo Moro\", \"University of Eastern Finland\", \"University of Ferrara\", \"University of Florence\", \"University of Graz\", \"University of Hertfordshire\", \"University of Lisbon\", \"University of Li\\u00e8ge\", \"University of Minho\", \"University of Missouri\", \"University of Navarra\", \"University of Portsmouth\", \"University of Rome III\", \"University of Seoul\", \"University of Turku\", \"University of Vermont\", \"University of Waikato\", \"Vrije Universiteit Brussel\", \"Waseda University\", \"Washington State University\", \"Western Sydney University\", \"Wuhan University\", \"Wuhan University of Technology\", \"California Institute of Technology\", \"University of Oxford\", \"Stanford University\", \"University of Cambridge\", \"Massachusetts Institute of Technology\", \"Harvard University\", \"Princeton University\", \"Imperial College London\", \"ETH Zurich \\u2013 Swiss Federal Institute of Technology Zurich\", \"University of Chicago\", \"Johns Hopkins University\", \"Yale University\", \"University of California, Berkeley\", \"University College London\", \"Columbia University\", \"University of California, Los Angeles\", \"University of Pennsylvania\", \"Cornell University\", \"University of Toronto\", \"Duke University\", \"University of Michigan\", \"Carnegie Mellon University\", \"London School of Economics and Political Science\", \"University of Edinburgh\", \"Northwestern University\", \"National University of Singapore\", \"King\\u2019s College London\", \"Karolinska Institute\", \"LMU Munich\", \"New York University\", \"\\u00c9cole Polytechnique F\\u00e9d\\u00e9rale de Lausanne\", \"University of Washington\", \"University of Melbourne\", \"University of British Columbia\", \"KU Leuven\", \"University of Illinois at Urbana-Champaign\", \"Heidelberg University\", \"McGill University\", \"University of California, San Diego\", \"University of California, Santa Barbara\", \"Georgia Institute of Technology\", \"Peking University\", \"University of Tokyo\", \"University of California, Davis\", \"University of Hong Kong\", \"University of Texas at Austin\", \"Tsinghua University\", \"Wageningen University and Research Center\", \"Humboldt University of Berlin\", \"University of Wisconsin-Madison\", \"Brown University\", \"Australian National University\", \"Technical University of Munich\", \"\\u00c9cole Normale Sup\\u00e9rieure\", \"Nanyang Technological University\", \"University of Manchester\", \"University of Sydney\", \"University of Amsterdam\", \"Hong Kong University of Science and Technology\", \"The University of Queensland\", \"Washington University in St Louis\", \"Utrecht University\", \"University of North Carolina at Chapel Hill\", \"Boston University\", \"Delft University of Technology\", \"University of Minnesota\", \"Leiden University\", \"University of Southern California\", \"University of Bristol\", \"Durham University\", \"Erasmus University Rotterdam\", \"Free University of Berlin\", \"Monash University\", \"University of Groningen\", \"Pennsylvania State University\", \"University of Glasgow\", \"University of Helsinki\", \"University of T\\u00fcbingen\", \"University of Pittsburgh\", \"University of Warwick\", \"Uppsala University\", \"University of Copenhagen\", \"University of New South Wales\", \"University of Freiburg\", \"Seoul National University\", \"University of St Andrews\", \"Vanderbilt University\", \"Kyoto University\", \"Maastricht University\", \"Emory University\", \"Lund University\", \"Ohio State University\", \"University of Exeter\", \"University of Bonn\", \"Georgetown University\", \"McMaster University\", \"University of Sheffield\", \"Queen Mary University of London\", \"University of G\\u00f6ttingen\", \"Michigan State University\", \"University of Basel\", \"\\u00c9cole Polytechnique\", \"Rice University\", \"Dartmouth College\", \"University of Zurich\", \"Aarhus University\", \"University of California, Irvine\", \"University of Mannheim\", \"University of Notre Dame\", \"University of Western Australia\", \"RWTH Aachen University\", \"University of Southampton\", \"Scuola Normale Superiore di Pisa\", \"University of Montreal\", \"Pierre and Marie Curie University\", \"Purdue University\", \"Pohang University of Science and Technology\", \"University of Maryland, College Park\", \"Ghent University\", \"University of Birmingham\", \"University of Bern\", \"University of Cape Town\", \"University of Florida\", \"University of Erlangen-Nuremberg\", \"Rutgers, the State University of New Jersey\", \"University of M\\u00fcnster\", \"Radboud University Nijmegen\", \"University of Colorado Boulder\", \"Tufts University\", \"Royal Holloway, University of London\", \"Lancaster University\", \"University of Geneva\", \"University of York\", \"Case Western Reserve University\", \"University of Leeds\", \"University of Oslo\", \"Stockholm University\", \"University of Alberta\", \"Chinese University of Hong Kong\", \"Karlsruhe Institute of Technology\", \"University of Sussex\", \"University of Massachusetts\", \"University of Vienna\", \"University of Nottingham\", \"University of California, Santa Cruz\", \"University of Lausanne\", \"Autonomous University of Barcelona\", \"University of Virginia\", \"Korea Advanced Institute of Science and Technology (KAIST)\", \"University of Adelaide\", \"University of East Anglia\", \"University of Twente\", \"Sungkyunkwan University (SKKU)\", \"VU University Amsterdam\", \"KTH Royal Institute of Technology\", \"University of Cologne\", \"University of Liverpool\", \"TU Dresden\", \"University of Rochester\", \"Trinity College Dublin\", \"Lomonosov Moscow State University\", \"University of Miami\", \"University of Arizona\", \"Pompeu Fabra University\", \"University of Reading\", \"Yeshiva University\", \"University of California, Riverside\", \"University of Leicester\", \"National Taiwan University\", \"Technical University of Denmark\", \"Universit\\u00e9 Catholique de Louvain\", \"University of Aberdeen\", \"University of Auckland\", \"University of Barcelona\", \"University of Konstanz\", \"Eindhoven University of Technology\", \"University College Dublin\", \"Hebrew University of Jerusalem\", \"University of Waterloo\", \"University of Gothenburg\", \"Scuola Superiore Sant\\u2019Anna\", \"University of Bergen\", \"Cardiff University\", \"University of Utah\", \"Brandeis University\", \"University of Dundee\", \"University of W\\u00fcrzburg\", \"Paris-Sud University\", \"Arizona State University\", \"University of Antwerp\", \"Boston College\", \"Ulm University\", \"University of Luxembourg\", \"Texas A&M University\", \"Charit\\u00e9 - Universit\\u00e4tsmedizin Berlin\", \"Newcastle University\", \"St George\\u2019s, University of London\", \"University of Trento\", \"Paris Diderot University \\u2013 Paris 7\", \"Queen\\u2019s University Belfast\", \"Aalborg University\", \"Birkbeck, University of London\", \"University of Bologna\", \"University at Buffalo\", \"University of Calgary\", \"Chalmers University of Technology\", \"City University of Hong Kong\", \"Copenhagen Business School\", \"Dalhousie University\", \"University of Duisburg-Essen\", \"\\u00c9cole Normale Sup\\u00e9rieure de Lyon\", \"Florida State University\", \"University of Fribourg\", \"Fudan University\", \"George Washington University\", \"Goethe University Frankfurt\", \"University of Hawai\\u2019i at M\\u0101noa\", \"Hong Kong Polytechnic University\", \"University of Illinois at Chicago\", \"Indiana University\", \"University of Iowa\", \"Johannes Gutenberg University of Mainz\", \"Joseph Fourier University\", \"University of Kiel\", \"Laval University\", \"Medical University of Vienna\", \"Northeastern University\", \"Oregon Health and Science University\", \"University of Otago\", \"University of Ottawa\", \"Paris Descartes University\", \"Peter the Great St Petersburg Polytechnic University\", \"Polytechnic University of Milan\", \"Royal Veterinary College\", \"Rush University\", \"Sapienza University of Rome\", \"University of Science and Technology of China\", \"University of South Florida\", \"Stony Brook University\", \"University of Stuttgart\", \"Swedish University of Agricultural Sciences\", \"Technical University of Darmstadt\", \"University of Technology Sydney\", \"Tel Aviv University\", \"University of Texas at Dallas\", \"Tilburg University\", \"Tohoku University\", \"Tokyo Institute of Technology\", \"University of Victoria\", \"Wake Forest University\", \"University of Western Ontario\", \"William & Mary\", \"University of the Witwatersrand\", \"Aalto University\", \"Aix-Marseille University\", \"University of Bath\", \"Bayreuth University\", \"Bielefeld University\", \"University of Bordeaux\", \"Charles Darwin University\", \"Colorado School of Mines\", \"Colorado State University\", \"University of Delaware\", \"Flinders University\", \"University of Georgia\", \"Griffith University\", \"University of Iceland\", \"Indian Institute of Science\", \"Iowa State University\", \"James Cook University\", \"Justus Liebig University Giessen\", \"King Abdulaziz University\", \"Ko\\u00e7 University\", \"Korea University\", \"University of Li\\u00e8ge\", \"Link\\u00f6ping University\", \"Nanjing University\", \"National Tsing Hua University\", \"National University of Ireland, Galway\", \"University of Newcastle\", \"North Carolina State University\", \"Oregon State University\", \"Osaka University\", \"Queen\\u2019s University\", \"Queensland University of Technology\", \"Rensselaer Polytechnic Institute\", \"Royal College of Surgeons in Ireland\", \"Ruhr University Bochum\", \"Saint Louis University\", \"University of S\\u00e3o Paulo\", \"Simon Fraser University\", \"University of Surrey\", \"Syracuse University\", \"University of Tasmania\", \"University of Tennessee, Knoxville\", \"Tomsk Polytechnic University\", \"Tulane University\", \"Ume\\u00e5 University\", \"Vienna University of Technology\", \"Virginia Polytechnic Institute and State University\", \"University of Wollongong\", \"Zhejiang University\", \"Aberystwyth University\", \"University of Alaska Fairbanks\", \"Autonomous University of Madrid\", \"Bangor University\", \"University of Bremen\", \"University of Cincinnati\", \"University of Connecticut\", \"Deakin University\", \"University of Essex\", \"George Mason University\", \"University of Greifswald\", \"Gwangju Institute of Science and Technology\", \"University of Hohenheim\", \"University of Innsbruck\", \"Kazan Federal University\", \"University of Kent\", \"Leibniz University of Hanover\", \"Macquarie University\", \"Medical College of Wisconsin\", \"University of Milan\", \"University of Milan-Bicocca\", \"Montpellier University\", \"Nagoya University\", \"University of Naples Federico II\", \"National Chiao Tung University\", \"National Research Nuclear University MePhI\", \"National Taiwan University of Science and Technology (Taiwan Tech)\", \"University of Navarra\", \"University of Nebraska-Lincoln\", \"\\u00d6rebro University\", \"University of Oregon\", \"University of Padua\", \"University of Pavia\", \"Plymouth University\", \"Shanghai Jiao Tong University\", \"University of Southern Denmark\", \"Stellenbosch University\", \"University of Strasbourg\", \"Technical University of Dortmund\", \"Technion Israel Institute of Technology\", \"Toulouse 1 Capitole University\", \"University of Trieste\", \"University of Turin\", \"University of Turku\", \"Vrije Universiteit Brussel\", \"V\\u0160B - Technical University of Ostrava\", \"Yonsei University\", \"York University\", \"Bilkent University\", \"Binghamton University, State University of New York\", \"University of Crete\", \"University of Cyprus\", \"Drexel University\", \"University of Eastern Finland\", \"University of Florence\", \"University of St Gallen\", \"Graz University of Technology\", \"University of Guelph\", \"Hanyang University\", \"Hong Kong Baptist University\", \"University of Houston\", \"Indian Institute of Technology Bombay\", \"Instituto Superior T\\u00e9cnico Lisboa\", \"University of Jyv\\u00e4skyl\\u00e4\", \"La Trobe University\", \"Loughborough University\", \"University of Manitoba\", \"University of Missouri\", \"University of Modena and Reggio Emilia\", \"University of Montana\", \"National University of Ireland, Maynooth\", \"University of Nebraska Medical Center\", \"University of New Mexico\", \"Norwegian University of Science and Technology\", \"University of Oulu\", \"Panth\\u00e9on-Sorbonne University \\u2013 Paris 1\", \"Polytechnic University of Turin\", \"University of Rome III\", \"Sabanc\\u0131 University\", \"San Diego State University\", \"University of South Australia\", \"University of South Carolina\", \"University of South Dakota\", \"State University of Campinas\", \"University of Stirling\", \"Sun Yat-sen University\", \"Swansea University\", \"Swinburne University of Technology\", \"University of Tartu\", \"Temple University\", \"University of Texas at San Antonio\", \"UiT The Arctic University of Norway\", \"Universit\\u00e9 Libre de Bruxelles\", \"Lille 2 University \\u2013 Health and Law\", \"University College Cork\", \"Verona University\", \"Victoria University of Wellington\", \"Washington State University\", \"Wayne State University\", \"American University\", \"Aston University\", \"University of Aveiro\", \"University of Bari Aldo Moro\", \"Bar-Ilan University\", \"Bournemouth University\", \"University of Brescia\", \"Brno University of Technology\", \"Brunel University London\", \"Ca\\u2019 Foscari University of Venice\", \"University of Cagliari\", \"University of Canterbury\", \"Catholic University of the Sacred Heart\", \"Charles University in Prague\", \"China Medical University, Taiwan\", \"City University London\", \"Claude Bernard University Lyon 1\", \"University of Coimbra\", \"Complutense University of Madrid\", \"Concordia University\", \"Curtin University\", \"Dublin City University\", \"East China University of Science and Technology\", \"Ewha Womans University\", \"Federico Santa Mar\\u00eda Technical University\", \"University of Ferrara\", \"Florida International University\", \"University of Genoa\", \"Georgia State University\", \"University of Graz\", \"Heriot-Watt University\", \"Hokkaido University\", \"Howard University\", \"University of Hull\", \"University of Idaho\", \"Indian Institute of Technology Delhi\", \"Indian Institute of Technology Kharagpur\", \"Indian Institute of Technology Madras\", \"University of Ioannina\", \"Iran University of Science and Technology\", \"Johannes Kepler University of Linz\", \"University of Kaiserslautern\", \"Keele University\", \"University of KwaZulu-Natal\", \"Kyung Hee University\", \"Kyushu University\", \"Lehigh University\", \"Louisiana State University\", \"University of Macau\", \"Makerere University\", \"Marche Polytechnic University\", \"University of Maryland, Baltimore County\", \"Murdoch University\", \"University of Nantes\", \"National and Kapodistrian University of Athens\", \"National Autonomous University of Mexico\", \"National Cheng Kung University\", \"National Institute of Applied Sciences of Lyon (INSA Lyon)\", \"National Yang-Ming University\", \"University of Neuch\\u00e2tel\", \"New University of Lisbon\", \"University of Nice Sophia Antipolis\", \"Novosibirsk State University\", \"The Open University\", \"Oxford Brookes University\", \"University of Palermo\", \"University of Parma\", \"University of Pisa\", \"Polytechnic University of Catalonia\", \"Pontifical Catholic University of Chile\", \"University of Porto\", \"University of Portsmouth\", \"RMIT University\", \"University of Rome II \\u2013 Tor Vergata\", \"University of Rovira i Virgili\", \"Saint Petersburg State University\", \"University of Salento\", \"University of San Francisco\", \"University of Saskatchewan\", \"Sharif University of Technology\", \"University of Siena\", \"Southern Cross University\", \"State University of New York Albany\", \"University of Strathclyde\", \"University of Tampere\", \"Tampere University of Technology\", \"Tokyo Medical and Dental University (TMDU)\", \"Tokyo Metropolitan University\", \"University of Tsukuba\", \"University of Ulsan\", \"Ulster University\", \"Universit\\u00e9 du Qu\\u00e9bec \\u00e0 Montr\\u00e9al\", \"Universiti Teknologi Malaysia\", \"University of Urbino Carlo Bo\", \"University of Valencia\", \"University of Waikato\", \"Western Sydney University\", \"Wuhan University\", \"Xiamen University\", \"American University of Beirut\", \"Amirkabir University of Technology\", \"University of the Andes, Colombia\", \"University of Arkansas\", \"Auburn University\", \"Babe\\u015f-Bolyai University\", \"University of the Basque Country\", \"Bauman Moscow State Technical University\", \"Ben-Gurion University of the Negev\", \"Blaise Pascal University\", \"Bo\\u011fazi\\u00e7i University\", \"University of Burgundy\", \"University of Canberra\", \"Carleton University\", \"University of Catania\", \"Central Queensland University\", \"University of Chile\", \"China Agricultural University\", \"Chung-Ang University\", \"Czech Technical University in Prague\", \"De Montfort University\", \"East China Normal University\", \"Edith Cowan University\", \"Federal University of Rio de Janeiro\", \"University of Granada\", \"University of Haifa\", \"Harbin Institute of Technology\", \"University of Hertfordshire\", \"Hiroshima University\", \"Huazhong University of Science and Technology\", \"Indian Institute of Technology Guwahati\", \"Indian Institute of Technology Kanpur\", \"Indian Institute of Technology Roorkee\", \"Isfahan University of Technology\", \"Istanbul Technical University\", \"Jadavpur University\", \"Kanazawa University\", \"Kansas State University\", \"Keio University\", \"Kent State University\", \"King Fahd University of Petroleum and Minerals\", \"King Saud University\", \"University of La Laguna\", \"Lappeenranta University of Technology\", \"University of Limerick\", \"University of Lisbon\", \"Liverpool John Moores University\", \"Mahidol University\", \"Manchester Metropolitan University\", \"University of Maribor\", \"Masaryk University\", \"Massey University\", \"Memorial University of Newfoundland\", \"Middle East Technical University\", \"University of Minho\", \"Missouri University of Science and Technology\", \"Montana State University\", \"Monterrey Institute of Technology and Higher Education\", \"National Central University\", \"National Sun Yat-Sen University\", \"National Taiwan Normal University\", \"National Technical University of Athens\", \"New Jersey Institute of Technology\", \"New Mexico State University\", \"University of North Carolina at Greensboro\", \"Oklahoma State University\", \"Osaka City University\", \"Otto von Guericke University of Magdeburg\", \"University of Oviedo\", \"Palack\\u00fd University in Olomouc\", \"Panjab University\", \"Paris Dauphine University\", \"Pontifical Catholic University of Rio de Janeiro (PUC-Rio)\", \"Portland State University\", \"University of Pretoria\", \"Pusan National University\", \"Quaid-i-azam University\", \"University of Regina\", \"Renmin University of China\", \"University of Rennes 1\", \"University of Salamanca\", \"University of Santiago de Compostela\", \"Semmelweis University\", \"University of Seville\", \"Universit\\u00e9 de Sherbrooke\", \"Soochow University\", \"South China University of Technology\", \"Tallinn University of Technology\", \"Tehran University of Medical Sciences\", \"University of Texas at Arlington\", \"Tianjin University\", \"Tokyo University of Agriculture and Technology\", \"University of Toledo\", \"Tongji University\", \"University of Tulsa\", \"United Arab Emirates University\", \"University of Warsaw\", \"University of Wisconsin-Milwaukee\", \"Xi\\u2019an Jiaotong University\", \"University of Zaragoza\", \"University of A Coru\\u00f1a\", \"Adam Mickiewicz University\", \"AGH University of Science and Technology\", \"Ajou University\", \"University of Alcal\\u00e1\", \"Alexandria University\", \"Alexandru Ioan Cuza University\", \"Aligarh Muslim University\", \"American University of Sharjah\", \"Amrita University\", \"Anadolu University\", \"Andhra University\", \"University of Antioquia\", \"Aristotle University of Thessaloniki\", \"Asia University, Taiwan\", \"Athens University of Economics and Business\", \"Auckland University of Technology\", \"Austral University of Chile\", \"Beijing Institute of Technology\", \"Belarusian State University\", \"University of Belgrade\", \"Birla Institute of Technology and Science, Pilani\", \"University of Bradford\", \"University of Bras\\u00edlia\", \"University of Brighton\", \"University of Bucharest\", \"Budapest University of Technology and Economics\", \"Cairo University\", \"University of Calcutta\", \"California State University, Long Beach\", \"Capital Medical University\", \"University of Castilla-La Mancha\", \"University of Central Lancashire\", \"University of Cergy-Pontoise\", \"Chang Gung University\", \"Carlos III University of Madrid\", \"University of Chemistry and Technology, Prague\", \"Chiang Mai University\", \"Chiba University\", \"China University of Geosciences (Wuhan)\", \"China University of Petroleum (Beijing)\", \"Chonbuk National University\", \"Chongqing University\", \"Chonnam National University\", \"Chulalongkorn University\", \"Chung Yuan Christian University\", \"Chungnam National University\", \"Clemson University\", \"Comenius University in Bratislava\", \"Coventry University\", \"Dalian University of Technology\", \"University of Debrecen\", \"University of Delhi\", \"University of Dhaka\", \"Dublin Institute of Technology\", \"Ehime University\", \"University of Electronic Science and Technology of China\", \"E\\u00f6tv\\u00f6s Lor\\u00e1nd University\", \"Erciyes University\", \"Federal University of Bahia\", \"Federal University of Minas Gerais\", \"Federal University of Paran\\u00e1 (UFPR)\", \"Federal University of Rio Grande do Sul\", \"Federal University of Santa Catarina\", \"Federal University of S\\u00e3o Carlos\", \"Federal University of Vi\\u00e7osa\", \"Federal University of Lavras\", \"Feng Chia University\", \"Florida Institute of Technology\", \"Fu Jen Catholic University\", \"Gda\\u0144sk University of Technology\", \"University of Ghana\", \"Gifu University\", \"Glasgow Caledonian University\", \"University of Greenwich\", \"Hacettepe University\", \"University of Huddersfield\", \"Hunan University\", \"University of Ibadan\", \"University of Indonesia\", \"Inha University\", \"I-Shou University\", \"Istanbul University\", \"Jagiellonian University\", \"Jilin University\", \"University of Jordan\", \"Jordan University of Science and Technology\", \"Juntendo University\", \"K.N. Toosi University of Technology\", \"Kaohsiung Medical University\", \"Khon Kaen University\", \"King Mongkut\\u2019s University of Technology Thonburi\", \"Kingston University\", \"Kinki University\", \"Kobe University\", \"Konkuk University\", \"Kumamoto University\", \"Kyungpook National University\", \"Kyushu Institute of Technology\", \"University of Latvia\", \"Lille 1 University \\u2013 Science and Technology\", \"University of Lincoln\", \"University of Ljubljana\", \"University of Marrakech Cadi Ayyad\", \"Miami University\", \"Middlesex University\", \"Moscow Institute of Physics and Technology\", \"University of Murcia\", \"Nagasaki University\", \"University of Nairobi\", \"National Chengchi University\", \"National Chung Cheng University\", \"National Chung Hsing University\", \"National Taipei University of Technology\", \"National Taiwan Ocean University\", \"National University of C\\u00f3rdoba\", \"National University of Science and Technology (MISiS)\", \"National University of Sciences and Technology\", \"Niigata University\", \"Northumbria University\", \"Northwestern Polytechnical University\", \"Nottingham Trent University\", \"Oakland University\", \"Ocean University of China\", \"Ohio University\", \"Okayama University\", \"Osaka Prefecture University\", \"University of Pardubice\", \"University of Paris North \\u2013 Paris 13\", \"Paris-Sorbonne University \\u2013 Paris 4\", \"University of Patras\", \"University of P\\u00e9cs\", \"Polytechnic University of Valencia\", \"Pontifical Catholic University of Paran\\u00e1\", \"Pontifical Catholic University of Rio Grande do Sul (PUCRS)\", \"Pontifical Catholic University of Valpara\\u00edso\", \"Prince of Songkla University\", \"Qatar University\", \"Rio de Janeiro State University (UERJ)\", \"Rochester Institute of Technology\", \"Saitama University\", \"University of Salford\", \"University of Santiago, Chile (USACH)\", \"S\\u00e3o Paulo State University (UNESP)\", \"Savitribai Phule Pune University\", \"University of Science and Technology Beijing\", \"Sejong University\", \"University of Seoul\", \"Shahid Beheshti University\", \"Shanghai University\", \"Shantou University\", \"Sheffield Hallam University\", \"Shinshu University\", \"Showa University\", \"Sichuan University\", \"University of Silesia in Katowice\", \"Slovak University of Technology in Bratislava\", \"Sogang University\", \"Sophia University\", \"University of South Africa\", \"Southern Federal University\", \"University of Southern Mississippi\", \"University of Southern Queensland\", \"Suez Canal University\", \"Sultan Qaboos University\", \"Suranaree University of Technology\", \"University of Szeged\", \"Taipei Medical University\", \"Taras Shevchenko National University of Kyiv\", \"Technical University of Madrid\", \"University of Tehran\", \"University of Texas at El Paso\", \"Texas Tech University\", \"Tokai University\", \"Tokushima University\", \"Tokyo University of Marine Science and Technology\", \"Tokyo University of Science\", \"Tomsk State University\", \"Tottori University\", \"Toyohashi University of Technology\", \"Universiti Kebangsaan Malaysia\", \"Universiti Putra Malaysia\", \"Universiti Sains Malaysia\", \"Universiti Teknologi MARA\", \"Ural Federal University\", \"V.N. Karazin Kharkiv National University\", \"University of Vigo\", \"Vilnius University\", \"Warsaw University of Technology\", \"Waseda University\", \"University of West Bohemia\", \"University of the West of England\", \"West University of Timi\\u015foara\", \"University of Westminster\", \"Xidian University\", \"Yeungnam University\", \"Y\\u0131ld\\u0131z Technical University\", \"Yokohama City University\", \"Yokohama National University\", \"Yuan Ze University\"], \"type\": \"pie\", \"values\": [20.152, 2.243, 11.074, 15.596, 7.929, 18.812, 19.919]}],\n",
       "                        {\"template\": {\"data\": {\"bar\": [{\"error_x\": {\"color\": \"#2a3f5f\"}, \"error_y\": {\"color\": \"#2a3f5f\"}, \"marker\": {\"line\": {\"color\": \"#E5ECF6\", \"width\": 0.5}}, \"type\": \"bar\"}], \"barpolar\": [{\"marker\": {\"line\": {\"color\": \"#E5ECF6\", \"width\": 0.5}}, \"type\": \"barpolar\"}], \"carpet\": [{\"aaxis\": {\"endlinecolor\": \"#2a3f5f\", \"gridcolor\": \"white\", \"linecolor\": \"white\", \"minorgridcolor\": \"white\", \"startlinecolor\": \"#2a3f5f\"}, \"baxis\": {\"endlinecolor\": \"#2a3f5f\", \"gridcolor\": \"white\", \"linecolor\": \"white\", \"minorgridcolor\": \"white\", \"startlinecolor\": \"#2a3f5f\"}, \"type\": \"carpet\"}], \"choropleth\": [{\"colorbar\": {\"outlinewidth\": 0, \"ticks\": \"\"}, \"type\": \"choropleth\"}], \"contour\": [{\"colorbar\": {\"outlinewidth\": 0, \"ticks\": \"\"}, \"colorscale\": [[0.0, \"#0d0887\"], [0.1111111111111111, \"#46039f\"], [0.2222222222222222, \"#7201a8\"], [0.3333333333333333, \"#9c179e\"], [0.4444444444444444, \"#bd3786\"], [0.5555555555555556, \"#d8576b\"], [0.6666666666666666, \"#ed7953\"], [0.7777777777777778, \"#fb9f3a\"], [0.8888888888888888, \"#fdca26\"], [1.0, \"#f0f921\"]], \"type\": \"contour\"}], \"contourcarpet\": [{\"colorbar\": {\"outlinewidth\": 0, \"ticks\": \"\"}, \"type\": \"contourcarpet\"}], \"heatmap\": [{\"colorbar\": {\"outlinewidth\": 0, \"ticks\": \"\"}, \"colorscale\": [[0.0, \"#0d0887\"], [0.1111111111111111, \"#46039f\"], [0.2222222222222222, \"#7201a8\"], [0.3333333333333333, \"#9c179e\"], [0.4444444444444444, \"#bd3786\"], [0.5555555555555556, \"#d8576b\"], [0.6666666666666666, \"#ed7953\"], [0.7777777777777778, \"#fb9f3a\"], [0.8888888888888888, \"#fdca26\"], [1.0, \"#f0f921\"]], \"type\": \"heatmap\"}], \"heatmapgl\": [{\"colorbar\": {\"outlinewidth\": 0, \"ticks\": \"\"}, \"colorscale\": [[0.0, \"#0d0887\"], [0.1111111111111111, \"#46039f\"], [0.2222222222222222, \"#7201a8\"], [0.3333333333333333, \"#9c179e\"], [0.4444444444444444, \"#bd3786\"], [0.5555555555555556, \"#d8576b\"], [0.6666666666666666, \"#ed7953\"], [0.7777777777777778, \"#fb9f3a\"], [0.8888888888888888, \"#fdca26\"], [1.0, \"#f0f921\"]], \"type\": \"heatmapgl\"}], \"histogram\": [{\"marker\": {\"colorbar\": {\"outlinewidth\": 0, \"ticks\": \"\"}}, \"type\": \"histogram\"}], \"histogram2d\": [{\"colorbar\": {\"outlinewidth\": 0, \"ticks\": \"\"}, \"colorscale\": [[0.0, \"#0d0887\"], [0.1111111111111111, \"#46039f\"], [0.2222222222222222, \"#7201a8\"], [0.3333333333333333, \"#9c179e\"], [0.4444444444444444, \"#bd3786\"], [0.5555555555555556, \"#d8576b\"], [0.6666666666666666, \"#ed7953\"], [0.7777777777777778, \"#fb9f3a\"], [0.8888888888888888, \"#fdca26\"], [1.0, \"#f0f921\"]], \"type\": \"histogram2d\"}], \"histogram2dcontour\": [{\"colorbar\": {\"outlinewidth\": 0, \"ticks\": \"\"}, \"colorscale\": [[0.0, \"#0d0887\"], [0.1111111111111111, \"#46039f\"], [0.2222222222222222, \"#7201a8\"], [0.3333333333333333, \"#9c179e\"], [0.4444444444444444, \"#bd3786\"], [0.5555555555555556, \"#d8576b\"], [0.6666666666666666, \"#ed7953\"], [0.7777777777777778, \"#fb9f3a\"], [0.8888888888888888, \"#fdca26\"], [1.0, \"#f0f921\"]], \"type\": \"histogram2dcontour\"}], \"mesh3d\": [{\"colorbar\": {\"outlinewidth\": 0, \"ticks\": \"\"}, \"type\": \"mesh3d\"}], \"parcoords\": [{\"line\": {\"colorbar\": {\"outlinewidth\": 0, \"ticks\": \"\"}}, \"type\": \"parcoords\"}], \"pie\": [{\"automargin\": true, \"type\": \"pie\"}], \"scatter\": [{\"marker\": {\"colorbar\": {\"outlinewidth\": 0, \"ticks\": \"\"}}, \"type\": \"scatter\"}], \"scatter3d\": [{\"line\": {\"colorbar\": {\"outlinewidth\": 0, \"ticks\": \"\"}}, \"marker\": {\"colorbar\": {\"outlinewidth\": 0, \"ticks\": \"\"}}, \"type\": \"scatter3d\"}], \"scattercarpet\": [{\"marker\": {\"colorbar\": {\"outlinewidth\": 0, \"ticks\": \"\"}}, \"type\": \"scattercarpet\"}], \"scattergeo\": [{\"marker\": {\"colorbar\": {\"outlinewidth\": 0, \"ticks\": \"\"}}, \"type\": \"scattergeo\"}], \"scattergl\": [{\"marker\": {\"colorbar\": {\"outlinewidth\": 0, \"ticks\": \"\"}}, \"type\": \"scattergl\"}], \"scattermapbox\": [{\"marker\": {\"colorbar\": {\"outlinewidth\": 0, \"ticks\": \"\"}}, \"type\": \"scattermapbox\"}], \"scatterpolar\": [{\"marker\": {\"colorbar\": {\"outlinewidth\": 0, \"ticks\": \"\"}}, \"type\": \"scatterpolar\"}], \"scatterpolargl\": [{\"marker\": {\"colorbar\": {\"outlinewidth\": 0, \"ticks\": \"\"}}, \"type\": \"scatterpolargl\"}], \"scatterternary\": [{\"marker\": {\"colorbar\": {\"outlinewidth\": 0, \"ticks\": \"\"}}, \"type\": \"scatterternary\"}], \"surface\": [{\"colorbar\": {\"outlinewidth\": 0, \"ticks\": \"\"}, \"colorscale\": [[0.0, \"#0d0887\"], [0.1111111111111111, \"#46039f\"], [0.2222222222222222, \"#7201a8\"], [0.3333333333333333, \"#9c179e\"], [0.4444444444444444, \"#bd3786\"], [0.5555555555555556, \"#d8576b\"], [0.6666666666666666, \"#ed7953\"], [0.7777777777777778, \"#fb9f3a\"], [0.8888888888888888, \"#fdca26\"], [1.0, \"#f0f921\"]], \"type\": \"surface\"}], \"table\": [{\"cells\": {\"fill\": {\"color\": \"#EBF0F8\"}, \"line\": {\"color\": \"white\"}}, \"header\": {\"fill\": {\"color\": \"#C8D4E3\"}, \"line\": {\"color\": \"white\"}}, \"type\": \"table\"}]}, \"layout\": {\"annotationdefaults\": {\"arrowcolor\": \"#2a3f5f\", \"arrowhead\": 0, \"arrowwidth\": 1}, \"coloraxis\": {\"colorbar\": {\"outlinewidth\": 0, \"ticks\": \"\"}}, \"colorscale\": {\"diverging\": [[0, \"#8e0152\"], [0.1, \"#c51b7d\"], [0.2, \"#de77ae\"], [0.3, \"#f1b6da\"], [0.4, \"#fde0ef\"], [0.5, \"#f7f7f7\"], [0.6, \"#e6f5d0\"], [0.7, \"#b8e186\"], [0.8, \"#7fbc41\"], [0.9, \"#4d9221\"], [1, \"#276419\"]], \"sequential\": [[0.0, \"#0d0887\"], [0.1111111111111111, \"#46039f\"], [0.2222222222222222, \"#7201a8\"], [0.3333333333333333, \"#9c179e\"], [0.4444444444444444, \"#bd3786\"], [0.5555555555555556, \"#d8576b\"], [0.6666666666666666, \"#ed7953\"], [0.7777777777777778, \"#fb9f3a\"], [0.8888888888888888, \"#fdca26\"], [1.0, \"#f0f921\"]], \"sequentialminus\": [[0.0, \"#0d0887\"], [0.1111111111111111, \"#46039f\"], [0.2222222222222222, \"#7201a8\"], [0.3333333333333333, \"#9c179e\"], [0.4444444444444444, \"#bd3786\"], [0.5555555555555556, \"#d8576b\"], [0.6666666666666666, \"#ed7953\"], [0.7777777777777778, \"#fb9f3a\"], [0.8888888888888888, \"#fdca26\"], [1.0, \"#f0f921\"]]}, \"colorway\": [\"#636efa\", \"#EF553B\", \"#00cc96\", \"#ab63fa\", \"#FFA15A\", \"#19d3f3\", \"#FF6692\", \"#B6E880\", \"#FF97FF\", \"#FECB52\"], \"font\": {\"color\": \"#2a3f5f\"}, \"geo\": {\"bgcolor\": \"white\", \"lakecolor\": \"white\", \"landcolor\": \"#E5ECF6\", \"showlakes\": true, \"showland\": true, \"subunitcolor\": \"white\"}, \"hoverlabel\": {\"align\": \"left\"}, \"hovermode\": \"closest\", \"mapbox\": {\"style\": \"light\"}, \"paper_bgcolor\": \"white\", \"plot_bgcolor\": \"#E5ECF6\", \"polar\": {\"angularaxis\": {\"gridcolor\": \"white\", \"linecolor\": \"white\", \"ticks\": \"\"}, \"bgcolor\": \"#E5ECF6\", \"radialaxis\": {\"gridcolor\": \"white\", \"linecolor\": \"white\", \"ticks\": \"\"}}, \"scene\": {\"xaxis\": {\"backgroundcolor\": \"#E5ECF6\", \"gridcolor\": \"white\", \"gridwidth\": 2, \"linecolor\": \"white\", \"showbackground\": true, \"ticks\": \"\", \"zerolinecolor\": \"white\"}, \"yaxis\": {\"backgroundcolor\": \"#E5ECF6\", \"gridcolor\": \"white\", \"gridwidth\": 2, \"linecolor\": \"white\", \"showbackground\": true, \"ticks\": \"\", \"zerolinecolor\": \"white\"}, \"zaxis\": {\"backgroundcolor\": \"#E5ECF6\", \"gridcolor\": \"white\", \"gridwidth\": 2, \"linecolor\": \"white\", \"showbackground\": true, \"ticks\": \"\", \"zerolinecolor\": \"white\"}}, \"shapedefaults\": {\"line\": {\"color\": \"#2a3f5f\"}}, \"ternary\": {\"aaxis\": {\"gridcolor\": \"white\", \"linecolor\": \"white\", \"ticks\": \"\"}, \"baxis\": {\"gridcolor\": \"white\", \"linecolor\": \"white\", \"ticks\": \"\"}, \"bgcolor\": \"#E5ECF6\", \"caxis\": {\"gridcolor\": \"white\", \"linecolor\": \"white\", \"ticks\": \"\"}}, \"title\": {\"x\": 0.05}, \"xaxis\": {\"automargin\": true, \"gridcolor\": \"white\", \"linecolor\": \"white\", \"ticks\": \"\", \"title\": {\"standoff\": 15}, \"zerolinecolor\": \"white\", \"zerolinewidth\": 2}, \"yaxis\": {\"automargin\": true, \"gridcolor\": \"white\", \"linecolor\": \"white\", \"ticks\": \"\", \"title\": {\"standoff\": 15}, \"zerolinecolor\": \"white\", \"zerolinewidth\": 2}}}, \"title\": {\"text\": \"% of number of students in universities\"}},\n",
       "                        {\"responsive\": true}\n",
       "                    ).then(function(){\n",
       "                            \n",
       "var gd = document.getElementById('1efa76fe-4cb0-468f-8f91-59ab889065c6');\n",
       "var x = new MutationObserver(function (mutations, observer) {{\n",
       "        var display = window.getComputedStyle(gd).display;\n",
       "        if (!display || display === 'none') {{\n",
       "            console.log([gd, 'removed!']);\n",
       "            Plotly.purge(gd);\n",
       "            observer.disconnect();\n",
       "        }}\n",
       "}});\n",
       "\n",
       "// Listen for the removal of the full notebook cells\n",
       "var notebookContainer = gd.closest('#notebook-container');\n",
       "if (notebookContainer) {{\n",
       "    x.observe(notebookContainer, {childList: true});\n",
       "}}\n",
       "\n",
       "// Listen for the clearing of the current output cell\n",
       "var outputEl = gd.closest('.output');\n",
       "if (outputEl) {{\n",
       "    x.observe(outputEl, {childList: true});\n",
       "}}\n",
       "\n",
       "                        })\n",
       "                };\n",
       "                });\n",
       "            </script>\n",
       "        </div>"
      ]
     },
     "metadata": {},
     "output_type": "display_data"
    }
   ],
   "source": [
    "df2011=df[df.year==2011].iloc[:7,:]\n",
    "pie1=df2011.num_students\n",
    "pie1_list=[float(each.replace(',','.')) for each in df2011.num_students]\n",
    "labels=df.university_name\n",
    "\n",
    "fig={\n",
    "    \"data\":{\n",
    "        \"values\":pie1_list,\n",
    "        \"labels\":labels,\n",
    "        \"hoverinfo\": \"label+percent\",\n",
    "        \"hole\":0,\n",
    "        \"type\":\"pie\"\n",
    "    },\n",
    "    \n",
    "    \"layout\":{\n",
    "        \"title\": \"% of number of students in universities\",\n",
    "    }\n",
    "    \n",
    "}\n",
    "iplot(fig)"
   ]
  },
  {
   "cell_type": "markdown",
   "metadata": {},
   "source": [
    "# Bubble Charts Example: University world rank (first 20) vs teaching score with number of students(size) and international score (color) in 2011"
   ]
  },
  {
   "cell_type": "code",
   "execution_count": 52,
   "metadata": {},
   "outputs": [
    {
     "data": {
      "application/vnd.plotly.v1+json": {
       "config": {
        "linkText": "Export to plot.ly",
        "plotlyServerURL": "https://plot.ly",
        "showLink": false
       },
       "data": [
        {
         "marker": {
          "color": [
           64,
           94.4,
           76.3,
           91.5,
           84,
           77.2,
           78.5,
           96,
           97.9,
           65,
           70,
           64.3,
           61.9,
           94.4,
           73.5,
           56.4,
           49.5,
           63.9,
           77.8,
           56.5
          ],
          "showscale": true,
          "size": [
           2.243,
           19.919,
           15.596,
           18.812,
           11.074,
           20.152,
           7.929,
           15.06,
           18.178,
           14.221,
           15.128,
           11.751,
           36.186,
           26.607,
           25.055,
           38.206,
           20.376,
           21.424,
           66.198,
           15.172
          ]
         },
         "mode": "markers",
         "text": [
          "California Institute of Technology",
          "University of Oxford",
          "Stanford University",
          "University of Cambridge",
          "Massachusetts Institute of Technology",
          "Harvard University",
          "Princeton University",
          "Imperial College London",
          "ETH Zurich – Swiss Federal Institute of Technology Zurich",
          "University of Chicago",
          "Johns Hopkins University",
          "Yale University",
          "University of California, Berkeley",
          "University College London",
          "Columbia University",
          "University of California, Los Angeles",
          "University of Pennsylvania",
          "Cornell University",
          "University of Toronto",
          "Duke University"
         ],
         "type": "scatter",
         "x": [
          "1",
          "2",
          "3",
          "4",
          "5",
          "6",
          "7",
          "8",
          "9",
          "10",
          "11",
          "12",
          "13",
          "14",
          "15",
          "16",
          "17",
          "18",
          "19",
          "20"
         ],
         "y": [
          95.6,
          86.5,
          92.5,
          88.2,
          89.4,
          83.6,
          85.1,
          83.3,
          77,
          85.7,
          77.6,
          86.5,
          80.4,
          78.1,
          85.9,
          80.8,
          82,
          77.9,
          75.9,
          76
         ]
        }
       ],
       "layout": {
        "template": {
         "data": {
          "bar": [
           {
            "error_x": {
             "color": "#2a3f5f"
            },
            "error_y": {
             "color": "#2a3f5f"
            },
            "marker": {
             "line": {
              "color": "#E5ECF6",
              "width": 0.5
             }
            },
            "type": "bar"
           }
          ],
          "barpolar": [
           {
            "marker": {
             "line": {
              "color": "#E5ECF6",
              "width": 0.5
             }
            },
            "type": "barpolar"
           }
          ],
          "carpet": [
           {
            "aaxis": {
             "endlinecolor": "#2a3f5f",
             "gridcolor": "white",
             "linecolor": "white",
             "minorgridcolor": "white",
             "startlinecolor": "#2a3f5f"
            },
            "baxis": {
             "endlinecolor": "#2a3f5f",
             "gridcolor": "white",
             "linecolor": "white",
             "minorgridcolor": "white",
             "startlinecolor": "#2a3f5f"
            },
            "type": "carpet"
           }
          ],
          "choropleth": [
           {
            "colorbar": {
             "outlinewidth": 0,
             "ticks": ""
            },
            "type": "choropleth"
           }
          ],
          "contour": [
           {
            "colorbar": {
             "outlinewidth": 0,
             "ticks": ""
            },
            "colorscale": [
             [
              0,
              "#0d0887"
             ],
             [
              0.1111111111111111,
              "#46039f"
             ],
             [
              0.2222222222222222,
              "#7201a8"
             ],
             [
              0.3333333333333333,
              "#9c179e"
             ],
             [
              0.4444444444444444,
              "#bd3786"
             ],
             [
              0.5555555555555556,
              "#d8576b"
             ],
             [
              0.6666666666666666,
              "#ed7953"
             ],
             [
              0.7777777777777778,
              "#fb9f3a"
             ],
             [
              0.8888888888888888,
              "#fdca26"
             ],
             [
              1,
              "#f0f921"
             ]
            ],
            "type": "contour"
           }
          ],
          "contourcarpet": [
           {
            "colorbar": {
             "outlinewidth": 0,
             "ticks": ""
            },
            "type": "contourcarpet"
           }
          ],
          "heatmap": [
           {
            "colorbar": {
             "outlinewidth": 0,
             "ticks": ""
            },
            "colorscale": [
             [
              0,
              "#0d0887"
             ],
             [
              0.1111111111111111,
              "#46039f"
             ],
             [
              0.2222222222222222,
              "#7201a8"
             ],
             [
              0.3333333333333333,
              "#9c179e"
             ],
             [
              0.4444444444444444,
              "#bd3786"
             ],
             [
              0.5555555555555556,
              "#d8576b"
             ],
             [
              0.6666666666666666,
              "#ed7953"
             ],
             [
              0.7777777777777778,
              "#fb9f3a"
             ],
             [
              0.8888888888888888,
              "#fdca26"
             ],
             [
              1,
              "#f0f921"
             ]
            ],
            "type": "heatmap"
           }
          ],
          "heatmapgl": [
           {
            "colorbar": {
             "outlinewidth": 0,
             "ticks": ""
            },
            "colorscale": [
             [
              0,
              "#0d0887"
             ],
             [
              0.1111111111111111,
              "#46039f"
             ],
             [
              0.2222222222222222,
              "#7201a8"
             ],
             [
              0.3333333333333333,
              "#9c179e"
             ],
             [
              0.4444444444444444,
              "#bd3786"
             ],
             [
              0.5555555555555556,
              "#d8576b"
             ],
             [
              0.6666666666666666,
              "#ed7953"
             ],
             [
              0.7777777777777778,
              "#fb9f3a"
             ],
             [
              0.8888888888888888,
              "#fdca26"
             ],
             [
              1,
              "#f0f921"
             ]
            ],
            "type": "heatmapgl"
           }
          ],
          "histogram": [
           {
            "marker": {
             "colorbar": {
              "outlinewidth": 0,
              "ticks": ""
             }
            },
            "type": "histogram"
           }
          ],
          "histogram2d": [
           {
            "colorbar": {
             "outlinewidth": 0,
             "ticks": ""
            },
            "colorscale": [
             [
              0,
              "#0d0887"
             ],
             [
              0.1111111111111111,
              "#46039f"
             ],
             [
              0.2222222222222222,
              "#7201a8"
             ],
             [
              0.3333333333333333,
              "#9c179e"
             ],
             [
              0.4444444444444444,
              "#bd3786"
             ],
             [
              0.5555555555555556,
              "#d8576b"
             ],
             [
              0.6666666666666666,
              "#ed7953"
             ],
             [
              0.7777777777777778,
              "#fb9f3a"
             ],
             [
              0.8888888888888888,
              "#fdca26"
             ],
             [
              1,
              "#f0f921"
             ]
            ],
            "type": "histogram2d"
           }
          ],
          "histogram2dcontour": [
           {
            "colorbar": {
             "outlinewidth": 0,
             "ticks": ""
            },
            "colorscale": [
             [
              0,
              "#0d0887"
             ],
             [
              0.1111111111111111,
              "#46039f"
             ],
             [
              0.2222222222222222,
              "#7201a8"
             ],
             [
              0.3333333333333333,
              "#9c179e"
             ],
             [
              0.4444444444444444,
              "#bd3786"
             ],
             [
              0.5555555555555556,
              "#d8576b"
             ],
             [
              0.6666666666666666,
              "#ed7953"
             ],
             [
              0.7777777777777778,
              "#fb9f3a"
             ],
             [
              0.8888888888888888,
              "#fdca26"
             ],
             [
              1,
              "#f0f921"
             ]
            ],
            "type": "histogram2dcontour"
           }
          ],
          "mesh3d": [
           {
            "colorbar": {
             "outlinewidth": 0,
             "ticks": ""
            },
            "type": "mesh3d"
           }
          ],
          "parcoords": [
           {
            "line": {
             "colorbar": {
              "outlinewidth": 0,
              "ticks": ""
             }
            },
            "type": "parcoords"
           }
          ],
          "pie": [
           {
            "automargin": true,
            "type": "pie"
           }
          ],
          "scatter": [
           {
            "marker": {
             "colorbar": {
              "outlinewidth": 0,
              "ticks": ""
             }
            },
            "type": "scatter"
           }
          ],
          "scatter3d": [
           {
            "line": {
             "colorbar": {
              "outlinewidth": 0,
              "ticks": ""
             }
            },
            "marker": {
             "colorbar": {
              "outlinewidth": 0,
              "ticks": ""
             }
            },
            "type": "scatter3d"
           }
          ],
          "scattercarpet": [
           {
            "marker": {
             "colorbar": {
              "outlinewidth": 0,
              "ticks": ""
             }
            },
            "type": "scattercarpet"
           }
          ],
          "scattergeo": [
           {
            "marker": {
             "colorbar": {
              "outlinewidth": 0,
              "ticks": ""
             }
            },
            "type": "scattergeo"
           }
          ],
          "scattergl": [
           {
            "marker": {
             "colorbar": {
              "outlinewidth": 0,
              "ticks": ""
             }
            },
            "type": "scattergl"
           }
          ],
          "scattermapbox": [
           {
            "marker": {
             "colorbar": {
              "outlinewidth": 0,
              "ticks": ""
             }
            },
            "type": "scattermapbox"
           }
          ],
          "scatterpolar": [
           {
            "marker": {
             "colorbar": {
              "outlinewidth": 0,
              "ticks": ""
             }
            },
            "type": "scatterpolar"
           }
          ],
          "scatterpolargl": [
           {
            "marker": {
             "colorbar": {
              "outlinewidth": 0,
              "ticks": ""
             }
            },
            "type": "scatterpolargl"
           }
          ],
          "scatterternary": [
           {
            "marker": {
             "colorbar": {
              "outlinewidth": 0,
              "ticks": ""
             }
            },
            "type": "scatterternary"
           }
          ],
          "surface": [
           {
            "colorbar": {
             "outlinewidth": 0,
             "ticks": ""
            },
            "colorscale": [
             [
              0,
              "#0d0887"
             ],
             [
              0.1111111111111111,
              "#46039f"
             ],
             [
              0.2222222222222222,
              "#7201a8"
             ],
             [
              0.3333333333333333,
              "#9c179e"
             ],
             [
              0.4444444444444444,
              "#bd3786"
             ],
             [
              0.5555555555555556,
              "#d8576b"
             ],
             [
              0.6666666666666666,
              "#ed7953"
             ],
             [
              0.7777777777777778,
              "#fb9f3a"
             ],
             [
              0.8888888888888888,
              "#fdca26"
             ],
             [
              1,
              "#f0f921"
             ]
            ],
            "type": "surface"
           }
          ],
          "table": [
           {
            "cells": {
             "fill": {
              "color": "#EBF0F8"
             },
             "line": {
              "color": "white"
             }
            },
            "header": {
             "fill": {
              "color": "#C8D4E3"
             },
             "line": {
              "color": "white"
             }
            },
            "type": "table"
           }
          ]
         },
         "layout": {
          "annotationdefaults": {
           "arrowcolor": "#2a3f5f",
           "arrowhead": 0,
           "arrowwidth": 1
          },
          "coloraxis": {
           "colorbar": {
            "outlinewidth": 0,
            "ticks": ""
           }
          },
          "colorscale": {
           "diverging": [
            [
             0,
             "#8e0152"
            ],
            [
             0.1,
             "#c51b7d"
            ],
            [
             0.2,
             "#de77ae"
            ],
            [
             0.3,
             "#f1b6da"
            ],
            [
             0.4,
             "#fde0ef"
            ],
            [
             0.5,
             "#f7f7f7"
            ],
            [
             0.6,
             "#e6f5d0"
            ],
            [
             0.7,
             "#b8e186"
            ],
            [
             0.8,
             "#7fbc41"
            ],
            [
             0.9,
             "#4d9221"
            ],
            [
             1,
             "#276419"
            ]
           ],
           "sequential": [
            [
             0,
             "#0d0887"
            ],
            [
             0.1111111111111111,
             "#46039f"
            ],
            [
             0.2222222222222222,
             "#7201a8"
            ],
            [
             0.3333333333333333,
             "#9c179e"
            ],
            [
             0.4444444444444444,
             "#bd3786"
            ],
            [
             0.5555555555555556,
             "#d8576b"
            ],
            [
             0.6666666666666666,
             "#ed7953"
            ],
            [
             0.7777777777777778,
             "#fb9f3a"
            ],
            [
             0.8888888888888888,
             "#fdca26"
            ],
            [
             1,
             "#f0f921"
            ]
           ],
           "sequentialminus": [
            [
             0,
             "#0d0887"
            ],
            [
             0.1111111111111111,
             "#46039f"
            ],
            [
             0.2222222222222222,
             "#7201a8"
            ],
            [
             0.3333333333333333,
             "#9c179e"
            ],
            [
             0.4444444444444444,
             "#bd3786"
            ],
            [
             0.5555555555555556,
             "#d8576b"
            ],
            [
             0.6666666666666666,
             "#ed7953"
            ],
            [
             0.7777777777777778,
             "#fb9f3a"
            ],
            [
             0.8888888888888888,
             "#fdca26"
            ],
            [
             1,
             "#f0f921"
            ]
           ]
          },
          "colorway": [
           "#636efa",
           "#EF553B",
           "#00cc96",
           "#ab63fa",
           "#FFA15A",
           "#19d3f3",
           "#FF6692",
           "#B6E880",
           "#FF97FF",
           "#FECB52"
          ],
          "font": {
           "color": "#2a3f5f"
          },
          "geo": {
           "bgcolor": "white",
           "lakecolor": "white",
           "landcolor": "#E5ECF6",
           "showlakes": true,
           "showland": true,
           "subunitcolor": "white"
          },
          "hoverlabel": {
           "align": "left"
          },
          "hovermode": "closest",
          "mapbox": {
           "style": "light"
          },
          "paper_bgcolor": "white",
          "plot_bgcolor": "#E5ECF6",
          "polar": {
           "angularaxis": {
            "gridcolor": "white",
            "linecolor": "white",
            "ticks": ""
           },
           "bgcolor": "#E5ECF6",
           "radialaxis": {
            "gridcolor": "white",
            "linecolor": "white",
            "ticks": ""
           }
          },
          "scene": {
           "xaxis": {
            "backgroundcolor": "#E5ECF6",
            "gridcolor": "white",
            "gridwidth": 2,
            "linecolor": "white",
            "showbackground": true,
            "ticks": "",
            "zerolinecolor": "white"
           },
           "yaxis": {
            "backgroundcolor": "#E5ECF6",
            "gridcolor": "white",
            "gridwidth": 2,
            "linecolor": "white",
            "showbackground": true,
            "ticks": "",
            "zerolinecolor": "white"
           },
           "zaxis": {
            "backgroundcolor": "#E5ECF6",
            "gridcolor": "white",
            "gridwidth": 2,
            "linecolor": "white",
            "showbackground": true,
            "ticks": "",
            "zerolinecolor": "white"
           }
          },
          "shapedefaults": {
           "line": {
            "color": "#2a3f5f"
           }
          },
          "ternary": {
           "aaxis": {
            "gridcolor": "white",
            "linecolor": "white",
            "ticks": ""
           },
           "baxis": {
            "gridcolor": "white",
            "linecolor": "white",
            "ticks": ""
           },
           "bgcolor": "#E5ECF6",
           "caxis": {
            "gridcolor": "white",
            "linecolor": "white",
            "ticks": ""
           }
          },
          "title": {
           "x": 0.05
          },
          "xaxis": {
           "automargin": true,
           "gridcolor": "white",
           "linecolor": "white",
           "ticks": "",
           "title": {
            "standoff": 15
           },
           "zerolinecolor": "white",
           "zerolinewidth": 2
          },
          "yaxis": {
           "automargin": true,
           "gridcolor": "white",
           "linecolor": "white",
           "ticks": "",
           "title": {
            "standoff": 15
           },
           "zerolinecolor": "white",
           "zerolinewidth": 2
          }
         }
        },
        "title": {
         "text": "Bubble Chart"
        },
        "xaxis": {
         "title": {
          "text": "world rank"
         }
        },
        "yaxis": {
         "title": {
          "text": "teaching score"
         }
        }
       }
      },
      "text/html": [
       "<div>\n",
       "        \n",
       "        \n",
       "            <div id=\"c1390ef2-2e66-4ca6-898f-56acd37f36cd\" class=\"plotly-graph-div\" style=\"height:525px; width:100%;\"></div>\n",
       "            <script type=\"text/javascript\">\n",
       "                require([\"plotly\"], function(Plotly) {\n",
       "                    window.PLOTLYENV=window.PLOTLYENV || {};\n",
       "                    \n",
       "                if (document.getElementById(\"c1390ef2-2e66-4ca6-898f-56acd37f36cd\")) {\n",
       "                    Plotly.newPlot(\n",
       "                        'c1390ef2-2e66-4ca6-898f-56acd37f36cd',\n",
       "                        [{\"marker\": {\"color\": [64.0, 94.4, 76.3, 91.5, 84.0, 77.2, 78.5, 96.0, 97.9, 65.0, 70.0, 64.3, 61.9, 94.4, 73.5, 56.4, 49.5, 63.9, 77.8, 56.5], \"showscale\": true, \"size\": [2.243, 19.919, 15.596, 18.812, 11.074, 20.152, 7.929, 15.06, 18.178, 14.221, 15.128, 11.751, 36.186, 26.607, 25.055, 38.206, 20.376, 21.424, 66.198, 15.172]}, \"mode\": \"markers\", \"text\": [\"California Institute of Technology\", \"University of Oxford\", \"Stanford University\", \"University of Cambridge\", \"Massachusetts Institute of Technology\", \"Harvard University\", \"Princeton University\", \"Imperial College London\", \"ETH Zurich \\u2013 Swiss Federal Institute of Technology Zurich\", \"University of Chicago\", \"Johns Hopkins University\", \"Yale University\", \"University of California, Berkeley\", \"University College London\", \"Columbia University\", \"University of California, Los Angeles\", \"University of Pennsylvania\", \"Cornell University\", \"University of Toronto\", \"Duke University\"], \"type\": \"scatter\", \"x\": [\"1\", \"2\", \"3\", \"4\", \"5\", \"6\", \"7\", \"8\", \"9\", \"10\", \"11\", \"12\", \"13\", \"14\", \"15\", \"16\", \"17\", \"18\", \"19\", \"20\"], \"y\": [95.6, 86.5, 92.5, 88.2, 89.4, 83.6, 85.1, 83.3, 77.0, 85.7, 77.6, 86.5, 80.4, 78.1, 85.9, 80.8, 82.0, 77.9, 75.9, 76.0]}],\n",
       "                        {\"template\": {\"data\": {\"bar\": [{\"error_x\": {\"color\": \"#2a3f5f\"}, \"error_y\": {\"color\": \"#2a3f5f\"}, \"marker\": {\"line\": {\"color\": \"#E5ECF6\", \"width\": 0.5}}, \"type\": \"bar\"}], \"barpolar\": [{\"marker\": {\"line\": {\"color\": \"#E5ECF6\", \"width\": 0.5}}, \"type\": \"barpolar\"}], \"carpet\": [{\"aaxis\": {\"endlinecolor\": \"#2a3f5f\", \"gridcolor\": \"white\", \"linecolor\": \"white\", \"minorgridcolor\": \"white\", \"startlinecolor\": \"#2a3f5f\"}, \"baxis\": {\"endlinecolor\": \"#2a3f5f\", \"gridcolor\": \"white\", \"linecolor\": \"white\", \"minorgridcolor\": \"white\", \"startlinecolor\": \"#2a3f5f\"}, \"type\": \"carpet\"}], \"choropleth\": [{\"colorbar\": {\"outlinewidth\": 0, \"ticks\": \"\"}, \"type\": \"choropleth\"}], \"contour\": [{\"colorbar\": {\"outlinewidth\": 0, \"ticks\": \"\"}, \"colorscale\": [[0.0, \"#0d0887\"], [0.1111111111111111, \"#46039f\"], [0.2222222222222222, \"#7201a8\"], [0.3333333333333333, \"#9c179e\"], [0.4444444444444444, \"#bd3786\"], [0.5555555555555556, \"#d8576b\"], [0.6666666666666666, \"#ed7953\"], [0.7777777777777778, \"#fb9f3a\"], [0.8888888888888888, \"#fdca26\"], [1.0, \"#f0f921\"]], \"type\": \"contour\"}], \"contourcarpet\": [{\"colorbar\": {\"outlinewidth\": 0, \"ticks\": \"\"}, \"type\": \"contourcarpet\"}], \"heatmap\": [{\"colorbar\": {\"outlinewidth\": 0, \"ticks\": \"\"}, \"colorscale\": [[0.0, \"#0d0887\"], [0.1111111111111111, \"#46039f\"], [0.2222222222222222, \"#7201a8\"], [0.3333333333333333, \"#9c179e\"], [0.4444444444444444, \"#bd3786\"], [0.5555555555555556, \"#d8576b\"], [0.6666666666666666, \"#ed7953\"], [0.7777777777777778, \"#fb9f3a\"], [0.8888888888888888, \"#fdca26\"], [1.0, \"#f0f921\"]], \"type\": \"heatmap\"}], \"heatmapgl\": [{\"colorbar\": {\"outlinewidth\": 0, \"ticks\": \"\"}, \"colorscale\": [[0.0, \"#0d0887\"], [0.1111111111111111, \"#46039f\"], [0.2222222222222222, \"#7201a8\"], [0.3333333333333333, \"#9c179e\"], [0.4444444444444444, \"#bd3786\"], [0.5555555555555556, \"#d8576b\"], [0.6666666666666666, \"#ed7953\"], [0.7777777777777778, \"#fb9f3a\"], [0.8888888888888888, \"#fdca26\"], [1.0, \"#f0f921\"]], \"type\": \"heatmapgl\"}], \"histogram\": [{\"marker\": {\"colorbar\": {\"outlinewidth\": 0, \"ticks\": \"\"}}, \"type\": \"histogram\"}], \"histogram2d\": [{\"colorbar\": {\"outlinewidth\": 0, \"ticks\": \"\"}, \"colorscale\": [[0.0, \"#0d0887\"], [0.1111111111111111, \"#46039f\"], [0.2222222222222222, \"#7201a8\"], [0.3333333333333333, \"#9c179e\"], [0.4444444444444444, \"#bd3786\"], [0.5555555555555556, \"#d8576b\"], [0.6666666666666666, \"#ed7953\"], [0.7777777777777778, \"#fb9f3a\"], [0.8888888888888888, \"#fdca26\"], [1.0, \"#f0f921\"]], \"type\": \"histogram2d\"}], \"histogram2dcontour\": [{\"colorbar\": {\"outlinewidth\": 0, \"ticks\": \"\"}, \"colorscale\": [[0.0, \"#0d0887\"], [0.1111111111111111, \"#46039f\"], [0.2222222222222222, \"#7201a8\"], [0.3333333333333333, \"#9c179e\"], [0.4444444444444444, \"#bd3786\"], [0.5555555555555556, \"#d8576b\"], [0.6666666666666666, \"#ed7953\"], [0.7777777777777778, \"#fb9f3a\"], [0.8888888888888888, \"#fdca26\"], [1.0, \"#f0f921\"]], \"type\": \"histogram2dcontour\"}], \"mesh3d\": [{\"colorbar\": {\"outlinewidth\": 0, \"ticks\": \"\"}, \"type\": \"mesh3d\"}], \"parcoords\": [{\"line\": {\"colorbar\": {\"outlinewidth\": 0, \"ticks\": \"\"}}, \"type\": \"parcoords\"}], \"pie\": [{\"automargin\": true, \"type\": \"pie\"}], \"scatter\": [{\"marker\": {\"colorbar\": {\"outlinewidth\": 0, \"ticks\": \"\"}}, \"type\": \"scatter\"}], \"scatter3d\": [{\"line\": {\"colorbar\": {\"outlinewidth\": 0, \"ticks\": \"\"}}, \"marker\": {\"colorbar\": {\"outlinewidth\": 0, \"ticks\": \"\"}}, \"type\": \"scatter3d\"}], \"scattercarpet\": [{\"marker\": {\"colorbar\": {\"outlinewidth\": 0, \"ticks\": \"\"}}, \"type\": \"scattercarpet\"}], \"scattergeo\": [{\"marker\": {\"colorbar\": {\"outlinewidth\": 0, \"ticks\": \"\"}}, \"type\": \"scattergeo\"}], \"scattergl\": [{\"marker\": {\"colorbar\": {\"outlinewidth\": 0, \"ticks\": \"\"}}, \"type\": \"scattergl\"}], \"scattermapbox\": [{\"marker\": {\"colorbar\": {\"outlinewidth\": 0, \"ticks\": \"\"}}, \"type\": \"scattermapbox\"}], \"scatterpolar\": [{\"marker\": {\"colorbar\": {\"outlinewidth\": 0, \"ticks\": \"\"}}, \"type\": \"scatterpolar\"}], \"scatterpolargl\": [{\"marker\": {\"colorbar\": {\"outlinewidth\": 0, \"ticks\": \"\"}}, \"type\": \"scatterpolargl\"}], \"scatterternary\": [{\"marker\": {\"colorbar\": {\"outlinewidth\": 0, \"ticks\": \"\"}}, \"type\": \"scatterternary\"}], \"surface\": [{\"colorbar\": {\"outlinewidth\": 0, \"ticks\": \"\"}, \"colorscale\": [[0.0, \"#0d0887\"], [0.1111111111111111, \"#46039f\"], [0.2222222222222222, \"#7201a8\"], [0.3333333333333333, \"#9c179e\"], [0.4444444444444444, \"#bd3786\"], [0.5555555555555556, \"#d8576b\"], [0.6666666666666666, \"#ed7953\"], [0.7777777777777778, \"#fb9f3a\"], [0.8888888888888888, \"#fdca26\"], [1.0, \"#f0f921\"]], \"type\": \"surface\"}], \"table\": [{\"cells\": {\"fill\": {\"color\": \"#EBF0F8\"}, \"line\": {\"color\": \"white\"}}, \"header\": {\"fill\": {\"color\": \"#C8D4E3\"}, \"line\": {\"color\": \"white\"}}, \"type\": \"table\"}]}, \"layout\": {\"annotationdefaults\": {\"arrowcolor\": \"#2a3f5f\", \"arrowhead\": 0, \"arrowwidth\": 1}, \"coloraxis\": {\"colorbar\": {\"outlinewidth\": 0, \"ticks\": \"\"}}, \"colorscale\": {\"diverging\": [[0, \"#8e0152\"], [0.1, \"#c51b7d\"], [0.2, \"#de77ae\"], [0.3, \"#f1b6da\"], [0.4, \"#fde0ef\"], [0.5, \"#f7f7f7\"], [0.6, \"#e6f5d0\"], [0.7, \"#b8e186\"], [0.8, \"#7fbc41\"], [0.9, \"#4d9221\"], [1, \"#276419\"]], \"sequential\": [[0.0, \"#0d0887\"], [0.1111111111111111, \"#46039f\"], [0.2222222222222222, \"#7201a8\"], [0.3333333333333333, \"#9c179e\"], [0.4444444444444444, \"#bd3786\"], [0.5555555555555556, \"#d8576b\"], [0.6666666666666666, \"#ed7953\"], [0.7777777777777778, \"#fb9f3a\"], [0.8888888888888888, \"#fdca26\"], [1.0, \"#f0f921\"]], \"sequentialminus\": [[0.0, \"#0d0887\"], [0.1111111111111111, \"#46039f\"], [0.2222222222222222, \"#7201a8\"], [0.3333333333333333, \"#9c179e\"], [0.4444444444444444, \"#bd3786\"], [0.5555555555555556, \"#d8576b\"], [0.6666666666666666, \"#ed7953\"], [0.7777777777777778, \"#fb9f3a\"], [0.8888888888888888, \"#fdca26\"], [1.0, \"#f0f921\"]]}, \"colorway\": [\"#636efa\", \"#EF553B\", \"#00cc96\", \"#ab63fa\", \"#FFA15A\", \"#19d3f3\", \"#FF6692\", \"#B6E880\", \"#FF97FF\", \"#FECB52\"], \"font\": {\"color\": \"#2a3f5f\"}, \"geo\": {\"bgcolor\": \"white\", \"lakecolor\": \"white\", \"landcolor\": \"#E5ECF6\", \"showlakes\": true, \"showland\": true, \"subunitcolor\": \"white\"}, \"hoverlabel\": {\"align\": \"left\"}, \"hovermode\": \"closest\", \"mapbox\": {\"style\": \"light\"}, \"paper_bgcolor\": \"white\", \"plot_bgcolor\": \"#E5ECF6\", \"polar\": {\"angularaxis\": {\"gridcolor\": \"white\", \"linecolor\": \"white\", \"ticks\": \"\"}, \"bgcolor\": \"#E5ECF6\", \"radialaxis\": {\"gridcolor\": \"white\", \"linecolor\": \"white\", \"ticks\": \"\"}}, \"scene\": {\"xaxis\": {\"backgroundcolor\": \"#E5ECF6\", \"gridcolor\": \"white\", \"gridwidth\": 2, \"linecolor\": \"white\", \"showbackground\": true, \"ticks\": \"\", \"zerolinecolor\": \"white\"}, \"yaxis\": {\"backgroundcolor\": \"#E5ECF6\", \"gridcolor\": \"white\", \"gridwidth\": 2, \"linecolor\": \"white\", \"showbackground\": true, \"ticks\": \"\", \"zerolinecolor\": \"white\"}, \"zaxis\": {\"backgroundcolor\": \"#E5ECF6\", \"gridcolor\": \"white\", \"gridwidth\": 2, \"linecolor\": \"white\", \"showbackground\": true, \"ticks\": \"\", \"zerolinecolor\": \"white\"}}, \"shapedefaults\": {\"line\": {\"color\": \"#2a3f5f\"}}, \"ternary\": {\"aaxis\": {\"gridcolor\": \"white\", \"linecolor\": \"white\", \"ticks\": \"\"}, \"baxis\": {\"gridcolor\": \"white\", \"linecolor\": \"white\", \"ticks\": \"\"}, \"bgcolor\": \"#E5ECF6\", \"caxis\": {\"gridcolor\": \"white\", \"linecolor\": \"white\", \"ticks\": \"\"}}, \"title\": {\"x\": 0.05}, \"xaxis\": {\"automargin\": true, \"gridcolor\": \"white\", \"linecolor\": \"white\", \"ticks\": \"\", \"title\": {\"standoff\": 15}, \"zerolinecolor\": \"white\", \"zerolinewidth\": 2}, \"yaxis\": {\"automargin\": true, \"gridcolor\": \"white\", \"linecolor\": \"white\", \"ticks\": \"\", \"title\": {\"standoff\": 15}, \"zerolinecolor\": \"white\", \"zerolinewidth\": 2}}}, \"title\": {\"text\": \"Bubble Chart\"}, \"xaxis\": {\"title\": {\"text\": \"world rank\"}}, \"yaxis\": {\"title\": {\"text\": \"teaching score\"}}},\n",
       "                        {\"responsive\": true}\n",
       "                    ).then(function(){\n",
       "                            \n",
       "var gd = document.getElementById('c1390ef2-2e66-4ca6-898f-56acd37f36cd');\n",
       "var x = new MutationObserver(function (mutations, observer) {{\n",
       "        var display = window.getComputedStyle(gd).display;\n",
       "        if (!display || display === 'none') {{\n",
       "            console.log([gd, 'removed!']);\n",
       "            Plotly.purge(gd);\n",
       "            observer.disconnect();\n",
       "        }}\n",
       "}});\n",
       "\n",
       "// Listen for the removal of the full notebook cells\n",
       "var notebookContainer = gd.closest('#notebook-container');\n",
       "if (notebookContainer) {{\n",
       "    x.observe(notebookContainer, {childList: true});\n",
       "}}\n",
       "\n",
       "// Listen for the clearing of the current output cell\n",
       "var outputEl = gd.closest('.output');\n",
       "if (outputEl) {{\n",
       "    x.observe(outputEl, {childList: true});\n",
       "}}\n",
       "\n",
       "                        })\n",
       "                };\n",
       "                });\n",
       "            </script>\n",
       "        </div>"
      ]
     },
     "metadata": {},
     "output_type": "display_data"
    }
   ],
   "source": [
    "df2016= df[df.year==2016].iloc[:20,:]\n",
    "num_students_size=[float(each.replace(',','.')) for each in df2016.num_students]\n",
    "international_color=[float(each) for each in df2016.international]\n",
    "trace6= go.Scatter(\n",
    "    x= df2016.world_rank,\n",
    "    y=df2016.teaching,\n",
    "    mode=\"markers\",\n",
    "    marker={\n",
    "        'size':num_students_size,\n",
    "        'color': international_color,\n",
    "        'showscale':True\n",
    "    },\n",
    "    text= df2016.university_name\n",
    ")\n",
    "data=[trace6]\n",
    "layout=dict(title=\"Bubble Chart\",xaxis=dict(title=\"world rank\"),yaxis=dict(title=\"teaching score\"))\n",
    "fig=dict(data=data,layout=layout)\n",
    "iplot(fig)"
   ]
  },
  {
   "cell_type": "markdown",
   "metadata": {},
   "source": [
    "# Histogram"
   ]
  },
  {
   "cell_type": "code",
   "execution_count": 55,
   "metadata": {},
   "outputs": [
    {
     "data": {
      "application/vnd.plotly.v1+json": {
       "config": {
        "linkText": "Export to plot.ly",
        "plotlyServerURL": "https://plot.ly",
        "showLink": false
       },
       "data": [
        {
         "marker": {
          "color": "rgba(171,50,96,0.6)"
         },
         "name": "2011",
         "opacity": 0.75,
         "type": "histogram",
         "x": [
          8.9,
          6.9,
          9,
          7.8,
          8.4,
          11.8,
          11.6,
          16.4,
          11.7,
          4.4,
          10.3,
          6.9,
          3.6,
          10.2,
          14.7,
          9,
          19.5,
          5.9,
          6.5,
          13.1,
          17.6,
          10.7,
          11.8,
          4.8,
          13.8,
          5.7,
          20.1,
          10.1,
          27.3,
          17.6,
          7.3,
          6.5,
          18.7,
          15.5,
          13.7,
          23.7,
          8.3,
          5.7,
          4.8,
          14.1,
          23.8,
          7.9,
          19.2,
          11.5,
          25.6,
          null,
          9,
          10.5,
          16.1,
          7.9,
          3.6,
          18,
          10,
          13.9,
          10.1,
          13,
          5.6,
          13.7,
          8.6,
          6.8,
          4.5,
          15.5,
          13.8,
          5.8,
          6.4,
          13.4,
          16.1,
          14,
          22.7,
          5.5,
          20.2,
          10.2,
          30.1,
          12.9,
          11.8,
          18,
          11.4,
          10.9,
          10,
          17.4,
          32.7,
          null,
          24.5,
          16.9,
          15.7,
          null,
          15.3,
          15.9,
          11.5,
          13.5,
          6.5,
          4.6,
          19.3,
          24.5,
          12,
          12.7,
          17.3,
          8.4,
          6.6,
          8,
          31.5,
          15.1,
          12.7,
          15,
          17.3,
          18.1,
          13.5,
          12.1,
          12.4,
          13.9,
          11,
          null,
          7.3,
          16,
          11.9,
          null,
          22,
          15,
          41.9,
          13.3,
          14,
          15.7,
          5,
          34.1,
          14.9,
          17.1,
          21.6,
          16,
          23.7,
          7.8,
          21.5,
          5,
          31.2,
          11.6,
          11.1,
          13.1,
          15.5,
          20.3,
          16.3,
          8.7,
          15.3,
          12.2,
          15.4,
          17,
          18.9,
          16.4,
          23.3,
          18.2,
          25.9,
          15.8,
          19.4,
          17.2,
          15.2,
          25.9,
          18.3,
          13.6,
          17.4,
          null,
          18.9,
          15.9,
          29.9,
          17.4,
          19.6,
          8.5,
          14.4,
          13.6,
          13.6,
          14.7,
          38.4,
          25.6,
          16.6,
          9.3,
          67.8,
          16.2,
          14.7,
          15,
          4.1,
          52.5,
          40.5,
          70.4,
          16.6,
          27.6,
          22.2,
          18.8,
          12,
          59.1,
          24.6,
          16.9,
          38.9,
          10.8,
          15.7,
          11.6,
          14.4,
          14.6,
          20.5,
          19,
          9.2,
          15.9,
          28.3,
          4.6
         ]
        },
        {
         "marker": {
          "color": "rgba(12,50,196,0.6)"
         },
         "name": "2011",
         "opacity": 0.75,
         "type": "histogram",
         "x": [
          6.9,
          8.9,
          7.8,
          11.6,
          8.4,
          11.8,
          9,
          11.7,
          6.9,
          16.4,
          4.4,
          5.9,
          10.3,
          3.6,
          14.7,
          6.5,
          10.7,
          9,
          19.5,
          10.2,
          13.1,
          4.8,
          17.6,
          20.1,
          11.8,
          13.8,
          10.8,
          13.7,
          17.4,
          5.7,
          18.7,
          11.5,
          6.5,
          17.6,
          27.3,
          14.1,
          23.7,
          19.2,
          13.9,
          15.5,
          5.7,
          18,
          7.3,
          6.8,
          15.5,
          10.5,
          null,
          15.3,
          10.1,
          8.3,
          12.4,
          5.6,
          10.1,
          8.6,
          12.9,
          11.4,
          13.4,
          20.2,
          5.8,
          7.9,
          6.5,
          23.8,
          4.8,
          13,
          19.3,
          14,
          41.9,
          15.4,
          25.6,
          3.6,
          13.7,
          9,
          24.5,
          32.7,
          4.5,
          17,
          10,
          16.1,
          17.1,
          11.5,
          17.3,
          4.5,
          15.7,
          8.7,
          12.7,
          16.1,
          18.2,
          31.5,
          13.8,
          6.6,
          15.1,
          14.4,
          6.4,
          10,
          8.4,
          15.7,
          12.7,
          18.1,
          17.4,
          21.6,
          15.5,
          16,
          12.1,
          19.4,
          20.3,
          34.1,
          15.9,
          7.3,
          52.5,
          22.7,
          17.3,
          22.5,
          16.9,
          10.9,
          16,
          13.1,
          40.5,
          18,
          7.8,
          5,
          10.7,
          null,
          13.6,
          13.9,
          13.6,
          18.7,
          29.9,
          14,
          13.5,
          15,
          14.9,
          23.7,
          14.7,
          25.6,
          12,
          4.1,
          10.2,
          8.5,
          20.5,
          15,
          11.6,
          8,
          22,
          15,
          14.7,
          15.2,
          11.8,
          16.4,
          17.2,
          12.6,
          10.2,
          39.3,
          15.8,
          11.9,
          5.5,
          18.8,
          18.9,
          16.6,
          13,
          24.5,
          16.3,
          null,
          4.6,
          21.4,
          14.8,
          24.4,
          9.2,
          27.6,
          16.2,
          14.8,
          42,
          5.7,
          22.1,
          18.9,
          25.9,
          15.3,
          21.5,
          5,
          14.6,
          15.9,
          9.3,
          13.6,
          18.8,
          17.4,
          26.3,
          18.3,
          14.6,
          38.9,
          31.2,
          20.7,
          11.1,
          7.9,
          7.1,
          59.1,
          17.4,
          24.6,
          null,
          18.9,
          13.4,
          12,
          12.3,
          null,
          13.1,
          18.2,
          7.9,
          13.5,
          15.1,
          19.4,
          8.4,
          11.2,
          11.9,
          19,
          30.1,
          12.2,
          15.7,
          19.8,
          19.9,
          16.4,
          16.9,
          null,
          20.3,
          16.3,
          17.8,
          24.2,
          20.7,
          38.4,
          26.1,
          29.8,
          11.6,
          19,
          8.3,
          14.4,
          10.8,
          12.2,
          15.8,
          20,
          16.6,
          28.3,
          18.5,
          4.6,
          9.9,
          22.9,
          16.5,
          null,
          24.3,
          72.5,
          14.1,
          18.3,
          25.8,
          11.6,
          19.5,
          67.8,
          17.6,
          25.9,
          29.1,
          6.7,
          13.3,
          19.6,
          13.9,
          17.9,
          46.3,
          23,
          22.4,
          37.4,
          18.8,
          26.8,
          null,
          23.8,
          12.7,
          22.8,
          18.6,
          12.6,
          25.4,
          21.1,
          18.6,
          10.7,
          19.2,
          13,
          8.2,
          11,
          16,
          7.7,
          22.2,
          18.4,
          35.8,
          15.3,
          16.6,
          53.6,
          3.3,
          12.2,
          30.3,
          26.9,
          28.3,
          25.9,
          null,
          null,
          46.1,
          21.9,
          26.9,
          43.2,
          39.4,
          15.9,
          24.2,
          23.3,
          16,
          23.3,
          25,
          25.4,
          13,
          17,
          14.9,
          11.5,
          15.7,
          11.9,
          19,
          11.3,
          7.7,
          17.4,
          25.9,
          22.2,
          32.3,
          12.8,
          18.7,
          20.3,
          22.3,
          17.8,
          16.5,
          17.3,
          30.2,
          19.4,
          43.7,
          18.7,
          25.9,
          27.8,
          18.1,
          25.3,
          null,
          18,
          18.8,
          21.5,
          15.9,
          16.6,
          9.5,
          23.8,
          15.4,
          17,
          14.1,
          52,
          17.1,
          18.3,
          15.9,
          null,
          17.6,
          17.1,
          17.1,
          30.4,
          22.6,
          20.4,
          22,
          10.8,
          17.8,
          8.2,
          15.1,
          8.4,
          17.4,
          29,
          62.7,
          19.8,
          15.9,
          7.5,
          16.8,
          null,
          9.8,
          20.9,
          26.8,
          28,
          26.2,
          17.9,
          null,
          11.7,
          19.6,
          13.6,
          15.3,
          5.2,
          17.1,
          36.5,
          14.4,
          65.1,
          19,
          21.5,
          14.4,
          23.4,
          58.4,
          26.2,
          20.2,
          13,
          14.6,
          null,
          11.8,
          16.9,
          14.4,
          20.6
         ]
        }
       ],
       "layout": {
        "barmode": "overlay",
        "template": {
         "data": {
          "bar": [
           {
            "error_x": {
             "color": "#2a3f5f"
            },
            "error_y": {
             "color": "#2a3f5f"
            },
            "marker": {
             "line": {
              "color": "#E5ECF6",
              "width": 0.5
             }
            },
            "type": "bar"
           }
          ],
          "barpolar": [
           {
            "marker": {
             "line": {
              "color": "#E5ECF6",
              "width": 0.5
             }
            },
            "type": "barpolar"
           }
          ],
          "carpet": [
           {
            "aaxis": {
             "endlinecolor": "#2a3f5f",
             "gridcolor": "white",
             "linecolor": "white",
             "minorgridcolor": "white",
             "startlinecolor": "#2a3f5f"
            },
            "baxis": {
             "endlinecolor": "#2a3f5f",
             "gridcolor": "white",
             "linecolor": "white",
             "minorgridcolor": "white",
             "startlinecolor": "#2a3f5f"
            },
            "type": "carpet"
           }
          ],
          "choropleth": [
           {
            "colorbar": {
             "outlinewidth": 0,
             "ticks": ""
            },
            "type": "choropleth"
           }
          ],
          "contour": [
           {
            "colorbar": {
             "outlinewidth": 0,
             "ticks": ""
            },
            "colorscale": [
             [
              0,
              "#0d0887"
             ],
             [
              0.1111111111111111,
              "#46039f"
             ],
             [
              0.2222222222222222,
              "#7201a8"
             ],
             [
              0.3333333333333333,
              "#9c179e"
             ],
             [
              0.4444444444444444,
              "#bd3786"
             ],
             [
              0.5555555555555556,
              "#d8576b"
             ],
             [
              0.6666666666666666,
              "#ed7953"
             ],
             [
              0.7777777777777778,
              "#fb9f3a"
             ],
             [
              0.8888888888888888,
              "#fdca26"
             ],
             [
              1,
              "#f0f921"
             ]
            ],
            "type": "contour"
           }
          ],
          "contourcarpet": [
           {
            "colorbar": {
             "outlinewidth": 0,
             "ticks": ""
            },
            "type": "contourcarpet"
           }
          ],
          "heatmap": [
           {
            "colorbar": {
             "outlinewidth": 0,
             "ticks": ""
            },
            "colorscale": [
             [
              0,
              "#0d0887"
             ],
             [
              0.1111111111111111,
              "#46039f"
             ],
             [
              0.2222222222222222,
              "#7201a8"
             ],
             [
              0.3333333333333333,
              "#9c179e"
             ],
             [
              0.4444444444444444,
              "#bd3786"
             ],
             [
              0.5555555555555556,
              "#d8576b"
             ],
             [
              0.6666666666666666,
              "#ed7953"
             ],
             [
              0.7777777777777778,
              "#fb9f3a"
             ],
             [
              0.8888888888888888,
              "#fdca26"
             ],
             [
              1,
              "#f0f921"
             ]
            ],
            "type": "heatmap"
           }
          ],
          "heatmapgl": [
           {
            "colorbar": {
             "outlinewidth": 0,
             "ticks": ""
            },
            "colorscale": [
             [
              0,
              "#0d0887"
             ],
             [
              0.1111111111111111,
              "#46039f"
             ],
             [
              0.2222222222222222,
              "#7201a8"
             ],
             [
              0.3333333333333333,
              "#9c179e"
             ],
             [
              0.4444444444444444,
              "#bd3786"
             ],
             [
              0.5555555555555556,
              "#d8576b"
             ],
             [
              0.6666666666666666,
              "#ed7953"
             ],
             [
              0.7777777777777778,
              "#fb9f3a"
             ],
             [
              0.8888888888888888,
              "#fdca26"
             ],
             [
              1,
              "#f0f921"
             ]
            ],
            "type": "heatmapgl"
           }
          ],
          "histogram": [
           {
            "marker": {
             "colorbar": {
              "outlinewidth": 0,
              "ticks": ""
             }
            },
            "type": "histogram"
           }
          ],
          "histogram2d": [
           {
            "colorbar": {
             "outlinewidth": 0,
             "ticks": ""
            },
            "colorscale": [
             [
              0,
              "#0d0887"
             ],
             [
              0.1111111111111111,
              "#46039f"
             ],
             [
              0.2222222222222222,
              "#7201a8"
             ],
             [
              0.3333333333333333,
              "#9c179e"
             ],
             [
              0.4444444444444444,
              "#bd3786"
             ],
             [
              0.5555555555555556,
              "#d8576b"
             ],
             [
              0.6666666666666666,
              "#ed7953"
             ],
             [
              0.7777777777777778,
              "#fb9f3a"
             ],
             [
              0.8888888888888888,
              "#fdca26"
             ],
             [
              1,
              "#f0f921"
             ]
            ],
            "type": "histogram2d"
           }
          ],
          "histogram2dcontour": [
           {
            "colorbar": {
             "outlinewidth": 0,
             "ticks": ""
            },
            "colorscale": [
             [
              0,
              "#0d0887"
             ],
             [
              0.1111111111111111,
              "#46039f"
             ],
             [
              0.2222222222222222,
              "#7201a8"
             ],
             [
              0.3333333333333333,
              "#9c179e"
             ],
             [
              0.4444444444444444,
              "#bd3786"
             ],
             [
              0.5555555555555556,
              "#d8576b"
             ],
             [
              0.6666666666666666,
              "#ed7953"
             ],
             [
              0.7777777777777778,
              "#fb9f3a"
             ],
             [
              0.8888888888888888,
              "#fdca26"
             ],
             [
              1,
              "#f0f921"
             ]
            ],
            "type": "histogram2dcontour"
           }
          ],
          "mesh3d": [
           {
            "colorbar": {
             "outlinewidth": 0,
             "ticks": ""
            },
            "type": "mesh3d"
           }
          ],
          "parcoords": [
           {
            "line": {
             "colorbar": {
              "outlinewidth": 0,
              "ticks": ""
             }
            },
            "type": "parcoords"
           }
          ],
          "pie": [
           {
            "automargin": true,
            "type": "pie"
           }
          ],
          "scatter": [
           {
            "marker": {
             "colorbar": {
              "outlinewidth": 0,
              "ticks": ""
             }
            },
            "type": "scatter"
           }
          ],
          "scatter3d": [
           {
            "line": {
             "colorbar": {
              "outlinewidth": 0,
              "ticks": ""
             }
            },
            "marker": {
             "colorbar": {
              "outlinewidth": 0,
              "ticks": ""
             }
            },
            "type": "scatter3d"
           }
          ],
          "scattercarpet": [
           {
            "marker": {
             "colorbar": {
              "outlinewidth": 0,
              "ticks": ""
             }
            },
            "type": "scattercarpet"
           }
          ],
          "scattergeo": [
           {
            "marker": {
             "colorbar": {
              "outlinewidth": 0,
              "ticks": ""
             }
            },
            "type": "scattergeo"
           }
          ],
          "scattergl": [
           {
            "marker": {
             "colorbar": {
              "outlinewidth": 0,
              "ticks": ""
             }
            },
            "type": "scattergl"
           }
          ],
          "scattermapbox": [
           {
            "marker": {
             "colorbar": {
              "outlinewidth": 0,
              "ticks": ""
             }
            },
            "type": "scattermapbox"
           }
          ],
          "scatterpolar": [
           {
            "marker": {
             "colorbar": {
              "outlinewidth": 0,
              "ticks": ""
             }
            },
            "type": "scatterpolar"
           }
          ],
          "scatterpolargl": [
           {
            "marker": {
             "colorbar": {
              "outlinewidth": 0,
              "ticks": ""
             }
            },
            "type": "scatterpolargl"
           }
          ],
          "scatterternary": [
           {
            "marker": {
             "colorbar": {
              "outlinewidth": 0,
              "ticks": ""
             }
            },
            "type": "scatterternary"
           }
          ],
          "surface": [
           {
            "colorbar": {
             "outlinewidth": 0,
             "ticks": ""
            },
            "colorscale": [
             [
              0,
              "#0d0887"
             ],
             [
              0.1111111111111111,
              "#46039f"
             ],
             [
              0.2222222222222222,
              "#7201a8"
             ],
             [
              0.3333333333333333,
              "#9c179e"
             ],
             [
              0.4444444444444444,
              "#bd3786"
             ],
             [
              0.5555555555555556,
              "#d8576b"
             ],
             [
              0.6666666666666666,
              "#ed7953"
             ],
             [
              0.7777777777777778,
              "#fb9f3a"
             ],
             [
              0.8888888888888888,
              "#fdca26"
             ],
             [
              1,
              "#f0f921"
             ]
            ],
            "type": "surface"
           }
          ],
          "table": [
           {
            "cells": {
             "fill": {
              "color": "#EBF0F8"
             },
             "line": {
              "color": "white"
             }
            },
            "header": {
             "fill": {
              "color": "#C8D4E3"
             },
             "line": {
              "color": "white"
             }
            },
            "type": "table"
           }
          ]
         },
         "layout": {
          "annotationdefaults": {
           "arrowcolor": "#2a3f5f",
           "arrowhead": 0,
           "arrowwidth": 1
          },
          "coloraxis": {
           "colorbar": {
            "outlinewidth": 0,
            "ticks": ""
           }
          },
          "colorscale": {
           "diverging": [
            [
             0,
             "#8e0152"
            ],
            [
             0.1,
             "#c51b7d"
            ],
            [
             0.2,
             "#de77ae"
            ],
            [
             0.3,
             "#f1b6da"
            ],
            [
             0.4,
             "#fde0ef"
            ],
            [
             0.5,
             "#f7f7f7"
            ],
            [
             0.6,
             "#e6f5d0"
            ],
            [
             0.7,
             "#b8e186"
            ],
            [
             0.8,
             "#7fbc41"
            ],
            [
             0.9,
             "#4d9221"
            ],
            [
             1,
             "#276419"
            ]
           ],
           "sequential": [
            [
             0,
             "#0d0887"
            ],
            [
             0.1111111111111111,
             "#46039f"
            ],
            [
             0.2222222222222222,
             "#7201a8"
            ],
            [
             0.3333333333333333,
             "#9c179e"
            ],
            [
             0.4444444444444444,
             "#bd3786"
            ],
            [
             0.5555555555555556,
             "#d8576b"
            ],
            [
             0.6666666666666666,
             "#ed7953"
            ],
            [
             0.7777777777777778,
             "#fb9f3a"
            ],
            [
             0.8888888888888888,
             "#fdca26"
            ],
            [
             1,
             "#f0f921"
            ]
           ],
           "sequentialminus": [
            [
             0,
             "#0d0887"
            ],
            [
             0.1111111111111111,
             "#46039f"
            ],
            [
             0.2222222222222222,
             "#7201a8"
            ],
            [
             0.3333333333333333,
             "#9c179e"
            ],
            [
             0.4444444444444444,
             "#bd3786"
            ],
            [
             0.5555555555555556,
             "#d8576b"
            ],
            [
             0.6666666666666666,
             "#ed7953"
            ],
            [
             0.7777777777777778,
             "#fb9f3a"
            ],
            [
             0.8888888888888888,
             "#fdca26"
            ],
            [
             1,
             "#f0f921"
            ]
           ]
          },
          "colorway": [
           "#636efa",
           "#EF553B",
           "#00cc96",
           "#ab63fa",
           "#FFA15A",
           "#19d3f3",
           "#FF6692",
           "#B6E880",
           "#FF97FF",
           "#FECB52"
          ],
          "font": {
           "color": "#2a3f5f"
          },
          "geo": {
           "bgcolor": "white",
           "lakecolor": "white",
           "landcolor": "#E5ECF6",
           "showlakes": true,
           "showland": true,
           "subunitcolor": "white"
          },
          "hoverlabel": {
           "align": "left"
          },
          "hovermode": "closest",
          "mapbox": {
           "style": "light"
          },
          "paper_bgcolor": "white",
          "plot_bgcolor": "#E5ECF6",
          "polar": {
           "angularaxis": {
            "gridcolor": "white",
            "linecolor": "white",
            "ticks": ""
           },
           "bgcolor": "#E5ECF6",
           "radialaxis": {
            "gridcolor": "white",
            "linecolor": "white",
            "ticks": ""
           }
          },
          "scene": {
           "xaxis": {
            "backgroundcolor": "#E5ECF6",
            "gridcolor": "white",
            "gridwidth": 2,
            "linecolor": "white",
            "showbackground": true,
            "ticks": "",
            "zerolinecolor": "white"
           },
           "yaxis": {
            "backgroundcolor": "#E5ECF6",
            "gridcolor": "white",
            "gridwidth": 2,
            "linecolor": "white",
            "showbackground": true,
            "ticks": "",
            "zerolinecolor": "white"
           },
           "zaxis": {
            "backgroundcolor": "#E5ECF6",
            "gridcolor": "white",
            "gridwidth": 2,
            "linecolor": "white",
            "showbackground": true,
            "ticks": "",
            "zerolinecolor": "white"
           }
          },
          "shapedefaults": {
           "line": {
            "color": "#2a3f5f"
           }
          },
          "ternary": {
           "aaxis": {
            "gridcolor": "white",
            "linecolor": "white",
            "ticks": ""
           },
           "baxis": {
            "gridcolor": "white",
            "linecolor": "white",
            "ticks": ""
           },
           "bgcolor": "#E5ECF6",
           "caxis": {
            "gridcolor": "white",
            "linecolor": "white",
            "ticks": ""
           }
          },
          "title": {
           "x": 0.05
          },
          "xaxis": {
           "automargin": true,
           "gridcolor": "white",
           "linecolor": "white",
           "ticks": "",
           "title": {
            "standoff": 15
           },
           "zerolinecolor": "white",
           "zerolinewidth": 2
          },
          "yaxis": {
           "automargin": true,
           "gridcolor": "white",
           "linecolor": "white",
           "ticks": "",
           "title": {
            "standoff": 15
           },
           "zerolinecolor": "white",
           "zerolinewidth": 2
          }
         }
        },
        "title": {
         "text": "Histogram"
        }
       }
      },
      "text/html": [
       "<div>\n",
       "        \n",
       "        \n",
       "            <div id=\"28e06144-abb5-474e-a6ee-63da207b9afa\" class=\"plotly-graph-div\" style=\"height:525px; width:100%;\"></div>\n",
       "            <script type=\"text/javascript\">\n",
       "                require([\"plotly\"], function(Plotly) {\n",
       "                    window.PLOTLYENV=window.PLOTLYENV || {};\n",
       "                    \n",
       "                if (document.getElementById(\"28e06144-abb5-474e-a6ee-63da207b9afa\")) {\n",
       "                    Plotly.newPlot(\n",
       "                        '28e06144-abb5-474e-a6ee-63da207b9afa',\n",
       "                        [{\"marker\": {\"color\": \"rgba(171,50,96,0.6)\"}, \"name\": \"2011\", \"opacity\": 0.75, \"type\": \"histogram\", \"x\": [8.9, 6.9, 9.0, 7.8, 8.4, 11.8, 11.6, 16.4, 11.7, 4.4, 10.3, 6.9, 3.6, 10.2, 14.7, 9.0, 19.5, 5.9, 6.5, 13.1, 17.6, 10.7, 11.8, 4.8, 13.8, 5.7, 20.1, 10.1, 27.3, 17.6, 7.3, 6.5, 18.7, 15.5, 13.7, 23.7, 8.3, 5.7, 4.8, 14.1, 23.8, 7.9, 19.2, 11.5, 25.6, null, 9.0, 10.5, 16.1, 7.9, 3.6, 18.0, 10.0, 13.9, 10.1, 13.0, 5.6, 13.7, 8.6, 6.8, 4.5, 15.5, 13.8, 5.8, 6.4, 13.4, 16.1, 14.0, 22.7, 5.5, 20.2, 10.2, 30.1, 12.9, 11.8, 18.0, 11.4, 10.9, 10.0, 17.4, 32.7, null, 24.5, 16.9, 15.7, null, 15.3, 15.9, 11.5, 13.5, 6.5, 4.6, 19.3, 24.5, 12.0, 12.7, 17.3, 8.4, 6.6, 8.0, 31.5, 15.1, 12.7, 15.0, 17.3, 18.1, 13.5, 12.1, 12.4, 13.9, 11.0, null, 7.3, 16.0, 11.9, null, 22.0, 15.0, 41.9, 13.3, 14.0, 15.7, 5.0, 34.1, 14.9, 17.1, 21.6, 16.0, 23.7, 7.8, 21.5, 5.0, 31.2, 11.6, 11.1, 13.1, 15.5, 20.3, 16.3, 8.7, 15.3, 12.2, 15.4, 17.0, 18.9, 16.4, 23.3, 18.2, 25.9, 15.8, 19.4, 17.2, 15.2, 25.9, 18.3, 13.6, 17.4, null, 18.9, 15.9, 29.9, 17.4, 19.6, 8.5, 14.4, 13.6, 13.6, 14.7, 38.4, 25.6, 16.6, 9.3, 67.8, 16.2, 14.7, 15.0, 4.1, 52.5, 40.5, 70.4, 16.6, 27.6, 22.2, 18.8, 12.0, 59.1, 24.6, 16.9, 38.9, 10.8, 15.7, 11.6, 14.4, 14.6, 20.5, 19.0, 9.2, 15.9, 28.3, 4.6]}, {\"marker\": {\"color\": \"rgba(12,50,196,0.6)\"}, \"name\": \"2011\", \"opacity\": 0.75, \"type\": \"histogram\", \"x\": [6.9, 8.9, 7.8, 11.6, 8.4, 11.8, 9.0, 11.7, 6.9, 16.4, 4.4, 5.9, 10.3, 3.6, 14.7, 6.5, 10.7, 9.0, 19.5, 10.2, 13.1, 4.8, 17.6, 20.1, 11.8, 13.8, 10.8, 13.7, 17.4, 5.7, 18.7, 11.5, 6.5, 17.6, 27.3, 14.1, 23.7, 19.2, 13.9, 15.5, 5.7, 18.0, 7.3, 6.8, 15.5, 10.5, null, 15.3, 10.1, 8.3, 12.4, 5.6, 10.1, 8.6, 12.9, 11.4, 13.4, 20.2, 5.8, 7.9, 6.5, 23.8, 4.8, 13.0, 19.3, 14.0, 41.9, 15.4, 25.6, 3.6, 13.7, 9.0, 24.5, 32.7, 4.5, 17.0, 10.0, 16.1, 17.1, 11.5, 17.3, 4.5, 15.7, 8.7, 12.7, 16.1, 18.2, 31.5, 13.8, 6.6, 15.1, 14.4, 6.4, 10.0, 8.4, 15.7, 12.7, 18.1, 17.4, 21.6, 15.5, 16.0, 12.1, 19.4, 20.3, 34.1, 15.9, 7.3, 52.5, 22.7, 17.3, 22.5, 16.9, 10.9, 16.0, 13.1, 40.5, 18.0, 7.8, 5.0, 10.7, null, 13.6, 13.9, 13.6, 18.7, 29.9, 14.0, 13.5, 15.0, 14.9, 23.7, 14.7, 25.6, 12.0, 4.1, 10.2, 8.5, 20.5, 15.0, 11.6, 8.0, 22.0, 15.0, 14.7, 15.2, 11.8, 16.4, 17.2, 12.6, 10.2, 39.3, 15.8, 11.9, 5.5, 18.8, 18.9, 16.6, 13.0, 24.5, 16.3, null, 4.6, 21.4, 14.8, 24.4, 9.2, 27.6, 16.2, 14.8, 42.0, 5.7, 22.1, 18.9, 25.9, 15.3, 21.5, 5.0, 14.6, 15.9, 9.3, 13.6, 18.8, 17.4, 26.3, 18.3, 14.6, 38.9, 31.2, 20.7, 11.1, 7.9, 7.1, 59.1, 17.4, 24.6, null, 18.9, 13.4, 12.0, 12.3, null, 13.1, 18.2, 7.9, 13.5, 15.1, 19.4, 8.4, 11.2, 11.9, 19.0, 30.1, 12.2, 15.7, 19.8, 19.9, 16.4, 16.9, null, 20.3, 16.3, 17.8, 24.2, 20.7, 38.4, 26.1, 29.8, 11.6, 19.0, 8.3, 14.4, 10.8, 12.2, 15.8, 20.0, 16.6, 28.3, 18.5, 4.6, 9.9, 22.9, 16.5, null, 24.3, 72.5, 14.1, 18.3, 25.8, 11.6, 19.5, 67.8, 17.6, 25.9, 29.1, 6.7, 13.3, 19.6, 13.9, 17.9, 46.3, 23.0, 22.4, 37.4, 18.8, 26.8, null, 23.8, 12.7, 22.8, 18.6, 12.6, 25.4, 21.1, 18.6, 10.7, 19.2, 13.0, 8.2, 11.0, 16.0, 7.7, 22.2, 18.4, 35.8, 15.3, 16.6, 53.6, 3.3, 12.2, 30.3, 26.9, 28.3, 25.9, null, null, 46.1, 21.9, 26.9, 43.2, 39.4, 15.9, 24.2, 23.3, 16.0, 23.3, 25.0, 25.4, 13.0, 17.0, 14.9, 11.5, 15.7, 11.9, 19.0, 11.3, 7.7, 17.4, 25.9, 22.2, 32.3, 12.8, 18.7, 20.3, 22.3, 17.8, 16.5, 17.3, 30.2, 19.4, 43.7, 18.7, 25.9, 27.8, 18.1, 25.3, null, 18.0, 18.8, 21.5, 15.9, 16.6, 9.5, 23.8, 15.4, 17.0, 14.1, 52.0, 17.1, 18.3, 15.9, null, 17.6, 17.1, 17.1, 30.4, 22.6, 20.4, 22.0, 10.8, 17.8, 8.2, 15.1, 8.4, 17.4, 29.0, 62.7, 19.8, 15.9, 7.5, 16.8, null, 9.8, 20.9, 26.8, 28.0, 26.2, 17.9, null, 11.7, 19.6, 13.6, 15.3, 5.2, 17.1, 36.5, 14.4, 65.1, 19.0, 21.5, 14.4, 23.4, 58.4, 26.2, 20.2, 13.0, 14.6, null, 11.8, 16.9, 14.4, 20.6]}],\n",
       "                        {\"barmode\": \"overlay\", \"template\": {\"data\": {\"bar\": [{\"error_x\": {\"color\": \"#2a3f5f\"}, \"error_y\": {\"color\": \"#2a3f5f\"}, \"marker\": {\"line\": {\"color\": \"#E5ECF6\", \"width\": 0.5}}, \"type\": \"bar\"}], \"barpolar\": [{\"marker\": {\"line\": {\"color\": \"#E5ECF6\", \"width\": 0.5}}, \"type\": \"barpolar\"}], \"carpet\": [{\"aaxis\": {\"endlinecolor\": \"#2a3f5f\", \"gridcolor\": \"white\", \"linecolor\": \"white\", \"minorgridcolor\": \"white\", \"startlinecolor\": \"#2a3f5f\"}, \"baxis\": {\"endlinecolor\": \"#2a3f5f\", \"gridcolor\": \"white\", \"linecolor\": \"white\", \"minorgridcolor\": \"white\", \"startlinecolor\": \"#2a3f5f\"}, \"type\": \"carpet\"}], \"choropleth\": [{\"colorbar\": {\"outlinewidth\": 0, \"ticks\": \"\"}, \"type\": \"choropleth\"}], \"contour\": [{\"colorbar\": {\"outlinewidth\": 0, \"ticks\": \"\"}, \"colorscale\": [[0.0, \"#0d0887\"], [0.1111111111111111, \"#46039f\"], [0.2222222222222222, \"#7201a8\"], [0.3333333333333333, \"#9c179e\"], [0.4444444444444444, \"#bd3786\"], [0.5555555555555556, \"#d8576b\"], [0.6666666666666666, \"#ed7953\"], [0.7777777777777778, \"#fb9f3a\"], [0.8888888888888888, \"#fdca26\"], [1.0, \"#f0f921\"]], \"type\": \"contour\"}], \"contourcarpet\": [{\"colorbar\": {\"outlinewidth\": 0, \"ticks\": \"\"}, \"type\": \"contourcarpet\"}], \"heatmap\": [{\"colorbar\": {\"outlinewidth\": 0, \"ticks\": \"\"}, \"colorscale\": [[0.0, \"#0d0887\"], [0.1111111111111111, \"#46039f\"], [0.2222222222222222, \"#7201a8\"], [0.3333333333333333, \"#9c179e\"], [0.4444444444444444, \"#bd3786\"], [0.5555555555555556, \"#d8576b\"], [0.6666666666666666, \"#ed7953\"], [0.7777777777777778, \"#fb9f3a\"], [0.8888888888888888, \"#fdca26\"], [1.0, \"#f0f921\"]], \"type\": \"heatmap\"}], \"heatmapgl\": [{\"colorbar\": {\"outlinewidth\": 0, \"ticks\": \"\"}, \"colorscale\": [[0.0, \"#0d0887\"], [0.1111111111111111, \"#46039f\"], [0.2222222222222222, \"#7201a8\"], [0.3333333333333333, \"#9c179e\"], [0.4444444444444444, \"#bd3786\"], [0.5555555555555556, \"#d8576b\"], [0.6666666666666666, \"#ed7953\"], [0.7777777777777778, \"#fb9f3a\"], [0.8888888888888888, \"#fdca26\"], [1.0, \"#f0f921\"]], \"type\": \"heatmapgl\"}], \"histogram\": [{\"marker\": {\"colorbar\": {\"outlinewidth\": 0, \"ticks\": \"\"}}, \"type\": \"histogram\"}], \"histogram2d\": [{\"colorbar\": {\"outlinewidth\": 0, \"ticks\": \"\"}, \"colorscale\": [[0.0, \"#0d0887\"], [0.1111111111111111, \"#46039f\"], [0.2222222222222222, \"#7201a8\"], [0.3333333333333333, \"#9c179e\"], [0.4444444444444444, \"#bd3786\"], [0.5555555555555556, \"#d8576b\"], [0.6666666666666666, \"#ed7953\"], [0.7777777777777778, \"#fb9f3a\"], [0.8888888888888888, \"#fdca26\"], [1.0, \"#f0f921\"]], \"type\": \"histogram2d\"}], \"histogram2dcontour\": [{\"colorbar\": {\"outlinewidth\": 0, \"ticks\": \"\"}, \"colorscale\": [[0.0, \"#0d0887\"], [0.1111111111111111, \"#46039f\"], [0.2222222222222222, \"#7201a8\"], [0.3333333333333333, \"#9c179e\"], [0.4444444444444444, \"#bd3786\"], [0.5555555555555556, \"#d8576b\"], [0.6666666666666666, \"#ed7953\"], [0.7777777777777778, \"#fb9f3a\"], [0.8888888888888888, \"#fdca26\"], [1.0, \"#f0f921\"]], \"type\": \"histogram2dcontour\"}], \"mesh3d\": [{\"colorbar\": {\"outlinewidth\": 0, \"ticks\": \"\"}, \"type\": \"mesh3d\"}], \"parcoords\": [{\"line\": {\"colorbar\": {\"outlinewidth\": 0, \"ticks\": \"\"}}, \"type\": \"parcoords\"}], \"pie\": [{\"automargin\": true, \"type\": \"pie\"}], \"scatter\": [{\"marker\": {\"colorbar\": {\"outlinewidth\": 0, \"ticks\": \"\"}}, \"type\": \"scatter\"}], \"scatter3d\": [{\"line\": {\"colorbar\": {\"outlinewidth\": 0, \"ticks\": \"\"}}, \"marker\": {\"colorbar\": {\"outlinewidth\": 0, \"ticks\": \"\"}}, \"type\": \"scatter3d\"}], \"scattercarpet\": [{\"marker\": {\"colorbar\": {\"outlinewidth\": 0, \"ticks\": \"\"}}, \"type\": \"scattercarpet\"}], \"scattergeo\": [{\"marker\": {\"colorbar\": {\"outlinewidth\": 0, \"ticks\": \"\"}}, \"type\": \"scattergeo\"}], \"scattergl\": [{\"marker\": {\"colorbar\": {\"outlinewidth\": 0, \"ticks\": \"\"}}, \"type\": \"scattergl\"}], \"scattermapbox\": [{\"marker\": {\"colorbar\": {\"outlinewidth\": 0, \"ticks\": \"\"}}, \"type\": \"scattermapbox\"}], \"scatterpolar\": [{\"marker\": {\"colorbar\": {\"outlinewidth\": 0, \"ticks\": \"\"}}, \"type\": \"scatterpolar\"}], \"scatterpolargl\": [{\"marker\": {\"colorbar\": {\"outlinewidth\": 0, \"ticks\": \"\"}}, \"type\": \"scatterpolargl\"}], \"scatterternary\": [{\"marker\": {\"colorbar\": {\"outlinewidth\": 0, \"ticks\": \"\"}}, \"type\": \"scatterternary\"}], \"surface\": [{\"colorbar\": {\"outlinewidth\": 0, \"ticks\": \"\"}, \"colorscale\": [[0.0, \"#0d0887\"], [0.1111111111111111, \"#46039f\"], [0.2222222222222222, \"#7201a8\"], [0.3333333333333333, \"#9c179e\"], [0.4444444444444444, \"#bd3786\"], [0.5555555555555556, \"#d8576b\"], [0.6666666666666666, \"#ed7953\"], [0.7777777777777778, \"#fb9f3a\"], [0.8888888888888888, \"#fdca26\"], [1.0, \"#f0f921\"]], \"type\": \"surface\"}], \"table\": [{\"cells\": {\"fill\": {\"color\": \"#EBF0F8\"}, \"line\": {\"color\": \"white\"}}, \"header\": {\"fill\": {\"color\": \"#C8D4E3\"}, \"line\": {\"color\": \"white\"}}, \"type\": \"table\"}]}, \"layout\": {\"annotationdefaults\": {\"arrowcolor\": \"#2a3f5f\", \"arrowhead\": 0, \"arrowwidth\": 1}, \"coloraxis\": {\"colorbar\": {\"outlinewidth\": 0, \"ticks\": \"\"}}, \"colorscale\": {\"diverging\": [[0, \"#8e0152\"], [0.1, \"#c51b7d\"], [0.2, \"#de77ae\"], [0.3, \"#f1b6da\"], [0.4, \"#fde0ef\"], [0.5, \"#f7f7f7\"], [0.6, \"#e6f5d0\"], [0.7, \"#b8e186\"], [0.8, \"#7fbc41\"], [0.9, \"#4d9221\"], [1, \"#276419\"]], \"sequential\": [[0.0, \"#0d0887\"], [0.1111111111111111, \"#46039f\"], [0.2222222222222222, \"#7201a8\"], [0.3333333333333333, \"#9c179e\"], [0.4444444444444444, \"#bd3786\"], [0.5555555555555556, \"#d8576b\"], [0.6666666666666666, \"#ed7953\"], [0.7777777777777778, \"#fb9f3a\"], [0.8888888888888888, \"#fdca26\"], [1.0, \"#f0f921\"]], \"sequentialminus\": [[0.0, \"#0d0887\"], [0.1111111111111111, \"#46039f\"], [0.2222222222222222, \"#7201a8\"], [0.3333333333333333, \"#9c179e\"], [0.4444444444444444, \"#bd3786\"], [0.5555555555555556, \"#d8576b\"], [0.6666666666666666, \"#ed7953\"], [0.7777777777777778, \"#fb9f3a\"], [0.8888888888888888, \"#fdca26\"], [1.0, \"#f0f921\"]]}, \"colorway\": [\"#636efa\", \"#EF553B\", \"#00cc96\", \"#ab63fa\", \"#FFA15A\", \"#19d3f3\", \"#FF6692\", \"#B6E880\", \"#FF97FF\", \"#FECB52\"], \"font\": {\"color\": \"#2a3f5f\"}, \"geo\": {\"bgcolor\": \"white\", \"lakecolor\": \"white\", \"landcolor\": \"#E5ECF6\", \"showlakes\": true, \"showland\": true, \"subunitcolor\": \"white\"}, \"hoverlabel\": {\"align\": \"left\"}, \"hovermode\": \"closest\", \"mapbox\": {\"style\": \"light\"}, \"paper_bgcolor\": \"white\", \"plot_bgcolor\": \"#E5ECF6\", \"polar\": {\"angularaxis\": {\"gridcolor\": \"white\", \"linecolor\": \"white\", \"ticks\": \"\"}, \"bgcolor\": \"#E5ECF6\", \"radialaxis\": {\"gridcolor\": \"white\", \"linecolor\": \"white\", \"ticks\": \"\"}}, \"scene\": {\"xaxis\": {\"backgroundcolor\": \"#E5ECF6\", \"gridcolor\": \"white\", \"gridwidth\": 2, \"linecolor\": \"white\", \"showbackground\": true, \"ticks\": \"\", \"zerolinecolor\": \"white\"}, \"yaxis\": {\"backgroundcolor\": \"#E5ECF6\", \"gridcolor\": \"white\", \"gridwidth\": 2, \"linecolor\": \"white\", \"showbackground\": true, \"ticks\": \"\", \"zerolinecolor\": \"white\"}, \"zaxis\": {\"backgroundcolor\": \"#E5ECF6\", \"gridcolor\": \"white\", \"gridwidth\": 2, \"linecolor\": \"white\", \"showbackground\": true, \"ticks\": \"\", \"zerolinecolor\": \"white\"}}, \"shapedefaults\": {\"line\": {\"color\": \"#2a3f5f\"}}, \"ternary\": {\"aaxis\": {\"gridcolor\": \"white\", \"linecolor\": \"white\", \"ticks\": \"\"}, \"baxis\": {\"gridcolor\": \"white\", \"linecolor\": \"white\", \"ticks\": \"\"}, \"bgcolor\": \"#E5ECF6\", \"caxis\": {\"gridcolor\": \"white\", \"linecolor\": \"white\", \"ticks\": \"\"}}, \"title\": {\"x\": 0.05}, \"xaxis\": {\"automargin\": true, \"gridcolor\": \"white\", \"linecolor\": \"white\", \"ticks\": \"\", \"title\": {\"standoff\": 15}, \"zerolinecolor\": \"white\", \"zerolinewidth\": 2}, \"yaxis\": {\"automargin\": true, \"gridcolor\": \"white\", \"linecolor\": \"white\", \"ticks\": \"\", \"title\": {\"standoff\": 15}, \"zerolinecolor\": \"white\", \"zerolinewidth\": 2}}}, \"title\": {\"text\": \"Histogram\"}},\n",
       "                        {\"responsive\": true}\n",
       "                    ).then(function(){\n",
       "                            \n",
       "var gd = document.getElementById('28e06144-abb5-474e-a6ee-63da207b9afa');\n",
       "var x = new MutationObserver(function (mutations, observer) {{\n",
       "        var display = window.getComputedStyle(gd).display;\n",
       "        if (!display || display === 'none') {{\n",
       "            console.log([gd, 'removed!']);\n",
       "            Plotly.purge(gd);\n",
       "            observer.disconnect();\n",
       "        }}\n",
       "}});\n",
       "\n",
       "// Listen for the removal of the full notebook cells\n",
       "var notebookContainer = gd.closest('#notebook-container');\n",
       "if (notebookContainer) {{\n",
       "    x.observe(notebookContainer, {childList: true});\n",
       "}}\n",
       "\n",
       "// Listen for the clearing of the current output cell\n",
       "var outputEl = gd.closest('.output');\n",
       "if (outputEl) {{\n",
       "    x.observe(outputEl, {childList: true});\n",
       "}}\n",
       "\n",
       "                        })\n",
       "                };\n",
       "                });\n",
       "            </script>\n",
       "        </div>"
      ]
     },
     "metadata": {},
     "output_type": "display_data"
    }
   ],
   "source": [
    "x2011= df.student_staff_ratio[df.year==2011]\n",
    "x2012=df.student_staff_ratio[df.year==2012]\n",
    "trace7=go.Histogram(\n",
    "    x=x2011,\n",
    "    opacity=0.75,\n",
    "    name=\"2011\",\n",
    "    marker=dict(color='rgba(171,50,96,0.6)')\n",
    ")\n",
    "trace8=go.Histogram(\n",
    "    x=x2012,\n",
    "    opacity=0.75,\n",
    "    name=\"2011\",\n",
    "    marker=dict(color='rgba(12,50,196,0.6)')\n",
    ")\n",
    "data=[trace7,trace8]\n",
    "layout= go.Layout(\n",
    "    barmode='overlay',\n",
    "    title=\"Histogram\"\n",
    ")\n",
    "fig=go.Figure(data=data,layout=layout)\n",
    "iplot(fig)"
   ]
  },
  {
   "cell_type": "code",
   "execution_count": null,
   "metadata": {},
   "outputs": [],
   "source": []
  }
 ],
 "metadata": {
  "kernelspec": {
   "display_name": "Python 3",
   "language": "python",
   "name": "python3"
  },
  "language_info": {
   "codemirror_mode": {
    "name": "ipython",
    "version": 3
   },
   "file_extension": ".py",
   "mimetype": "text/x-python",
   "name": "python",
   "nbconvert_exporter": "python",
   "pygments_lexer": "ipython3",
   "version": "3.7.6"
  }
 },
 "nbformat": 4,
 "nbformat_minor": 4
}
